{
 "cells": [
  {
   "cell_type": "markdown",
   "id": "d673f8ea-ce43-4e2b-9b02-2d1779a7ae36",
   "metadata": {},
   "source": [
    "# Activity : Feature Engineering & Advanced Data Preprocessing - Titanic"
   ]
  },
  {
   "cell_type": "markdown",
   "id": "d146de30-b2ba-4048-a6a4-9813a197ebd9",
   "metadata": {
    "tags": []
   },
   "source": [
    "### Overview\n",
    "\n",
    "In our previous session, we navigated the Titanic dataset's depths, uncovering its nuances. Building on that foundation, this notebook delves into enhancing the data representation using advanced preprocessing techniques and feature engineering.\n",
    "\n",
    "### Objective\n",
    "\n",
    "The primary objective of this activity is to refine and transform the Titanic dataset, ensuring that it's not only clean but also structured in a way that highlights hidden patterns and relationships.\n",
    "\n",
    "### What We Will Do:\n",
    "\n",
    "1. **Data Quality Assessment:** Double-check our data's integrity. We'll look for duplicates and other anomalies that could distort our analysis.\n",
    "2. **Encoding Categorical Variables:** Turn non-numerical columns into a model-compatible format. We'll explore both One-Hot and Label Encoding for columns like 'Embarked' and 'Sex'.\n",
    "3. **Binning Continuous Variables:** Convert features such as 'Age' into categorical bins. This process can sometimes provide more meaningful insights than continuous variables.\n",
    "4. **Log Transformation:** Apply this to features with skewed distributions, ensuring a more normalized data structure.\n",
    "5. **Feature Scaling:** For algorithms sensitive to varying scales, like linear regression, we'll ensure that specific columns are standardized and normalized.\n",
    "6. **Creating new feature:** Augment our dataset by crafting new features, enabling us to derive more profound insights from our data.\n",
    "\n",
    "By the end of this activity, we'll have a dataset that's not just clean, but also more analytical and model-ready, setting the groundwork for our subsequent analyses and predictive modeling.\n",
    "\n",
    "---"
   ]
  },
  {
   "cell_type": "markdown",
   "id": "756e55ba-3ec1-483a-bea4-d5d87c88fc53",
   "metadata": {},
   "source": [
    "## 1. Import necessary libraries"
   ]
  },
  {
   "cell_type": "code",
   "execution_count": 2,
   "id": "b95798bc-8d8e-429c-a194-db4213c00c32",
   "metadata": {},
   "outputs": [],
   "source": [
    "import pandas as pd\n",
    "import numpy as np\n",
    "import matplotlib.pyplot as plt\n",
    "import seaborn as sns\n",
    "\n",
    "# Label Encoding categorical variables\n",
    "from sklearn.preprocessing import LabelEncoder\n",
    "\n",
    "# Feature scaling \n",
    "from sklearn.preprocessing import MinMaxScaler # for Normalization\n",
    "from sklearn.preprocessing import StandardScaler # for Standardization"
   ]
  },
  {
   "cell_type": "markdown",
   "id": "50e9d122-6239-4041-97cb-e969463bc440",
   "metadata": {
    "tags": []
   },
   "source": [
    "## 2. Loading the Dataset"
   ]
  },
  {
   "cell_type": "markdown",
   "id": "71650bc1-d8c7-48c8-a26d-5a3e7b8eb597",
   "metadata": {},
   "source": [
    "- Load the Titanic dataset from `seaborn`"
   ]
  },
  {
   "cell_type": "code",
   "execution_count": 3,
   "id": "e167bcd8-690b-4bcd-acd3-60e0252cfdca",
   "metadata": {},
   "outputs": [],
   "source": [
    "titanic_data = pd.read_csv(\"../data/titanic_preprocessed.csv\")"
   ]
  },
  {
   "cell_type": "markdown",
   "id": "25df8d1c-9343-4e0e-ba51-0c3b892fb97b",
   "metadata": {
    "tags": []
   },
   "source": [
    "## 3. Refresh and Review Dataset"
   ]
  },
  {
   "cell_type": "markdown",
   "id": "267bc4e9-2b63-45e0-9dd2-d1347a654757",
   "metadata": {},
   "source": [
    "**Objective:** Familiarize yourself with the dataset's structure and ensure it's ready for further analysis."
   ]
  },
  {
   "cell_type": "markdown",
   "id": "ade78bdd-1b89-4c39-84ea-329086a7389b",
   "metadata": {},
   "source": [
    "### 1. Dataset Overview"
   ]
  },
  {
   "cell_type": "code",
   "execution_count": 3,
   "id": "4b9a9005-4d69-4e2f-bd14-0071d158553b",
   "metadata": {},
   "outputs": [
    {
     "data": {
      "text/html": [
       "<div>\n",
       "<style scoped>\n",
       "    .dataframe tbody tr th:only-of-type {\n",
       "        vertical-align: middle;\n",
       "    }\n",
       "\n",
       "    .dataframe tbody tr th {\n",
       "        vertical-align: top;\n",
       "    }\n",
       "\n",
       "    .dataframe thead th {\n",
       "        text-align: right;\n",
       "    }\n",
       "</style>\n",
       "<table border=\"1\" class=\"dataframe\">\n",
       "  <thead>\n",
       "    <tr style=\"text-align: right;\">\n",
       "      <th></th>\n",
       "      <th>PassengerId</th>\n",
       "      <th>Survived</th>\n",
       "      <th>Pclass</th>\n",
       "      <th>Name</th>\n",
       "      <th>Sex</th>\n",
       "      <th>Age</th>\n",
       "      <th>SibSp</th>\n",
       "      <th>Parch</th>\n",
       "      <th>Ticket</th>\n",
       "      <th>Fare</th>\n",
       "      <th>Embarked</th>\n",
       "    </tr>\n",
       "  </thead>\n",
       "  <tbody>\n",
       "    <tr>\n",
       "      <th>0</th>\n",
       "      <td>1</td>\n",
       "      <td>0</td>\n",
       "      <td>3</td>\n",
       "      <td>Braund, Mr. Owen Harris</td>\n",
       "      <td>male</td>\n",
       "      <td>22.0</td>\n",
       "      <td>1</td>\n",
       "      <td>0</td>\n",
       "      <td>A/5 21171</td>\n",
       "      <td>7.2500</td>\n",
       "      <td>S</td>\n",
       "    </tr>\n",
       "    <tr>\n",
       "      <th>1</th>\n",
       "      <td>2</td>\n",
       "      <td>1</td>\n",
       "      <td>1</td>\n",
       "      <td>Cumings, Mrs. John Bradley (Florence Briggs Th...</td>\n",
       "      <td>female</td>\n",
       "      <td>38.0</td>\n",
       "      <td>1</td>\n",
       "      <td>0</td>\n",
       "      <td>PC 17599</td>\n",
       "      <td>71.2833</td>\n",
       "      <td>C</td>\n",
       "    </tr>\n",
       "    <tr>\n",
       "      <th>2</th>\n",
       "      <td>3</td>\n",
       "      <td>1</td>\n",
       "      <td>3</td>\n",
       "      <td>Heikkinen, Miss. Laina</td>\n",
       "      <td>female</td>\n",
       "      <td>26.0</td>\n",
       "      <td>0</td>\n",
       "      <td>0</td>\n",
       "      <td>STON/O2. 3101282</td>\n",
       "      <td>7.9250</td>\n",
       "      <td>S</td>\n",
       "    </tr>\n",
       "    <tr>\n",
       "      <th>3</th>\n",
       "      <td>4</td>\n",
       "      <td>1</td>\n",
       "      <td>1</td>\n",
       "      <td>Futrelle, Mrs. Jacques Heath (Lily May Peel)</td>\n",
       "      <td>female</td>\n",
       "      <td>35.0</td>\n",
       "      <td>1</td>\n",
       "      <td>0</td>\n",
       "      <td>113803</td>\n",
       "      <td>53.1000</td>\n",
       "      <td>S</td>\n",
       "    </tr>\n",
       "    <tr>\n",
       "      <th>4</th>\n",
       "      <td>5</td>\n",
       "      <td>0</td>\n",
       "      <td>3</td>\n",
       "      <td>Allen, Mr. William Henry</td>\n",
       "      <td>male</td>\n",
       "      <td>35.0</td>\n",
       "      <td>0</td>\n",
       "      <td>0</td>\n",
       "      <td>373450</td>\n",
       "      <td>8.0500</td>\n",
       "      <td>S</td>\n",
       "    </tr>\n",
       "  </tbody>\n",
       "</table>\n",
       "</div>"
      ],
      "text/plain": [
       "   PassengerId  Survived  Pclass  \\\n",
       "0            1         0       3   \n",
       "1            2         1       1   \n",
       "2            3         1       3   \n",
       "3            4         1       1   \n",
       "4            5         0       3   \n",
       "\n",
       "                                                Name     Sex   Age  SibSp  \\\n",
       "0                            Braund, Mr. Owen Harris    male  22.0      1   \n",
       "1  Cumings, Mrs. John Bradley (Florence Briggs Th...  female  38.0      1   \n",
       "2                             Heikkinen, Miss. Laina  female  26.0      0   \n",
       "3       Futrelle, Mrs. Jacques Heath (Lily May Peel)  female  35.0      1   \n",
       "4                           Allen, Mr. William Henry    male  35.0      0   \n",
       "\n",
       "   Parch            Ticket     Fare Embarked  \n",
       "0      0         A/5 21171   7.2500        S  \n",
       "1      0          PC 17599  71.2833        C  \n",
       "2      0  STON/O2. 3101282   7.9250        S  \n",
       "3      0            113803  53.1000        S  \n",
       "4      0            373450   8.0500        S  "
      ]
     },
     "execution_count": 3,
     "metadata": {},
     "output_type": "execute_result"
    }
   ],
   "source": [
    "titanic_data.head()"
   ]
  },
  {
   "cell_type": "markdown",
   "id": "16210857-a6b9-489f-89e0-3ff0c60cd548",
   "metadata": {},
   "source": [
    "### 2. Dataset Information"
   ]
  },
  {
   "cell_type": "code",
   "execution_count": 16,
   "id": "1da95a62-7d71-430f-99ae-c8a6ecb2fafb",
   "metadata": {},
   "outputs": [
    {
     "name": "stdout",
     "output_type": "stream",
     "text": [
      "<class 'pandas.core.frame.DataFrame'>\n",
      "RangeIndex: 891 entries, 0 to 890\n",
      "Data columns (total 11 columns):\n",
      " #   Column       Non-Null Count  Dtype  \n",
      "---  ------       --------------  -----  \n",
      " 0   PassengerId  891 non-null    int64  \n",
      " 1   Survived     891 non-null    int64  \n",
      " 2   Pclass       891 non-null    int64  \n",
      " 3   Name         891 non-null    object \n",
      " 4   Sex          891 non-null    object \n",
      " 5   Age          891 non-null    float64\n",
      " 6   SibSp        891 non-null    int64  \n",
      " 7   Parch        891 non-null    int64  \n",
      " 8   Ticket       891 non-null    object \n",
      " 9   Fare         891 non-null    float64\n",
      " 10  Embarked     891 non-null    object \n",
      "dtypes: float64(2), int64(5), object(4)\n",
      "memory usage: 76.7+ KB\n"
     ]
    }
   ],
   "source": [
    "titanic_data.info()"
   ]
  },
  {
   "cell_type": "markdown",
   "id": "00447993-c662-4287-96c3-0de0f365ba75",
   "metadata": {},
   "source": [
    "The dataset contains 11 columns. \n",
    "\n",
    "The data types are: \n",
    "- Int: `PassengerId` , `Survived`, `Pclass`, `SibSp`, `Parch`\n",
    "- Float: `Age`, `Fare`\n",
    "- Object : `Name`, `Sex`, `Embarked`"
   ]
  },
  {
   "cell_type": "markdown",
   "id": "6a2deb94-ccab-4edb-8554-afed7188668b",
   "metadata": {},
   "source": [
    "### 3. Statistical Summary"
   ]
  },
  {
   "cell_type": "code",
   "execution_count": 17,
   "id": "f50c989a-379f-4b81-9cd3-b3d8a3ba9b8e",
   "metadata": {},
   "outputs": [
    {
     "name": "stdout",
     "output_type": "stream",
     "text": [
      "\n",
      "Summary statistics for numerical variables:\n"
     ]
    },
    {
     "data": {
      "text/html": [
       "<div>\n",
       "<style scoped>\n",
       "    .dataframe tbody tr th:only-of-type {\n",
       "        vertical-align: middle;\n",
       "    }\n",
       "\n",
       "    .dataframe tbody tr th {\n",
       "        vertical-align: top;\n",
       "    }\n",
       "\n",
       "    .dataframe thead th {\n",
       "        text-align: right;\n",
       "    }\n",
       "</style>\n",
       "<table border=\"1\" class=\"dataframe\">\n",
       "  <thead>\n",
       "    <tr style=\"text-align: right;\">\n",
       "      <th></th>\n",
       "      <th>PassengerId</th>\n",
       "      <th>Survived</th>\n",
       "      <th>Pclass</th>\n",
       "      <th>Age</th>\n",
       "      <th>SibSp</th>\n",
       "      <th>Parch</th>\n",
       "      <th>Fare</th>\n",
       "    </tr>\n",
       "  </thead>\n",
       "  <tbody>\n",
       "    <tr>\n",
       "      <th>count</th>\n",
       "      <td>891.000000</td>\n",
       "      <td>891.000000</td>\n",
       "      <td>891.000000</td>\n",
       "      <td>891.000000</td>\n",
       "      <td>891.000000</td>\n",
       "      <td>891.000000</td>\n",
       "      <td>891.000000</td>\n",
       "    </tr>\n",
       "    <tr>\n",
       "      <th>mean</th>\n",
       "      <td>446.000000</td>\n",
       "      <td>0.383838</td>\n",
       "      <td>2.308642</td>\n",
       "      <td>29.699118</td>\n",
       "      <td>0.523008</td>\n",
       "      <td>0.381594</td>\n",
       "      <td>32.204208</td>\n",
       "    </tr>\n",
       "    <tr>\n",
       "      <th>std</th>\n",
       "      <td>257.353842</td>\n",
       "      <td>0.486592</td>\n",
       "      <td>0.836071</td>\n",
       "      <td>13.002015</td>\n",
       "      <td>1.102743</td>\n",
       "      <td>0.806057</td>\n",
       "      <td>49.693429</td>\n",
       "    </tr>\n",
       "    <tr>\n",
       "      <th>min</th>\n",
       "      <td>1.000000</td>\n",
       "      <td>0.000000</td>\n",
       "      <td>1.000000</td>\n",
       "      <td>0.420000</td>\n",
       "      <td>0.000000</td>\n",
       "      <td>0.000000</td>\n",
       "      <td>0.000000</td>\n",
       "    </tr>\n",
       "    <tr>\n",
       "      <th>25%</th>\n",
       "      <td>223.500000</td>\n",
       "      <td>0.000000</td>\n",
       "      <td>2.000000</td>\n",
       "      <td>22.000000</td>\n",
       "      <td>0.000000</td>\n",
       "      <td>0.000000</td>\n",
       "      <td>7.910400</td>\n",
       "    </tr>\n",
       "    <tr>\n",
       "      <th>50%</th>\n",
       "      <td>446.000000</td>\n",
       "      <td>0.000000</td>\n",
       "      <td>3.000000</td>\n",
       "      <td>29.699118</td>\n",
       "      <td>0.000000</td>\n",
       "      <td>0.000000</td>\n",
       "      <td>14.454200</td>\n",
       "    </tr>\n",
       "    <tr>\n",
       "      <th>75%</th>\n",
       "      <td>668.500000</td>\n",
       "      <td>1.000000</td>\n",
       "      <td>3.000000</td>\n",
       "      <td>35.000000</td>\n",
       "      <td>1.000000</td>\n",
       "      <td>0.000000</td>\n",
       "      <td>31.000000</td>\n",
       "    </tr>\n",
       "    <tr>\n",
       "      <th>max</th>\n",
       "      <td>891.000000</td>\n",
       "      <td>1.000000</td>\n",
       "      <td>3.000000</td>\n",
       "      <td>80.000000</td>\n",
       "      <td>8.000000</td>\n",
       "      <td>6.000000</td>\n",
       "      <td>512.329200</td>\n",
       "    </tr>\n",
       "  </tbody>\n",
       "</table>\n",
       "</div>"
      ],
      "text/plain": [
       "       PassengerId    Survived      Pclass         Age       SibSp  \\\n",
       "count   891.000000  891.000000  891.000000  891.000000  891.000000   \n",
       "mean    446.000000    0.383838    2.308642   29.699118    0.523008   \n",
       "std     257.353842    0.486592    0.836071   13.002015    1.102743   \n",
       "min       1.000000    0.000000    1.000000    0.420000    0.000000   \n",
       "25%     223.500000    0.000000    2.000000   22.000000    0.000000   \n",
       "50%     446.000000    0.000000    3.000000   29.699118    0.000000   \n",
       "75%     668.500000    1.000000    3.000000   35.000000    1.000000   \n",
       "max     891.000000    1.000000    3.000000   80.000000    8.000000   \n",
       "\n",
       "            Parch        Fare  \n",
       "count  891.000000  891.000000  \n",
       "mean     0.381594   32.204208  \n",
       "std      0.806057   49.693429  \n",
       "min      0.000000    0.000000  \n",
       "25%      0.000000    7.910400  \n",
       "50%      0.000000   14.454200  \n",
       "75%      0.000000   31.000000  \n",
       "max      6.000000  512.329200  "
      ]
     },
     "execution_count": 17,
     "metadata": {},
     "output_type": "execute_result"
    }
   ],
   "source": [
    "# Calculate summary statistics for numerical variables\n",
    "print(\"\\nSummary statistics for numerical variables:\")\n",
    "titanic_data.describe()"
   ]
  },
  {
   "cell_type": "code",
   "execution_count": 18,
   "id": "ffc794e5-fb35-49c5-a622-2fd78fed5d90",
   "metadata": {},
   "outputs": [
    {
     "name": "stdout",
     "output_type": "stream",
     "text": [
      "\n",
      "Summary statistics categorical variables:\n"
     ]
    },
    {
     "data": {
      "text/html": [
       "<div>\n",
       "<style scoped>\n",
       "    .dataframe tbody tr th:only-of-type {\n",
       "        vertical-align: middle;\n",
       "    }\n",
       "\n",
       "    .dataframe tbody tr th {\n",
       "        vertical-align: top;\n",
       "    }\n",
       "\n",
       "    .dataframe thead th {\n",
       "        text-align: right;\n",
       "    }\n",
       "</style>\n",
       "<table border=\"1\" class=\"dataframe\">\n",
       "  <thead>\n",
       "    <tr style=\"text-align: right;\">\n",
       "      <th></th>\n",
       "      <th>Name</th>\n",
       "      <th>Sex</th>\n",
       "      <th>Ticket</th>\n",
       "      <th>Embarked</th>\n",
       "    </tr>\n",
       "  </thead>\n",
       "  <tbody>\n",
       "    <tr>\n",
       "      <th>count</th>\n",
       "      <td>891</td>\n",
       "      <td>891</td>\n",
       "      <td>891</td>\n",
       "      <td>891</td>\n",
       "    </tr>\n",
       "    <tr>\n",
       "      <th>unique</th>\n",
       "      <td>891</td>\n",
       "      <td>2</td>\n",
       "      <td>681</td>\n",
       "      <td>3</td>\n",
       "    </tr>\n",
       "    <tr>\n",
       "      <th>top</th>\n",
       "      <td>Braund, Mr. Owen Harris</td>\n",
       "      <td>male</td>\n",
       "      <td>347082</td>\n",
       "      <td>S</td>\n",
       "    </tr>\n",
       "    <tr>\n",
       "      <th>freq</th>\n",
       "      <td>1</td>\n",
       "      <td>577</td>\n",
       "      <td>7</td>\n",
       "      <td>646</td>\n",
       "    </tr>\n",
       "  </tbody>\n",
       "</table>\n",
       "</div>"
      ],
      "text/plain": [
       "                           Name   Sex  Ticket Embarked\n",
       "count                       891   891     891      891\n",
       "unique                      891     2     681        3\n",
       "top     Braund, Mr. Owen Harris  male  347082        S\n",
       "freq                          1   577       7      646"
      ]
     },
     "execution_count": 18,
     "metadata": {},
     "output_type": "execute_result"
    }
   ],
   "source": [
    "# Calculate summary statistics for categorical variables\n",
    "print(\"\\nSummary statistics categorical variables:\")\n",
    "titanic_data.describe(include=['object'])"
   ]
  },
  {
   "cell_type": "markdown",
   "id": "ab1fc996-7ac3-437f-9f02-163844e1443a",
   "metadata": {},
   "source": [
    "### 4. Missing Values"
   ]
  },
  {
   "cell_type": "code",
   "execution_count": 19,
   "id": "0cbd5857-ffeb-4ee3-a18f-22d50281b7b0",
   "metadata": {},
   "outputs": [
    {
     "data": {
      "text/plain": [
       "PassengerId    0\n",
       "Survived       0\n",
       "Pclass         0\n",
       "Name           0\n",
       "Sex            0\n",
       "Age            0\n",
       "SibSp          0\n",
       "Parch          0\n",
       "Ticket         0\n",
       "Fare           0\n",
       "Embarked       0\n",
       "dtype: int64"
      ]
     },
     "execution_count": 19,
     "metadata": {},
     "output_type": "execute_result"
    }
   ],
   "source": [
    "titanic_data.isnull().sum()"
   ]
  },
  {
   "cell_type": "markdown",
   "id": "af4e9487-9494-4c40-a63c-8b09761a0fe3",
   "metadata": {},
   "source": [
    "**=> all columns have no missing values.**"
   ]
  },
  {
   "cell_type": "markdown",
   "id": "ec7575b2-27c4-40be-953b-cd0940909a23",
   "metadata": {},
   "source": [
    "### 5. Duplicate Rows"
   ]
  },
  {
   "cell_type": "code",
   "execution_count": 20,
   "id": "56d56683-22cf-4f9b-8346-f3eeaa5b56ec",
   "metadata": {},
   "outputs": [
    {
     "data": {
      "text/plain": [
       "0"
      ]
     },
     "execution_count": 20,
     "metadata": {},
     "output_type": "execute_result"
    }
   ],
   "source": [
    "titanic_data.duplicated().sum()"
   ]
  },
  {
   "cell_type": "markdown",
   "id": "af6ae892-e3d6-498e-8b23-0b03232dc6f0",
   "metadata": {},
   "source": [
    "The `duplicated()` method returns a Series that indicates whether each row is a duplicate of a previous row in the dataset. Summing up this Series gives the total number of duplicate rows."
   ]
  },
  {
   "cell_type": "markdown",
   "id": "a95375a3-24d0-44c9-a2c8-c85164fcef2b",
   "metadata": {},
   "source": [
    "**=> there are no duplicate rows.**"
   ]
  },
  {
   "cell_type": "markdown",
   "id": "93913116-90d4-4fac-be55-7428e6e064e4",
   "metadata": {},
   "source": [
    "---"
   ]
  },
  {
   "cell_type": "markdown",
   "id": "a50becae-5ea4-4929-b197-f3b892ee4d56",
   "metadata": {
    "tags": []
   },
   "source": [
    "## 4. Encoding Categorical Variables"
   ]
  },
  {
   "cell_type": "markdown",
   "id": "465d1114-7fd9-419b-a28e-bdfa98e65bde",
   "metadata": {},
   "source": [
    "**Objective:**\n",
    "Transform categorical variables `sex` and `embarked` from the Titanic dataset into numeric format to make them suitable for machine learning models."
   ]
  },
  {
   "cell_type": "markdown",
   "id": "c42128fa-3713-490c-b76c-0b97829b55fb",
   "metadata": {},
   "source": [
    "### 1. One-Hot Encoding for the `Embarked` Column"
   ]
  },
  {
   "cell_type": "markdown",
   "id": "aed805e1-3b18-4d4d-8019-0401fc2c7e40",
   "metadata": {},
   "source": [
    "- One-hot encoding is used to convert the 'Embarked' column, which is a nominal categorical variable, into a format that can be provided to machine learning algorithms to do a better job in prediction.\n",
    "\n",
    "- Since the `Embarked` column has values like `S`, `C`, and `Q`, one-hot encoding will result in three new columns, one for each of these values. Each row will have a `1` in the column corresponding to its 'Embarked' value and `0` in the other two."
   ]
  },
  {
   "cell_type": "markdown",
   "id": "f7193915-c553-473d-afed-631d9e476f60",
   "metadata": {},
   "source": [
    "- **Note:** The `pd.get_dummies()` function will create new columns named after the unique values of the `Embarked` column. When using `drop_first=True`, the first unique value column will be dropped to avoid multicollinearity."
   ]
  },
  {
   "cell_type": "code",
   "execution_count": 22,
   "id": "3424b0b9-b69c-4023-be53-366e3398b829",
   "metadata": {},
   "outputs": [],
   "source": [
    "# One-hot encoding for 'Embarked' column\n",
    "one_hot_embarked = pd.get_dummies(titanic_data['Embarked'], prefix='Embarked', drop_first=True)\n",
    "titanic_data = pd.concat([titanic_data, one_hot_embarked], axis=1)\n",
    "titanic_data.drop('Embarked', axis=1, inplace=True)"
   ]
  },
  {
   "cell_type": "markdown",
   "id": "d4af2da0-f0af-4a69-83f1-5cb48ecaad5e",
   "metadata": {},
   "source": [
    "### 2. Label Encoding for the `Sex` Column"
   ]
  },
  {
   "cell_type": "markdown",
   "id": "7e6019c1-faa1-41ee-b18d-301131dc27b6",
   "metadata": {},
   "source": [
    "- Label encoding is used to convert the `Sex` column into numeric values.\n",
    "\n",
    "- Since `Sex` is a binary categorical variable (only two values: `male` and `female`), label encoding is suitable. After encoding, `male` might be represented as `1` and `female` as `0` (or vice-versa, depending on the order the encoder encounters the categories)."
   ]
  },
  {
   "cell_type": "code",
   "execution_count": 23,
   "id": "88d06324-d194-4dcd-b997-f2e1814d65c7",
   "metadata": {},
   "outputs": [],
   "source": [
    "encoder = LabelEncoder()\n",
    "# Label encoding for 'Sex' column\n",
    "titanic_data['Sex'] = encoder.fit_transform(titanic_data['Sex'])"
   ]
  },
  {
   "cell_type": "markdown",
   "id": "bac39840-4784-4fe6-a473-43a9aa92d839",
   "metadata": {},
   "source": [
    "After these tasks, the dataset will have the 'Embarked' column replaced with `Embarked_Q` and `Embarked_S` columns due to one-hot encoding, and the `Sex` column will have numeric, 1 for `male` and 0 for `female`."
   ]
  },
  {
   "cell_type": "code",
   "execution_count": 24,
   "id": "bd55bdaa-3ad6-4dc0-9537-857dbedee9dc",
   "metadata": {},
   "outputs": [
    {
     "data": {
      "text/html": [
       "<div>\n",
       "<style scoped>\n",
       "    .dataframe tbody tr th:only-of-type {\n",
       "        vertical-align: middle;\n",
       "    }\n",
       "\n",
       "    .dataframe tbody tr th {\n",
       "        vertical-align: top;\n",
       "    }\n",
       "\n",
       "    .dataframe thead th {\n",
       "        text-align: right;\n",
       "    }\n",
       "</style>\n",
       "<table border=\"1\" class=\"dataframe\">\n",
       "  <thead>\n",
       "    <tr style=\"text-align: right;\">\n",
       "      <th></th>\n",
       "      <th>PassengerId</th>\n",
       "      <th>Survived</th>\n",
       "      <th>Pclass</th>\n",
       "      <th>Name</th>\n",
       "      <th>Sex</th>\n",
       "      <th>Age</th>\n",
       "      <th>SibSp</th>\n",
       "      <th>Parch</th>\n",
       "      <th>Ticket</th>\n",
       "      <th>Fare</th>\n",
       "      <th>Embarked_Q</th>\n",
       "      <th>Embarked_S</th>\n",
       "    </tr>\n",
       "  </thead>\n",
       "  <tbody>\n",
       "    <tr>\n",
       "      <th>0</th>\n",
       "      <td>1</td>\n",
       "      <td>0</td>\n",
       "      <td>3</td>\n",
       "      <td>Braund, Mr. Owen Harris</td>\n",
       "      <td>1</td>\n",
       "      <td>22.0</td>\n",
       "      <td>1</td>\n",
       "      <td>0</td>\n",
       "      <td>A/5 21171</td>\n",
       "      <td>7.2500</td>\n",
       "      <td>0</td>\n",
       "      <td>1</td>\n",
       "    </tr>\n",
       "    <tr>\n",
       "      <th>1</th>\n",
       "      <td>2</td>\n",
       "      <td>1</td>\n",
       "      <td>1</td>\n",
       "      <td>Cumings, Mrs. John Bradley (Florence Briggs Th...</td>\n",
       "      <td>0</td>\n",
       "      <td>38.0</td>\n",
       "      <td>1</td>\n",
       "      <td>0</td>\n",
       "      <td>PC 17599</td>\n",
       "      <td>71.2833</td>\n",
       "      <td>0</td>\n",
       "      <td>0</td>\n",
       "    </tr>\n",
       "    <tr>\n",
       "      <th>2</th>\n",
       "      <td>3</td>\n",
       "      <td>1</td>\n",
       "      <td>3</td>\n",
       "      <td>Heikkinen, Miss. Laina</td>\n",
       "      <td>0</td>\n",
       "      <td>26.0</td>\n",
       "      <td>0</td>\n",
       "      <td>0</td>\n",
       "      <td>STON/O2. 3101282</td>\n",
       "      <td>7.9250</td>\n",
       "      <td>0</td>\n",
       "      <td>1</td>\n",
       "    </tr>\n",
       "    <tr>\n",
       "      <th>3</th>\n",
       "      <td>4</td>\n",
       "      <td>1</td>\n",
       "      <td>1</td>\n",
       "      <td>Futrelle, Mrs. Jacques Heath (Lily May Peel)</td>\n",
       "      <td>0</td>\n",
       "      <td>35.0</td>\n",
       "      <td>1</td>\n",
       "      <td>0</td>\n",
       "      <td>113803</td>\n",
       "      <td>53.1000</td>\n",
       "      <td>0</td>\n",
       "      <td>1</td>\n",
       "    </tr>\n",
       "    <tr>\n",
       "      <th>4</th>\n",
       "      <td>5</td>\n",
       "      <td>0</td>\n",
       "      <td>3</td>\n",
       "      <td>Allen, Mr. William Henry</td>\n",
       "      <td>1</td>\n",
       "      <td>35.0</td>\n",
       "      <td>0</td>\n",
       "      <td>0</td>\n",
       "      <td>373450</td>\n",
       "      <td>8.0500</td>\n",
       "      <td>0</td>\n",
       "      <td>1</td>\n",
       "    </tr>\n",
       "  </tbody>\n",
       "</table>\n",
       "</div>"
      ],
      "text/plain": [
       "   PassengerId  Survived  Pclass  \\\n",
       "0            1         0       3   \n",
       "1            2         1       1   \n",
       "2            3         1       3   \n",
       "3            4         1       1   \n",
       "4            5         0       3   \n",
       "\n",
       "                                                Name  Sex   Age  SibSp  Parch  \\\n",
       "0                            Braund, Mr. Owen Harris    1  22.0      1      0   \n",
       "1  Cumings, Mrs. John Bradley (Florence Briggs Th...    0  38.0      1      0   \n",
       "2                             Heikkinen, Miss. Laina    0  26.0      0      0   \n",
       "3       Futrelle, Mrs. Jacques Heath (Lily May Peel)    0  35.0      1      0   \n",
       "4                           Allen, Mr. William Henry    1  35.0      0      0   \n",
       "\n",
       "             Ticket     Fare  Embarked_Q  Embarked_S  \n",
       "0         A/5 21171   7.2500           0           1  \n",
       "1          PC 17599  71.2833           0           0  \n",
       "2  STON/O2. 3101282   7.9250           0           1  \n",
       "3            113803  53.1000           0           1  \n",
       "4            373450   8.0500           0           1  "
      ]
     },
     "execution_count": 24,
     "metadata": {},
     "output_type": "execute_result"
    }
   ],
   "source": [
    "titanic_data.head()"
   ]
  },
  {
   "cell_type": "markdown",
   "id": "fc627b63-a004-4df3-a611-da7d7c7b9ee7",
   "metadata": {},
   "source": [
    "---"
   ]
  },
  {
   "cell_type": "markdown",
   "id": "6a34ec6e-3d8b-410f-b039-1aa74fd994a8",
   "metadata": {
    "tags": []
   },
   "source": [
    "## 5. Binning Continuous Variables"
   ]
  },
  {
   "cell_type": "markdown",
   "id": "2e2b491f-92ef-46bb-9e4c-0d08a0c01979",
   "metadata": {},
   "source": [
    "Binning is the process of converting continuous variables into discrete ones. This is done by segmenting the variable into bins or intervals. Binning can help in improving the accuracy of predictive models, especially when certain thresholds in continuous variables mark significant changes."
   ]
  },
  {
   "cell_type": "markdown",
   "id": "87b47128-84c2-4fda-9829-0b98aa905aef",
   "metadata": {},
   "source": [
    "**Objective:**\n",
    "In the Titanic dataset, the age of passengers is a continuous variable. For the purpose of better understanding patterns, we will segment the age into predefined bins."
   ]
  },
  {
   "cell_type": "markdown",
   "id": "b49b11f0-a497-4ab5-bc0d-d7a201368217",
   "metadata": {
    "tags": []
   },
   "source": [
    "### 1. Binning the `Age` column"
   ]
  },
  {
   "cell_type": "markdown",
   "id": "4fb00891-26ec-4a17-9abe-7a18c63dd27d",
   "metadata": {},
   "source": [
    "1. **Defining the bin edges and labels**\n",
    "   \n",
    "   We first need to determine the age ranges for each category:\n",
    "   - `Child`: 0 to 12 years\n",
    "   - `Teenager`: 12 to 19 years\n",
    "   - `Young Adult`: 19 to 30 years\n",
    "   - `Adult`: 30 to 50 years\n",
    "   - `Senior`: 50 to 100 years\n",
    "\n",
    "   Accordingly, we define the bin edges and labels:\n",
    " "
   ]
  },
  {
   "cell_type": "code",
   "execution_count": 4,
   "id": "5692a506-7bd0-4b44-a372-49ca6f7d0da4",
   "metadata": {},
   "outputs": [],
   "source": [
    "bin_edges = [0, 12, 19, 30, 50, 100]\n",
    "labels = ['Child', 'Teenager', 'Young Adult', 'Adult', 'Senior']"
   ]
  },
  {
   "cell_type": "markdown",
   "id": "cc1aa6d6-ad3f-4ff4-a87f-d4b2c33ebb24",
   "metadata": {},
   "source": [
    "2. **Performing the Binning**\n",
    "\n",
    "   The `pd.cut()` function from pandas provides a straightforward way to segment and sort data values into bins. We'll use this function to categorize the `Age` data into the predefined bins.\n",
    "   \n",
    "   The `right=False` parameter ensures that the bin includes the left value but excludes the right value. For example, ages from 0 (inclusive) to 12 (exclusive) will be labeled as `Child`."
   ]
  },
  {
   "cell_type": "code",
   "execution_count": 6,
   "id": "1129fa0e-fd11-46b6-af5b-e81cce0e5c90",
   "metadata": {},
   "outputs": [
    {
     "data": {
      "text/html": [
       "<div>\n",
       "<style scoped>\n",
       "    .dataframe tbody tr th:only-of-type {\n",
       "        vertical-align: middle;\n",
       "    }\n",
       "\n",
       "    .dataframe tbody tr th {\n",
       "        vertical-align: top;\n",
       "    }\n",
       "\n",
       "    .dataframe thead th {\n",
       "        text-align: right;\n",
       "    }\n",
       "</style>\n",
       "<table border=\"1\" class=\"dataframe\">\n",
       "  <thead>\n",
       "    <tr style=\"text-align: right;\">\n",
       "      <th></th>\n",
       "      <th>PassengerId</th>\n",
       "      <th>Survived</th>\n",
       "      <th>Pclass</th>\n",
       "      <th>Name</th>\n",
       "      <th>Sex</th>\n",
       "      <th>Age</th>\n",
       "      <th>SibSp</th>\n",
       "      <th>Parch</th>\n",
       "      <th>Ticket</th>\n",
       "      <th>Fare</th>\n",
       "      <th>Embarked</th>\n",
       "      <th>Age_Group</th>\n",
       "    </tr>\n",
       "  </thead>\n",
       "  <tbody>\n",
       "    <tr>\n",
       "      <th>0</th>\n",
       "      <td>1</td>\n",
       "      <td>0</td>\n",
       "      <td>3</td>\n",
       "      <td>Braund, Mr. Owen Harris</td>\n",
       "      <td>male</td>\n",
       "      <td>22.0</td>\n",
       "      <td>1</td>\n",
       "      <td>0</td>\n",
       "      <td>A/5 21171</td>\n",
       "      <td>7.2500</td>\n",
       "      <td>S</td>\n",
       "      <td>Young Adult</td>\n",
       "    </tr>\n",
       "    <tr>\n",
       "      <th>1</th>\n",
       "      <td>2</td>\n",
       "      <td>1</td>\n",
       "      <td>1</td>\n",
       "      <td>Cumings, Mrs. John Bradley (Florence Briggs Th...</td>\n",
       "      <td>female</td>\n",
       "      <td>38.0</td>\n",
       "      <td>1</td>\n",
       "      <td>0</td>\n",
       "      <td>PC 17599</td>\n",
       "      <td>71.2833</td>\n",
       "      <td>C</td>\n",
       "      <td>Adult</td>\n",
       "    </tr>\n",
       "    <tr>\n",
       "      <th>2</th>\n",
       "      <td>3</td>\n",
       "      <td>1</td>\n",
       "      <td>3</td>\n",
       "      <td>Heikkinen, Miss. Laina</td>\n",
       "      <td>female</td>\n",
       "      <td>26.0</td>\n",
       "      <td>0</td>\n",
       "      <td>0</td>\n",
       "      <td>STON/O2. 3101282</td>\n",
       "      <td>7.9250</td>\n",
       "      <td>S</td>\n",
       "      <td>Young Adult</td>\n",
       "    </tr>\n",
       "    <tr>\n",
       "      <th>3</th>\n",
       "      <td>4</td>\n",
       "      <td>1</td>\n",
       "      <td>1</td>\n",
       "      <td>Futrelle, Mrs. Jacques Heath (Lily May Peel)</td>\n",
       "      <td>female</td>\n",
       "      <td>35.0</td>\n",
       "      <td>1</td>\n",
       "      <td>0</td>\n",
       "      <td>113803</td>\n",
       "      <td>53.1000</td>\n",
       "      <td>S</td>\n",
       "      <td>Adult</td>\n",
       "    </tr>\n",
       "    <tr>\n",
       "      <th>4</th>\n",
       "      <td>5</td>\n",
       "      <td>0</td>\n",
       "      <td>3</td>\n",
       "      <td>Allen, Mr. William Henry</td>\n",
       "      <td>male</td>\n",
       "      <td>35.0</td>\n",
       "      <td>0</td>\n",
       "      <td>0</td>\n",
       "      <td>373450</td>\n",
       "      <td>8.0500</td>\n",
       "      <td>S</td>\n",
       "      <td>Adult</td>\n",
       "    </tr>\n",
       "  </tbody>\n",
       "</table>\n",
       "</div>"
      ],
      "text/plain": [
       "   PassengerId  Survived  Pclass  \\\n",
       "0            1         0       3   \n",
       "1            2         1       1   \n",
       "2            3         1       3   \n",
       "3            4         1       1   \n",
       "4            5         0       3   \n",
       "\n",
       "                                                Name     Sex   Age  SibSp  \\\n",
       "0                            Braund, Mr. Owen Harris    male  22.0      1   \n",
       "1  Cumings, Mrs. John Bradley (Florence Briggs Th...  female  38.0      1   \n",
       "2                             Heikkinen, Miss. Laina  female  26.0      0   \n",
       "3       Futrelle, Mrs. Jacques Heath (Lily May Peel)  female  35.0      1   \n",
       "4                           Allen, Mr. William Henry    male  35.0      0   \n",
       "\n",
       "   Parch            Ticket     Fare Embarked    Age_Group  \n",
       "0      0         A/5 21171   7.2500        S  Young Adult  \n",
       "1      0          PC 17599  71.2833        C        Adult  \n",
       "2      0  STON/O2. 3101282   7.9250        S  Young Adult  \n",
       "3      0            113803  53.1000        S        Adult  \n",
       "4      0            373450   8.0500        S        Adult  "
      ]
     },
     "execution_count": 6,
     "metadata": {},
     "output_type": "execute_result"
    }
   ],
   "source": [
    "titanic_data['Age_Group'] = pd.cut(titanic_data['Age'], bins=bin_edges, labels=labels, right=False)\n",
    "titanic_data.head()"
   ]
  },
  {
   "cell_type": "markdown",
   "id": "481cc816-627d-4a7e-9b51-cc9595038d33",
   "metadata": {},
   "source": [
    "**Results:**\n",
    "After executing the code, the `titanic_data` DataFrame will have a new column named `Age_Group` containing the age categories for each passenger."
   ]
  },
  {
   "cell_type": "markdown",
   "id": "b807a957-e71e-4936-9be5-bf27c541d323",
   "metadata": {},
   "source": [
    "3. **Visualize a Bar plot of the Age_Group**"
   ]
  },
  {
   "cell_type": "code",
   "execution_count": 9,
   "id": "a563cf56-100e-48a5-afec-520ecc4c5928",
   "metadata": {},
   "outputs": [
    {
     "data": {
      "image/png": "[encoded data removed]",
      "text/plain": [
       "<Figure size 720x432 with 1 Axes>"
      ]
     },
     "metadata": {
      "needs_background": "light"
     },
     "output_type": "display_data"
    }
   ],
   "source": [
    "plt.figure(figsize=(10, 6))\n",
    "sns.countplot(data=titanic_data, x='Age_Group', palette='pastel')\n",
    "plt.title('Number of Passengers in Each Age Group')\n",
    "plt.xlabel('Age Group')\n",
    "plt.ylabel('Number of Passengers')\n",
    "plt.tight_layout()\n",
    "plt.show()"
   ]
  },
  {
   "cell_type": "markdown",
   "id": "0317d16e-e99b-47f0-ae16-fdcaa39adb14",
   "metadata": {},
   "source": [
    "From the chart, we can deduce which age group had the most and the least number of passengers aboard the Titanic. \n",
    "\n",
    "For instance, if 'Young Adult' has the tallest bar, it means most passengers were in the 19-30 age range. Such insights can further help in understanding the survival patterns across different age groups."
   ]
  },
  {
   "cell_type": "markdown",
   "id": "5ff1d714-57d3-49e1-be8e-1228e2dab49c",
   "metadata": {},
   "source": [
    "### 2. Visualizing Survival Rates by Age Group"
   ]
  },
  {
   "cell_type": "markdown",
   "id": "a09e8012-4818-48f5-ab6d-2a6937e31d3b",
   "metadata": {},
   "source": [
    "**Objective:**\n",
    "To gain deeper insights into the Titanic tragedy, it would be insightful to examine the survival rates across different age groups."
   ]
  },
  {
   "cell_type": "code",
   "execution_count": 17,
   "id": "fc8beca3-49dd-4872-9865-b517abd659bd",
   "metadata": {},
   "outputs": [
    {
     "data": {
      "image/png": "[encoded data removed]",
      "text/plain": [
       "<Figure size 720x432 with 1 Axes>"
      ]
     },
     "metadata": {
      "needs_background": "light"
     },
     "output_type": "display_data"
    }
   ],
   "source": [
    "# Creating the bar plot\n",
    "plt.figure(figsize=(10, 6))\n",
    "sns.countplot(data=titanic_data, x='Age_Group', hue='Survived', palette='deep')\n",
    "plt.title('Survival Rates Across Age Groups')\n",
    "plt.xlabel('Age Group')\n",
    "plt.ylabel('Number of Passengers')\n",
    "plt.legend(title='Survived', labels=['Did Not Survive', 'Survived'])\n",
    "plt.show()"
   ]
  },
  {
   "cell_type": "markdown",
   "id": "68b71730-9c97-4af4-86e4-62d55676209f",
   "metadata": {},
   "source": [
    "- **Explanation**:\n",
    "\n",
    "By visualizing the survival rates across different age groups, we can identify several patterns:\n",
    "- The `Young Adult` and `Adult` age groups had a significant number of casualties.\n",
    "- The `Child` and `Teenager` age groups have a higher survival rate compared to the other groups, especially when comparing the number of survivors to the total count in those groups."
   ]
  },
  {
   "cell_type": "markdown",
   "id": "e4871c7c-6f19-409a-ab98-c33c393bc5b0",
   "metadata": {},
   "source": [
    "- **Reflections:**\n",
    "\n",
    "    - The chosen bin boundaries seem to effectively highlight patterns in survival rates across age groups. We can clearly see that children and teenagers had higher survival chances, which might be due to the **\"Women and children first\"** policy during the evacuation.\n",
    "    - While the current binning provides valuable insights, different binning boundaries could emphasize other nuances in the data. For example, a narrower bin for very young children might highlight if infants and toddlers had even higher survival rates compared to older children. The choice of bin boundaries can be influenced by specific questions we're looking to answer and the stories we wish to uncover from the data."
   ]
  },
  {
   "cell_type": "markdown",
   "id": "667cd75a-bc51-4f6e-a5b9-42e7b5afe42a",
   "metadata": {},
   "source": [
    "---"
   ]
  },
  {
   "cell_type": "markdown",
   "id": "0217b07e-73e9-4239-8dd3-497ddbc73344",
   "metadata": {
    "tags": []
   },
   "source": [
    "## 6. Log Transformation for `Fare` Column "
   ]
  },
  {
   "cell_type": "markdown",
   "id": "8c5f7317-9f05-4fed-a7e4-6be01aac2c28",
   "metadata": {},
   "source": [
    "**Objective:**\n",
    "Transformations are a technique to stabilize variance, make the data more normal distribution-like, and improve the validity of measures of association. The `Fare` column in the Titanic dataset has a right-skewed distribution with a few large values which can be considered outliers. By applying a log transformation, we aim to reduce the impact of these outliers."
   ]
  },
  {
   "cell_type": "markdown",
   "id": "a5682617-2c02-4698-aa52-4241ed346f8d",
   "metadata": {},
   "source": [
    "#### 1. Visualization of the distribution of the `Fare` column"
   ]
  },
  {
   "cell_type": "code",
   "execution_count": 19,
   "id": "e16f0918-6f68-459a-b4e2-8471c24bc106",
   "metadata": {},
   "outputs": [
    {
     "data": {
      "image/png": "[encoded data removed]",
      "text/plain": [
       "<Figure size 720x360 with 1 Axes>"
      ]
     },
     "metadata": {
      "needs_background": "light"
     },
     "output_type": "display_data"
    }
   ],
   "source": [
    "# Original Fare Histogram\n",
    "plt.figure(figsize=(10, 5))\n",
    "sns.histplot(titanic_data['Fare'], kde=True)\n",
    "plt.title('Distribution of Original Fare')\n",
    "plt.show()"
   ]
  },
  {
   "cell_type": "markdown",
   "id": "9a144589-a55f-4786-9e08-9605feb4016f",
   "metadata": {},
   "source": [
    "- The original `Fare` column has a right-skewed distribution with a few large values that can be considered outliers. The tail of the distribution is long, stretching out to the right."
   ]
  },
  {
   "cell_type": "markdown",
   "id": "2e635a49-06cc-4c52-8cfd-d1d2cbc0a597",
   "metadata": {},
   "source": [
    "#### 2. Apply a log transformation to the `Fare` column:"
   ]
  },
  {
   "cell_type": "code",
   "execution_count": 24,
   "id": "b9d321b7-c442-4d38-9207-c6dad691a552",
   "metadata": {},
   "outputs": [],
   "source": [
    "# Applying the log transformation\n",
    "titanic_data['Log_Fare'] = np.log1p(titanic_data['Fare'])"
   ]
  },
  {
   "cell_type": "markdown",
   "id": "9837090f-69ef-4f98-a09d-4aa186c90195",
   "metadata": {},
   "source": [
    "#### 4. Visualization of the transformed Fare column"
   ]
  },
  {
   "cell_type": "code",
   "execution_count": 21,
   "id": "0e2517e5-0030-49e2-b4f0-837372753b18",
   "metadata": {},
   "outputs": [
    {
     "data": {
      "image/png": "[encoded data removed]",
      "text/plain": [
       "<Figure size 720x360 with 1 Axes>"
      ]
     },
     "metadata": {
      "needs_background": "light"
     },
     "output_type": "display_data"
    }
   ],
   "source": [
    "# Transformed Fare Histogram\n",
    "plt.figure(figsize=(10, 5))\n",
    "sns.histplot(titanic_data['Log_Fare'], kde=True, color='orange')\n",
    "plt.title('Distribution of Log Transformed Fare')\n",
    "plt.show()"
   ]
  },
  {
   "cell_type": "markdown",
   "id": "52a515dc-aa30-47a4-b44c-749ea02b5b4f",
   "metadata": {},
   "source": [
    "- After the log transformation, the distribution appears much more bell-shaped and closer to a normal distribution."
   ]
  },
  {
   "cell_type": "markdown",
   "id": "dd8743ef-1dc7-455f-b647-cb5b6aa18566",
   "metadata": {},
   "source": [
    "#### 5. Side-by-side comparison of histograms"
   ]
  },
  {
   "cell_type": "code",
   "execution_count": 22,
   "id": "c5399997-4e48-4f1a-a892-a67c71b9645e",
   "metadata": {},
   "outputs": [
    {
     "data": {
      "image/png": "[encoded data removed]",
      "text/plain": [
       "<Figure size 1080x360 with 2 Axes>"
      ]
     },
     "metadata": {
      "needs_background": "light"
     },
     "output_type": "display_data"
    }
   ],
   "source": [
    "fig, axes = plt.subplots(nrows=1, ncols=2, figsize=(15, 5))\n",
    "\n",
    "sns.histplot(titanic_data['Fare'], kde=True, ax=axes[0])\n",
    "axes[0].set_title('Original Fare Distribution')\n",
    "\n",
    "sns.histplot(titanic_data['Log_Fare'], kde=True, ax=axes[1], color='orange')\n",
    "axes[1].set_title('Log Transformed Fare Distribution')\n",
    "\n",
    "plt.tight_layout()\n",
    "plt.show()"
   ]
  },
  {
   "cell_type": "markdown",
   "id": "8242877d-7afa-4d27-930f-48975ac2ba12",
   "metadata": {},
   "source": [
    "- The side-by-side histograms visually emphasize how the transformation brings out the main bulk of the data and lessens the effect of the long tail on the right."
   ]
  },
  {
   "cell_type": "code",
   "execution_count": 33,
   "id": "06aaa015-9fa8-4938-a924-78d5046e21fb",
   "metadata": {},
   "outputs": [
    {
     "data": {
      "image/png": "[encoded data removed]",
      "text/plain": [
       "<Figure size 1080x360 with 2 Axes>"
      ]
     },
     "metadata": {
      "needs_background": "light"
     },
     "output_type": "display_data"
    }
   ],
   "source": [
    "fig, axes = plt.subplots(nrows=1, ncols=2, figsize=(15, 5))\n",
    "\n",
    "sns.boxplot(y=titanic_data['Fare'], ax=axes[0])\n",
    "axes[0].set_title('Boxplot of Original Fare')\n",
    "\n",
    "sns.boxplot(y=titanic_data['Log_Fare'], ax=axes[1], color='orange')\n",
    "axes[1].set_title('Boxplot of Log Transformed Fare')\n",
    "\n",
    "plt.tight_layout()\n",
    "plt.show()\n"
   ]
  },
  {
   "cell_type": "markdown",
   "id": "ffecb715-ffa8-4c45-a521-7e2b52c7a360",
   "metadata": {},
   "source": [
    "- From the boxplots, it's evident that the log transformation has reduced the impact of the outliers. The original Fare boxplot shows several points outside the \"whiskers,\" indicating potential outliers. The transformed boxplot still shows some outliers, but they're less pronounced than before."
   ]
  },
  {
   "cell_type": "markdown",
   "id": "15eb1a4d-abd0-4fb5-9514-9d0fd366a988",
   "metadata": {},
   "source": [
    "---"
   ]
  },
  {
   "cell_type": "markdown",
   "id": "29024a7f-5ea5-4890-8771-0df45037438e",
   "metadata": {
    "tags": []
   },
   "source": [
    "## 7. Feature Scaling"
   ]
  },
  {
   "cell_type": "markdown",
   "id": "9f9e4448-700c-4f21-8e80-0366df9b793f",
   "metadata": {},
   "source": [
    "**Feature Scaling: An Introduction**\n",
    "\n",
    "Feature scaling is an essential data preprocessing step when working with machine learning algorithms. It aims to normalize the range of independent variables or features of the data. In simpler terms, it's about getting different variables to be on similar scales so no particular variable dominates others when feeding data to the model.\n",
    "\n",
    "There are mainly two types of feature scaling: \n",
    " \n",
    "1. **Normalization (Min-Max Scaling):** This method scales the features such that they have values between 0 and 1.\n",
    "\n",
    "$$X_{norm} = \\frac{X - X_{min}}{X_{max} - X_{min}}$$\n",
    "\n",
    "2. **Standardization (Z-score normalization):** This method scales the features such that they have a mean of 0 and a standard deviation of 1.\n",
    "\n",
    "$$X_{standard} = \\frac{X - \\mu}{\\sigma}$$\n",
    "\n",
    "Where:\n",
    "- $X$ is the original feature vector\n",
    "- $\\mu$ is the mean of the feature vector\n",
    "- $\\sigma$ is its standard deviation\n",
    "\n",
    "\n",
    "**Why is Feature Scaling Important?**\n",
    "\n",
    "- Some algorithms, like gradient descent and algorithms that use distance measures like k-nearest neighbors (k-NN) or support vector machines (SVM), converge faster or are more accurate when features are on a relatively similar scale.\n",
    "  \n",
    "- It ensures that just because some features are big in magnitude doesn't mean they act as the main features in predictive models."
   ]
  },
  {
   "cell_type": "markdown",
   "id": "3d6a4d4e-cc15-49e8-b22a-dabac9e45b36",
   "metadata": {},
   "source": [
    "### 1.  Normalization of `Age` & `Fare`"
   ]
  },
  {
   "cell_type": "markdown",
   "id": "b67926bf-2657-43c4-99af-a65a72a388ab",
   "metadata": {},
   "source": [
    "**Objective:** Normalize the `Age` and `Fare` columns of the Titanic dataset."
   ]
  },
  {
   "cell_type": "markdown",
   "id": "ea7e47b4-f91d-44c9-9c27-68543ed7c8e4",
   "metadata": {},
   "source": [
    "To normalize the `Age` and `Fare` columns, we'll use the `MinMaxScaler` from `sklearn.preprocessing`. This scaler will transform the data to fit within the range of [0,1]."
   ]
  },
  {
   "cell_type": "code",
   "execution_count": 36,
   "id": "1f3e05ca-73ac-474d-bdf3-22fd654c1b62",
   "metadata": {},
   "outputs": [
    {
     "data": {
      "text/html": [
       "<div>\n",
       "<style scoped>\n",
       "    .dataframe tbody tr th:only-of-type {\n",
       "        vertical-align: middle;\n",
       "    }\n",
       "\n",
       "    .dataframe tbody tr th {\n",
       "        vertical-align: top;\n",
       "    }\n",
       "\n",
       "    .dataframe thead th {\n",
       "        text-align: right;\n",
       "    }\n",
       "</style>\n",
       "<table border=\"1\" class=\"dataframe\">\n",
       "  <thead>\n",
       "    <tr style=\"text-align: right;\">\n",
       "      <th></th>\n",
       "      <th>Age</th>\n",
       "      <th>Age_normalized</th>\n",
       "      <th>Fare</th>\n",
       "      <th>Fare_normalized</th>\n",
       "    </tr>\n",
       "  </thead>\n",
       "  <tbody>\n",
       "    <tr>\n",
       "      <th>0</th>\n",
       "      <td>22.0</td>\n",
       "      <td>0.271174</td>\n",
       "      <td>7.2500</td>\n",
       "      <td>0.014151</td>\n",
       "    </tr>\n",
       "    <tr>\n",
       "      <th>1</th>\n",
       "      <td>38.0</td>\n",
       "      <td>0.472229</td>\n",
       "      <td>71.2833</td>\n",
       "      <td>0.139136</td>\n",
       "    </tr>\n",
       "    <tr>\n",
       "      <th>2</th>\n",
       "      <td>26.0</td>\n",
       "      <td>0.321438</td>\n",
       "      <td>7.9250</td>\n",
       "      <td>0.015469</td>\n",
       "    </tr>\n",
       "    <tr>\n",
       "      <th>3</th>\n",
       "      <td>35.0</td>\n",
       "      <td>0.434531</td>\n",
       "      <td>53.1000</td>\n",
       "      <td>0.103644</td>\n",
       "    </tr>\n",
       "    <tr>\n",
       "      <th>4</th>\n",
       "      <td>35.0</td>\n",
       "      <td>0.434531</td>\n",
       "      <td>8.0500</td>\n",
       "      <td>0.015713</td>\n",
       "    </tr>\n",
       "  </tbody>\n",
       "</table>\n",
       "</div>"
      ],
      "text/plain": [
       "    Age  Age_normalized     Fare  Fare_normalized\n",
       "0  22.0        0.271174   7.2500         0.014151\n",
       "1  38.0        0.472229  71.2833         0.139136\n",
       "2  26.0        0.321438   7.9250         0.015469\n",
       "3  35.0        0.434531  53.1000         0.103644\n",
       "4  35.0        0.434531   8.0500         0.015713"
      ]
     },
     "execution_count": 36,
     "metadata": {},
     "output_type": "execute_result"
    }
   ],
   "source": [
    "# Apply normalization\n",
    "scaler = MinMaxScaler()\n",
    "titanic_data[['Age_normalized', 'Fare_normalized']] = scaler.fit_transform(titanic_data[['Age', 'Fare']])\n",
    "\n",
    "# Display the first few rows to check the new columns\n",
    "titanic_data[['Age', 'Age_normalized', 'Fare', 'Fare_normalized']].head()"
   ]
  },
  {
   "cell_type": "markdown",
   "id": "0c120b4a-05e1-4bba-9051-ba917d40c18a",
   "metadata": {},
   "source": [
    "After applying the `MinMaxScaler`, the `Age` and `Fare` columns will have their values transformed to lie within the range [0,1], and these normalized values will be stored in the columns `Age_normalized` and `Fare_normalized`."
   ]
  },
  {
   "cell_type": "markdown",
   "id": "5d4c237d-119e-4d35-bedc-26ca4bf41691",
   "metadata": {},
   "source": [
    "### 2. Standardization of `Age` & `Fare`"
   ]
  },
  {
   "cell_type": "markdown",
   "id": "80f250ff-6d67-4236-a3f5-71f86c2a1bb9",
   "metadata": {},
   "source": [
    "**Objective:** Standardize the Age and Fare columns of the Titanic dataset."
   ]
  },
  {
   "cell_type": "markdown",
   "id": "83538b4c-e322-42bb-80a6-cfad85331ca2",
   "metadata": {},
   "source": [
    "For standardizing the data such that they have a mean of 0 and a standard deviation of 1, we'll utilize the `StandardScaler` from `sklearn.preprocessing`."
   ]
  },
  {
   "cell_type": "code",
   "execution_count": 38,
   "id": "6a03447c-8c79-4395-8148-a9496e60d864",
   "metadata": {},
   "outputs": [
    {
     "data": {
      "text/html": [
       "<div>\n",
       "<style scoped>\n",
       "    .dataframe tbody tr th:only-of-type {\n",
       "        vertical-align: middle;\n",
       "    }\n",
       "\n",
       "    .dataframe tbody tr th {\n",
       "        vertical-align: top;\n",
       "    }\n",
       "\n",
       "    .dataframe thead th {\n",
       "        text-align: right;\n",
       "    }\n",
       "</style>\n",
       "<table border=\"1\" class=\"dataframe\">\n",
       "  <thead>\n",
       "    <tr style=\"text-align: right;\">\n",
       "      <th></th>\n",
       "      <th>Age</th>\n",
       "      <th>Age_standardized</th>\n",
       "      <th>Fare</th>\n",
       "      <th>Fare_standardized</th>\n",
       "    </tr>\n",
       "  </thead>\n",
       "  <tbody>\n",
       "    <tr>\n",
       "      <th>0</th>\n",
       "      <td>22.0</td>\n",
       "      <td>-0.592481</td>\n",
       "      <td>7.2500</td>\n",
       "      <td>-0.502445</td>\n",
       "    </tr>\n",
       "    <tr>\n",
       "      <th>1</th>\n",
       "      <td>38.0</td>\n",
       "      <td>0.638789</td>\n",
       "      <td>71.2833</td>\n",
       "      <td>0.786845</td>\n",
       "    </tr>\n",
       "    <tr>\n",
       "      <th>2</th>\n",
       "      <td>26.0</td>\n",
       "      <td>-0.284663</td>\n",
       "      <td>7.9250</td>\n",
       "      <td>-0.488854</td>\n",
       "    </tr>\n",
       "    <tr>\n",
       "      <th>3</th>\n",
       "      <td>35.0</td>\n",
       "      <td>0.407926</td>\n",
       "      <td>53.1000</td>\n",
       "      <td>0.420730</td>\n",
       "    </tr>\n",
       "    <tr>\n",
       "      <th>4</th>\n",
       "      <td>35.0</td>\n",
       "      <td>0.407926</td>\n",
       "      <td>8.0500</td>\n",
       "      <td>-0.486337</td>\n",
       "    </tr>\n",
       "  </tbody>\n",
       "</table>\n",
       "</div>"
      ],
      "text/plain": [
       "    Age  Age_standardized     Fare  Fare_standardized\n",
       "0  22.0         -0.592481   7.2500          -0.502445\n",
       "1  38.0          0.638789  71.2833           0.786845\n",
       "2  26.0         -0.284663   7.9250          -0.488854\n",
       "3  35.0          0.407926  53.1000           0.420730\n",
       "4  35.0          0.407926   8.0500          -0.486337"
      ]
     },
     "execution_count": 38,
     "metadata": {},
     "output_type": "execute_result"
    }
   ],
   "source": [
    "# Apply standardization\n",
    "scaler = StandardScaler()\n",
    "titanic_data[['Age_standardized', 'Fare_standardized']] = scaler.fit_transform(titanic_data[['Age', 'Fare']])\n",
    "\n",
    "# Display the first few rows to check the new columns\n",
    "titanic_data[['Age', 'Age_standardized', 'Fare', 'Fare_standardized']].head()"
   ]
  },
  {
   "cell_type": "markdown",
   "id": "c71bc383-fb1e-467e-a220-21f08c9de4b3",
   "metadata": {},
   "source": [
    "Post application of the `StandardScaler`, the `Age` and `Fare` columns will be centered around the mean (0) with a standard deviation of 1. These standardized values are then stored in the columns `Age_standardized` and `Fare_standardized`."
   ]
  },
  {
   "cell_type": "markdown",
   "id": "86de5ace-489b-4b98-8bd7-2d548e1c4f36",
   "metadata": {},
   "source": [
    "### Visual Comparison"
   ]
  },
  {
   "cell_type": "markdown",
   "id": "7820f195-7a68-4709-8bc1-5e00c4ad48b2",
   "metadata": {},
   "source": [
    "We'll plot histograms using `seaborn` to visually compare the distributions of the original and scaled values of `Age` and `Fare`."
   ]
  },
  {
   "cell_type": "markdown",
   "id": "024fb793-01be-43bd-af93-00f72276a473",
   "metadata": {},
   "source": [
    "- For `Age`"
   ]
  },
  {
   "cell_type": "code",
   "execution_count": 43,
   "id": "1fbb6755-bdba-4745-b73c-4e865a8b94c7",
   "metadata": {},
   "outputs": [
    {
     "data": {
      "image/png": "[encoded data removed]",
      "text/plain": [
       "<Figure size 1080x720 with 4 Axes>"
      ]
     },
     "metadata": {
      "needs_background": "light"
     },
     "output_type": "display_data"
    }
   ],
   "source": [
    "# Setting up the figure and axes\n",
    "fig, axs = plt.subplots(2, 2, figsize=(15, 10))\n",
    "\n",
    "# Original vs. Normalized Age\n",
    "sns.histplot(titanic_data['Age'], color='blue', label='Original Age', kde=True, ax=axs[0,0], alpha=0.5)\n",
    "axs[0,0].legend()\n",
    "axs[0,0].set_title('Original Age')\n",
    "\n",
    "sns.histplot(titanic_data['Age_normalized'], color='red', label='Normalized Age', kde=True, ax=axs[0,1], alpha=0.5)\n",
    "axs[0,1].legend()\n",
    "axs[0,1].set_title('Normalized Age')\n",
    "\n",
    "# Original vs. Standardized Age\n",
    "sns.histplot(titanic_data['Age'], color='blue', label='Original Age', kde=True, ax=axs[1,0], alpha=0.5)\n",
    "axs[1,0].legend()\n",
    "axs[1,0].set_title('Original Age')\n",
    "\n",
    "sns.histplot(titanic_data['Age_standardized'], color='green', label='Standardized Age', kde=True, ax=axs[1,1], alpha=0.5)\n",
    "axs[1,1].legend()\n",
    "axs[1,1].set_title('Standardized Age')\n",
    "\n",
    "plt.tight_layout()\n",
    "plt.show()\n"
   ]
  },
  {
   "cell_type": "markdown",
   "id": "afba799c-7537-440f-a261-145afdbb3c94",
   "metadata": {},
   "source": [
    "- For Fare: "
   ]
  },
  {
   "cell_type": "code",
   "execution_count": 44,
   "id": "ae5a46aa-f5cf-4467-87b0-9d821f4073fb",
   "metadata": {},
   "outputs": [
    {
     "data": {
      "image/png": "[encoded data removed]",
      "text/plain": [
       "<Figure size 1080x720 with 4 Axes>"
      ]
     },
     "metadata": {
      "needs_background": "light"
     },
     "output_type": "display_data"
    }
   ],
   "source": [
    "# Setting up the figure and axes\n",
    "fig, axs = plt.subplots(2, 2, figsize=(15, 10))\n",
    "\n",
    "# Original vs. Normalized Fare\n",
    "sns.histplot(titanic_data['Fare'], color='blue', label='Original Fare', kde=True, ax=axs[0,0], alpha=0.5)\n",
    "axs[0,0].legend()\n",
    "axs[0,0].set_title('Original Fare')\n",
    "\n",
    "sns.histplot(titanic_data['Fare_normalized'], color='red', label='Normalized Fare', kde=True, ax=axs[0,1], alpha=0.5)\n",
    "axs[0,1].legend()\n",
    "axs[0,1].set_title('Normalized Fare')\n",
    "\n",
    "# Original vs. Standardized Fare\n",
    "sns.histplot(titanic_data['Fare'], color='blue', label='Original Fare', kde=True, ax=axs[1,0], alpha=0.5)\n",
    "axs[1,0].legend()\n",
    "axs[1,0].set_title('Original Fare')\n",
    "\n",
    "sns.histplot(titanic_data['Fare_standardized'], color='green', label='Standardized Fare', kde=True, ax=axs[1,1], alpha=0.5)\n",
    "axs[1,1].legend()\n",
    "axs[1,1].set_title('Standardized Fare')\n",
    "\n",
    "plt.tight_layout()\n",
    "plt.show()"
   ]
  },
  {
   "cell_type": "markdown",
   "id": "805c55fe-6d3f-4a17-b80a-f2f861161b1f",
   "metadata": {},
   "source": [
    "From the plots, we can observe that the shape of the distribution remains the same for both `normalization` and `standardization`. However, the scales differ. `Normalization` shifts the scale to [0,1], whereas `standardization` centers the data around a mean of 0."
   ]
  },
  {
   "cell_type": "markdown",
   "id": "8a935459-7ca7-4d85-b758-8ecf231b1fd2",
   "metadata": {},
   "source": [
    "### Conclusions on Feature Scaling Techniques"
   ]
  },
  {
   "cell_type": "markdown",
   "id": "fdedd1a6-5400-4026-a479-be005dcfe1ea",
   "metadata": {},
   "source": [
    "#### Normalization:\n",
    "\n",
    "- Normalization scales numeric features to a specified range, typically [0,1], ensuring that no feature disproportionately influences the model because of its numerical scale.\n",
    "  \n",
    "- After applying normalization to the `Age` and `Fare` columns, values are adjusted to lie between 0 and 1.\n",
    "\n",
    "- The distribution's shape remains consistent post-normalization, but the scale is compressed to fit within the [0,1] interval."
   ]
  },
  {
   "cell_type": "markdown",
   "id": "3e506ee2-6e68-4656-bd5b-2650a9beefd8",
   "metadata": {},
   "source": [
    "#### Standardization:\n",
    "\n",
    "- Standardization is favored when algorithms require features to be centered around zero or when the data follows a Gaussian distribution.\n",
    "\n",
    "- Post standardization, both `Age` and `Fare` columns exhibit a mean close to 0 and a standard deviation around 1.\n",
    "\n",
    "- The distribution's structure stays the same after standardization, but its center shifts to zero with a spread normalized to one."
   ]
  },
  {
   "cell_type": "markdown",
   "id": "12997b5c-f0e2-4f34-8140-2f567d90d479",
   "metadata": {},
   "source": [
    "### Key Insight:\n",
    "\n",
    "- While normalization limits values between 0 and 1, standardization allows for both positive and negative values, centered around zero. For algorithms like linear regression, where assumptions about zero-centered data can be beneficial, standardization is often more appropriate. However, choosing between normalization and standardization often depends on the data's nature and the specific model in use."
   ]
  },
  {
   "cell_type": "markdown",
   "id": "5eb54160-c181-43b8-aefe-1b35c38ea208",
   "metadata": {},
   "source": [
    "---"
   ]
  },
  {
   "cell_type": "markdown",
   "id": "6998a905-440c-481a-a13f-e7c3bdc7bf0a",
   "metadata": {
    "tags": []
   },
   "source": [
    "# Optional tasks"
   ]
  },
  {
   "cell_type": "markdown",
   "id": "94fab8cb-8e79-4165-8bd2-8840031cbf09",
   "metadata": {
    "tags": []
   },
   "source": [
    "## 1. Feature Engineering – Creating Interaction Features"
   ]
  },
  {
   "cell_type": "markdown",
   "id": "f281c546-e41e-4a2a-985e-1605419aee68",
   "metadata": {},
   "source": [
    "**Objective:** create new features from the existing ones to potentially improve the performance of a machine learning model. These new features are derived from interactions between existing variables, capturing patterns that might be overlooked when using the original features alone."
   ]
  },
  {
   "cell_type": "markdown",
   "id": "d39b3967-6bdf-467d-ac04-d9bf29520e22",
   "metadata": {},
   "source": [
    "### 1. **Creating an `Age-Class` Interaction Feature:**"
   ]
  },
  {
   "cell_type": "code",
   "execution_count": 45,
   "id": "7c88b993-c363-415a-b890-b1ae1f5ba292",
   "metadata": {},
   "outputs": [],
   "source": [
    "# Load the data (assuming it's already preprocessed with 'Age' filled in)\n",
    "titanic_data = pd.read_csv(\"data/titanic_preprocessed.csv\")\n",
    "\n",
    "# Create the interaction feature\n",
    "titanic_data['Age_Class'] = titanic_data['Age'] * titanic_data['Pclass']"
   ]
  },
  {
   "cell_type": "markdown",
   "id": "d62f954c-db49-41d2-91c1-4dd6f48164fa",
   "metadata": {},
   "source": [
    "- **Explanation:** \n",
    "This new feature, `Age_Class`, is an interaction between the `Age` and `Pclass` columns. Its purpose is to encapsulate information about both a passenger's age and the class of their ticket, which could be related to their socio-economic status. "
   ]
  },
  {
   "cell_type": "markdown",
   "id": "8161a8d0-2715-4da5-9080-dde732236fe2",
   "metadata": {},
   "source": [
    "### 2. **Analyzing the New Feature:**"
   ]
  },
  {
   "cell_type": "code",
   "execution_count": 46,
   "id": "1c081e05-405d-42ff-899c-d3842ff9fbc8",
   "metadata": {},
   "outputs": [
    {
     "data": {
      "image/png": "[encoded data removed]",
      "text/plain": [
       "<Figure size 432x288 with 1 Axes>"
      ]
     },
     "metadata": {
      "needs_background": "light"
     },
     "output_type": "display_data"
    },
    {
     "data": {
      "image/png": "[encoded data removed]",
      "text/plain": [
       "<Figure size 432x288 with 1 Axes>"
      ]
     },
     "metadata": {
      "needs_background": "light"
     },
     "output_type": "display_data"
    }
   ],
   "source": [
    "# Plotting the distribution\n",
    "sns.histplot(titanic_data['Age_Class'], kde=True)\n",
    "plt.title('Distribution of Age_Class')\n",
    "plt.show()\n",
    "\n",
    "# Investigating the relationship with Survival\n",
    "sns.boxplot(x='Survived', y='Age_Class', data=titanic_data)\n",
    "plt.title('Age_Class by Survival Status')\n",
    "plt.show()"
   ]
  },
  {
   "cell_type": "markdown",
   "id": "303db4cb-1e3e-4818-affe-6fd1ddaa6e04",
   "metadata": {},
   "source": [
    "- **Explanation:**\n",
    "The histogram provides a distribution view of the new `Age_Class` feature. From the box plot, we can gather insights regarding the relationship between the `Age_Class` feature and survival status. It might be observed that different `Age_Class` values have varying survival rates, indicating the potential utility of this feature for predicting survival.\n",
    "\n",
    "- **Key Insights:**\n",
    "\n",
    "    - The `Age_Class` feature creates a spectrum where younger passengers in higher classes (like 1st class) might have lower values, and older passengers in lower classes (like 3rd class) might have higher values.\n",
    "    - By examining the relationship between `Age_Class` and survival, one could infer whether socio-economic factors, combined with age, had a noticeable impact on survival chances. \n",
    "    - Interaction features like `Age_Class` can sometimes enhance a model's performance, especially when the interaction provides meaningful context not captured by the individual features."
   ]
  },
  {
   "cell_type": "markdown",
   "id": "d4e2d0cb-e89f-4e9f-a9c1-33e6d9fcd0d4",
   "metadata": {},
   "source": [
    "After creating the 'AgeClass' variable, it's essential to note that introducing new variables or features can unlock deeper insights from the data. Constructing relevant and meaningful features allows algorithms to better discern patterns, enhancing model performance. The power of machine learning doesn't just lie in complex algorithms, but significantly in the quality of the features provided to them.\n",
    "\n",
    "\n",
    "- **Key Insights on Feature Creation:**\n",
    "\n",
    "1. **Relevance:** Ensure the new feature captures meaningful patterns and contributes to the prediction task.\n",
    "2. **Simplicity:** It's often better to start with simpler features and then iterate, rather than beginning with overly complex ones.\n",
    "3. **Avoid Redundancy:** Ensure new features aren't just replicating the information of existing ones.\n",
    "4. **Test and Validate:** Always evaluate the model's performance with the new feature to ascertain its value.\n",
    "\n",
    "Remember, the goal is to enhance model performance and interpretability without adding unnecessary complexity."
   ]
  },
  {
   "cell_type": "markdown",
   "id": "08f513cd-e31b-456a-b5b1-dc2b16514ba4",
   "metadata": {},
   "source": [
    "---"
   ]
  }
 ],
 "metadata": {
  "kernelspec": {
   "display_name": "Python 3 (ipykernel)",
   "language": "python",
   "name": "python3"
  },
  "language_info": {
   "codemirror_mode": {
    "name": "ipython",
    "version": 3
   },
   "file_extension": ".py",
   "mimetype": "text/x-python",
   "name": "python",
   "nbconvert_exporter": "python",
   "pygments_lexer": "ipython3",
   "version": "3.9.12"
  }
 },
 "nbformat": 4,
 "nbformat_minor": 5
}
