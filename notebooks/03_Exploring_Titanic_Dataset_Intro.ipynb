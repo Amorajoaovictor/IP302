{
 "cells": [
  {
   "cell_type": "markdown",
   "id": "c6537de2-109a-4e2f-b5ee-ece65011170c",
   "metadata": {},
   "source": [
    "# Activity: Exploring the Titanic Dataset"
   ]
  },
  {
   "cell_type": "markdown",
   "id": "12d9a40c-16cc-4daa-8bc9-d75133fd5c30",
   "metadata": {
    "tags": []
   },
   "source": [
    "## Introduction"
   ]
  },
  {
   "cell_type": "markdown",
   "id": "334d88ff-7a80-4462-b02c-56be7139a3b1",
   "metadata": {},
   "source": [
    "- **Objective:**\n",
    "\n",
    "In this activity, we aim to dive deeper into the Titanic dataset, a well-known dataset in the field of data science. We will explore and analyze the dataset using various techniques to gain insights into the passengers' information and survival rates. This exploration will help us practice essential data analysis skills and understand how to approach real-world datasets."
   ]
  },
  {
   "cell_type": "markdown",
   "id": "0b633860-d994-4280-b08c-950bd904cda1",
   "metadata": {},
   "source": [
    "- **About the Titanic Dataset:**"
   ]
  },
  {
   "cell_type": "markdown",
   "id": "f09e62cc-ae9e-42fd-81b8-1c05d3fe6546",
   "metadata": {},
   "source": [
    "The Titanic dataset contains information about passengers who were aboard the RMS Titanic during its ill-fated maiden voyage in 1912. It is a classic dataset used in data science and machine learning for various tasks, including predictive modeling."
   ]
  },
  {
   "cell_type": "markdown",
   "id": "082818cd-8c5b-42cf-9e91-2a152bd4d337",
   "metadata": {},
   "source": [
    "- **Key Features in the Titanic Dataset:**"
   ]
  },
  {
   "cell_type": "markdown",
   "id": "f3a85e2b-069b-41f5-9233-add0b870190f",
   "metadata": {},
   "source": [
    "| Feature                          | Description                                                 |\n",
    "|----------------------------------|-------------------------------------------------------------|\n",
    "| Passenger Class (Pclass)         | Represents the class of the passenger ticket (1st, 2nd, or 3rd class). |\n",
    "| Name                             | The name of the passenger.                                  |\n",
    "| Sex                              | The gender of the passenger (male or female).              |\n",
    "| Age                              | The age of the passenger.                                   |\n",
    "| Siblings/Spouses Aboard (SibSp)  | The number of siblings or spouses the passenger had on board. |\n",
    "| Parents/Children Aboard (Parch)  | The number of parents or children the passenger had on board. |\n",
    "| Ticket                           | The ticket number.                                          |\n",
    "| Fare                             | The fare paid by the passenger.                             |\n",
    "| Cabin                            | The cabin number where the passenger stayed.                |\n",
    "| Embarked                         | The port of embarkation (C = Cherbourg, Q = Queenstown, S = Southampton). |\n",
    "| Survived                         | A binary variable indicating whether the passenger survived (1) or not (0). |\n"
   ]
  },
  {
   "cell_type": "markdown",
   "id": "377d0c82-d18d-4722-a586-182bdcb69f41",
   "metadata": {},
   "source": [
    "- **Data Analysis Goals:**\n",
    "    - We will explore the distribution of variables like age, fare, and passenger class to understand the demographics of the passengers.\n",
    "    - We'll investigate relationships between variables, such as the influence of passenger class or gender on survival rates.\n",
    "    - We'll also identify any missing data and potential outliers in the dataset.\n",
    "    - Lastly, we'll perform exploratory data analysis to gain insights that can guide further analysis and modeling efforts."
   ]
  }
 ],
 "metadata": {
  "kernelspec": {
   "display_name": "Python 3 (ipykernel)",
   "language": "python",
   "name": "python3"
  },
  "language_info": {
   "codemirror_mode": {
    "name": "ipython",
    "version": 3
   },
   "file_extension": ".py",
   "mimetype": "text/x-python",
   "name": "python",
   "nbconvert_exporter": "python",
   "pygments_lexer": "ipython3",
   "version": "3.9.12"
  }
 },
 "nbformat": 4,
 "nbformat_minor": 5
}
