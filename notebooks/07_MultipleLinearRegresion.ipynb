{
 "cells": [
  {
   "cell_type": "markdown",
   "id": "95fa3b25-8cf9-4fad-8789-42981f5cb9ec",
   "metadata": {},
   "source": [
    "# Activity: Multiple Linear Regression - California Housing Dataset"
   ]
  },
  {
   "cell_type": "markdown",
   "id": "1068cea7-2367-4118-a9e1-fdfe5118c8c3",
   "metadata": {},
   "source": [
    "### Overview\n",
    "This session deepens our engagement with the California Housing dataset as we explore the realm of multiple linear regression. Our journey in predictive modeling evolves as we leverage multiple features to enhance our understanding of complex relationships within the data.\n",
    "\n",
    "### Objective\n",
    "The primary goal is to expand our knowledge of regression analysis by implementing a multiple linear regression model. We'll examine the intricacies of using several predictors, refine our model through feature selection and engineering, and evaluate its performance rigorously.\n",
    "\n",
    "### What We Will Do:\n",
    "- **Data Preparation**: Load and preprocess the data, ensuring it's clean and ready for analysis.\n",
    "- **Feature Engineering**: Identify and select significant variables that contribute to the housing prices.\n",
    "- **Data Standardization**: Implement scaling to normalize our feature set, optimizing it for the regression model.\n",
    "- **Model Development**: Construct a multiple linear regression model, utilizing our selected features to predict housing prices.\n",
    "- **Parameter Interpretation**: Delve into the model's coefficients and intercept, unraveling the influence of each predictor.\n",
    "- **Model Evaluation**: Critically assess the model's accuracy using metrics such as R-squared, MAE, and RMSE.\n",
    "- **Model Diagnostics**: Conduct residual analysis to check for assumptions and improve model reliability.\n",
    "- **Outcome Interpretation**: Draw conclusions from the model's results and the implications of our data preprocessing.\n",
    "\n",
    "Upon completing this activity, we will possess a comprehensive understanding of constructing and enhancing a multiple linear regression model. We will be fully equipped to transfer these methods to comparable datasets, enabling us to make well-informed choices underpinned by meticulous data analysis."
   ]
  },
  {
   "cell_type": "markdown",
   "id": "978d6f29-3d31-4fbd-8427-1538987c4859",
   "metadata": {
    "tags": []
   },
   "source": [
    "## 1. Import necessary libraries"
   ]
  },
  {
   "cell_type": "code",
   "execution_count": 4,
   "id": "258972f9-b2d8-4068-910d-11f3bd8ef5d5",
   "metadata": {},
   "outputs": [],
   "source": [
    "import pandas as pd\n",
    "import numpy as np\n",
    "\n",
    "import matplotlib.pyplot as plt\n",
    "import seaborn as sns\n",
    "\n",
    "from sklearn.datasets import fetch_california_housing # to Load the california housing dataset\n",
    "\n",
    "from sklearn.model_selection import train_test_split #to split the data into training set and test set\n",
    "from sklearn.preprocessing import StandardScaler # For Feature scaling : Standardization \n",
    "\n",
    "from sklearn.linear_model import LinearRegression # For Linear Regression Model\n",
    "from sklearn.metrics import r2_score, mean_absolute_error, mean_squared_error # For Linear Regression Metrics\n",
    "\n",
    "\n",
    "# Append the parent directory to the Python path for module imports\n",
    "import sys\n",
    "sys.path.append('..')  # Include the parent directory in the Python path\n",
    "\n",
    "# Import the remove_outliers function defined in a '.py' file from 'scr' folder \n",
    "from src.remove_outliers import remove_outliers"
   ]
  },
  {
   "cell_type": "markdown",
   "id": "15fd3a42-1ee5-4371-a66b-d18a30c87db0",
   "metadata": {
    "tags": []
   },
   "source": [
    "## 2. Loading the California Housing Dataset"
   ]
  },
  {
   "cell_type": "markdown",
   "id": "c5e7633d-6fcd-44d1-80e0-e95735ba9887",
   "metadata": {},
   "source": [
    "- Load the California Housing dataset"
   ]
  },
  {
   "cell_type": "code",
   "execution_count": 3,
   "id": "d48006bf-488a-449f-b62f-bccf7a3a9477",
   "metadata": {},
   "outputs": [],
   "source": [
    "# Load the California Housing dataset\n",
    "data = fetch_california_housing()"
   ]
  },
  {
   "cell_type": "markdown",
   "id": "875ac258-bb4a-447a-90d0-39b2c3d9b26c",
   "metadata": {},
   "source": [
    "We load the data from `sklearn.datasets`. The dataset is returned in a dictionary-like object."
   ]
  },
  {
   "cell_type": "markdown",
   "id": "a5bc8085-94f8-4eaf-a256-9eca784afa56",
   "metadata": {},
   "source": [
    "- Convert the loaded data into a pandas DataFrame and set the column names"
   ]
  },
  {
   "cell_type": "code",
   "execution_count": 4,
   "id": "613f2dfb-880f-4c74-a1e6-d2e6b1008a2a",
   "metadata": {},
   "outputs": [],
   "source": [
    "# Convert the loaded data into a pandas DataFrame and set the column names\n",
    "df = pd.DataFrame(data.data, columns=data.feature_names)\n",
    "df['MedianHouseValue'] = data.target  # Adding the target variable as a new column"
   ]
  },
  {
   "cell_type": "markdown",
   "id": "b61683b5-664a-4127-8ccd-4b763e896a25",
   "metadata": {},
   "source": [
    "We convert the dictionary into a `pandas DataFrame`, which allows for easier data manipulation. We also set the column names based on the dataset's feature names and add the target variable."
   ]
  },
  {
   "cell_type": "markdown",
   "id": "e04a899d-94eb-4915-a2ad-aa04ba8b0d07",
   "metadata": {
    "tags": []
   },
   "source": [
    "## 3. Exploratory Data Analysis"
   ]
  },
  {
   "cell_type": "markdown",
   "id": "6f44ab38-465f-4d12-bc9d-bd9ec6da5f5e",
   "metadata": {},
   "source": [
    "We review the dataset to understand its structure using `head()` to see the first few entries, `info()` for a summary including data types, and `describe()` for statistical details."
   ]
  },
  {
   "cell_type": "markdown",
   "id": "1645fcaa-2903-4121-94d3-525eb9ed92a2",
   "metadata": {},
   "source": [
    "- Displays the first 5 rows of the dataset"
   ]
  },
  {
   "cell_type": "code",
   "execution_count": 7,
   "id": "a588d75d-748d-4a77-ba57-7267331847b3",
   "metadata": {},
   "outputs": [
    {
     "data": {
      "text/html": [
       "<div>\n",
       "<style scoped>\n",
       "    .dataframe tbody tr th:only-of-type {\n",
       "        vertical-align: middle;\n",
       "    }\n",
       "\n",
       "    .dataframe tbody tr th {\n",
       "        vertical-align: top;\n",
       "    }\n",
       "\n",
       "    .dataframe thead th {\n",
       "        text-align: right;\n",
       "    }\n",
       "</style>\n",
       "<table border=\"1\" class=\"dataframe\">\n",
       "  <thead>\n",
       "    <tr style=\"text-align: right;\">\n",
       "      <th></th>\n",
       "      <th>MedInc</th>\n",
       "      <th>HouseAge</th>\n",
       "      <th>AveRooms</th>\n",
       "      <th>AveBedrms</th>\n",
       "      <th>Population</th>\n",
       "      <th>AveOccup</th>\n",
       "      <th>Latitude</th>\n",
       "      <th>Longitude</th>\n",
       "      <th>MedianHouseValue</th>\n",
       "    </tr>\n",
       "  </thead>\n",
       "  <tbody>\n",
       "    <tr>\n",
       "      <th>0</th>\n",
       "      <td>8.3252</td>\n",
       "      <td>41.0</td>\n",
       "      <td>6.984127</td>\n",
       "      <td>1.023810</td>\n",
       "      <td>322.0</td>\n",
       "      <td>2.555556</td>\n",
       "      <td>37.88</td>\n",
       "      <td>-122.23</td>\n",
       "      <td>4.526</td>\n",
       "    </tr>\n",
       "    <tr>\n",
       "      <th>1</th>\n",
       "      <td>8.3014</td>\n",
       "      <td>21.0</td>\n",
       "      <td>6.238137</td>\n",
       "      <td>0.971880</td>\n",
       "      <td>2401.0</td>\n",
       "      <td>2.109842</td>\n",
       "      <td>37.86</td>\n",
       "      <td>-122.22</td>\n",
       "      <td>3.585</td>\n",
       "    </tr>\n",
       "    <tr>\n",
       "      <th>2</th>\n",
       "      <td>7.2574</td>\n",
       "      <td>52.0</td>\n",
       "      <td>8.288136</td>\n",
       "      <td>1.073446</td>\n",
       "      <td>496.0</td>\n",
       "      <td>2.802260</td>\n",
       "      <td>37.85</td>\n",
       "      <td>-122.24</td>\n",
       "      <td>3.521</td>\n",
       "    </tr>\n",
       "    <tr>\n",
       "      <th>3</th>\n",
       "      <td>5.6431</td>\n",
       "      <td>52.0</td>\n",
       "      <td>5.817352</td>\n",
       "      <td>1.073059</td>\n",
       "      <td>558.0</td>\n",
       "      <td>2.547945</td>\n",
       "      <td>37.85</td>\n",
       "      <td>-122.25</td>\n",
       "      <td>3.413</td>\n",
       "    </tr>\n",
       "    <tr>\n",
       "      <th>4</th>\n",
       "      <td>3.8462</td>\n",
       "      <td>52.0</td>\n",
       "      <td>6.281853</td>\n",
       "      <td>1.081081</td>\n",
       "      <td>565.0</td>\n",
       "      <td>2.181467</td>\n",
       "      <td>37.85</td>\n",
       "      <td>-122.25</td>\n",
       "      <td>3.422</td>\n",
       "    </tr>\n",
       "  </tbody>\n",
       "</table>\n",
       "</div>"
      ],
      "text/plain": [
       "   MedInc  HouseAge  AveRooms  AveBedrms  Population  AveOccup  Latitude  \\\n",
       "0  8.3252      41.0  6.984127   1.023810       322.0  2.555556     37.88   \n",
       "1  8.3014      21.0  6.238137   0.971880      2401.0  2.109842     37.86   \n",
       "2  7.2574      52.0  8.288136   1.073446       496.0  2.802260     37.85   \n",
       "3  5.6431      52.0  5.817352   1.073059       558.0  2.547945     37.85   \n",
       "4  3.8462      52.0  6.281853   1.081081       565.0  2.181467     37.85   \n",
       "\n",
       "   Longitude  MedianHouseValue  \n",
       "0    -122.23             4.526  \n",
       "1    -122.22             3.585  \n",
       "2    -122.24             3.521  \n",
       "3    -122.25             3.413  \n",
       "4    -122.25             3.422  "
      ]
     },
     "execution_count": 7,
     "metadata": {},
     "output_type": "execute_result"
    }
   ],
   "source": [
    "df.head()"
   ]
  },
  {
   "cell_type": "markdown",
   "id": "ef2318f9-415d-453f-9560-9f46247fe15c",
   "metadata": {},
   "source": [
    "- Provides a concise summary of the DataFrame"
   ]
  },
  {
   "cell_type": "code",
   "execution_count": 8,
   "id": "4afcfff0-0035-4df7-b0d4-99d5d232b38e",
   "metadata": {},
   "outputs": [
    {
     "name": "stdout",
     "output_type": "stream",
     "text": [
      "<class 'pandas.core.frame.DataFrame'>\n",
      "RangeIndex: 20640 entries, 0 to 20639\n",
      "Data columns (total 9 columns):\n",
      " #   Column            Non-Null Count  Dtype  \n",
      "---  ------            --------------  -----  \n",
      " 0   MedInc            20640 non-null  float64\n",
      " 1   HouseAge          20640 non-null  float64\n",
      " 2   AveRooms          20640 non-null  float64\n",
      " 3   AveBedrms         20640 non-null  float64\n",
      " 4   Population        20640 non-null  float64\n",
      " 5   AveOccup          20640 non-null  float64\n",
      " 6   Latitude          20640 non-null  float64\n",
      " 7   Longitude         20640 non-null  float64\n",
      " 8   MedianHouseValue  20640 non-null  float64\n",
      "dtypes: float64(9)\n",
      "memory usage: 1.4 MB\n"
     ]
    }
   ],
   "source": [
    "df.info()"
   ]
  },
  {
   "cell_type": "markdown",
   "id": "0c52be8f-14e6-4bde-ab32-01d3bff64461",
   "metadata": {},
   "source": [
    "- Shows the statistical details of the dataset"
   ]
  },
  {
   "cell_type": "code",
   "execution_count": 10,
   "id": "1b07c33a-a901-4e14-bea3-e39a367697bf",
   "metadata": {},
   "outputs": [
    {
     "data": {
      "text/html": [
       "<div>\n",
       "<style scoped>\n",
       "    .dataframe tbody tr th:only-of-type {\n",
       "        vertical-align: middle;\n",
       "    }\n",
       "\n",
       "    .dataframe tbody tr th {\n",
       "        vertical-align: top;\n",
       "    }\n",
       "\n",
       "    .dataframe thead th {\n",
       "        text-align: right;\n",
       "    }\n",
       "</style>\n",
       "<table border=\"1\" class=\"dataframe\">\n",
       "  <thead>\n",
       "    <tr style=\"text-align: right;\">\n",
       "      <th></th>\n",
       "      <th>MedInc</th>\n",
       "      <th>HouseAge</th>\n",
       "      <th>AveRooms</th>\n",
       "      <th>AveBedrms</th>\n",
       "      <th>Population</th>\n",
       "      <th>AveOccup</th>\n",
       "      <th>Latitude</th>\n",
       "      <th>Longitude</th>\n",
       "      <th>MedianHouseValue</th>\n",
       "    </tr>\n",
       "  </thead>\n",
       "  <tbody>\n",
       "    <tr>\n",
       "      <th>count</th>\n",
       "      <td>20640.000000</td>\n",
       "      <td>20640.000000</td>\n",
       "      <td>20640.000000</td>\n",
       "      <td>20640.000000</td>\n",
       "      <td>20640.000000</td>\n",
       "      <td>20640.000000</td>\n",
       "      <td>20640.000000</td>\n",
       "      <td>20640.000000</td>\n",
       "      <td>20640.000000</td>\n",
       "    </tr>\n",
       "    <tr>\n",
       "      <th>mean</th>\n",
       "      <td>3.870671</td>\n",
       "      <td>28.639486</td>\n",
       "      <td>5.429000</td>\n",
       "      <td>1.096675</td>\n",
       "      <td>1425.476744</td>\n",
       "      <td>3.070655</td>\n",
       "      <td>35.631861</td>\n",
       "      <td>-119.569704</td>\n",
       "      <td>2.068558</td>\n",
       "    </tr>\n",
       "    <tr>\n",
       "      <th>std</th>\n",
       "      <td>1.899822</td>\n",
       "      <td>12.585558</td>\n",
       "      <td>2.474173</td>\n",
       "      <td>0.473911</td>\n",
       "      <td>1132.462122</td>\n",
       "      <td>10.386050</td>\n",
       "      <td>2.135952</td>\n",
       "      <td>2.003532</td>\n",
       "      <td>1.153956</td>\n",
       "    </tr>\n",
       "    <tr>\n",
       "      <th>min</th>\n",
       "      <td>0.499900</td>\n",
       "      <td>1.000000</td>\n",
       "      <td>0.846154</td>\n",
       "      <td>0.333333</td>\n",
       "      <td>3.000000</td>\n",
       "      <td>0.692308</td>\n",
       "      <td>32.540000</td>\n",
       "      <td>-124.350000</td>\n",
       "      <td>0.149990</td>\n",
       "    </tr>\n",
       "    <tr>\n",
       "      <th>25%</th>\n",
       "      <td>2.563400</td>\n",
       "      <td>18.000000</td>\n",
       "      <td>4.440716</td>\n",
       "      <td>1.006079</td>\n",
       "      <td>787.000000</td>\n",
       "      <td>2.429741</td>\n",
       "      <td>33.930000</td>\n",
       "      <td>-121.800000</td>\n",
       "      <td>1.196000</td>\n",
       "    </tr>\n",
       "    <tr>\n",
       "      <th>50%</th>\n",
       "      <td>3.534800</td>\n",
       "      <td>29.000000</td>\n",
       "      <td>5.229129</td>\n",
       "      <td>1.048780</td>\n",
       "      <td>1166.000000</td>\n",
       "      <td>2.818116</td>\n",
       "      <td>34.260000</td>\n",
       "      <td>-118.490000</td>\n",
       "      <td>1.797000</td>\n",
       "    </tr>\n",
       "    <tr>\n",
       "      <th>75%</th>\n",
       "      <td>4.743250</td>\n",
       "      <td>37.000000</td>\n",
       "      <td>6.052381</td>\n",
       "      <td>1.099526</td>\n",
       "      <td>1725.000000</td>\n",
       "      <td>3.282261</td>\n",
       "      <td>37.710000</td>\n",
       "      <td>-118.010000</td>\n",
       "      <td>2.647250</td>\n",
       "    </tr>\n",
       "    <tr>\n",
       "      <th>max</th>\n",
       "      <td>15.000100</td>\n",
       "      <td>52.000000</td>\n",
       "      <td>141.909091</td>\n",
       "      <td>34.066667</td>\n",
       "      <td>35682.000000</td>\n",
       "      <td>1243.333333</td>\n",
       "      <td>41.950000</td>\n",
       "      <td>-114.310000</td>\n",
       "      <td>5.000010</td>\n",
       "    </tr>\n",
       "  </tbody>\n",
       "</table>\n",
       "</div>"
      ],
      "text/plain": [
       "             MedInc      HouseAge      AveRooms     AveBedrms    Population  \\\n",
       "count  20640.000000  20640.000000  20640.000000  20640.000000  20640.000000   \n",
       "mean       3.870671     28.639486      5.429000      1.096675   1425.476744   \n",
       "std        1.899822     12.585558      2.474173      0.473911   1132.462122   \n",
       "min        0.499900      1.000000      0.846154      0.333333      3.000000   \n",
       "25%        2.563400     18.000000      4.440716      1.006079    787.000000   \n",
       "50%        3.534800     29.000000      5.229129      1.048780   1166.000000   \n",
       "75%        4.743250     37.000000      6.052381      1.099526   1725.000000   \n",
       "max       15.000100     52.000000    141.909091     34.066667  35682.000000   \n",
       "\n",
       "           AveOccup      Latitude     Longitude  MedianHouseValue  \n",
       "count  20640.000000  20640.000000  20640.000000      20640.000000  \n",
       "mean       3.070655     35.631861   -119.569704          2.068558  \n",
       "std       10.386050      2.135952      2.003532          1.153956  \n",
       "min        0.692308     32.540000   -124.350000          0.149990  \n",
       "25%        2.429741     33.930000   -121.800000          1.196000  \n",
       "50%        2.818116     34.260000   -118.490000          1.797000  \n",
       "75%        3.282261     37.710000   -118.010000          2.647250  \n",
       "max     1243.333333     41.950000   -114.310000          5.000010  "
      ]
     },
     "execution_count": 10,
     "metadata": {},
     "output_type": "execute_result"
    }
   ],
   "source": [
    "df.describe()"
   ]
  },
  {
   "cell_type": "markdown",
   "id": "de200672-3fad-4a29-9dfd-afaab1d89f92",
   "metadata": {},
   "source": [
    "- Check for missing values and data types"
   ]
  },
  {
   "cell_type": "code",
   "execution_count": 12,
   "id": "60e064cc-1847-49ae-b942-e4eeb0a93d78",
   "metadata": {},
   "outputs": [
    {
     "data": {
      "text/plain": [
       "MedInc              0\n",
       "HouseAge            0\n",
       "AveRooms            0\n",
       "AveBedrms           0\n",
       "Population          0\n",
       "AveOccup            0\n",
       "Latitude            0\n",
       "Longitude           0\n",
       "MedianHouseValue    0\n",
       "dtype: int64"
      ]
     },
     "execution_count": 12,
     "metadata": {},
     "output_type": "execute_result"
    }
   ],
   "source": [
    "df.isnull().sum()"
   ]
  },
  {
   "cell_type": "markdown",
   "id": "d1491dfd-b1dd-4f44-b301-75302bd3ba77",
   "metadata": {},
   "source": [
    "We check for missing values in each column to ensure the data's integrity.\n",
    "\n",
    "No missing values have been identified."
   ]
  },
  {
   "cell_type": "markdown",
   "id": "621afc9b-e6dd-47ac-8400-f528c155329e",
   "metadata": {},
   "source": [
    "- The California Housing dataset from sklearn does not contain categorical features, there's no need for encoding."
   ]
  },
  {
   "cell_type": "markdown",
   "id": "748157d3-6794-4244-99f5-c8bbac4db887",
   "metadata": {},
   "source": [
    "### **Additional preprocessing**"
   ]
  },
  {
   "cell_type": "markdown",
   "id": "1f92355b-9789-4439-9654-2c2a696df299",
   "metadata": {},
   "source": [
    "Before building a multiple linear regression model, it is often recommended to perform feature scaling. This is particularly important when the features have different scales and units, as is the case with the California Housing dataset. Feature scaling helps to normalize the data within a particular range and also to speed up calculations in an algorithm. The two common methods for feature scaling are normalization (or Min-Max scaling) and standardization (Z-score normalization):\n",
    "\n",
    "- **Normalization** adjusts the data so that the range is between 0 and 1.\n",
    "- **Standardization** adjusts the data so that it has a mean of 0 and a standard deviation of 1.\n",
    "\n",
    "Both methods ensure that the features contribute equally to the result and help the convergence of the model during the training process. Since linear regression can be sensitive to the scale of input features, applying standardization would be a prudent choice to ensure the model performs optimally."
   ]
  },
  {
   "cell_type": "markdown",
   "id": "efbde6ed-2924-417b-96f6-102713efee55",
   "metadata": {},
   "source": [
    "---"
   ]
  },
  {
   "cell_type": "markdown",
   "id": "b8d442dc-4084-4063-9cc6-dca8eca6fe77",
   "metadata": {
    "tags": []
   },
   "source": [
    "## 4. Data Preprocessing & Feature Engineering"
   ]
  },
  {
   "cell_type": "markdown",
   "id": "e596e760-9317-4aa5-a572-cd5bd80180f4",
   "metadata": {
    "jp-MarkdownHeadingCollapsed": true,
    "tags": []
   },
   "source": [
    "### 1. Feature Selection for Multiple Linear Regression"
   ]
  },
  {
   "cell_type": "markdown",
   "id": "59da8a0a-86f2-4fc9-be96-de26c9779afb",
   "metadata": {},
   "source": [
    "- Generate the correlation matrix"
   ]
  },
  {
   "cell_type": "code",
   "execution_count": 17,
   "id": "5ad58f91-bc63-44ed-be9e-eacf0d83bc54",
   "metadata": {},
   "outputs": [
    {
     "data": {
      "text/html": [
       "<div>\n",
       "<style scoped>\n",
       "    .dataframe tbody tr th:only-of-type {\n",
       "        vertical-align: middle;\n",
       "    }\n",
       "\n",
       "    .dataframe tbody tr th {\n",
       "        vertical-align: top;\n",
       "    }\n",
       "\n",
       "    .dataframe thead th {\n",
       "        text-align: right;\n",
       "    }\n",
       "</style>\n",
       "<table border=\"1\" class=\"dataframe\">\n",
       "  <thead>\n",
       "    <tr style=\"text-align: right;\">\n",
       "      <th></th>\n",
       "      <th>MedInc</th>\n",
       "      <th>HouseAge</th>\n",
       "      <th>AveRooms</th>\n",
       "      <th>AveBedrms</th>\n",
       "      <th>Population</th>\n",
       "      <th>AveOccup</th>\n",
       "      <th>Latitude</th>\n",
       "      <th>Longitude</th>\n",
       "      <th>MedianHouseValue</th>\n",
       "    </tr>\n",
       "  </thead>\n",
       "  <tbody>\n",
       "    <tr>\n",
       "      <th>MedInc</th>\n",
       "      <td>1.000000</td>\n",
       "      <td>-0.119034</td>\n",
       "      <td>0.326895</td>\n",
       "      <td>-0.062040</td>\n",
       "      <td>0.004834</td>\n",
       "      <td>0.018766</td>\n",
       "      <td>-0.079809</td>\n",
       "      <td>-0.015176</td>\n",
       "      <td>0.688075</td>\n",
       "    </tr>\n",
       "    <tr>\n",
       "      <th>HouseAge</th>\n",
       "      <td>-0.119034</td>\n",
       "      <td>1.000000</td>\n",
       "      <td>-0.153277</td>\n",
       "      <td>-0.077747</td>\n",
       "      <td>-0.296244</td>\n",
       "      <td>0.013191</td>\n",
       "      <td>0.011173</td>\n",
       "      <td>-0.108197</td>\n",
       "      <td>0.105623</td>\n",
       "    </tr>\n",
       "    <tr>\n",
       "      <th>AveRooms</th>\n",
       "      <td>0.326895</td>\n",
       "      <td>-0.153277</td>\n",
       "      <td>1.000000</td>\n",
       "      <td>0.847621</td>\n",
       "      <td>-0.072213</td>\n",
       "      <td>-0.004852</td>\n",
       "      <td>0.106389</td>\n",
       "      <td>-0.027540</td>\n",
       "      <td>0.151948</td>\n",
       "    </tr>\n",
       "    <tr>\n",
       "      <th>AveBedrms</th>\n",
       "      <td>-0.062040</td>\n",
       "      <td>-0.077747</td>\n",
       "      <td>0.847621</td>\n",
       "      <td>1.000000</td>\n",
       "      <td>-0.066197</td>\n",
       "      <td>-0.006181</td>\n",
       "      <td>0.069721</td>\n",
       "      <td>0.013344</td>\n",
       "      <td>-0.046701</td>\n",
       "    </tr>\n",
       "    <tr>\n",
       "      <th>Population</th>\n",
       "      <td>0.004834</td>\n",
       "      <td>-0.296244</td>\n",
       "      <td>-0.072213</td>\n",
       "      <td>-0.066197</td>\n",
       "      <td>1.000000</td>\n",
       "      <td>0.069863</td>\n",
       "      <td>-0.108785</td>\n",
       "      <td>0.099773</td>\n",
       "      <td>-0.024650</td>\n",
       "    </tr>\n",
       "    <tr>\n",
       "      <th>AveOccup</th>\n",
       "      <td>0.018766</td>\n",
       "      <td>0.013191</td>\n",
       "      <td>-0.004852</td>\n",
       "      <td>-0.006181</td>\n",
       "      <td>0.069863</td>\n",
       "      <td>1.000000</td>\n",
       "      <td>0.002366</td>\n",
       "      <td>0.002476</td>\n",
       "      <td>-0.023737</td>\n",
       "    </tr>\n",
       "    <tr>\n",
       "      <th>Latitude</th>\n",
       "      <td>-0.079809</td>\n",
       "      <td>0.011173</td>\n",
       "      <td>0.106389</td>\n",
       "      <td>0.069721</td>\n",
       "      <td>-0.108785</td>\n",
       "      <td>0.002366</td>\n",
       "      <td>1.000000</td>\n",
       "      <td>-0.924664</td>\n",
       "      <td>-0.144160</td>\n",
       "    </tr>\n",
       "    <tr>\n",
       "      <th>Longitude</th>\n",
       "      <td>-0.015176</td>\n",
       "      <td>-0.108197</td>\n",
       "      <td>-0.027540</td>\n",
       "      <td>0.013344</td>\n",
       "      <td>0.099773</td>\n",
       "      <td>0.002476</td>\n",
       "      <td>-0.924664</td>\n",
       "      <td>1.000000</td>\n",
       "      <td>-0.045967</td>\n",
       "    </tr>\n",
       "    <tr>\n",
       "      <th>MedianHouseValue</th>\n",
       "      <td>0.688075</td>\n",
       "      <td>0.105623</td>\n",
       "      <td>0.151948</td>\n",
       "      <td>-0.046701</td>\n",
       "      <td>-0.024650</td>\n",
       "      <td>-0.023737</td>\n",
       "      <td>-0.144160</td>\n",
       "      <td>-0.045967</td>\n",
       "      <td>1.000000</td>\n",
       "    </tr>\n",
       "  </tbody>\n",
       "</table>\n",
       "</div>"
      ],
      "text/plain": [
       "                    MedInc  HouseAge  AveRooms  AveBedrms  Population  \\\n",
       "MedInc            1.000000 -0.119034  0.326895  -0.062040    0.004834   \n",
       "HouseAge         -0.119034  1.000000 -0.153277  -0.077747   -0.296244   \n",
       "AveRooms          0.326895 -0.153277  1.000000   0.847621   -0.072213   \n",
       "AveBedrms        -0.062040 -0.077747  0.847621   1.000000   -0.066197   \n",
       "Population        0.004834 -0.296244 -0.072213  -0.066197    1.000000   \n",
       "AveOccup          0.018766  0.013191 -0.004852  -0.006181    0.069863   \n",
       "Latitude         -0.079809  0.011173  0.106389   0.069721   -0.108785   \n",
       "Longitude        -0.015176 -0.108197 -0.027540   0.013344    0.099773   \n",
       "MedianHouseValue  0.688075  0.105623  0.151948  -0.046701   -0.024650   \n",
       "\n",
       "                  AveOccup  Latitude  Longitude  MedianHouseValue  \n",
       "MedInc            0.018766 -0.079809  -0.015176          0.688075  \n",
       "HouseAge          0.013191  0.011173  -0.108197          0.105623  \n",
       "AveRooms         -0.004852  0.106389  -0.027540          0.151948  \n",
       "AveBedrms        -0.006181  0.069721   0.013344         -0.046701  \n",
       "Population        0.069863 -0.108785   0.099773         -0.024650  \n",
       "AveOccup          1.000000  0.002366   0.002476         -0.023737  \n",
       "Latitude          0.002366  1.000000  -0.924664         -0.144160  \n",
       "Longitude         0.002476 -0.924664   1.000000         -0.045967  \n",
       "MedianHouseValue -0.023737 -0.144160  -0.045967          1.000000  "
      ]
     },
     "execution_count": 17,
     "metadata": {},
     "output_type": "execute_result"
    }
   ],
   "source": [
    "correlation_matrix = df.corr()\n",
    "correlation_matrix"
   ]
  },
  {
   "cell_type": "markdown",
   "id": "45424813-c37a-4aab-8a78-3b785c017d8c",
   "metadata": {},
   "source": [
    "- Plot the correlation matrix using seaborn"
   ]
  },
  {
   "cell_type": "code",
   "execution_count": 18,
   "id": "5a1a6514-33b3-431b-85fc-1c0979c2d64e",
   "metadata": {},
   "outputs": [
    {
     "data": {
      "image/png": "[encoded data removed]",
      "text/plain": [
       "<Figure size 720x576 with 2 Axes>"
      ]
     },
     "metadata": {
      "needs_background": "light"
     },
     "output_type": "display_data"
    }
   ],
   "source": [
    "plt.figure(figsize=(10, 8))\n",
    "sns.heatmap(correlation_matrix, annot=True, fmt=\".2f\", cmap=\"coolwarm\")\n",
    "plt.title(\"Correlation Matrix of California Housing Features\")\n",
    "plt.show()"
   ]
  },
  {
   "cell_type": "markdown",
   "id": "c15e959f-92bd-4d53-87ab-0fc6efa5d638",
   "metadata": {},
   "source": [
    "1. **Strong Correlation with Target Variable:**  \n",
    "    - 'MedInc' has the highest positive correlation with the target (0.688075). \n",
    "\n",
    "2. **Addressing Multicollinearity:**\n",
    "\n",
    "    - Upon examining 'AveRooms' and 'AveBedrms', we observe a substantial correlation (0.847621) between these two features. Since 'MedInc' shows the strongest correlation with our target and is a crucial variable, we opt for 'AveRooms' over 'AveBedrms' based on its marginally stronger correlation with the target variable. Therefore, we'll exclude 'AveBedrms' to mitigate multicollinearity.\n",
    "\n",
    "    - The correlation between 'Latitude' and 'Longitude' is highly negative (-0.924664), reflecting their inherent geographic relationship. Common practice in spatial data analysis would not automatically exclude one due to multicollinearity because they capture distinct geographic dimensions. Nonetheless, given their relatively weak correlation with the target variable, there are two potential courses of action: we may consider excluding one to simplify the model or devise a new feature encapsulating both variables. For instance, crafting a feature such as 'Distance to a Central Point' might effectively summarize the geographic influence on housing prices while reducing multicollinearity.\n",
    "\n",
    "**Feature Engineering Proposal:**\n",
    "\n",
    "Should we decide to retain geographic information, we would need to conceive a feature that curbs the issue of multicollinearity. A pragmatic approach might involve calculating the distance to a significant urban center or a predefined point that is of interest in California. This newly engineered feature could serve as a surrogate for 'Latitude' and 'Longitude', capturing the locational characteristics without the complication of multicollinearity."
   ]
  },
  {
   "cell_type": "markdown",
   "id": "497acfe7-bd22-42f5-abbb-724cb3a78096",
   "metadata": {},
   "source": [
    "- **Feature Selection:**\n",
    "\n",
    "Based on the analysis and consideration to avoid multicollinearity:\n",
    "\n",
    "- **Selected Features:** 'MedInc', 'AveRooms', 'HouseAge'\n",
    "- **Dropped Features:** 'AveBedrms', 'Population', 'AveOccup', 'Latitude', 'Longitude' \n",
    "\n",
    "The reason to drop 'Population' and 'AveOccup' is due to their low correlation with the target variable, which implies they might not provide significant predictive power."
   ]
  },
  {
   "cell_type": "code",
   "execution_count": 12,
   "id": "6e272f0b-ef4e-4a4d-9cdc-bb03225eab07",
   "metadata": {},
   "outputs": [],
   "source": [
    "# Manually selected features\n",
    "selected_features = ['MedInc', 'AveRooms', 'HouseAge']\n",
    "\n",
    "# DataFrame with selected features for regression model\n",
    "X = df[selected_features]\n",
    "\n",
    "# Target variable for the model\n",
    "y = df['MedianHouseValue']"
   ]
  },
  {
   "cell_type": "code",
   "execution_count": 77,
   "id": "53981f35-7828-4929-8f82-b1061517882f",
   "metadata": {},
   "outputs": [
    {
     "data": {
      "text/html": [
       "<div>\n",
       "<style scoped>\n",
       "    .dataframe tbody tr th:only-of-type {\n",
       "        vertical-align: middle;\n",
       "    }\n",
       "\n",
       "    .dataframe tbody tr th {\n",
       "        vertical-align: top;\n",
       "    }\n",
       "\n",
       "    .dataframe thead th {\n",
       "        text-align: right;\n",
       "    }\n",
       "</style>\n",
       "<table border=\"1\" class=\"dataframe\">\n",
       "  <thead>\n",
       "    <tr style=\"text-align: right;\">\n",
       "      <th></th>\n",
       "      <th>MedInc</th>\n",
       "      <th>AveRooms</th>\n",
       "      <th>HouseAge</th>\n",
       "    </tr>\n",
       "  </thead>\n",
       "  <tbody>\n",
       "    <tr>\n",
       "      <th>0</th>\n",
       "      <td>8.3252</td>\n",
       "      <td>6.984127</td>\n",
       "      <td>41.0</td>\n",
       "    </tr>\n",
       "    <tr>\n",
       "      <th>1</th>\n",
       "      <td>8.3014</td>\n",
       "      <td>6.238137</td>\n",
       "      <td>21.0</td>\n",
       "    </tr>\n",
       "    <tr>\n",
       "      <th>2</th>\n",
       "      <td>7.2574</td>\n",
       "      <td>8.288136</td>\n",
       "      <td>52.0</td>\n",
       "    </tr>\n",
       "    <tr>\n",
       "      <th>3</th>\n",
       "      <td>5.6431</td>\n",
       "      <td>5.817352</td>\n",
       "      <td>52.0</td>\n",
       "    </tr>\n",
       "    <tr>\n",
       "      <th>4</th>\n",
       "      <td>3.8462</td>\n",
       "      <td>6.281853</td>\n",
       "      <td>52.0</td>\n",
       "    </tr>\n",
       "  </tbody>\n",
       "</table>\n",
       "</div>"
      ],
      "text/plain": [
       "   MedInc  AveRooms  HouseAge\n",
       "0  8.3252  6.984127      41.0\n",
       "1  8.3014  6.238137      21.0\n",
       "2  7.2574  8.288136      52.0\n",
       "3  5.6431  5.817352      52.0\n",
       "4  3.8462  6.281853      52.0"
      ]
     },
     "execution_count": 77,
     "metadata": {},
     "output_type": "execute_result"
    }
   ],
   "source": [
    "X.head()"
   ]
  },
  {
   "cell_type": "code",
   "execution_count": 32,
   "id": "c640c011-43d4-4ebd-8a39-494da9d3e3c0",
   "metadata": {},
   "outputs": [
    {
     "data": {
      "text/plain": [
       "0    4.526\n",
       "1    3.585\n",
       "2    3.521\n",
       "3    3.413\n",
       "4    3.422\n",
       "Name: MedianHouseValue, dtype: float64"
      ]
     },
     "execution_count": 32,
     "metadata": {},
     "output_type": "execute_result"
    }
   ],
   "source": [
    "y[:5]"
   ]
  },
  {
   "cell_type": "markdown",
   "id": "90b025b3-89e0-4536-bc2e-4b70f626a1bd",
   "metadata": {
    "jp-MarkdownHeadingCollapsed": true,
    "tags": []
   },
   "source": [
    "### 2. Splitting the Dataset with Selected Features"
   ]
  },
  {
   "cell_type": "markdown",
   "id": "7b89fcad-d265-4327-8c13-07ac2d8bf5f7",
   "metadata": {},
   "source": [
    "- A training set is a subset of the dataset used to build predictive models. A test set is a subset used to assess the performance of the model.\n",
    "- The training set allows the model to learn the patterns in the data, while the testing set acts as new, unseen data to evaluate the model's generalization capability.\n",
    "- The size of the dataset can influence the train/test split ratio because with a larger dataset, you may have enough data to split off a larger test set while still having plenty of data for training. With smaller datasets, you might choose a smaller test set to ensure the training set is large enough."
   ]
  },
  {
   "cell_type": "code",
   "execution_count": 13,
   "id": "1f7119fb-ac0e-4226-bc15-106028fabfc9",
   "metadata": {},
   "outputs": [
    {
     "name": "stdout",
     "output_type": "stream",
     "text": [
      "Training set shape: (16512, 3) (16512,)\n",
      "Testing set shape: (4128, 3) (4128,)\n"
     ]
    }
   ],
   "source": [
    "# Splitting the dataset into training (80%) and testing (20%) sets with a random seed for reproducibility\n",
    "X_train, X_test, y_train, y_test = train_test_split(X, y, test_size=0.2, random_state=23)\n",
    "\n",
    "# Printing the shapes of the resulting sets\n",
    "print(\"Training set shape:\", X_train.shape, y_train.shape)\n",
    "print(\"Testing set shape:\", X_test.shape, y_test.shape)"
   ]
  },
  {
   "cell_type": "markdown",
   "id": "1a638c36-1974-4676-8895-da14ea0f8f2f",
   "metadata": {
    "jp-MarkdownHeadingCollapsed": true,
    "tags": []
   },
   "source": [
    "### 3. Feature Scaling"
   ]
  },
  {
   "cell_type": "markdown",
   "id": "627728e2-3ac7-4807-86b0-08c7ee05d8d3",
   "metadata": {},
   "source": [
    "Feature scaling is a crucial step in preparing data for many machine learning algorithms, especially those that use distance measures like linear regression. Scaling ensures that all features contribute equally to the result and helps gradient descent converge more quickly.\n",
    "\n",
    "In multiple linear regression, feature scaling is important because it standardizes the range of independent variables or features of data. Since the scale of the variables might differ significantly, unscaled data can potentially result in a biased or invalid model. A feature with a broad range of values can dominate the model and make the model unable to learn from other features correctly.\n",
    "\n",
    "The difference between fitting and transforming the scaler on the training data versus the testing data is that 'fit' calculates the parameters (mean and standard deviation for StandardScaler) necessary for the transformation on the training dataset, while 'transform' uses these parameters to scale the data. The testing data should only be transformed using the parameters from the training data to simulate the real-world scenario where the model is applied to unseen data."
   ]
  },
  {
   "cell_type": "code",
   "execution_count": 14,
   "id": "0216f43a-b704-4fd2-ba83-763d703ec022",
   "metadata": {},
   "outputs": [],
   "source": [
    "# Initialize the StandardScaler\n",
    "scaler = StandardScaler()\n",
    "\n",
    "# Fit the scaler on the training data\n",
    "scaler.fit(X_train)\n",
    "\n",
    "# Transform both the training and testing data\n",
    "X_train_scaled = scaler.transform(X_train)\n",
    "X_test_scaled = scaler.transform(X_test)\n",
    "\n",
    "# Now, X_train_scaled and X_test_scaled are the scaled versions of the training and testing sets, respectively"
   ]
  },
  {
   "cell_type": "markdown",
   "id": "165536d6-6bc8-4f90-918b-c13ac0338458",
   "metadata": {},
   "source": [
    "After this code, `X_train_scaled` and `X_test_scaled` are arrays containing the scaled values of your features. It's important to note that `fit` should only be called on `X_train` to prevent information leakage from the test set into the model training process. The same scaling parameters are then used to transform `X_test`.\n",
    "\n",
    "Once you have scaled your data using StandardScaler from sklearn.preprocessing, you can transform the resulting NumPy arrays back into pandas DataFrames. This can be useful if you want to retain the DataFrame format for easier manipulation and indexing. "
   ]
  },
  {
   "cell_type": "code",
   "execution_count": 15,
   "id": "9d92d4ba-6180-44ee-9a18-44b9ca67d9b1",
   "metadata": {},
   "outputs": [
    {
     "name": "stdout",
     "output_type": "stream",
     "text": [
      "Scaled training DataFrame shape: (16512, 3)\n",
      "Scaled testing DataFrame shape: (4128, 3)\n"
     ]
    }
   ],
   "source": [
    "# Convert the scaled arrays back into DataFrames\n",
    "X_train_scaled_df = pd.DataFrame(X_train_scaled, columns=X_train.columns, index=X_train.index)\n",
    "X_test_scaled_df = pd.DataFrame(X_test_scaled, columns=X_test.columns, index=X_test.index)\n",
    "\n",
    "# Display the shapes to confirm they're still the same\n",
    "print(\"Scaled training DataFrame shape:\", X_train_scaled_df.shape)\n",
    "print(\"Scaled testing DataFrame shape:\", X_test_scaled_df.shape)"
   ]
  },
  {
   "cell_type": "markdown",
   "id": "39f63ff2-7762-46fb-a18d-f6c44bd2f072",
   "metadata": {},
   "source": [
    "Here, the `DataFrame` constructor is used to create a new DataFrame from the `X_train_scaled` and `X_test_scaled` arrays. The column names from the original `X_train` and `X_test` DataFrames are used to label the columns in the new scaled DataFrames, and the original indices are used to label the rows. This ensures that the new DataFrames maintain the same structure and labeling as the original DataFrames, with the only difference being the scaled values.\n"
   ]
  },
  {
   "cell_type": "code",
   "execution_count": 16,
   "id": "cc38adfc-738f-404f-a045-2aeae9109d87",
   "metadata": {},
   "outputs": [
    {
     "name": "stdout",
     "output_type": "stream",
     "text": [
      "         MedInc  AveRooms  HouseAge\n",
      "5817   0.084597 -0.359615  1.308806\n",
      "16856 -0.341088 -0.403418  0.830051\n",
      "5494   4.302134  0.249101 -1.005177\n",
      "17053  1.192773 -0.078698  0.909843\n",
      "15836  0.211151 -0.072009  1.388598\n",
      "         MedInc  AveRooms  HouseAge\n",
      "18552  0.174004 -0.220962  0.271503\n",
      "4724   0.643969  0.009966  1.867353\n",
      "15423 -0.552557 -0.169301 -1.244554\n",
      "1763  -0.103146 -0.533266  1.308806\n",
      "14100 -1.223476 -0.989676  0.191711\n"
     ]
    }
   ],
   "source": [
    "# Optionally, display the first few rows to see the scaled data\n",
    "print(X_train_scaled_df.head())\n",
    "print(X_test_scaled_df.head())"
   ]
  },
  {
   "cell_type": "markdown",
   "id": "8fa71b19-0a4a-4957-9425-cde701bf7aae",
   "metadata": {},
   "source": [
    "- **Note:** Remember that the scaling should be done after any train-test split to ensure that the test data remains unseen and is not influenced by the training process."
   ]
  },
  {
   "cell_type": "markdown",
   "id": "e8a84655-e880-47ae-a139-9ab2edc08108",
   "metadata": {
    "jp-MarkdownHeadingCollapsed": true,
    "tags": []
   },
   "source": [
    "## 4. Building the Multiple Linear Regression Model"
   ]
  },
  {
   "cell_type": "markdown",
   "id": "f247e3de-7038-475b-a531-6189c4e2b873",
   "metadata": {},
   "source": [
    "To build a Multiple Linear Regression model using `scikit-learn`, We first create an instance of the `LinearRegression` class and fit it to our scaled training data along with the corresponding target values (`y_train`)."
   ]
  },
  {
   "cell_type": "code",
   "execution_count": 17,
   "id": "07b7e3d8-6111-43c3-8242-55eca1de18e7",
   "metadata": {},
   "outputs": [
    {
     "data": {
      "text/plain": [
       "LinearRegression()"
      ]
     },
     "execution_count": 17,
     "metadata": {},
     "output_type": "execute_result"
    }
   ],
   "source": [
    "# Initialize the Multiple Linear Regression model\n",
    "linear_regression_model = LinearRegression()\n",
    "\n",
    "# Train the model on the training data\n",
    "linear_regression_model.fit(X_train_scaled_df, y_train)"
   ]
  },
  {
   "cell_type": "markdown",
   "id": "6e563f7b-67e8-4fca-9f92-93ce102022fa",
   "metadata": {},
   "source": [
    "- When transitioning from a simple linear regression (one independent variable) to a multiple linear regression (more than one independent variable), you can expect the model to potentially capture more complexity and achieve better performance due to the consideration of multiple factors influencing the target variable. However, with more variables, the interpretation becomes more challenging, and there's an increased risk of overfitting if not managed properly."
   ]
  },
  {
   "cell_type": "markdown",
   "id": "40b28143-1bb3-414d-a587-13b33bf8b51e",
   "metadata": {
    "tags": []
   },
   "source": [
    "## 5. Interpret the Model Parameters"
   ]
  },
  {
   "cell_type": "markdown",
   "id": "b6cc2dac-d952-43da-9499-01f363379fe9",
   "metadata": {},
   "source": [
    "We will examine the coefficients of our trained model to see how each feature influences the target variable."
   ]
  },
  {
   "cell_type": "code",
   "execution_count": 18,
   "id": "f69a15f8-0478-44ca-9974-f4cff2f29bf2",
   "metadata": {},
   "outputs": [
    {
     "data": {
      "text/html": [
       "<div>\n",
       "<style scoped>\n",
       "    .dataframe tbody tr th:only-of-type {\n",
       "        vertical-align: middle;\n",
       "    }\n",
       "\n",
       "    .dataframe tbody tr th {\n",
       "        vertical-align: top;\n",
       "    }\n",
       "\n",
       "    .dataframe thead th {\n",
       "        text-align: right;\n",
       "    }\n",
       "</style>\n",
       "<table border=\"1\" class=\"dataframe\">\n",
       "  <thead>\n",
       "    <tr style=\"text-align: right;\">\n",
       "      <th></th>\n",
       "      <th>Coefficient</th>\n",
       "    </tr>\n",
       "  </thead>\n",
       "  <tbody>\n",
       "    <tr>\n",
       "      <th>MedInc</th>\n",
       "      <td>0.844375</td>\n",
       "    </tr>\n",
       "    <tr>\n",
       "      <th>AveRooms</th>\n",
       "      <td>-0.085825</td>\n",
       "    </tr>\n",
       "    <tr>\n",
       "      <th>HouseAge</th>\n",
       "      <td>0.207161</td>\n",
       "    </tr>\n",
       "  </tbody>\n",
       "</table>\n",
       "</div>"
      ],
      "text/plain": [
       "          Coefficient\n",
       "MedInc       0.844375\n",
       "AveRooms    -0.085825\n",
       "HouseAge     0.207161"
      ]
     },
     "execution_count": 18,
     "metadata": {},
     "output_type": "execute_result"
    }
   ],
   "source": [
    "# Getting the coefficients\n",
    "coefficients = linear_regression_model.coef_\n",
    "\n",
    "# Creating a dataframe for easier interpretation\n",
    "coef_df = pd.DataFrame(coefficients, index=X_train_scaled_df.columns, columns=['Coefficient'])\n",
    "coef_df"
   ]
  },
  {
   "cell_type": "markdown",
   "id": "4126590b-3d3e-477b-8c1b-f7a9d68da06b",
   "metadata": {},
   "source": [
    "The output `coef_df` shows us the coefficients for each feature. A positive coefficient means that as the feature value increases, the target variable is expected to increase, assuming all other features remain constant. Conversely, a negative coefficient indicates an inverse relationship."
   ]
  },
  {
   "cell_type": "markdown",
   "id": "55b17f58-4adb-4d22-ab9b-929e82534bcd",
   "metadata": {},
   "source": [
    "In the context of scaled features, the coefficients represent the change in the dependent variable for a one standard deviation increase in the predictor variable. If a coefficient is large (in absolute value), it suggests that the feature it represents is more important in predicting the target variable."
   ]
  },
  {
   "cell_type": "markdown",
   "id": "610cfb39-32b1-4372-9bad-b3969c162207",
   "metadata": {
    "jp-MarkdownHeadingCollapsed": true,
    "tags": []
   },
   "source": [
    "## 6. Model Evaluation"
   ]
  },
  {
   "cell_type": "code",
   "execution_count": 19,
   "id": "74e5a186-1d2d-40c1-a568-5c35354de2ee",
   "metadata": {},
   "outputs": [
    {
     "name": "stdout",
     "output_type": "stream",
     "text": [
      "Metric                    Training Set    Test Set       \n",
      "---------------------------------------------------------\n",
      "R-squared                 0.51            0.52           \n",
      "Mean Absolute Error       0.60            0.61           \n",
      "Root Mean Squared Error   0.81            0.81           \n",
      "\n",
      "Model Performance Analysis:\n",
      "Good: The model's performance is consistent across training and test sets, indicating generalization.\n"
     ]
    }
   ],
   "source": [
    "# Predicting on training data\n",
    "y_train_pred = linear_regression_model.predict(X_train_scaled_df)\n",
    "\n",
    "# Predicting on test data\n",
    "y_test_pred = linear_regression_model.predict(X_test_scaled_df)\n",
    "\n",
    "# Calculate R-squared for both sets\n",
    "r2_train = r2_score(y_train, y_train_pred)\n",
    "r2_test = r2_score(y_test, y_test_pred)\n",
    "\n",
    "# Calculate Mean Absolute Error for both sets\n",
    "mae_train = mean_absolute_error(y_train, y_train_pred)\n",
    "mae_test = mean_absolute_error(y_test, y_test_pred)\n",
    "\n",
    "# Calculate Mean Squared Error for both sets\n",
    "mse_train = mean_squared_error(y_train, y_train_pred)\n",
    "mse_test = mean_squared_error(y_test, y_test_pred)\n",
    "\n",
    "# Calculate Root Mean Squared Error for both sets\n",
    "rmse_train = np.sqrt(mse_train)\n",
    "rmse_test = np.sqrt(mse_test)\n",
    "\n",
    "# Creative Printing of Results:\n",
    "metrics = [\n",
    "    ('R-squared', r2_train, r2_test),\n",
    "    ('Mean Absolute Error', mae_train, mae_test),\n",
    "    ('Root Mean Squared Error', rmse_train, rmse_test)\n",
    "]\n",
    "\n",
    "# Create a header\n",
    "header = f\"{'Metric':<25} {'Training Set':<15} {'Test Set':<15}\"\n",
    "print(header)\n",
    "print('-' * len(header))\n",
    "\n",
    "# Print each metric for both training and test sets\n",
    "for name, train_metric, test_metric in metrics:\n",
    "    print(f\"{name:<25} {train_metric:<15.2f} {test_metric:<15.2f}\")\n",
    "\n",
    "print(\"\\nModel Performance Analysis:\")\n",
    "if r2_train > r2_test and rmse_train < rmse_test:\n",
    "    print(\"Caution: The model may be overfitting to the training data.\")\n",
    "else:\n",
    "    print(\"Good: The model's performance is consistent across training and test sets, indicating generalization.\")"
   ]
  },
  {
   "cell_type": "markdown",
   "id": "e87886cb-e5a5-4ad0-b386-5dbdab8872f9",
   "metadata": {},
   "source": [
    "- **Result Interpretation:**\n",
    "    - **R-squared**: The R-squared values for both the training and test sets are quite close, 0.51 and 0.52, respectively. This suggests that the model explains a similar proportion of the variance in the target variable for both sets, which is a good indicator of the model's consistency.\n",
    "\n",
    "    - **Mean Absolute Error (MAE)**: The MAE is also very similar between the training and test sets, 0.60 and 0.61, respectively. This shows that the model has, on average, a similar error margin for both training and test predictions.\n",
    "\n",
    "    - **Root Mean Squared Error (RMSE)**: The RMSE is equal for both sets, 0.81. This indicates the model’s predictions are off by the same margin of the standard deviation of the errors over both datasets.\n",
    "\n",
    "\n",
    "In summary, the metrics indicate that the model performs similarly on both the training and test sets, suggesting good generalization. There's no significant discrepancy that would indicate overfitting, which is when a model performs much better on the training data than on the test data. \n",
    "\n",
    "However, depending on the context, an R-squared of around 0.5 might be considered low, suggesting that the model does not explain as much of the variability in the dependent variable as one might like. It's worth considering whether model complexity needs to be increased or if additional relevant features are necessary to capture more of the variance."
   ]
  },
  {
   "cell_type": "markdown",
   "id": "eab3b8f9-f1f1-4306-8f32-dbf5682bbf72",
   "metadata": {
    "jp-MarkdownHeadingCollapsed": true,
    "tags": []
   },
   "source": [
    "## 7. Model Diagnostics"
   ]
  },
  {
   "cell_type": "code",
   "execution_count": 20,
   "id": "e67472f7-4ede-4b7d-bb1d-42b733cd66d6",
   "metadata": {},
   "outputs": [
    {
     "data": {
      "image/png": "[encoded data removed]",
      "text/plain": [
       "<Figure size 720x432 with 1 Axes>"
      ]
     },
     "metadata": {
      "needs_background": "light"
     },
     "output_type": "display_data"
    }
   ],
   "source": [
    "# Calculate residuals\n",
    "residuals = y_test - y_test_pred\n",
    "\n",
    "# Plotting the residuals\n",
    "plt.figure(figsize=(10, 6))\n",
    "sns.residplot(x=y_test_pred, y=residuals, lowess=True, color=\"g\", line_kws={'color': 'red', 'lw': 1, 'alpha': 0.8})\n",
    "plt.title('Residuals vs Fitted')\n",
    "plt.xlabel('Predicted Values')\n",
    "plt.ylabel('Residuals')\n",
    "plt.axhline(y=0, color='blue', linestyle='--')\n",
    "plt.show()"
   ]
  },
  {
   "cell_type": "markdown",
   "id": "91967670-f1b6-4794-b375-72f19769073f",
   "metadata": {},
   "source": [
    "The residual plot shows the relationship between the predicted values of your model and the residuals, which are the differences between the observed and predicted values. Here's the interpretation based on the plot:\n",
    "\n",
    "1. **Spread of Residuals Around Zero Line:**\n",
    "   - The residuals do not appear to be randomly scattered around the zero line. Instead, there is a clear pattern where the residuals seem to increase with the magnitude of the predicted value, suggesting that the model's errors are also increasing with the predicted value.\n",
    "   - Such a pattern could imply that the model is more accurate for smaller predicted values and less accurate for larger ones, which is a sign of heteroscedasticity. This is where the variability of the error is not constant across levels of an independent variable.\n",
    "\n",
    "2. **Patterns or Systematic Errors:**\n",
    "   - The 'fan' or 'cone' shape visible in the plot—where the spread of residuals increases with the size of the predicted value—indicates that the assumption of homoscedasticity (constant variance of errors) is violated.\n",
    "   - The systematic pattern suggests that the model may be underfitting the data for higher values, meaning the model does not fully capture the relationship between the independent and dependent variables, particularly at the higher range of predictions.\n",
    "\n",
    "**To Address These Observations:**\n",
    "- We may consider transforming the dependent variable or the independent variables to stabilize the variance of the residuals.\n",
    "- Look into adding higher-order terms or interaction effects if the relationship between predictors and the target is not purely linear.\n",
    "- Examine if there are any outliers or leverage points that disproportionately influence the model's predictions and consider whether it's appropriate to include them.\n",
    "\n",
    "In summary, the residual plot suggests that the model's current form might not be the best fit for the data, particularly at higher predicted values, and further model refinement or the use of a different model may be warranted."
   ]
  },
  {
   "cell_type": "markdown",
   "id": "5d964e43-e9d2-47cb-8825-7d02464cd320",
   "metadata": {
    "jp-MarkdownHeadingCollapsed": true,
    "tags": []
   },
   "source": [
    "## 8. Interpretation of Results"
   ]
  },
  {
   "cell_type": "code",
   "execution_count": 21,
   "id": "4be2dd9a-54ed-4575-9525-7a6b13d40b03",
   "metadata": {},
   "outputs": [
    {
     "name": "stdout",
     "output_type": "stream",
     "text": [
      "Coefficients in the regression model:\n",
      "\n",
      "          Coefficient  Absolute_Value\n",
      "MedInc       0.844375        0.844375\n",
      "HouseAge     0.207161        0.207161\n",
      "AveRooms    -0.085825        0.085825\n",
      "\n",
      "Interpretation of the coefficients:\n",
      "\n",
      "MedInc: A one-standard-deviation increase in 'MedInc' is associated with a 0.8444 increase in the target variable.\n",
      "HouseAge: A one-standard-deviation increase in 'HouseAge' is associated with a 0.2072 increase in the target variable.\n",
      "AveRooms: A one-standard-deviation increase in 'AveRooms' is associated with a -0.0858 decrease in the target variable.\n"
     ]
    }
   ],
   "source": [
    "# Retrieve the coefficients and pair them with feature names\n",
    "coefficients = pd.DataFrame(linear_regression_model.coef_, X_train.columns, columns=['Coefficient'])\n",
    "\n",
    "# Sort the coefficients by their absolute values in descending order for better comparison\n",
    "coefficients['Absolute_Value'] = coefficients['Coefficient'].abs()\n",
    "sorted_coefficients = coefficients.sort_values('Absolute_Value', ascending=False)\n",
    "\n",
    "# Display the coefficients\n",
    "print(\"Coefficients in the regression model:\\n\")\n",
    "print(sorted_coefficients)\n",
    "\n",
    "# Interpret the coefficients\n",
    "print(\"\\nInterpretation of the coefficients:\\n\")\n",
    "for feature, row in sorted_coefficients.iterrows():\n",
    "    print(f\"{feature}: A one-standard-deviation increase in '{feature}' is associated with a {row['Coefficient']:.4f} {'increase' if row['Coefficient'] > 0 else 'decrease'} in the target variable.\")"
   ]
  },
  {
   "cell_type": "markdown",
   "id": "bd6ffe7e-fc80-4619-a85e-edfb816c6a1e",
   "metadata": {},
   "source": [
    "- **Coefficient sign:**\n",
    "The sign of a coefficient indicates the direction of the relationship between a predictor variable and the target variable. A positive coefficient means that there is a positive association – as the predictor variable increases by one standard deviation, the target variable is also expected to increase, holding all other variables constant. Conversely, a negative coefficient indicates a negative association – as the predictor variable increases by one standard deviation, the target variable is expected to decrease, again holding other variables constant.\n",
    "\n",
    "In this case:\n",
    "- A positive `MedInc` coefficient means that as median income (`MedInc`) increases, the median house value is expected to increase.\n",
    "- A positive `HouseAge` coefficient suggests that as the age of the house (`HouseAge`) increases, the median house value is also expected to increase.\n",
    "- A negative `AveRooms` coefficient indicates that as the average number of rooms per dwelling (`AveRooms`) increases, the median house value is expected to decrease."
   ]
  },
  {
   "cell_type": "markdown",
   "id": "968bfa50-b111-48e3-acd9-27c205e6af19",
   "metadata": {},
   "source": [
    "\n",
    "\n",
    "- **Coefficient magnitude:**\n",
    "\n",
    "The magnitude of a coefficient signifies the strength of the impact of the corresponding predictor on the target variable. Larger magnitudes mean a stronger effect, and smaller magnitudes mean a weaker effect.\n",
    "\n",
    "From the provided coefficients:\n",
    "- `MedInc` has the largest coefficient with an absolute value of 0.8444, indicating that median income is the most influential factor on median house value among the three features considered. An increase in median income is associated with a substantial increase in median house value.\n",
    "- `HouseAge` has a smaller positive coefficient of 0.2072, suggesting that while there is a positive association with median house value, the impact of house age is less significant than median income.\n",
    "- `AveRooms` has the smallest absolute value of the coefficient (-0.0858), indicating that it has the least influence on median house value compared to `MedInc` and `HouseAge`. Interestingly, this influence is in the negative direction, meaning that an increase in the average number of rooms per dwelling is associated with a slight decrease in median house value, which could suggest that beyond a certain point, larger dwellings (potentially indicating lower density or possibly higher maintenance costs) are not valued as much in the market represented by the dataset."
   ]
  },
  {
   "cell_type": "markdown",
   "id": "1a338ba5-23c0-4322-81ce-bebcdd5a15d1",
   "metadata": {},
   "source": [
    "In conclusion, median income (`MedInc`) is the most significant predictor of median house value, followed by the age of the house (`HouseAge`), with the number of average rooms (`AveRooms`) having a lesser and negative impact. These interpretations must be considered in the context of the housing market and may be subject to additional factors not captured by the model."
   ]
  },
  {
   "cell_type": "markdown",
   "id": "5a4eaa35-801b-4de3-989d-7351a234674f",
   "metadata": {
    "tags": []
   },
   "source": [
    "## 8. Re-train Model Without Outliers "
   ]
  },
  {
   "cell_type": "markdown",
   "id": "63bff25a-b47f-426b-90d7-349e718f6b99",
   "metadata": {
    "jp-MarkdownHeadingCollapsed": true,
    "tags": []
   },
   "source": [
    "### 1. Outlier Removal, Linear Regression Optimization, and Model Assessment"
   ]
  },
  {
   "cell_type": "markdown",
   "id": "3b19f016-52e4-4b11-925e-75de6a9c293a",
   "metadata": {},
   "source": [
    "- The `remove_outliers` function defines the interquartile range (IQR) and filters out any data points that are outside 1.5 times the IQR.\n",
    "- We then scale the features using `StandardScaler` since model coefficients assume that all variables are on the same scale.\n",
    "- After fitting the model, we predict and compute the metrics for both the training and test datasets.\n",
    "- Finally, we print out the metrics for the new model and the difference from the original model's metrics."
   ]
  },
  {
   "cell_type": "code",
   "execution_count": 23,
   "id": "29366a83-273b-4381-95ed-e9cd67dc2056",
   "metadata": {},
   "outputs": [
    {
     "name": "stdout",
     "output_type": "stream",
     "text": [
      "Cleaned Model Metrics:\n",
      "  Training R-squared: 0.50\n",
      "  Test R-squared: 0.48\n",
      "  Training MAE: 0.51\n",
      "  Test MAE: 0.51\n",
      "  Training RMSE: 0.67\n",
      "  Test RMSE: 0.68\n",
      "\n",
      "Comparison with the Original Model:\n",
      "  Difference in Training R-squared: -0.01\n",
      "  Difference in Test R-squared: -0.03\n",
      "  Difference in Training MAE: -0.08\n",
      "  Difference in Test MAE: -0.10\n",
      "  Difference in Training RMSE: -0.14\n",
      "  Difference in Test RMSE: -0.13\n"
     ]
    }
   ],
   "source": [
    "# ------------------------------\n",
    "# DATA PREPROCESSING\n",
    "# ------------------------------\n",
    "\n",
    "# Remove outliers from the dataset using the predefined function 'remove_outliers' \n",
    "# This function if imported from the src folder \n",
    "df_clean = remove_outliers(df, df.columns)\n",
    "\n",
    "# ------------------------------\n",
    "# FEATURE SELECTION\n",
    "# ------------------------------\n",
    "\n",
    "# Define features for regression model\n",
    "selected_features = ['MedInc', 'AveRooms', 'HouseAge'] # Replace with your actual features\n",
    "X = df_clean[selected_features]\n",
    "\n",
    "# Define the target variable\n",
    "y = df_clean['MedianHouseValue']\n",
    "\n",
    "# ------------------------------\n",
    "# FEATURE SCALING\n",
    "# ------------------------------\n",
    "\n",
    "# Standardize the features\n",
    "scaler = StandardScaler()\n",
    "X_clean_scaled = scaler.fit_transform(X)\n",
    "\n",
    "# ------------------------------\n",
    "# SPLITTING THE DATA\n",
    "# ------------------------------\n",
    "\n",
    "# Split the data into training and test sets\n",
    "X_train_clean, X_test_clean, y_train_clean, y_test_clean = train_test_split(X_clean_scaled, y, test_size=0.2, random_state=23)\n",
    "\n",
    "# ------------------------------\n",
    "# MODEL TRAINING\n",
    "# ------------------------------\n",
    "\n",
    "# Train a Linear Regression model\n",
    "model_clean = LinearRegression()\n",
    "model_clean.fit(X_train_clean, y_train_clean)\n",
    "\n",
    "# ------------------------------\n",
    "# MODEL PREDICTION\n",
    "# ------------------------------\n",
    "\n",
    "# Make predictions using the trained model\n",
    "y_train_pred_clean = model_clean.predict(X_train_clean)\n",
    "y_test_pred_clean = model_clean.predict(X_test_clean)\n",
    "\n",
    "# ------------------------------\n",
    "# MODEL EVALUATION\n",
    "# ------------------------------\n",
    "\n",
    "# Calculate evaluation metrics for the cleaned data model\n",
    "r2_train_clean = r2_score(y_train_clean, y_train_pred_clean)\n",
    "r2_test_clean = r2_score(y_test_clean, y_test_pred_clean)\n",
    "mae_train_clean = mean_absolute_error(y_train_clean, y_train_pred_clean)\n",
    "mae_test_clean = mean_absolute_error(y_test_clean, y_test_pred_clean)\n",
    "rmse_train_clean = np.sqrt(mean_squared_error(y_train_clean, y_train_pred_clean))\n",
    "rmse_test_clean = np.sqrt(mean_squared_error(y_test_clean, y_test_pred_clean))\n",
    "\n",
    "# Print out the metrics for the cleaned model in a visually appealing format\n",
    "print(f'Cleaned Model Metrics:\\n'\n",
    "      f'  Training R-squared: {r2_train_clean:.2f}\\n'\n",
    "      f'  Test R-squared: {r2_test_clean:.2f}\\n'\n",
    "      f'  Training MAE: {mae_train_clean:.2f}\\n'\n",
    "      f'  Test MAE: {mae_test_clean:.2f}\\n'\n",
    "      f'  Training RMSE: {rmse_train_clean:.2f}\\n'\n",
    "      f'  Test RMSE: {rmse_test_clean:.2f}')\n",
    "\n",
    "# ------------------------------\n",
    "# COMPARE WITH ORIGINAL MODEL\n",
    "# ------------------------------\n",
    "\n",
    "# Assume original model metrics are stored in similarly named variables without '_clean'\n",
    "print(\"\\nComparison with the Original Model:\")\n",
    "print(f'  Difference in Training R-squared: {r2_train_clean - r2_train:.2f}')\n",
    "print(f'  Difference in Test R-squared: {r2_test_clean - r2_test:.2f}')\n",
    "print(f'  Difference in Training MAE: {mae_train_clean - mae_train:.2f}')\n",
    "print(f'  Difference in Test MAE: {mae_test_clean - mae_test:.2f}')\n",
    "print(f'  Difference in Training RMSE: {rmse_train_clean - rmse_train:.2f}')\n",
    "print(f'  Difference in Test RMSE: {rmse_test_clean - rmse_test:.2f}')"
   ]
  },
  {
   "cell_type": "markdown",
   "id": "a78eda89-3e1e-4abf-8181-a080ff80f9bd",
   "metadata": {},
   "source": [
    "The provided output from Task 12 offers insights into the performance of a Linear Regression model trained on data with outliers removed (Cleaned Model) compared to the original model. Here's an interpretation of these results:\n",
    "\n",
    "#### Cleaned Model Performance\n",
    "- **R-squared:** The R-squared values for both training (0.50) and testing (0.48) indicate that around 50% of the variance in the target variable is explained by the model. This is a moderate level of explanatory power.\n",
    "- **MAE (Mean Absolute Error):** The MAE values for both training and testing are 0.51, suggesting that the model's predictions are, on average, 0.51 units away from the actual values. This is a measure of the average magnitude of the errors in the predictions.\n",
    "- **RMSE (Root Mean Squared Error):** The RMSE values are 0.67 for training and 0.68 for testing, indicating the model's predictions are within approximately 0.67 to 0.68 units of the actual values on average. RMSE gives a relatively higher weight to larger errors, thus it's a critical measure of prediction accuracy.\n",
    "\n",
    "#### Comparison with Original Model\n",
    "- **R-squared:** The decrease in R-squared for both training (-0.01) and testing (-0.03) suggests a slight reduction in the model's ability to explain the variance in the dataset after removing outliers.\n",
    "- **MAE and RMSE:** Both MAE and RMSE show improvements in the cleaned model. The decreases in MAE (-0.08 for training and -0.10 for testing) and RMSE (-0.14 for training and -0.13 for testing) indicate that the cleaned model is making more accurate predictions, with reduced average errors.\n",
    "\n",
    "#### Interpretation\n",
    "- The slight reduction in R-squared values after cleaning the data suggests that the outliers may have been contributing some information to the model. Their removal has led to a slight decrease in the model's explanatory power.\n",
    "- The improvements in both MAE and RMSE metrics indicate that the cleaned model is more accurate in its predictions. The errors are lower on average, implying that the cleaned model's predictions are more reliable.\n",
    "- The trade-off between a minor loss in explanatory power (R-squared) and gains in predictive accuracy (MAE, RMSE) is evident. This suggests that while the model became slightly less effective at explaining the variance in the data, it became more accurate and reliable in its predictions.\n",
    "- The decision to use the cleaned model over the original one should be based on the specific requirements of the analysis. If the goal is more accurate and reliable predictions, the cleaned model is preferable. However, if explaining the maximum variance is crucial, the original model might be more suitable.\n",
    "\n",
    "In conclusion, the cleaned model is more reliable in terms of prediction errors but slightly worse at explaining the variability of the data. Depending on the specific context and goal of the model (whether predictive accuracy or explanatory power is more important), one might choose to use the original model or the cleaned model. If the goal is to have a model that is less sensitive to extreme values and provides more consistent predictions, the cleaned model may be preferable. However, if the goal is to explain the most variance possible, then the original model with outliers included might be better."
   ]
  },
  {
   "cell_type": "markdown",
   "id": "650f3f85-1842-432b-8481-d7b845ca1f47",
   "metadata": {
    "tags": []
   },
   "source": [
    "### 2. Model Diagnostics and Interpretation of Results "
   ]
  },
  {
   "cell_type": "markdown",
   "id": "3c25bdb0-9f2e-4c77-81bd-6f97eea419f8",
   "metadata": {
    "jp-MarkdownHeadingCollapsed": true,
    "tags": []
   },
   "source": [
    "#### 1. Residual plots"
   ]
  },
  {
   "cell_type": "code",
   "execution_count": 24,
   "id": "231d0139-f63d-4c28-bbec-6b88bff96e88",
   "metadata": {},
   "outputs": [
    {
     "data": {
      "image/png": "[encoded data removed]",
      "text/plain": [
       "<Figure size 1080x360 with 2 Axes>"
      ]
     },
     "metadata": {
      "needs_background": "light"
     },
     "output_type": "display_data"
    }
   ],
   "source": [
    "# Residuals\n",
    "residuals_original = y_test - y_test_pred\n",
    "residuals_clean = y_test_clean - y_test_pred_clean  # Assuming y_test_cleaned is the actual values without outliers\n",
    "\n",
    "# Set up the matplotlib figure\n",
    "fig, axs = plt.subplots(ncols=2, figsize=(15, 5), sharey=True)\n",
    "\n",
    "# Original model residual plot\n",
    "sns.residplot(x=y_test_pred, y=residuals_original, lowess=True, line_kws={'color': 'red', 'lw': 1}, ax=axs[0], scatter_kws={'alpha': 0.5, 'color': 'darkred'})\n",
    "axs[0].set_title('Original Model Residuals')\n",
    "axs[0].set_xlabel('Predicted Values')\n",
    "axs[0].set_ylabel('Residuals')\n",
    "\n",
    "# Cleaned model residual plot\n",
    "sns.residplot(x=y_test_pred_clean, y=residuals_clean, lowess=True, line_kws={'color': 'blue', 'lw': 1}, ax=axs[1], scatter_kws={'alpha': 0.5, 'color': 'darkblue'})\n",
    "axs[1].set_title('Cleaned Model Residuals')\n",
    "axs[1].set_xlabel('Predicted Values')\n",
    "\n",
    "# Adjust layout and plot\n",
    "plt.tight_layout()\n",
    "plt.show()\n"
   ]
  },
  {
   "cell_type": "markdown",
   "id": "06b6539d-6f1d-40cb-ac5c-88d14eec8e79",
   "metadata": {
    "jp-MarkdownHeadingCollapsed": true,
    "tags": []
   },
   "source": [
    "From the residual plots:\n",
    "\n",
    "##### Original Model Residuals (Red)\n",
    "- There's a clear pattern where residuals decrease as the predicted values increase, indicating that the model tends to underestimate the actual values for larger predictions.\n",
    "- The spread of residuals also appears to increase with the predicted value, suggesting heteroscedasticity, meaning that the variance of the residuals is not constant across all levels of the independent variables.\n",
    "- The presence of a pattern and increasing spread in the residuals implies that the original model may not be the best fit for the data, as it doesn't satisfy the assumption of homoscedasticity (constant variance) for linear regression.\n",
    "\n",
    "##### Cleaned Model Residuals (Blue)\n",
    "- The cleaned model's residuals are more uniformly scattered around the horizontal axis, indicating that the difference between the actual and predicted values is more consistent across all levels of prediction.\n",
    "- There's still some pattern visible, with a slight fan shape suggesting potential heteroscedasticity, but it is less pronounced than in the original model's residuals.\n",
    "- The overall spread of the residuals is more contained, implying that the cleaned model has less variance in its errors and may provide more reliable predictions.\n",
    "\n",
    "##### General Observations\n",
    "- The cleaned model seems to offer an improvement in terms of the residuals' distribution and variance, which can be indicative of better model performance.\n",
    "- However, neither model perfectly satisfies the ideal residual distribution, which would be a random cloud of points centered around the horizontal axis with no discernible pattern.\n",
    "- It's also important to consider that while residuals give us a visual understanding of model performance, quantitative measures such as R-squared, MAE, and RMSE are also crucial for a comprehensive evaluation.\n",
    "\n",
    "In summary, the cleaned model exhibits a better residual pattern than the original model, suggesting that the data cleaning process has likely improved model performance. Nonetheless, there is room for further investigation or model refinement to address any remaining heteroscedasticity or patterns in the residuals."
   ]
  },
  {
   "cell_type": "markdown",
   "id": "b0d1b507-a818-4cd2-962e-6d727f968e25",
   "metadata": {
    "jp-MarkdownHeadingCollapsed": true,
    "tags": []
   },
   "source": [
    "#### 2. Interpret Model Parameters"
   ]
  },
  {
   "cell_type": "code",
   "execution_count": 25,
   "id": "9d1953e7-9167-471c-ba69-9ef5d3b72334",
   "metadata": {},
   "outputs": [
    {
     "name": "stdout",
     "output_type": "stream",
     "text": [
      "    Feature  Original Coefficients  Cleaned Coefficients\n",
      "0    MedInc               0.844375              0.847139\n",
      "2  HouseAge               0.207161              0.169804\n",
      "1  AveRooms              -0.085825             -0.310709\n"
     ]
    },
    {
     "data": {
      "image/png": "[encoded data removed]",
      "text/plain": [
       "<Figure size 720x360 with 1 Axes>"
      ]
     },
     "metadata": {
      "needs_background": "light"
     },
     "output_type": "display_data"
    }
   ],
   "source": [
    "# Assuming you have the coefficients from both models\n",
    "original_coeffs = linear_regression_model.coef_\n",
    "cleaned_coeffs = model_clean.coef_\n",
    "\n",
    "# You may also want to capture the intercepts\n",
    "original_intercept = linear_regression_model.intercept_\n",
    "cleaned_intercept = model_clean.intercept_\n",
    "\n",
    "\n",
    "# Create a DataFrame for coefficients\n",
    "coeff_df = pd.DataFrame({\n",
    "    'Feature': X.columns,  # Replace X.columns with the actual feature names if X is not a DataFrame\n",
    "    'Original Coefficients': original_coeffs,\n",
    "    'Cleaned Coefficients': cleaned_coeffs\n",
    "})\n",
    "\n",
    "# Sort by the absolute values of the original coefficients for better visualization\n",
    "coeff_df['Original Absolute'] = coeff_df['Original Coefficients'].abs()\n",
    "coeff_df.sort_values('Original Absolute', ascending=False, inplace=True)\n",
    "coeff_df.drop('Original Absolute', axis=1, inplace=True)\n",
    "\n",
    "# Display the DataFrame\n",
    "print(coeff_df)\n",
    "\n",
    "# Plot the coefficients for a visual comparison\n",
    "coeff_df.plot(x='Feature', y=['Original Coefficients', 'Cleaned Coefficients'], kind='bar', figsize=(10, 5))\n",
    "plt.title('Comparison of Model Coefficients')\n",
    "plt.ylabel('Coefficient Value')\n",
    "plt.xticks(rotation=45)\n",
    "plt.grid(axis='y', linestyle='--')\n",
    "plt.show()\n"
   ]
  },
  {
   "cell_type": "markdown",
   "id": "9c289147-6b23-413a-8acf-be042dd906e2",
   "metadata": {},
   "source": [
    "For the coefficients:\n",
    "\n",
    "1. **MedInc (Median Income):** The coefficient for MedInc increased slightly in the cleaned model. This feature continues to have a positive impact on the target variable, suggesting that higher median income is associated with higher median house values.\n",
    "\n",
    "2. **HouseAge:** The coefficient for HouseAge decreased slightly in the cleaned model but remained positive, indicating that older houses are still associated with higher values, perhaps due to their location or other characteristics not captured by the model.\n",
    "\n",
    "3. **AveRooms (Average Number of Rooms):** Interestingly, the coefficient for AveRooms in the cleaned model has become more negative. This could suggest that, with outliers removed, the model has become more sensitive to the number of rooms, perhaps indicating that beyond a certain number of rooms, additional rooms do not increase house value to the same extent.\n",
    "\n",
    "The changes in the coefficients after cleaning the data imply that the outliers had some effect on the original model, potentially skewing its interpretation of the importance of features. The cleaned model provides a potentially more accurate reflection of the impact of each feature on the target variable."
   ]
  },
  {
   "cell_type": "markdown",
   "id": "632cf113-0ae4-412f-acdc-b51b352478be",
   "metadata": {},
   "source": [
    "In summary, while the cleaned model may provide a marginally better understanding of the relationship between the features and the target variable, neither model seems to perfectly capture the underlying patterns in the data. Further model refinement or selection of a more suitable modeling approach could be needed."
   ]
  }
 ],
 "metadata": {
  "kernelspec": {
   "display_name": "Python 3 (ipykernel)",
   "language": "python",
   "name": "python3"
  },
  "language_info": {
   "codemirror_mode": {
    "name": "ipython",
    "version": 3
   },
   "file_extension": ".py",
   "mimetype": "text/x-python",
   "name": "python",
   "nbconvert_exporter": "python",
   "pygments_lexer": "ipython3",
   "version": "3.9.12"
  }
 },
 "nbformat": 4,
 "nbformat_minor": 5
}
