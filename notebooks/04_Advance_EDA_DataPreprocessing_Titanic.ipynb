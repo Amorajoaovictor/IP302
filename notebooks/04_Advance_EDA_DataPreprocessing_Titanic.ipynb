{
 "cells": [
  {
   "cell_type": "markdown",
   "id": "3eea7f14-2b61-492b-b8ba-6a202ba08bf9",
   "metadata": {},
   "source": [
    "# Activity: Advanced EDA & Data Preprocessing"
   ]
  },
  {
   "cell_type": "markdown",
   "id": "a2651803-3ef4-4a51-a548-9b79f09f15b2",
   "metadata": {},
   "source": [
    "**Overview**:\n",
    "In this activity, we'll embark on an in-depth exploration of the renowned Titanic dataset, diving into advanced exploratory data analysis (EDA) and essential data preprocessing techniques. The Titanic dataset offers a rich canvas, capturing the details of passengers aboard the ill-fated ship.\n",
    "\n",
    "**Objective**:\n",
    "Our primary goal is to understand the underlying patterns and relationships in the data, ensuring it's clean, consistent, and prepared for further analysis or modeling. Through this hands-on experience, participants will gain practical insights into the intricacies of data analysis and the significance of preprocessing in the data science pipeline.\n",
    "\n",
    "**What We will Do**:\n",
    "1. **Advanced EDA**:\n",
    "   - Classify variables by type (Continuous, Discrete, Categorical, ID).\n",
    "   - Explore categorical variables with visual tools.\n",
    "   - Investigate outliers and comprehend their impact.\n",
    "   - Dive into data distributions, focusing on skewness.\n",
    "\n",
    "2. **Data Preprocessing**:\n",
    "   - Address missing values, ensuring data completeness.\n",
    "   - Optionally, participants can engage in multivariate analysis and apply transformations like log transformation to certain features."
   ]
  },
  {
   "cell_type": "markdown",
   "id": "78405a4a-7304-42e9-bf98-645c898d546b",
   "metadata": {},
   "source": [
    "## 1. Import necessary libraries"
   ]
  },
  {
   "cell_type": "code",
   "execution_count": 1,
   "id": "2c2705ad-0b0a-4e50-9a40-bd7519e99fcf",
   "metadata": {},
   "outputs": [],
   "source": [
    "import pandas as pd\n",
    "import numpy as np\n",
    "import matplotlib.pyplot as plt\n",
    "import seaborn as sns"
   ]
  },
  {
   "cell_type": "markdown",
   "id": "d4fef55d-fb24-4f62-837b-8e2b11014797",
   "metadata": {},
   "source": [
    "## 2. Loading the Dataset"
   ]
  },
  {
   "cell_type": "code",
   "execution_count": 2,
   "id": "ffe5ab89-3702-483a-b8c6-31a8e9bfb777",
   "metadata": {},
   "outputs": [],
   "source": [
    "# Load the Titanic dataset from the data folder\n",
    "titanic_data = pd.read_csv('../data/titanic.csv')"
   ]
  },
  {
   "cell_type": "markdown",
   "id": "623bf799-c52f-45ae-af90-42725904c624",
   "metadata": {},
   "source": [
    "## 3. Exploratory Data Analysis (EDA)"
   ]
  },
  {
   "cell_type": "markdown",
   "id": "8ca763fd-4d0d-454e-86f1-1a52da5ce8fa",
   "metadata": {},
   "source": [
    "### 1. Quick Refresher on the Titanic Dataset"
   ]
  },
  {
   "cell_type": "markdown",
   "id": "9324aef1-05aa-4873-9b9a-f7580fef604a",
   "metadata": {},
   "source": [
    "- Revisit the Initial Entries"
   ]
  },
  {
   "cell_type": "code",
   "execution_count": 3,
   "id": "60531f3b-b5c3-4e4b-b751-2b8d1c30b720",
   "metadata": {},
   "outputs": [
    {
     "data": {
      "text/html": [
       "<div>\n",
       "<style scoped>\n",
       "    .dataframe tbody tr th:only-of-type {\n",
       "        vertical-align: middle;\n",
       "    }\n",
       "\n",
       "    .dataframe tbody tr th {\n",
       "        vertical-align: top;\n",
       "    }\n",
       "\n",
       "    .dataframe thead th {\n",
       "        text-align: right;\n",
       "    }\n",
       "</style>\n",
       "<table border=\"1\" class=\"dataframe\">\n",
       "  <thead>\n",
       "    <tr style=\"text-align: right;\">\n",
       "      <th></th>\n",
       "      <th>PassengerId</th>\n",
       "      <th>Survived</th>\n",
       "      <th>Pclass</th>\n",
       "      <th>Name</th>\n",
       "      <th>Sex</th>\n",
       "      <th>Age</th>\n",
       "      <th>SibSp</th>\n",
       "      <th>Parch</th>\n",
       "      <th>Ticket</th>\n",
       "      <th>Fare</th>\n",
       "      <th>Cabin</th>\n",
       "      <th>Embarked</th>\n",
       "    </tr>\n",
       "  </thead>\n",
       "  <tbody>\n",
       "    <tr>\n",
       "      <th>0</th>\n",
       "      <td>1</td>\n",
       "      <td>0</td>\n",
       "      <td>3</td>\n",
       "      <td>Braund, Mr. Owen Harris</td>\n",
       "      <td>male</td>\n",
       "      <td>22.0</td>\n",
       "      <td>1</td>\n",
       "      <td>0</td>\n",
       "      <td>A/5 21171</td>\n",
       "      <td>7.2500</td>\n",
       "      <td>NaN</td>\n",
       "      <td>S</td>\n",
       "    </tr>\n",
       "    <tr>\n",
       "      <th>1</th>\n",
       "      <td>2</td>\n",
       "      <td>1</td>\n",
       "      <td>1</td>\n",
       "      <td>Cumings, Mrs. John Bradley (Florence Briggs Th...</td>\n",
       "      <td>female</td>\n",
       "      <td>38.0</td>\n",
       "      <td>1</td>\n",
       "      <td>0</td>\n",
       "      <td>PC 17599</td>\n",
       "      <td>71.2833</td>\n",
       "      <td>C85</td>\n",
       "      <td>C</td>\n",
       "    </tr>\n",
       "    <tr>\n",
       "      <th>2</th>\n",
       "      <td>3</td>\n",
       "      <td>1</td>\n",
       "      <td>3</td>\n",
       "      <td>Heikkinen, Miss. Laina</td>\n",
       "      <td>female</td>\n",
       "      <td>26.0</td>\n",
       "      <td>0</td>\n",
       "      <td>0</td>\n",
       "      <td>STON/O2. 3101282</td>\n",
       "      <td>7.9250</td>\n",
       "      <td>NaN</td>\n",
       "      <td>S</td>\n",
       "    </tr>\n",
       "  </tbody>\n",
       "</table>\n",
       "</div>"
      ],
      "text/plain": [
       "   PassengerId  Survived  Pclass  \\\n",
       "0            1         0       3   \n",
       "1            2         1       1   \n",
       "2            3         1       3   \n",
       "\n",
       "                                                Name     Sex   Age  SibSp  \\\n",
       "0                            Braund, Mr. Owen Harris    male  22.0      1   \n",
       "1  Cumings, Mrs. John Bradley (Florence Briggs Th...  female  38.0      1   \n",
       "2                             Heikkinen, Miss. Laina  female  26.0      0   \n",
       "\n",
       "   Parch            Ticket     Fare Cabin Embarked  \n",
       "0      0         A/5 21171   7.2500   NaN        S  \n",
       "1      0          PC 17599  71.2833   C85        C  \n",
       "2      0  STON/O2. 3101282   7.9250   NaN        S  "
      ]
     },
     "execution_count": 3,
     "metadata": {},
     "output_type": "execute_result"
    }
   ],
   "source": [
    "titanic_data.head(3)"
   ]
  },
  {
   "cell_type": "markdown",
   "id": "fd9a4cce-56eb-417c-a750-18369f3cf94b",
   "metadata": {},
   "source": [
    "- Dataset Dimensions Check"
   ]
  },
  {
   "cell_type": "code",
   "execution_count": 4,
   "id": "f5cf1a28-0d99-470e-a435-acfb24b79d7b",
   "metadata": {},
   "outputs": [
    {
     "data": {
      "text/plain": [
       "(891, 12)"
      ]
     },
     "execution_count": 4,
     "metadata": {},
     "output_type": "execute_result"
    }
   ],
   "source": [
    "titanic_data.shape"
   ]
  },
  {
   "cell_type": "markdown",
   "id": "1ac2d3cf-3b21-4233-83f4-5368122c0d00",
   "metadata": {
    "tags": []
   },
   "source": [
    "### 2. Check the Dataset Information and Summary"
   ]
  },
  {
   "cell_type": "code",
   "execution_count": 5,
   "id": "a49381ee-b001-4354-874f-2fbb9a8b8402",
   "metadata": {},
   "outputs": [
    {
     "name": "stdout",
     "output_type": "stream",
     "text": [
      "\n",
      "Data info:\n",
      "<class 'pandas.core.frame.DataFrame'>\n",
      "RangeIndex: 891 entries, 0 to 890\n",
      "Data columns (total 12 columns):\n",
      " #   Column       Non-Null Count  Dtype  \n",
      "---  ------       --------------  -----  \n",
      " 0   PassengerId  891 non-null    int64  \n",
      " 1   Survived     891 non-null    int64  \n",
      " 2   Pclass       891 non-null    int64  \n",
      " 3   Name         891 non-null    object \n",
      " 4   Sex          891 non-null    object \n",
      " 5   Age          714 non-null    float64\n",
      " 6   SibSp        891 non-null    int64  \n",
      " 7   Parch        891 non-null    int64  \n",
      " 8   Ticket       891 non-null    object \n",
      " 9   Fare         891 non-null    float64\n",
      " 10  Cabin        204 non-null    object \n",
      " 11  Embarked     889 non-null    object \n",
      "dtypes: float64(2), int64(5), object(5)\n",
      "memory usage: 83.7+ KB\n",
      "None\n"
     ]
    }
   ],
   "source": [
    "# Display data types and non-null values\n",
    "print(\"\\nData info:\")\n",
    "print(titanic_data.info())"
   ]
  },
  {
   "cell_type": "code",
   "execution_count": 6,
   "id": "adc22e74-e210-43ed-b7db-a2999ce99931",
   "metadata": {},
   "outputs": [
    {
     "name": "stdout",
     "output_type": "stream",
     "text": [
      "\n",
      "Summary statistics for numerical variables:\n"
     ]
    },
    {
     "data": {
      "text/html": [
       "<div>\n",
       "<style scoped>\n",
       "    .dataframe tbody tr th:only-of-type {\n",
       "        vertical-align: middle;\n",
       "    }\n",
       "\n",
       "    .dataframe tbody tr th {\n",
       "        vertical-align: top;\n",
       "    }\n",
       "\n",
       "    .dataframe thead th {\n",
       "        text-align: right;\n",
       "    }\n",
       "</style>\n",
       "<table border=\"1\" class=\"dataframe\">\n",
       "  <thead>\n",
       "    <tr style=\"text-align: right;\">\n",
       "      <th></th>\n",
       "      <th>PassengerId</th>\n",
       "      <th>Survived</th>\n",
       "      <th>Pclass</th>\n",
       "      <th>Age</th>\n",
       "      <th>SibSp</th>\n",
       "      <th>Parch</th>\n",
       "      <th>Fare</th>\n",
       "    </tr>\n",
       "  </thead>\n",
       "  <tbody>\n",
       "    <tr>\n",
       "      <th>count</th>\n",
       "      <td>891.000000</td>\n",
       "      <td>891.000000</td>\n",
       "      <td>891.000000</td>\n",
       "      <td>714.000000</td>\n",
       "      <td>891.000000</td>\n",
       "      <td>891.000000</td>\n",
       "      <td>891.000000</td>\n",
       "    </tr>\n",
       "    <tr>\n",
       "      <th>mean</th>\n",
       "      <td>446.000000</td>\n",
       "      <td>0.383838</td>\n",
       "      <td>2.308642</td>\n",
       "      <td>29.699118</td>\n",
       "      <td>0.523008</td>\n",
       "      <td>0.381594</td>\n",
       "      <td>32.204208</td>\n",
       "    </tr>\n",
       "    <tr>\n",
       "      <th>std</th>\n",
       "      <td>257.353842</td>\n",
       "      <td>0.486592</td>\n",
       "      <td>0.836071</td>\n",
       "      <td>14.526497</td>\n",
       "      <td>1.102743</td>\n",
       "      <td>0.806057</td>\n",
       "      <td>49.693429</td>\n",
       "    </tr>\n",
       "    <tr>\n",
       "      <th>min</th>\n",
       "      <td>1.000000</td>\n",
       "      <td>0.000000</td>\n",
       "      <td>1.000000</td>\n",
       "      <td>0.420000</td>\n",
       "      <td>0.000000</td>\n",
       "      <td>0.000000</td>\n",
       "      <td>0.000000</td>\n",
       "    </tr>\n",
       "    <tr>\n",
       "      <th>25%</th>\n",
       "      <td>223.500000</td>\n",
       "      <td>0.000000</td>\n",
       "      <td>2.000000</td>\n",
       "      <td>20.125000</td>\n",
       "      <td>0.000000</td>\n",
       "      <td>0.000000</td>\n",
       "      <td>7.910400</td>\n",
       "    </tr>\n",
       "    <tr>\n",
       "      <th>50%</th>\n",
       "      <td>446.000000</td>\n",
       "      <td>0.000000</td>\n",
       "      <td>3.000000</td>\n",
       "      <td>28.000000</td>\n",
       "      <td>0.000000</td>\n",
       "      <td>0.000000</td>\n",
       "      <td>14.454200</td>\n",
       "    </tr>\n",
       "    <tr>\n",
       "      <th>75%</th>\n",
       "      <td>668.500000</td>\n",
       "      <td>1.000000</td>\n",
       "      <td>3.000000</td>\n",
       "      <td>38.000000</td>\n",
       "      <td>1.000000</td>\n",
       "      <td>0.000000</td>\n",
       "      <td>31.000000</td>\n",
       "    </tr>\n",
       "    <tr>\n",
       "      <th>max</th>\n",
       "      <td>891.000000</td>\n",
       "      <td>1.000000</td>\n",
       "      <td>3.000000</td>\n",
       "      <td>80.000000</td>\n",
       "      <td>8.000000</td>\n",
       "      <td>6.000000</td>\n",
       "      <td>512.329200</td>\n",
       "    </tr>\n",
       "  </tbody>\n",
       "</table>\n",
       "</div>"
      ],
      "text/plain": [
       "       PassengerId    Survived      Pclass         Age       SibSp  \\\n",
       "count   891.000000  891.000000  891.000000  714.000000  891.000000   \n",
       "mean    446.000000    0.383838    2.308642   29.699118    0.523008   \n",
       "std     257.353842    0.486592    0.836071   14.526497    1.102743   \n",
       "min       1.000000    0.000000    1.000000    0.420000    0.000000   \n",
       "25%     223.500000    0.000000    2.000000   20.125000    0.000000   \n",
       "50%     446.000000    0.000000    3.000000   28.000000    0.000000   \n",
       "75%     668.500000    1.000000    3.000000   38.000000    1.000000   \n",
       "max     891.000000    1.000000    3.000000   80.000000    8.000000   \n",
       "\n",
       "            Parch        Fare  \n",
       "count  891.000000  891.000000  \n",
       "mean     0.381594   32.204208  \n",
       "std      0.806057   49.693429  \n",
       "min      0.000000    0.000000  \n",
       "25%      0.000000    7.910400  \n",
       "50%      0.000000   14.454200  \n",
       "75%      0.000000   31.000000  \n",
       "max      6.000000  512.329200  "
      ]
     },
     "execution_count": 6,
     "metadata": {},
     "output_type": "execute_result"
    }
   ],
   "source": [
    "# Calculate summary statistics for numerical variables\n",
    "print(\"\\nSummary statistics for numerical variables:\")\n",
    "titanic_data.describe()"
   ]
  },
  {
   "cell_type": "code",
   "execution_count": 7,
   "id": "27562fe2-5b51-4899-8e31-9552a8186b9b",
   "metadata": {},
   "outputs": [
    {
     "name": "stdout",
     "output_type": "stream",
     "text": [
      "\n",
      "Summary statistics categorical variables:\n"
     ]
    },
    {
     "data": {
      "text/html": [
       "<div>\n",
       "<style scoped>\n",
       "    .dataframe tbody tr th:only-of-type {\n",
       "        vertical-align: middle;\n",
       "    }\n",
       "\n",
       "    .dataframe tbody tr th {\n",
       "        vertical-align: top;\n",
       "    }\n",
       "\n",
       "    .dataframe thead th {\n",
       "        text-align: right;\n",
       "    }\n",
       "</style>\n",
       "<table border=\"1\" class=\"dataframe\">\n",
       "  <thead>\n",
       "    <tr style=\"text-align: right;\">\n",
       "      <th></th>\n",
       "      <th>Name</th>\n",
       "      <th>Sex</th>\n",
       "      <th>Ticket</th>\n",
       "      <th>Cabin</th>\n",
       "      <th>Embarked</th>\n",
       "    </tr>\n",
       "  </thead>\n",
       "  <tbody>\n",
       "    <tr>\n",
       "      <th>count</th>\n",
       "      <td>891</td>\n",
       "      <td>891</td>\n",
       "      <td>891</td>\n",
       "      <td>204</td>\n",
       "      <td>889</td>\n",
       "    </tr>\n",
       "    <tr>\n",
       "      <th>unique</th>\n",
       "      <td>891</td>\n",
       "      <td>2</td>\n",
       "      <td>681</td>\n",
       "      <td>147</td>\n",
       "      <td>3</td>\n",
       "    </tr>\n",
       "    <tr>\n",
       "      <th>top</th>\n",
       "      <td>Braund, Mr. Owen Harris</td>\n",
       "      <td>male</td>\n",
       "      <td>347082</td>\n",
       "      <td>B96 B98</td>\n",
       "      <td>S</td>\n",
       "    </tr>\n",
       "    <tr>\n",
       "      <th>freq</th>\n",
       "      <td>1</td>\n",
       "      <td>577</td>\n",
       "      <td>7</td>\n",
       "      <td>4</td>\n",
       "      <td>644</td>\n",
       "    </tr>\n",
       "  </tbody>\n",
       "</table>\n",
       "</div>"
      ],
      "text/plain": [
       "                           Name   Sex  Ticket    Cabin Embarked\n",
       "count                       891   891     891      204      889\n",
       "unique                      891     2     681      147        3\n",
       "top     Braund, Mr. Owen Harris  male  347082  B96 B98        S\n",
       "freq                          1   577       7        4      644"
      ]
     },
     "execution_count": 7,
     "metadata": {},
     "output_type": "execute_result"
    }
   ],
   "source": [
    "# Calculate summary statistics for categorical variables\n",
    "print(\"\\nSummary statistics categorical variables:\")\n",
    "titanic_data.describe(include=['object'])"
   ]
  },
  {
   "cell_type": "markdown",
   "id": "63c55fd4-6873-44a5-8579-6efbc1954c41",
   "metadata": {
    "tags": []
   },
   "source": [
    "### 4. Identifying Variables by Type "
   ]
  },
  {
   "cell_type": "markdown",
   "id": "d780e42e-dc45-43c9-8414-4c1538cad01a",
   "metadata": {},
   "source": [
    "- **Objective:** To categorize the variables in the Titanic dataset into Continuous, Discrete, Categorical, and ID types."
   ]
  },
  {
   "cell_type": "markdown",
   "id": "f1efaf22-1f2d-4368-b58c-e0395ede69e7",
   "metadata": {},
   "source": [
    "#### 1. Continuous Variables"
   ]
  },
  {
   "cell_type": "code",
   "execution_count": 8,
   "id": "15318f5e-6b74-448b-887d-7650bae31ee6",
   "metadata": {},
   "outputs": [
    {
     "data": {
      "text/html": [
       "<div>\n",
       "<style scoped>\n",
       "    .dataframe tbody tr th:only-of-type {\n",
       "        vertical-align: middle;\n",
       "    }\n",
       "\n",
       "    .dataframe tbody tr th {\n",
       "        vertical-align: top;\n",
       "    }\n",
       "\n",
       "    .dataframe thead th {\n",
       "        text-align: right;\n",
       "    }\n",
       "</style>\n",
       "<table border=\"1\" class=\"dataframe\">\n",
       "  <thead>\n",
       "    <tr style=\"text-align: right;\">\n",
       "      <th></th>\n",
       "      <th>PassengerId</th>\n",
       "      <th>Survived</th>\n",
       "      <th>Pclass</th>\n",
       "      <th>Age</th>\n",
       "      <th>SibSp</th>\n",
       "      <th>Parch</th>\n",
       "      <th>Fare</th>\n",
       "    </tr>\n",
       "  </thead>\n",
       "  <tbody>\n",
       "    <tr>\n",
       "      <th>count</th>\n",
       "      <td>891.000000</td>\n",
       "      <td>891.000000</td>\n",
       "      <td>891.000000</td>\n",
       "      <td>714.000000</td>\n",
       "      <td>891.000000</td>\n",
       "      <td>891.000000</td>\n",
       "      <td>891.000000</td>\n",
       "    </tr>\n",
       "    <tr>\n",
       "      <th>mean</th>\n",
       "      <td>446.000000</td>\n",
       "      <td>0.383838</td>\n",
       "      <td>2.308642</td>\n",
       "      <td>29.699118</td>\n",
       "      <td>0.523008</td>\n",
       "      <td>0.381594</td>\n",
       "      <td>32.204208</td>\n",
       "    </tr>\n",
       "    <tr>\n",
       "      <th>std</th>\n",
       "      <td>257.353842</td>\n",
       "      <td>0.486592</td>\n",
       "      <td>0.836071</td>\n",
       "      <td>14.526497</td>\n",
       "      <td>1.102743</td>\n",
       "      <td>0.806057</td>\n",
       "      <td>49.693429</td>\n",
       "    </tr>\n",
       "    <tr>\n",
       "      <th>min</th>\n",
       "      <td>1.000000</td>\n",
       "      <td>0.000000</td>\n",
       "      <td>1.000000</td>\n",
       "      <td>0.420000</td>\n",
       "      <td>0.000000</td>\n",
       "      <td>0.000000</td>\n",
       "      <td>0.000000</td>\n",
       "    </tr>\n",
       "    <tr>\n",
       "      <th>25%</th>\n",
       "      <td>223.500000</td>\n",
       "      <td>0.000000</td>\n",
       "      <td>2.000000</td>\n",
       "      <td>20.125000</td>\n",
       "      <td>0.000000</td>\n",
       "      <td>0.000000</td>\n",
       "      <td>7.910400</td>\n",
       "    </tr>\n",
       "    <tr>\n",
       "      <th>50%</th>\n",
       "      <td>446.000000</td>\n",
       "      <td>0.000000</td>\n",
       "      <td>3.000000</td>\n",
       "      <td>28.000000</td>\n",
       "      <td>0.000000</td>\n",
       "      <td>0.000000</td>\n",
       "      <td>14.454200</td>\n",
       "    </tr>\n",
       "    <tr>\n",
       "      <th>75%</th>\n",
       "      <td>668.500000</td>\n",
       "      <td>1.000000</td>\n",
       "      <td>3.000000</td>\n",
       "      <td>38.000000</td>\n",
       "      <td>1.000000</td>\n",
       "      <td>0.000000</td>\n",
       "      <td>31.000000</td>\n",
       "    </tr>\n",
       "    <tr>\n",
       "      <th>max</th>\n",
       "      <td>891.000000</td>\n",
       "      <td>1.000000</td>\n",
       "      <td>3.000000</td>\n",
       "      <td>80.000000</td>\n",
       "      <td>8.000000</td>\n",
       "      <td>6.000000</td>\n",
       "      <td>512.329200</td>\n",
       "    </tr>\n",
       "  </tbody>\n",
       "</table>\n",
       "</div>"
      ],
      "text/plain": [
       "       PassengerId    Survived      Pclass         Age       SibSp  \\\n",
       "count   891.000000  891.000000  891.000000  714.000000  891.000000   \n",
       "mean    446.000000    0.383838    2.308642   29.699118    0.523008   \n",
       "std     257.353842    0.486592    0.836071   14.526497    1.102743   \n",
       "min       1.000000    0.000000    1.000000    0.420000    0.000000   \n",
       "25%     223.500000    0.000000    2.000000   20.125000    0.000000   \n",
       "50%     446.000000    0.000000    3.000000   28.000000    0.000000   \n",
       "75%     668.500000    1.000000    3.000000   38.000000    1.000000   \n",
       "max     891.000000    1.000000    3.000000   80.000000    8.000000   \n",
       "\n",
       "            Parch        Fare  \n",
       "count  891.000000  891.000000  \n",
       "mean     0.381594   32.204208  \n",
       "std      0.806057   49.693429  \n",
       "min      0.000000    0.000000  \n",
       "25%      0.000000    7.910400  \n",
       "50%      0.000000   14.454200  \n",
       "75%      0.000000   31.000000  \n",
       "max      6.000000  512.329200  "
      ]
     },
     "execution_count": 8,
     "metadata": {},
     "output_type": "execute_result"
    }
   ],
   "source": [
    "titanic_data.describe()"
   ]
  },
  {
   "cell_type": "markdown",
   "id": "7eaf044c-a250-4b2d-bf4e-c4648217bc96",
   "metadata": {},
   "source": [
    "- By examining the summary statistics for numerical columns, we can identify variables with a wide range of values and no clear steps as continuous.\n",
    "\n",
    "- `Age` and `Fare` are continuous variables in the Titanic dataset. Both these variables can have numerous unique values across a range."
   ]
  },
  {
   "cell_type": "markdown",
   "id": "73e78fd9-10b8-4035-88d7-f26f9568815a",
   "metadata": {},
   "source": [
    "#### 2. Discrete Variables"
   ]
  },
  {
   "cell_type": "markdown",
   "id": "489b336e-ce4e-49bc-a912-41b48d0ac71b",
   "metadata": {},
   "source": [
    "- For the 'SibSp' column as an example"
   ]
  },
  {
   "cell_type": "code",
   "execution_count": 9,
   "id": "f37dfbac-98a8-4be0-a1c9-7df08feef0cb",
   "metadata": {},
   "outputs": [
    {
     "data": {
      "text/plain": [
       "SibSp\n",
       "0    608\n",
       "1    209\n",
       "2     28\n",
       "4     18\n",
       "3     16\n",
       "8      7\n",
       "5      5\n",
       "Name: count, dtype: int64"
      ]
     },
     "execution_count": 9,
     "metadata": {},
     "output_type": "execute_result"
    }
   ],
   "source": [
    "titanic_data['SibSp'].value_counts()"
   ]
  },
  {
   "cell_type": "markdown",
   "id": "b79f8387-5f38-496d-aeb8-0f40a3454e9d",
   "metadata": {},
   "source": [
    "- Discrete variables have a countable number of unique values."
   ]
  },
  {
   "cell_type": "markdown",
   "id": "7148be12-a125-406b-84c5-7d3489473718",
   "metadata": {},
   "source": [
    "Discrete variables in the dataset are : \n",
    "- `Survived`\n",
    "- `Pclass`\n",
    "- `SibSp` (number of siblings/spouses aboard)\n",
    "- `Parch` (number of parents/children aboard) "
   ]
  },
  {
   "cell_type": "markdown",
   "id": "f9ecb2e1-dc1e-4924-94cc-554463c40e7b",
   "metadata": {},
   "source": [
    "- Disply the distinct values for each discrete variable:"
   ]
  },
  {
   "cell_type": "code",
   "execution_count": 10,
   "id": "95840971-4171-4ab3-83d7-4bc96993e70b",
   "metadata": {},
   "outputs": [
    {
     "name": "stdout",
     "output_type": "stream",
     "text": [
      "Variable Name: Survived\n",
      "Survived\n",
      "0    549\n",
      "1    342\n",
      "Name: count, dtype: int64\n",
      "------------------------------\n",
      "Variable Name: Pclass\n",
      "Pclass\n",
      "3    491\n",
      "1    216\n",
      "2    184\n",
      "Name: count, dtype: int64\n",
      "------------------------------\n",
      "Variable Name: SibSp\n",
      "SibSp\n",
      "0    608\n",
      "1    209\n",
      "2     28\n",
      "4     18\n",
      "3     16\n",
      "8      7\n",
      "5      5\n",
      "Name: count, dtype: int64\n",
      "------------------------------\n",
      "Variable Name: Parch\n",
      "Parch\n",
      "0    678\n",
      "1    118\n",
      "2     80\n",
      "5      5\n",
      "3      5\n",
      "4      4\n",
      "6      1\n",
      "Name: count, dtype: int64\n",
      "------------------------------\n"
     ]
    }
   ],
   "source": [
    "Discrete_columns = ['Survived', 'Pclass', 'SibSp', 'Parch']\n",
    "\n",
    "for col in Discrete_columns:\n",
    "    print(f'Variable Name: {col}')\n",
    "    print(titanic_data[col].value_counts())\n",
    "    print('------------------------------')"
   ]
  },
  {
   "cell_type": "markdown",
   "id": "9a858e75-a96b-42a3-adeb-284d0f34010c",
   "metadata": {},
   "source": [
    "#### 3. Categorical Variables"
   ]
  },
  {
   "cell_type": "code",
   "execution_count": 11,
   "id": "cfb32660-2473-4654-b017-4d7a3284bd03",
   "metadata": {},
   "outputs": [
    {
     "data": {
      "text/plain": [
       "Index(['Name', 'Sex', 'Ticket', 'Cabin', 'Embarked'], dtype='object')"
      ]
     },
     "execution_count": 11,
     "metadata": {},
     "output_type": "execute_result"
    }
   ],
   "source": [
    "titanic_data.select_dtypes(include=['object']).columns"
   ]
  },
  {
   "cell_type": "markdown",
   "id": "c1ac9c5f-8c0b-4ea5-8ba7-24c361c92d6e",
   "metadata": {},
   "source": [
    "- Categorical variables are often non-numeric and have a limited set of values. However, sometimes numeric columns with a limited number of unique values can also be categorical.\n",
    "\n",
    "- `Sex`, `Embarked`, `Cabin`, and `Ticket` are categorical variables. \n",
    "\n",
    "- **Note:** \n",
    "    - While `Pclass` (representing ticket class) is a numeric attribute, its restricted set of unique values (1, 2, 3) qualifies it as a categorical variable.\n",
    "    - Similarly, the `Survived` column, despite being numeric with values 0 and 1, represents categorical classes of survival status, making it a categorical variable as well."
   ]
  },
  {
   "cell_type": "markdown",
   "id": "fedbdaed-dc8d-450d-ada1-9b79a0a6da53",
   "metadata": {},
   "source": [
    "#### 4. ID Variables"
   ]
  },
  {
   "cell_type": "markdown",
   "id": "820cccf5-2769-48be-9c8a-687c28e2fc9d",
   "metadata": {},
   "source": [
    "- Assuming 'PassengerId' as the ID column"
   ]
  },
  {
   "cell_type": "code",
   "execution_count": 12,
   "id": "ea066428-a495-4570-9dea-93a76f111047",
   "metadata": {},
   "outputs": [
    {
     "data": {
      "text/plain": [
       "True"
      ]
     },
     "execution_count": 12,
     "metadata": {},
     "output_type": "execute_result"
    }
   ],
   "source": [
    "titanic_data['PassengerId'].nunique() == len(titanic_data)"
   ]
  },
  {
   "cell_type": "markdown",
   "id": "c2d23e9b-7a81-4c3d-ac18-d5ae9b6f7076",
   "metadata": {},
   "source": [
    "- ID variables have a unique value for each observation or row.\n",
    "\n",
    "- `PassengerId` is an ID variable in the Titanic dataset. It uniquely identifies each passenger.\n",
    "\n"
   ]
  },
  {
   "cell_type": "markdown",
   "id": "89901d16-4dd5-43f3-8b80-d01af2883b32",
   "metadata": {
    "tags": []
   },
   "source": [
    "### 5. Exploring Categorical Variables"
   ]
  },
  {
   "cell_type": "markdown",
   "id": "eb6bfae9-16c0-412e-8c33-6fb8425e20d2",
   "metadata": {},
   "source": [
    "- **Objective:** To understand the distribution and relationships of categorical variables in the Titanic dataset."
   ]
  },
  {
   "cell_type": "markdown",
   "id": "0e2be8d7-e7d8-4e00-af21-68ed3542b1b3",
   "metadata": {},
   "source": [
    "#### 1. Visualizing with Count Plots"
   ]
  },
  {
   "cell_type": "markdown",
   "id": "cdfa38de-35cc-4704-a087-b1a3d16850cf",
   "metadata": {},
   "source": [
    "- Visualizing 'Sex' as an example:"
   ]
  },
  {
   "cell_type": "code",
   "execution_count": 13,
   "id": "ecc14539-8431-4580-a34b-b66b45ed8066",
   "metadata": {},
   "outputs": [
    {
     "data": {
      "image/png": "[encoded data removed]",
      "text/plain": [
       "<Figure size 432x288 with 1 Axes>"
      ]
     },
     "metadata": {
      "needs_background": "light"
     },
     "output_type": "display_data"
    }
   ],
   "source": [
    "# Visualizing 'Sex' as an example:\n",
    "sns.countplot(x='Sex', data=titanic_data)\n",
    "plt.title('Distribution of Passengers by Sex')\n",
    "plt.show()"
   ]
  },
  {
   "cell_type": "markdown",
   "id": "da16aeb7-a738-43fe-9588-b95f5cb9a306",
   "metadata": {},
   "source": [
    "From the plot, we can observe the distribution of male and female passengers. This helps to understand the demographic makeup of the passengers."
   ]
  },
  {
   "cell_type": "markdown",
   "id": "d6e11e78-7372-4f72-863f-9c28c2ed7c61",
   "metadata": {},
   "source": [
    "- males dominate the 'Sex' column. "
   ]
  },
  {
   "cell_type": "markdown",
   "id": "7f931aa2-584f-4269-8148-ad7b6820ac8e",
   "metadata": {},
   "source": [
    "Explore the other categorical columns to see which categories are most prevalent."
   ]
  },
  {
   "cell_type": "markdown",
   "id": "b2cbd36e-0e31-46dc-9115-48d1b53afcca",
   "metadata": {},
   "source": [
    "#### 2. Explore Relationships Using Crosstabs"
   ]
  },
  {
   "cell_type": "markdown",
   "id": "d60ae9f2-cca0-46ae-8bcb-decfe37ceb43",
   "metadata": {},
   "source": [
    "- Crosstab between 'Sex' and 'Survived':"
   ]
  },
  {
   "cell_type": "code",
   "execution_count": 14,
   "id": "d07a614a-470a-4ae2-8b7a-4c863bb2f2dd",
   "metadata": {},
   "outputs": [
    {
     "name": "stdout",
     "output_type": "stream",
     "text": [
      "Survived    0    1\n",
      "Sex               \n",
      "female     81  233\n",
      "male      468  109\n"
     ]
    }
   ],
   "source": [
    "# Crosstab between 'Sex' and 'Survived':\n",
    "ct = pd.crosstab(titanic_data['Sex'], titanic_data['Survived'])\n",
    "print(ct)"
   ]
  },
  {
   "cell_type": "markdown",
   "id": "b751f120-b80d-4375-b4ff-b6b3332c1b5e",
   "metadata": {},
   "source": [
    "The crosstab display the count of passengers who survived and didn't survive, segmented by their gender. This gives a perspective on how survival rates differ between male and female passengers."
   ]
  },
  {
   "cell_type": "markdown",
   "id": "fb881144-a772-4001-ba7d-ee0acaa8cc26",
   "metadata": {},
   "source": [
    "#### For advanced exploration"
   ]
  },
  {
   "cell_type": "markdown",
   "id": "32640283-7e37-4b22-b559-3ae56bbb0197",
   "metadata": {},
   "source": [
    "- Visualizing the crosstab with a heatmap:"
   ]
  },
  {
   "cell_type": "code",
   "execution_count": 15,
   "id": "df606029-3605-412e-b2c4-2b20b3742acf",
   "metadata": {},
   "outputs": [
    {
     "data": {
      "image/png": "[encoded data removed]",
      "text/plain": [
       "<Figure size 432x288 with 2 Axes>"
      ]
     },
     "metadata": {
      "needs_background": "light"
     },
     "output_type": "display_data"
    }
   ],
   "source": [
    "# Visualizing the crosstab with a heatmap:\n",
    "sns.heatmap(ct, annot=True, cmap='Blues', fmt='d')\n",
    "plt.title('Survival Rates by Sex')\n",
    "plt.show()\n"
   ]
  },
  {
   "cell_type": "markdown",
   "id": "6e0d3faa-b52a-4f4f-ace3-0212778669eb",
   "metadata": {},
   "source": [
    "Females had a higher survival rate than males. This pattern might be indicative of the \"women and children first\" protocol during the ship's evacuation. The heatmap and crosstab offer insights into this trend."
   ]
  },
  {
   "cell_type": "markdown",
   "id": "f4127ff6-433d-46df-875a-bc051ee041aa",
   "metadata": {
    "tags": []
   },
   "source": [
    "### 6. Investigating Outliers"
   ]
  },
  {
   "cell_type": "markdown",
   "id": "72dbba9f-1d60-415b-a787-02b088ee2fde",
   "metadata": {},
   "source": [
    "- **Objective:** To detect and understand outliers in the Titanic dataset and their potential impact on machine learning models."
   ]
  },
  {
   "cell_type": "markdown",
   "id": "94f7a423-4055-4d4e-bd9b-33e93d961dbb",
   "metadata": {},
   "source": [
    "#### 1. The Significance of Outliers"
   ]
  },
  {
   "cell_type": "markdown",
   "id": "1db9ee02-7f05-40f6-84e0-1940b6af9fa8",
   "metadata": {},
   "source": [
    "Outliers can skew the data distribution and potentially influence model predictions, especially for models like linear regression that are sensitive to extreme values. An outlier can shift the mean and standard deviation of a dataset, affecting the assumptions and outcomes of statistical tests."
   ]
  },
  {
   "cell_type": "markdown",
   "id": "968eff47-16d3-4708-9394-80788da7a592",
   "metadata": {},
   "source": [
    "#### 2. Detecting Outliers using IQR"
   ]
  },
  {
   "cell_type": "markdown",
   "id": "bd942cc5-cc8a-4672-81ab-a8c879f4a362",
   "metadata": {},
   "source": [
    "The Interquartile Range (IQR) is a statistical measure that represents the spread or dispersion of data within a dataset.\n",
    "\n",
    "It is calculated as the difference between the third quartile (Q3) and the first quartile (Q1).\n",
    "\n",
    "The IQR helps identify outliers by defining a range within which the majority of data points lie. Any data point outside this range is considered a potential outlier.\n",
    "\n",
    "The IQR is used in outlier detection because it is robust to extreme values and provides a more robust measure of spread compared to the range or standard deviation.\n",
    "\n",
    "Values outside the range [Q1 - 1.5 * IQR, Q3 + 1.5 * IQR] are considered potential outliers because this range is based on the IQR and represents the \"middle 50%\" of the data, where the majority of data points are located.\n",
    "\n",
    "The 1.5 multiplier is a common threshold used to identify values that significantly deviate from the median of the data. Values below Q1 - 1.5 * IQR or above Q3 + 1.5 * IQR are considered potential outliers because they fall outside the typical range of variation within the dataset. These potential outliers may indicate data points that are unusual or require further investigation."
   ]
  },
  {
   "cell_type": "markdown",
   "id": "298faf5b-17cc-48d7-8a76-9cf3cf3bb4a8",
   "metadata": {},
   "source": [
    "- For `Age` column"
   ]
  },
  {
   "cell_type": "code",
   "execution_count": 16,
   "id": "5489794c-4767-4b95-a7c6-9d3d0875dbd7",
   "metadata": {},
   "outputs": [
    {
     "data": {
      "image/png": "[encoded data removed]",
      "text/plain": [
       "<Figure size 864x360 with 1 Axes>"
      ]
     },
     "metadata": {
      "needs_background": "light"
     },
     "output_type": "display_data"
    }
   ],
   "source": [
    "# Create box plots for Age\n",
    "plt.figure(figsize=(12, 5))\n",
    "sns.boxplot(data=titanic_data, x='Age')\n",
    "plt.title('Box Plot of Age')\n",
    "plt.show()"
   ]
  },
  {
   "cell_type": "code",
   "execution_count": 17,
   "id": "3d02d0e4-6c64-4e20-aaac-a36643c73528",
   "metadata": {},
   "outputs": [
    {
     "name": "stdout",
     "output_type": "stream",
     "text": [
      "Outliers for Age: Values below -6.6875 and above 64.8125\n"
     ]
    }
   ],
   "source": [
    "# Calculate the IQR for Age column\n",
    "Q1_age = titanic_data['Age'].quantile(0.25)\n",
    "Q3_age = titanic_data['Age'].quantile(0.75)\n",
    "IQR_age = Q3_age - Q1_age\n",
    "\n",
    "# Define the lower and upper bounds for potential outliers\n",
    "lower_bound_age = Q1_age - 1.5 * IQR_age\n",
    "upper_bound_age = Q3_age + 1.5 * IQR_age\n",
    "\n",
    "\n",
    "print(f\"Outliers for Age: Values below {lower_bound_age} and above {upper_bound_age}\")"
   ]
  },
  {
   "cell_type": "code",
   "execution_count": 18,
   "id": "bf41312b-990b-43f9-824a-e0bc1836631a",
   "metadata": {},
   "outputs": [
    {
     "data": {
      "text/html": [
       "<div>\n",
       "<style scoped>\n",
       "    .dataframe tbody tr th:only-of-type {\n",
       "        vertical-align: middle;\n",
       "    }\n",
       "\n",
       "    .dataframe tbody tr th {\n",
       "        vertical-align: top;\n",
       "    }\n",
       "\n",
       "    .dataframe thead th {\n",
       "        text-align: right;\n",
       "    }\n",
       "</style>\n",
       "<table border=\"1\" class=\"dataframe\">\n",
       "  <thead>\n",
       "    <tr style=\"text-align: right;\">\n",
       "      <th></th>\n",
       "      <th>PassengerId</th>\n",
       "      <th>Survived</th>\n",
       "      <th>Pclass</th>\n",
       "      <th>Name</th>\n",
       "      <th>Sex</th>\n",
       "      <th>Age</th>\n",
       "      <th>SibSp</th>\n",
       "      <th>Parch</th>\n",
       "      <th>Ticket</th>\n",
       "      <th>Fare</th>\n",
       "      <th>Cabin</th>\n",
       "      <th>Embarked</th>\n",
       "    </tr>\n",
       "  </thead>\n",
       "  <tbody>\n",
       "    <tr>\n",
       "      <th>33</th>\n",
       "      <td>34</td>\n",
       "      <td>0</td>\n",
       "      <td>2</td>\n",
       "      <td>Wheadon, Mr. Edward H</td>\n",
       "      <td>male</td>\n",
       "      <td>66.0</td>\n",
       "      <td>0</td>\n",
       "      <td>0</td>\n",
       "      <td>C.A. 24579</td>\n",
       "      <td>10.5000</td>\n",
       "      <td>NaN</td>\n",
       "      <td>S</td>\n",
       "    </tr>\n",
       "    <tr>\n",
       "      <th>54</th>\n",
       "      <td>55</td>\n",
       "      <td>0</td>\n",
       "      <td>1</td>\n",
       "      <td>Ostby, Mr. Engelhart Cornelius</td>\n",
       "      <td>male</td>\n",
       "      <td>65.0</td>\n",
       "      <td>0</td>\n",
       "      <td>1</td>\n",
       "      <td>113509</td>\n",
       "      <td>61.9792</td>\n",
       "      <td>B30</td>\n",
       "      <td>C</td>\n",
       "    </tr>\n",
       "    <tr>\n",
       "      <th>96</th>\n",
       "      <td>97</td>\n",
       "      <td>0</td>\n",
       "      <td>1</td>\n",
       "      <td>Goldschmidt, Mr. George B</td>\n",
       "      <td>male</td>\n",
       "      <td>71.0</td>\n",
       "      <td>0</td>\n",
       "      <td>0</td>\n",
       "      <td>PC 17754</td>\n",
       "      <td>34.6542</td>\n",
       "      <td>A5</td>\n",
       "      <td>C</td>\n",
       "    </tr>\n",
       "    <tr>\n",
       "      <th>116</th>\n",
       "      <td>117</td>\n",
       "      <td>0</td>\n",
       "      <td>3</td>\n",
       "      <td>Connors, Mr. Patrick</td>\n",
       "      <td>male</td>\n",
       "      <td>70.5</td>\n",
       "      <td>0</td>\n",
       "      <td>0</td>\n",
       "      <td>370369</td>\n",
       "      <td>7.7500</td>\n",
       "      <td>NaN</td>\n",
       "      <td>Q</td>\n",
       "    </tr>\n",
       "    <tr>\n",
       "      <th>280</th>\n",
       "      <td>281</td>\n",
       "      <td>0</td>\n",
       "      <td>3</td>\n",
       "      <td>Duane, Mr. Frank</td>\n",
       "      <td>male</td>\n",
       "      <td>65.0</td>\n",
       "      <td>0</td>\n",
       "      <td>0</td>\n",
       "      <td>336439</td>\n",
       "      <td>7.7500</td>\n",
       "      <td>NaN</td>\n",
       "      <td>Q</td>\n",
       "    </tr>\n",
       "    <tr>\n",
       "      <th>456</th>\n",
       "      <td>457</td>\n",
       "      <td>0</td>\n",
       "      <td>1</td>\n",
       "      <td>Millet, Mr. Francis Davis</td>\n",
       "      <td>male</td>\n",
       "      <td>65.0</td>\n",
       "      <td>0</td>\n",
       "      <td>0</td>\n",
       "      <td>13509</td>\n",
       "      <td>26.5500</td>\n",
       "      <td>E38</td>\n",
       "      <td>S</td>\n",
       "    </tr>\n",
       "    <tr>\n",
       "      <th>493</th>\n",
       "      <td>494</td>\n",
       "      <td>0</td>\n",
       "      <td>1</td>\n",
       "      <td>Artagaveytia, Mr. Ramon</td>\n",
       "      <td>male</td>\n",
       "      <td>71.0</td>\n",
       "      <td>0</td>\n",
       "      <td>0</td>\n",
       "      <td>PC 17609</td>\n",
       "      <td>49.5042</td>\n",
       "      <td>NaN</td>\n",
       "      <td>C</td>\n",
       "    </tr>\n",
       "    <tr>\n",
       "      <th>630</th>\n",
       "      <td>631</td>\n",
       "      <td>1</td>\n",
       "      <td>1</td>\n",
       "      <td>Barkworth, Mr. Algernon Henry Wilson</td>\n",
       "      <td>male</td>\n",
       "      <td>80.0</td>\n",
       "      <td>0</td>\n",
       "      <td>0</td>\n",
       "      <td>27042</td>\n",
       "      <td>30.0000</td>\n",
       "      <td>A23</td>\n",
       "      <td>S</td>\n",
       "    </tr>\n",
       "    <tr>\n",
       "      <th>672</th>\n",
       "      <td>673</td>\n",
       "      <td>0</td>\n",
       "      <td>2</td>\n",
       "      <td>Mitchell, Mr. Henry Michael</td>\n",
       "      <td>male</td>\n",
       "      <td>70.0</td>\n",
       "      <td>0</td>\n",
       "      <td>0</td>\n",
       "      <td>C.A. 24580</td>\n",
       "      <td>10.5000</td>\n",
       "      <td>NaN</td>\n",
       "      <td>S</td>\n",
       "    </tr>\n",
       "    <tr>\n",
       "      <th>745</th>\n",
       "      <td>746</td>\n",
       "      <td>0</td>\n",
       "      <td>1</td>\n",
       "      <td>Crosby, Capt. Edward Gifford</td>\n",
       "      <td>male</td>\n",
       "      <td>70.0</td>\n",
       "      <td>1</td>\n",
       "      <td>1</td>\n",
       "      <td>WE/P 5735</td>\n",
       "      <td>71.0000</td>\n",
       "      <td>B22</td>\n",
       "      <td>S</td>\n",
       "    </tr>\n",
       "    <tr>\n",
       "      <th>851</th>\n",
       "      <td>852</td>\n",
       "      <td>0</td>\n",
       "      <td>3</td>\n",
       "      <td>Svensson, Mr. Johan</td>\n",
       "      <td>male</td>\n",
       "      <td>74.0</td>\n",
       "      <td>0</td>\n",
       "      <td>0</td>\n",
       "      <td>347060</td>\n",
       "      <td>7.7750</td>\n",
       "      <td>NaN</td>\n",
       "      <td>S</td>\n",
       "    </tr>\n",
       "  </tbody>\n",
       "</table>\n",
       "</div>"
      ],
      "text/plain": [
       "     PassengerId  Survived  Pclass                                  Name  \\\n",
       "33            34         0       2                 Wheadon, Mr. Edward H   \n",
       "54            55         0       1        Ostby, Mr. Engelhart Cornelius   \n",
       "96            97         0       1             Goldschmidt, Mr. George B   \n",
       "116          117         0       3                  Connors, Mr. Patrick   \n",
       "280          281         0       3                      Duane, Mr. Frank   \n",
       "456          457         0       1             Millet, Mr. Francis Davis   \n",
       "493          494         0       1               Artagaveytia, Mr. Ramon   \n",
       "630          631         1       1  Barkworth, Mr. Algernon Henry Wilson   \n",
       "672          673         0       2           Mitchell, Mr. Henry Michael   \n",
       "745          746         0       1          Crosby, Capt. Edward Gifford   \n",
       "851          852         0       3                   Svensson, Mr. Johan   \n",
       "\n",
       "      Sex   Age  SibSp  Parch      Ticket     Fare Cabin Embarked  \n",
       "33   male  66.0      0      0  C.A. 24579  10.5000   NaN        S  \n",
       "54   male  65.0      0      1      113509  61.9792   B30        C  \n",
       "96   male  71.0      0      0    PC 17754  34.6542    A5        C  \n",
       "116  male  70.5      0      0      370369   7.7500   NaN        Q  \n",
       "280  male  65.0      0      0      336439   7.7500   NaN        Q  \n",
       "456  male  65.0      0      0       13509  26.5500   E38        S  \n",
       "493  male  71.0      0      0    PC 17609  49.5042   NaN        C  \n",
       "630  male  80.0      0      0       27042  30.0000   A23        S  \n",
       "672  male  70.0      0      0  C.A. 24580  10.5000   NaN        S  \n",
       "745  male  70.0      1      1   WE/P 5735  71.0000   B22        S  \n",
       "851  male  74.0      0      0      347060   7.7750   NaN        S  "
      ]
     },
     "execution_count": 18,
     "metadata": {},
     "output_type": "execute_result"
    }
   ],
   "source": [
    "# Identify potential outliers data for Age\n",
    "outliers_age = titanic_data[(titanic_data['Age'] < lower_bound_age) | (titanic_data['Age'] > upper_bound_age)]\n",
    "outliers_age"
   ]
  },
  {
   "cell_type": "markdown",
   "id": "a55e54bb-1eab-4ba8-9915-d2b2f0bdd7dc",
   "metadata": {},
   "source": [
    "- For `Fare` column"
   ]
  },
  {
   "cell_type": "code",
   "execution_count": 19,
   "id": "8fef75c1-8992-4647-b6f9-8fcedd64a898",
   "metadata": {},
   "outputs": [
    {
     "data": {
      "image/png": "[encoded data removed]",
      "text/plain": [
       "<Figure size 864x360 with 1 Axes>"
      ]
     },
     "metadata": {
      "needs_background": "light"
     },
     "output_type": "display_data"
    }
   ],
   "source": [
    "# Create box plots for Fare\n",
    "plt.figure(figsize=(12, 5))\n",
    "sns.boxplot( data=titanic_data, x='Fare')\n",
    "plt.title('Box Plot of Fare')\n",
    "plt.show()"
   ]
  },
  {
   "cell_type": "code",
   "execution_count": 20,
   "id": "f68a49a3-f7a6-4d39-a6a7-1b8896dbe015",
   "metadata": {},
   "outputs": [
    {
     "name": "stdout",
     "output_type": "stream",
     "text": [
      "Outliers for Fare: Values below -26.724 and above 65.6344\n"
     ]
    }
   ],
   "source": [
    "# Calculate the IQR for Fare column\n",
    "Q1_fare = titanic_data['Fare'].quantile(0.25)\n",
    "Q3_fare = titanic_data['Fare'].quantile(0.75)\n",
    "IQR_fare = Q3_fare - Q1_fare\n",
    "\n",
    "# Define the lower and upper bounds for potential outliers\n",
    "lower_bound_fare = Q1_fare - 1.5 * IQR_fare\n",
    "upper_bound_fare = Q3_fare + 1.5 * IQR_fare\n",
    "\n",
    "print(f\"Outliers for Fare: Values below {lower_bound_fare} and above {upper_bound_fare}\")"
   ]
  },
  {
   "cell_type": "code",
   "execution_count": 21,
   "id": "7bbb4189-ba10-434e-ab97-a4e477334293",
   "metadata": {},
   "outputs": [
    {
     "data": {
      "text/html": [
       "<div>\n",
       "<style scoped>\n",
       "    .dataframe tbody tr th:only-of-type {\n",
       "        vertical-align: middle;\n",
       "    }\n",
       "\n",
       "    .dataframe tbody tr th {\n",
       "        vertical-align: top;\n",
       "    }\n",
       "\n",
       "    .dataframe thead th {\n",
       "        text-align: right;\n",
       "    }\n",
       "</style>\n",
       "<table border=\"1\" class=\"dataframe\">\n",
       "  <thead>\n",
       "    <tr style=\"text-align: right;\">\n",
       "      <th></th>\n",
       "      <th>PassengerId</th>\n",
       "      <th>Survived</th>\n",
       "      <th>Pclass</th>\n",
       "      <th>Name</th>\n",
       "      <th>Sex</th>\n",
       "      <th>Age</th>\n",
       "      <th>SibSp</th>\n",
       "      <th>Parch</th>\n",
       "      <th>Ticket</th>\n",
       "      <th>Fare</th>\n",
       "      <th>Cabin</th>\n",
       "      <th>Embarked</th>\n",
       "    </tr>\n",
       "  </thead>\n",
       "  <tbody>\n",
       "    <tr>\n",
       "      <th>1</th>\n",
       "      <td>2</td>\n",
       "      <td>1</td>\n",
       "      <td>1</td>\n",
       "      <td>Cumings, Mrs. John Bradley (Florence Briggs Th...</td>\n",
       "      <td>female</td>\n",
       "      <td>38.0</td>\n",
       "      <td>1</td>\n",
       "      <td>0</td>\n",
       "      <td>PC 17599</td>\n",
       "      <td>71.2833</td>\n",
       "      <td>C85</td>\n",
       "      <td>C</td>\n",
       "    </tr>\n",
       "    <tr>\n",
       "      <th>27</th>\n",
       "      <td>28</td>\n",
       "      <td>0</td>\n",
       "      <td>1</td>\n",
       "      <td>Fortune, Mr. Charles Alexander</td>\n",
       "      <td>male</td>\n",
       "      <td>19.0</td>\n",
       "      <td>3</td>\n",
       "      <td>2</td>\n",
       "      <td>19950</td>\n",
       "      <td>263.0000</td>\n",
       "      <td>C23 C25 C27</td>\n",
       "      <td>S</td>\n",
       "    </tr>\n",
       "    <tr>\n",
       "      <th>31</th>\n",
       "      <td>32</td>\n",
       "      <td>1</td>\n",
       "      <td>1</td>\n",
       "      <td>Spencer, Mrs. William Augustus (Marie Eugenie)</td>\n",
       "      <td>female</td>\n",
       "      <td>NaN</td>\n",
       "      <td>1</td>\n",
       "      <td>0</td>\n",
       "      <td>PC 17569</td>\n",
       "      <td>146.5208</td>\n",
       "      <td>B78</td>\n",
       "      <td>C</td>\n",
       "    </tr>\n",
       "    <tr>\n",
       "      <th>34</th>\n",
       "      <td>35</td>\n",
       "      <td>0</td>\n",
       "      <td>1</td>\n",
       "      <td>Meyer, Mr. Edgar Joseph</td>\n",
       "      <td>male</td>\n",
       "      <td>28.0</td>\n",
       "      <td>1</td>\n",
       "      <td>0</td>\n",
       "      <td>PC 17604</td>\n",
       "      <td>82.1708</td>\n",
       "      <td>NaN</td>\n",
       "      <td>C</td>\n",
       "    </tr>\n",
       "    <tr>\n",
       "      <th>52</th>\n",
       "      <td>53</td>\n",
       "      <td>1</td>\n",
       "      <td>1</td>\n",
       "      <td>Harper, Mrs. Henry Sleeper (Myna Haxtun)</td>\n",
       "      <td>female</td>\n",
       "      <td>49.0</td>\n",
       "      <td>1</td>\n",
       "      <td>0</td>\n",
       "      <td>PC 17572</td>\n",
       "      <td>76.7292</td>\n",
       "      <td>D33</td>\n",
       "      <td>C</td>\n",
       "    </tr>\n",
       "    <tr>\n",
       "      <th>...</th>\n",
       "      <td>...</td>\n",
       "      <td>...</td>\n",
       "      <td>...</td>\n",
       "      <td>...</td>\n",
       "      <td>...</td>\n",
       "      <td>...</td>\n",
       "      <td>...</td>\n",
       "      <td>...</td>\n",
       "      <td>...</td>\n",
       "      <td>...</td>\n",
       "      <td>...</td>\n",
       "      <td>...</td>\n",
       "    </tr>\n",
       "    <tr>\n",
       "      <th>846</th>\n",
       "      <td>847</td>\n",
       "      <td>0</td>\n",
       "      <td>3</td>\n",
       "      <td>Sage, Mr. Douglas Bullen</td>\n",
       "      <td>male</td>\n",
       "      <td>NaN</td>\n",
       "      <td>8</td>\n",
       "      <td>2</td>\n",
       "      <td>CA. 2343</td>\n",
       "      <td>69.5500</td>\n",
       "      <td>NaN</td>\n",
       "      <td>S</td>\n",
       "    </tr>\n",
       "    <tr>\n",
       "      <th>849</th>\n",
       "      <td>850</td>\n",
       "      <td>1</td>\n",
       "      <td>1</td>\n",
       "      <td>Goldenberg, Mrs. Samuel L (Edwiga Grabowska)</td>\n",
       "      <td>female</td>\n",
       "      <td>NaN</td>\n",
       "      <td>1</td>\n",
       "      <td>0</td>\n",
       "      <td>17453</td>\n",
       "      <td>89.1042</td>\n",
       "      <td>C92</td>\n",
       "      <td>C</td>\n",
       "    </tr>\n",
       "    <tr>\n",
       "      <th>856</th>\n",
       "      <td>857</td>\n",
       "      <td>1</td>\n",
       "      <td>1</td>\n",
       "      <td>Wick, Mrs. George Dennick (Mary Hitchcock)</td>\n",
       "      <td>female</td>\n",
       "      <td>45.0</td>\n",
       "      <td>1</td>\n",
       "      <td>1</td>\n",
       "      <td>36928</td>\n",
       "      <td>164.8667</td>\n",
       "      <td>NaN</td>\n",
       "      <td>S</td>\n",
       "    </tr>\n",
       "    <tr>\n",
       "      <th>863</th>\n",
       "      <td>864</td>\n",
       "      <td>0</td>\n",
       "      <td>3</td>\n",
       "      <td>Sage, Miss. Dorothy Edith \"Dolly\"</td>\n",
       "      <td>female</td>\n",
       "      <td>NaN</td>\n",
       "      <td>8</td>\n",
       "      <td>2</td>\n",
       "      <td>CA. 2343</td>\n",
       "      <td>69.5500</td>\n",
       "      <td>NaN</td>\n",
       "      <td>S</td>\n",
       "    </tr>\n",
       "    <tr>\n",
       "      <th>879</th>\n",
       "      <td>880</td>\n",
       "      <td>1</td>\n",
       "      <td>1</td>\n",
       "      <td>Potter, Mrs. Thomas Jr (Lily Alexenia Wilson)</td>\n",
       "      <td>female</td>\n",
       "      <td>56.0</td>\n",
       "      <td>0</td>\n",
       "      <td>1</td>\n",
       "      <td>11767</td>\n",
       "      <td>83.1583</td>\n",
       "      <td>C50</td>\n",
       "      <td>C</td>\n",
       "    </tr>\n",
       "  </tbody>\n",
       "</table>\n",
       "<p>116 rows × 12 columns</p>\n",
       "</div>"
      ],
      "text/plain": [
       "     PassengerId  Survived  Pclass  \\\n",
       "1              2         1       1   \n",
       "27            28         0       1   \n",
       "31            32         1       1   \n",
       "34            35         0       1   \n",
       "52            53         1       1   \n",
       "..           ...       ...     ...   \n",
       "846          847         0       3   \n",
       "849          850         1       1   \n",
       "856          857         1       1   \n",
       "863          864         0       3   \n",
       "879          880         1       1   \n",
       "\n",
       "                                                  Name     Sex   Age  SibSp  \\\n",
       "1    Cumings, Mrs. John Bradley (Florence Briggs Th...  female  38.0      1   \n",
       "27                      Fortune, Mr. Charles Alexander    male  19.0      3   \n",
       "31      Spencer, Mrs. William Augustus (Marie Eugenie)  female   NaN      1   \n",
       "34                             Meyer, Mr. Edgar Joseph    male  28.0      1   \n",
       "52            Harper, Mrs. Henry Sleeper (Myna Haxtun)  female  49.0      1   \n",
       "..                                                 ...     ...   ...    ...   \n",
       "846                           Sage, Mr. Douglas Bullen    male   NaN      8   \n",
       "849       Goldenberg, Mrs. Samuel L (Edwiga Grabowska)  female   NaN      1   \n",
       "856         Wick, Mrs. George Dennick (Mary Hitchcock)  female  45.0      1   \n",
       "863                  Sage, Miss. Dorothy Edith \"Dolly\"  female   NaN      8   \n",
       "879      Potter, Mrs. Thomas Jr (Lily Alexenia Wilson)  female  56.0      0   \n",
       "\n",
       "     Parch    Ticket      Fare        Cabin Embarked  \n",
       "1        0  PC 17599   71.2833          C85        C  \n",
       "27       2     19950  263.0000  C23 C25 C27        S  \n",
       "31       0  PC 17569  146.5208          B78        C  \n",
       "34       0  PC 17604   82.1708          NaN        C  \n",
       "52       0  PC 17572   76.7292          D33        C  \n",
       "..     ...       ...       ...          ...      ...  \n",
       "846      2  CA. 2343   69.5500          NaN        S  \n",
       "849      0     17453   89.1042          C92        C  \n",
       "856      1     36928  164.8667          NaN        S  \n",
       "863      2  CA. 2343   69.5500          NaN        S  \n",
       "879      1     11767   83.1583          C50        C  \n",
       "\n",
       "[116 rows x 12 columns]"
      ]
     },
     "execution_count": 21,
     "metadata": {},
     "output_type": "execute_result"
    }
   ],
   "source": [
    "# Identify potential outliers for Fare\n",
    "outliers_fare = titanic_data[(titanic_data['Fare'] < lower_bound_fare) | (titanic_data['Fare'] > upper_bound_fare)]\n",
    "outliers_fare"
   ]
  },
  {
   "cell_type": "markdown",
   "id": "2417688d-ee19-4e1d-8d86-d4b3ef482885",
   "metadata": {},
   "source": [
    "**Implications of Detected Outliers :**\n",
    "\n",
    "- **Age Outliers:** The outliers in the `Age` column might represent passengers with extreme ages, such as infants or elderly individuals. These outliers could have unique characteristics or needs during emergency situations on the Titanic. Understanding their presence could provide insights into the survival rates and strategies for different age groups.\n",
    "\n",
    "- **Fare Outliers:** Outliers in the `Fare` column likely indicate passengers who paid significantly higher fares than the majority. These passengers might have had access to more luxurious accommodations or other privileges on the ship. Investigating these outliers could shed light on the socio-economic distribution of passengers and its impact on their survival.\n",
    "\n",
    "- **Impact on Analysis:** In data analysis and modeling, handling outliers is crucial. Depending on the goals of our analysis, we might choose to treat or remove outliers differently. For example, when predicting survival rates, we might want to investigate how the presence of age or fare outliers affects model accuracy and fairness.\n",
    "\n",
    "- **Data Integrity:** Identifying outliers is also essential for data integrity. Outliers can sometimes be due to data entry errors or anomalies, and addressing them can improve the overall quality of the dataset.\n",
    "\n",
    "In summary, understanding the potential implications of outliers helps us make informed decisions during data analysis and modeling and ensures the accuracy and reliability of our insights and predictions."
   ]
  },
  {
   "cell_type": "markdown",
   "id": "ac1be698-b7e8-4d89-b7a5-3e4b4f1ebacb",
   "metadata": {},
   "source": [
    "Using the IQR technique to detect outliers in the `Age` and `Fare` columns provides valuable insights into the distribution and variability of these variables. By identifying potential outliers, we can:\n",
    "\n",
    "- Understand whether there are extreme values that might influence our analysis.\n",
    "- Assess the overall spread of data within these columns.\n",
    "- Make informed decisions about how to handle these outliers, such as whether to remove them or apply specific data preprocessing techniques.\n",
    "- Gain a deeper understanding of the central tendency and variability of the data, which is essential for accurate analysis and modeling."
   ]
  },
  {
   "cell_type": "markdown",
   "id": "93030299-047f-4755-9e42-3eac2e11a52e",
   "metadata": {
    "tags": []
   },
   "source": [
    "### 7. Investigating Skewness"
   ]
  },
  {
   "cell_type": "markdown",
   "id": "f257506f-6ea3-4aaf-b40b-0af3a4d4e5f6",
   "metadata": {},
   "source": [
    "- **Objective:** \n",
    "To understand and detect skewness in the distribution of variables within the Titanic dataset."
   ]
  },
  {
   "cell_type": "markdown",
   "id": "142f6adf-2957-4591-ab90-64d9710f21b4",
   "metadata": {},
   "source": [
    "#### 1. Grasping the Concept of Skewness"
   ]
  },
  {
   "cell_type": "markdown",
   "id": "4e0b036e-0e62-487f-b3a4-43dd7e0afb59",
   "metadata": {},
   "source": [
    "Skewness is a crucial statistical measure because many machine learning algorithms, especially linear-based ones, assume that input features have a normal (or Gaussian) distribution. Highly skewed features might violate this assumption, potentially leading to suboptimal model performance."
   ]
  },
  {
   "cell_type": "markdown",
   "id": "f1e9b657-8328-46cc-af1f-5bdc97c2c3f3",
   "metadata": {},
   "source": [
    "#### 2. Visualizing Skewness - Histograms and KDE Plots"
   ]
  },
  {
   "cell_type": "code",
   "execution_count": 22,
   "id": "09cb374d-f140-4431-b61e-3e7bfa8b547a",
   "metadata": {},
   "outputs": [
    {
     "data": {
      "image/png": "[encoded data removed]",
      "text/plain": [
       "<Figure size 576x288 with 1 Axes>"
      ]
     },
     "metadata": {
      "needs_background": "light"
     },
     "output_type": "display_data"
    },
    {
     "data": {
      "image/png": "[encoded data removed]",
      "text/plain": [
       "<Figure size 576x288 with 1 Axes>"
      ]
     },
     "metadata": {
      "needs_background": "light"
     },
     "output_type": "display_data"
    }
   ],
   "source": [
    "# Histogram and KDE for 'Fare'\n",
    "plt.figure(figsize=(8, 4))\n",
    "sns.histplot(titanic_data['Fare'], kde=True)\n",
    "plt.title('Distribution of Fare')\n",
    "plt.show()\n",
    "\n",
    "# Histogram and KDE for 'Age'\n",
    "plt.figure(figsize=(8, 4))\n",
    "sns.histplot(titanic_data['Age'], kde=True)\n",
    "plt.title('Distribution of Age')\n",
    "plt.show()"
   ]
  },
  {
   "cell_type": "markdown",
   "id": "c9ed277b-1fa4-4d80-b773-cf562516b9a9",
   "metadata": {},
   "source": [
    "Skewness is a measure of the asymmetry of a distribution. When we look at the distribution of data in the Titanic dataset, particularly the `Fare` and `Age` columns, the skewness can provide insights into the nature of the data distribution."
   ]
  },
  {
   "cell_type": "markdown",
   "id": "1f6f426b-2087-476c-9fc5-a32012195939",
   "metadata": {},
   "source": [
    "- The `Fare` and `Age1` distribution seem to be positively skewed due to its right tail."
   ]
  },
  {
   "cell_type": "markdown",
   "id": "653f5e6e-be62-4888-986e-cb4b7b04c0c3",
   "metadata": {},
   "source": [
    "#### 2. Quantifying Skewness"
   ]
  },
  {
   "cell_type": "markdown",
   "id": "d043855f-324c-4f48-99ef-cd20169b18a4",
   "metadata": {},
   "source": [
    "Now, let's quantify the skewness of these columns:"
   ]
  },
  {
   "cell_type": "code",
   "execution_count": 23,
   "id": "c0a7cb41-8a9d-45b5-95c1-df200305e93b",
   "metadata": {},
   "outputs": [
    {
     "name": "stdout",
     "output_type": "stream",
     "text": [
      "Skewness of Fare: 4.787316519674893\n",
      "Skewness of Age: 0.38910778230082704\n"
     ]
    }
   ],
   "source": [
    "fare_skewness = titanic_data['Fare'].skew()\n",
    "age_skewness = titanic_data['Age'].skew()\n",
    "\n",
    "print(f\"Skewness of Fare: {fare_skewness}\")\n",
    "print(f\"Skewness of Age: {age_skewness}\")"
   ]
  },
  {
   "cell_type": "markdown",
   "id": "0ebe6bbe-a310-4797-a5c1-83c3d061b05d",
   "metadata": {},
   "source": [
    "#### **Observations:**"
   ]
  },
  {
   "cell_type": "markdown",
   "id": "bd64d569-63f2-4cd3-ac25-7d0e33350528",
   "metadata": {},
   "source": [
    "Based on the visualizations and calculations:\n",
    "\n",
    "- The `Fare` column is positively skewed, implying that most passengers paid a relatively low fare, with a few paying exceptionally high fares.\n",
    "- The `Age` column may show a slight positive skew, indicating that the majority of passengers are younger, with fewer older passengers aboard.\n",
    "\n",
    "Skewness might affect a machine learning model by biasing its predictions, especially if that model is sensitive to data distributions. For instance, linear regression, which assumes a normal distribution of residuals (errors), can produce inefficient and biased estimators if the independent variables are highly skewed."
   ]
  },
  {
   "cell_type": "markdown",
   "id": "eca84a13-bb61-41aa-9734-334cb63c3467",
   "metadata": {
    "tags": []
   },
   "source": [
    "## Data Preprocessing"
   ]
  },
  {
   "cell_type": "markdown",
   "id": "37b62e05-5b6b-48f7-9573-f13e0d8fa029",
   "metadata": {},
   "source": [
    "### 1. Handling Missing Values"
   ]
  },
  {
   "cell_type": "markdown",
   "id": "77de5d60-772f-46e9-8a6e-8c142408aff9",
   "metadata": {},
   "source": [
    "- **Objective:**\n",
    "Identify and handle missing values in the Titanic dataset to prepare the data for modeling."
   ]
  },
  {
   "cell_type": "markdown",
   "id": "9bc128db-3633-4f3e-b7d8-4ca4d87381af",
   "metadata": {},
   "source": [
    "#### 1. Understanding the Impact of Missing Values"
   ]
  },
  {
   "cell_type": "markdown",
   "id": "3dce9480-b53a-44ae-b837-65e543ff04fe",
   "metadata": {},
   "source": [
    "**Discussion:** Missing data might arise due to various reasons such as recording errors, unavailability of information, or other systemic issues. Depending on whether the absence of data is random or systematic, it might introduce bias into our analyses or predictive models."
   ]
  },
  {
   "cell_type": "markdown",
   "id": "09501b91-4e08-4db6-8ba1-4eeafdb35f28",
   "metadata": {},
   "source": [
    "#### 2. Identifying Missing Values"
   ]
  },
  {
   "cell_type": "markdown",
   "id": "a89ac3f7-1967-4869-a113-34dd87f8044d",
   "metadata": {},
   "source": [
    "let's determine the percentage of missing data for each column:"
   ]
  },
  {
   "cell_type": "code",
   "execution_count": 24,
   "id": "a9b884d5-a42f-4dbd-b64d-12c3ea616175",
   "metadata": {},
   "outputs": [
    {
     "name": "stdout",
     "output_type": "stream",
     "text": [
      "PassengerId     0.000000\n",
      "Survived        0.000000\n",
      "Pclass          0.000000\n",
      "Name            0.000000\n",
      "Sex             0.000000\n",
      "Age            19.865320\n",
      "SibSp           0.000000\n",
      "Parch           0.000000\n",
      "Ticket          0.000000\n",
      "Fare            0.000000\n",
      "Cabin          77.104377\n",
      "Embarked        0.224467\n",
      "dtype: float64\n"
     ]
    }
   ],
   "source": [
    "missing_data_count = titanic_data.isnull().sum()\n",
    "missing_data_percentage = (titanic_data.isnull().sum() / len(titanic_data)) * 100\n",
    "\n",
    "print(missing_data_percentage)"
   ]
  },
  {
   "cell_type": "markdown",
   "id": "3d6ce33f-e24d-4d98-8b56-af92f73fc854",
   "metadata": {},
   "source": [
    "- `Cabin` Column  have a significant percentage of missing data in the Titanic dataset. A plausible reason is that cabin details might not have been recorded for all passengers, especially those in the lower classes. \n",
    "- Similarly, `Age` might be missing for some passengers because it was either not recorded or unknown."
   ]
  },
  {
   "cell_type": "markdown",
   "id": "084ed1e8-a31d-4249-8f8e-a2e12da93c2d",
   "metadata": {},
   "source": [
    "#### 3. Addressing Missing Values"
   ]
  },
  {
   "cell_type": "markdown",
   "id": "7e8e9d0d-e9a3-4eb8-b518-8e081cbb63b1",
   "metadata": {},
   "source": [
    "For columns with more than 70% missing data, it might be more informative to drop them entirely since imputation could introduce significant bias. For other columns with fewer missing values, imputation can be a good approach."
   ]
  },
  {
   "cell_type": "markdown",
   "id": "83419272-edbc-47f6-8d45-468fa05da433",
   "metadata": {},
   "source": [
    "##### `Cabin` Column:"
   ]
  },
  {
   "cell_type": "markdown",
   "id": "b9fb05ca-afe1-4a7a-b142-9769735bc5c6",
   "metadata": {},
   "source": [
    "**Strategy:** Drop the column due to a high percentage of missing values.\n",
    "\n",
    "**Explanation:**\n",
    "The `Cabin` column has a significant percentage of missing values. When a column has a vast majority of its values missing, imputing those values can introduce significant bias or noise into the dataset. Additionally, the cabin information might not have been systematically recorded, leading to random missingness. Given that over 70% of the data in this column is missing and the difficulty in accurately imputing such a high volume of missing values, it is more prudent to drop the column altogether."
   ]
  },
  {
   "cell_type": "code",
   "execution_count": 25,
   "id": "bacfce1f-a78e-45ee-8ccb-1aea396ef11c",
   "metadata": {},
   "outputs": [
    {
     "data": {
      "text/html": [
       "<div>\n",
       "<style scoped>\n",
       "    .dataframe tbody tr th:only-of-type {\n",
       "        vertical-align: middle;\n",
       "    }\n",
       "\n",
       "    .dataframe tbody tr th {\n",
       "        vertical-align: top;\n",
       "    }\n",
       "\n",
       "    .dataframe thead th {\n",
       "        text-align: right;\n",
       "    }\n",
       "</style>\n",
       "<table border=\"1\" class=\"dataframe\">\n",
       "  <thead>\n",
       "    <tr style=\"text-align: right;\">\n",
       "      <th></th>\n",
       "      <th>PassengerId</th>\n",
       "      <th>Survived</th>\n",
       "      <th>Pclass</th>\n",
       "      <th>Name</th>\n",
       "      <th>Sex</th>\n",
       "      <th>Age</th>\n",
       "      <th>SibSp</th>\n",
       "      <th>Parch</th>\n",
       "      <th>Ticket</th>\n",
       "      <th>Fare</th>\n",
       "      <th>Embarked</th>\n",
       "    </tr>\n",
       "  </thead>\n",
       "  <tbody>\n",
       "    <tr>\n",
       "      <th>0</th>\n",
       "      <td>1</td>\n",
       "      <td>0</td>\n",
       "      <td>3</td>\n",
       "      <td>Braund, Mr. Owen Harris</td>\n",
       "      <td>male</td>\n",
       "      <td>22.0</td>\n",
       "      <td>1</td>\n",
       "      <td>0</td>\n",
       "      <td>A/5 21171</td>\n",
       "      <td>7.2500</td>\n",
       "      <td>S</td>\n",
       "    </tr>\n",
       "    <tr>\n",
       "      <th>1</th>\n",
       "      <td>2</td>\n",
       "      <td>1</td>\n",
       "      <td>1</td>\n",
       "      <td>Cumings, Mrs. John Bradley (Florence Briggs Th...</td>\n",
       "      <td>female</td>\n",
       "      <td>38.0</td>\n",
       "      <td>1</td>\n",
       "      <td>0</td>\n",
       "      <td>PC 17599</td>\n",
       "      <td>71.2833</td>\n",
       "      <td>C</td>\n",
       "    </tr>\n",
       "  </tbody>\n",
       "</table>\n",
       "</div>"
      ],
      "text/plain": [
       "   PassengerId  Survived  Pclass  \\\n",
       "0            1         0       3   \n",
       "1            2         1       1   \n",
       "\n",
       "                                                Name     Sex   Age  SibSp  \\\n",
       "0                            Braund, Mr. Owen Harris    male  22.0      1   \n",
       "1  Cumings, Mrs. John Bradley (Florence Briggs Th...  female  38.0      1   \n",
       "\n",
       "   Parch     Ticket     Fare Embarked  \n",
       "0      0  A/5 21171   7.2500        S  \n",
       "1      0   PC 17599  71.2833        C  "
      ]
     },
     "execution_count": 25,
     "metadata": {},
     "output_type": "execute_result"
    }
   ],
   "source": [
    "titanic_data.drop(columns=['Cabin'], inplace=True)\n",
    "titanic_data.head(2)"
   ]
  },
  {
   "cell_type": "markdown",
   "id": "20da896a-1178-4055-831e-aaeb2cdad82d",
   "metadata": {},
   "source": [
    "#### **`Age` Column**\n"
   ]
  },
  {
   "cell_type": "markdown",
   "id": "3dbfa470-26da-4162-9889-7579e4fe31cf",
   "metadata": {},
   "source": [
    "**Strategy:** Use the mean to impute missing values.\n",
    "\n",
    "**Explanation:**\n",
    "\n",
    "The `Age` column in the Titanic dataset is numerical. When choosing an imputation method for a numerical variable, we look at the distribution of the data. If the distribution is roughly symmetric (low skewness) and the mean is approximately equal to the median, then the mean can be a good choice for imputation because it doesn't introduce significant bias. On the other hand, if the data were highly skewed, the median might be a more appropriate choice."
   ]
  },
  {
   "cell_type": "markdown",
   "id": "055877aa-38cb-4d89-a164-a35731f0cb56",
   "metadata": {},
   "source": [
    "Using the mean for `Age` makes sense here because:\n",
    "\n",
    "- The skewness is relatively low.\n",
    "- The mean is roughly equivalent to the median, indicating a balanced distribution.\n",
    "- Imputing with the mean preserves the overall distribution of ages in the dataset."
   ]
  },
  {
   "cell_type": "code",
   "execution_count": 26,
   "id": "32849f3e-7e3a-4af5-9d7f-097249bc3e08",
   "metadata": {},
   "outputs": [
    {
     "name": "stdout",
     "output_type": "stream",
     "text": [
      "Skewness of Age: 0.38910778230082704\n",
      "Mean of Age: 29.69911764705882\n",
      "Median of Age: 28.0\n"
     ]
    }
   ],
   "source": [
    "print(f\"Skewness of Age: {titanic_data['Age'].skew()}\")\n",
    "print(f\"Mean of Age: {titanic_data['Age'].mean()}\")\n",
    "print(f\"Median of Age: {titanic_data['Age'].median()}\")\n",
    "\n",
    "titanic_data['Age'].fillna(titanic_data['Age'].mean(), inplace=True)"
   ]
  },
  {
   "cell_type": "markdown",
   "id": "baf8bb69-c805-474a-ad2e-432b19f236a3",
   "metadata": {},
   "source": [
    "#### **`Embarked` Column**"
   ]
  },
  {
   "cell_type": "markdown",
   "id": "81843472-7fb1-43a5-b9c1-0cb9298b9e51",
   "metadata": {},
   "source": [
    "**Strategy:** Use the mode to impute missing values.\n",
    "\n",
    "**Explanation:**\n",
    "\n",
    "The `Embarked` column is categorical, representing the port at which passengers boarded the Titanic. For categorical columns, the mode (most frequently occurring value) is a common choice for imputation. Using the mode ensures that we are filling missing values with the most common category, thus not introducing significant variability."
   ]
  },
  {
   "cell_type": "code",
   "execution_count": 27,
   "id": "0870202f-3c54-4da2-9305-7ba063c34cff",
   "metadata": {},
   "outputs": [
    {
     "name": "stdout",
     "output_type": "stream",
     "text": [
      "Mode of Embarked: S\n"
     ]
    }
   ],
   "source": [
    "mode_embarked = titanic_data['Embarked'].mode()[0]\n",
    "print(f\"Mode of Embarked: {mode_embarked}\")\n",
    "titanic_data['Embarked'].fillna(mode_embarked, inplace=True)"
   ]
  },
  {
   "cell_type": "markdown",
   "id": "d2409704-374e-4f7b-83f8-67b080c4a701",
   "metadata": {},
   "source": [
    "#### Review"
   ]
  },
  {
   "cell_type": "markdown",
   "id": "ebeb7830-3759-4d0a-8d68-d1f8a2cbdf1f",
   "metadata": {},
   "source": [
    "After handling the missing values, it's vital to review the dataset:"
   ]
  },
  {
   "cell_type": "code",
   "execution_count": 28,
   "id": "5df62cf0-4e5d-4bf0-8c72-c6910c1b3770",
   "metadata": {},
   "outputs": [
    {
     "name": "stdout",
     "output_type": "stream",
     "text": [
      "PassengerId    0\n",
      "Survived       0\n",
      "Pclass         0\n",
      "Name           0\n",
      "Sex            0\n",
      "Age            0\n",
      "SibSp          0\n",
      "Parch          0\n",
      "Ticket         0\n",
      "Fare           0\n",
      "Embarked       0\n",
      "dtype: int64\n"
     ]
    }
   ],
   "source": [
    "print(titanic_data.isnull().sum())"
   ]
  },
  {
   "cell_type": "markdown",
   "id": "c33ea46a-4fc8-4ae8-8821-b10aa57b8ad4",
   "metadata": {},
   "source": [
    "#### **Reflection:** "
   ]
  },
  {
   "cell_type": "markdown",
   "id": "3ba9149c-7ac4-4805-87be-aac568dc7863",
   "metadata": {},
   "source": [
    "When handling missing values, it's important to understand the potential impacts on further analyses or modeling. Deleting columns might lead to loss of information, while imputation might introduce some biases. It's crucial to understand the trade-offs and validate any models or analyses post-processing."
   ]
  },
  {
   "cell_type": "markdown",
   "id": "26dcef40-7ace-492a-8882-e7922f96fdd4",
   "metadata": {
    "tags": []
   },
   "source": [
    "## Download the Titanic dataset Directly to Your Local Machine"
   ]
  },
  {
   "cell_type": "code",
   "execution_count": 30,
   "id": "59e8b6a1-cc22-4c3a-9a9a-5d31d9c2b2c3",
   "metadata": {},
   "outputs": [],
   "source": [
    "titanic_data.to_csv('../data/titanic_preprocessed.csv', index=False)"
   ]
  },
  {
   "cell_type": "markdown",
   "id": "5b1e03f5-d9fb-496a-9cdc-f961f8b35db0",
   "metadata": {},
   "source": [
    "The `index=False` parameter ensures that the DataFrame's index is not saved to the CSV file. This is typically desirable unless you have a specific reason to keep the index.\n",
    "\n",
    "This will save the `titanic_preprocessed.csv` file in the `data` directory of your current working directory. If the directory does not exist, you might need to create it first or adjust the path to a directory that does exist."
   ]
  },
  {
   "cell_type": "markdown",
   "id": "d81a8bef-68c0-4d97-9ed1-cd180221afa6",
   "metadata": {},
   "source": [
    "## Optional tasks"
   ]
  },
  {
   "cell_type": "markdown",
   "id": "0f2e7002-b60d-495e-9493-da881b0de50e",
   "metadata": {
    "tags": []
   },
   "source": [
    "### 1. Multivariate Analysis "
   ]
  },
  {
   "cell_type": "markdown",
   "id": "888a641c-ecaa-4932-8b06-71b57dfbcf6d",
   "metadata": {},
   "source": [
    "- **Objective:**\n",
    "Dive deeper into the relationships and patterns between multiple variables simultaneously. This helps in understanding the interactions between different features and their collective impact on the dataset's outcomes."
   ]
  },
  {
   "cell_type": "markdown",
   "id": "4023a8cc-5ca9-40e9-9f74-5754239f6e76",
   "metadata": {},
   "source": [
    "#### 1. Interaction Between Categorical & Continuous Variables"
   ]
  },
  {
   "cell_type": "markdown",
   "id": "f1e7aabb-ad99-45b6-969d-39734df06959",
   "metadata": {},
   "source": [
    "Investigate how the fare varied across different embarkation ports and passenger classes."
   ]
  },
  {
   "cell_type": "code",
   "execution_count": 31,
   "id": "e3926c67-cfd3-4f5e-99d9-51f4cf401b6e",
   "metadata": {},
   "outputs": [
    {
     "data": {
      "image/png": "[encoded data removed]",
      "text/plain": [
       "<Figure size 1080x432 with 1 Axes>"
      ]
     },
     "metadata": {
      "needs_background": "light"
     },
     "output_type": "display_data"
    }
   ],
   "source": [
    "plt.figure(figsize=(15, 6))\n",
    "sns.boxplot(x='Embarked', y='Fare', hue='Pclass', data=titanic_data, palette = 'Set2')\n",
    "plt.title('Fare Distribution by Embarkation Port and Passenger Class')\n",
    "plt.show()"
   ]
  },
  {
   "cell_type": "markdown",
   "id": "116835b0-ad2a-4c2d-a7b7-37589a7c6a22",
   "metadata": {},
   "source": [
    "This boxplot visualizes the fare distributions based on embarkation ports (C = Cherbourg; Q = Queenstown; S = Southampton) and passenger classes (1st, 2nd, 3rd class). From this, we can observe the median fare and fare spread for each category, helping understand how fare varied with port and class."
   ]
  },
  {
   "cell_type": "markdown",
   "id": "77c85d3a-8cde-4f0d-bc99-2dffc7947b54",
   "metadata": {},
   "source": [
    "#### 2. Factor Plot for Higher Dimensional Data"
   ]
  },
  {
   "cell_type": "code",
   "execution_count": 32,
   "id": "3c26a0e1-cb64-4e77-867c-3d0bb63d583e",
   "metadata": {},
   "outputs": [
    {
     "data": {
      "text/plain": [
       "<Figure size 1080x576 with 0 Axes>"
      ]
     },
     "metadata": {},
     "output_type": "display_data"
    },
    {
     "data": {
      "image/png": "[encoded data removed]",
      "text/plain": [
       "<Figure size 1150.5x360 with 3 Axes>"
      ]
     },
     "metadata": {
      "needs_background": "light"
     },
     "output_type": "display_data"
    }
   ],
   "source": [
    "plt.figure(figsize=(15, 8))\n",
    "sns.catplot(x='Pclass', y='Survived', hue='Sex', col='Embarked', data=titanic_data, kind='bar', palette = 'pastel')\n",
    "plt.suptitle('Survival Rate Across Multiple Dimensions', y=1.02)\n",
    "plt.show()"
   ]
  },
  {
   "cell_type": "markdown",
   "id": "427d4d90-48fd-430b-b9de-4d4ad2186587",
   "metadata": {},
   "source": [
    "The factor plot (now commonly referred to as a catplot in Seaborn) visualizes the survival rate across multiple dimensions. Each column represents an embarkation port, with bars showing survival rates for each passenger class, differentiated by gender. This provides insights into how survival rates varied depending on the combination of class, gender, and embarkation port."
   ]
  },
  {
   "cell_type": "markdown",
   "id": "2d06e5c8-46c6-4535-9a08-5f66853718f4",
   "metadata": {},
   "source": [
    "#### 3. Visualizing Age Distribution for Survival Status Stratified by Gender:"
   ]
  },
  {
   "cell_type": "code",
   "execution_count": 33,
   "id": "9b8d2596-be40-405c-9cfa-2ed38fe7a7f7",
   "metadata": {},
   "outputs": [
    {
     "data": {
      "image/png": "[encoded data removed]",
      "text/plain": [
       "<Figure size 720x432 with 1 Axes>"
      ]
     },
     "metadata": {
      "needs_background": "light"
     },
     "output_type": "display_data"
    }
   ],
   "source": [
    "plt.figure(figsize=(10, 6))\n",
    "sns.violinplot(x='Sex', y='Age', hue='Survived', data=titanic_data, split=True, inner='quartile', palette=\"deep\")\n",
    "plt.title('Age Distribution of Survival by Gender')\n",
    "plt.show()"
   ]
  },
  {
   "cell_type": "markdown",
   "id": "63e5624d-efdf-4d39-b933-1a4cd85ddca0",
   "metadata": {},
   "source": [
    "A violin plot combines aspects of a box plot with a kernel density plot, providing insights into the distribution of data.\n",
    "\n",
    "The violin plot displays the distribution of ages for males and females, split by survival status (Survived=0 indicating \"Did not survive\" and Survived=1 indicating \"Survived\"). The split view allows us to compare the age distribution of survivors and non-survivors side-by-side for each gender. The inner quartile lines provide additional insight into the distribution's central tendency and spread.\n",
    "\n",
    "From the visualization, one might infer patterns like:\n",
    "\n",
    "1. A noticeable amount of young males survived compared to older ones.\n",
    "2. For females, age distribution among survivors seems more uniform, but more adult females survived compared to young females.\n",
    "\n",
    "This visualization provides a deeper understanding of the interplay between age, gender, and survival status on the Titanic, helping to reveal nuanced patterns and trends in the data."
   ]
  },
  {
   "cell_type": "markdown",
   "id": "985a684b-f6a7-4add-8d4c-3f85dcbdedc9",
   "metadata": {},
   "source": [
    "### 2. Log Transformation (Optional – Advanced) "
   ]
  },
  {
   "cell_type": "markdown",
   "id": "9f7960f6-3109-46ad-805d-d96ef0bb8815",
   "metadata": {},
   "source": [
    "- **Objective:** \n",
    "Transform the `Fare` column using a log transformation to stabilize its variance and produce a more normal distribution.\n",
    "\n",
    "To address potential issues with the skewed distributions, a log transformation can be applied to columns like `Fare` to make their distribution more normal-like. The transformation can help in certain modeling scenarios where normality is an assumption.\n",
    "\n",
    "First, let's apply the transformation:"
   ]
  },
  {
   "cell_type": "code",
   "execution_count": 34,
   "id": "9ee1a5c4-009c-4c91-ac1b-69ac55a9f88d",
   "metadata": {},
   "outputs": [],
   "source": [
    "# Applying log transformation (adding 1 to handle zero fares using log1p)\n",
    "titanic_data['Log_Fare'] = np.log1p(titanic_data['Fare'])"
   ]
  },
  {
   "cell_type": "markdown",
   "id": "b3f90ad3-564d-4a3d-92da-f50e1f64ee20",
   "metadata": {},
   "source": [
    "Next, let's visualize the results:"
   ]
  },
  {
   "cell_type": "code",
   "execution_count": 35,
   "id": "0d530b2c-a7e8-4082-a467-2d449bb05f14",
   "metadata": {},
   "outputs": [
    {
     "data": {
      "image/png": "[encoded data removed]",
      "text/plain": [
       "<Figure size 864x432 with 1 Axes>"
      ]
     },
     "metadata": {
      "needs_background": "light"
     },
     "output_type": "display_data"
    }
   ],
   "source": [
    "plt.figure(figsize=(12, 6))\n",
    "sns.histplot(titanic_data['Log_Fare'], kde=True)\n",
    "plt.title('Log Transformed Fare Distribution')\n",
    "plt.show()"
   ]
  },
  {
   "cell_type": "code",
   "execution_count": 36,
   "id": "5512b345-89f2-43db-9b5a-89550483f9f0",
   "metadata": {},
   "outputs": [
    {
     "data": {
      "image/png": "[encoded data removed]",
      "text/plain": [
       "<Figure size 864x432 with 2 Axes>"
      ]
     },
     "metadata": {
      "needs_background": "light"
     },
     "output_type": "display_data"
    }
   ],
   "source": [
    "plt.figure(figsize=(12, 6))\n",
    "\n",
    "plt.subplot(1, 2, 1)\n",
    "sns.histplot(titanic_data['Fare'], kde=True)\n",
    "plt.title('Original Fare Distribution')\n",
    "\n",
    "plt.subplot(1, 2, 2)\n",
    "sns.histplot(titanic_data['Log_Fare'], kde=True)\n",
    "plt.title('Log Transformed Fare Distribution')\n",
    "\n",
    "plt.tight_layout()\n",
    "plt.show()"
   ]
  },
  {
   "cell_type": "markdown",
   "id": "8090ae0c-edc3-4762-9855-17e3c90ccb97",
   "metadata": {},
   "source": [
    "From the visualizations, it's evident that the log transformation of the `Fare` column has adjusted the data's distribution to be more symmetric and bell-shaped. The original `Fare` column has a long tail on the right, indicating it's positively skewed. By applying the log transformation, this skewness is reduced, and the distribution looks more normal. This transformation can help in subsequent analysis and modeling where normal distribution assumptions apply."
   ]
  }
 ],
 "metadata": {
  "kernelspec": {
   "display_name": "Python 3 (ipykernel)",
   "language": "python",
   "name": "python3"
  },
  "language_info": {
   "codemirror_mode": {
    "name": "ipython",
    "version": 3
   },
   "file_extension": ".py",
   "mimetype": "text/x-python",
   "name": "python",
   "nbconvert_exporter": "python",
   "pygments_lexer": "ipython3",
   "version": "3.9.12"
  }
 },
 "nbformat": 4,
 "nbformat_minor": 5
}
