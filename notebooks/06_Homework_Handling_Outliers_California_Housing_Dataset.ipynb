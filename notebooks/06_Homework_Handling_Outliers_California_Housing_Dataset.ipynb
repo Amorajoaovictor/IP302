{
 "cells": [
  {
   "cell_type": "markdown",
   "id": "a82841c8-a57f-40b6-ada5-c83e28467670",
   "metadata": {},
   "source": [
    "# **Homework Assignment: Handling Outliers and Comparing Linear Regression Models**"
   ]
  },
  {
   "cell_type": "markdown",
   "id": "7e719279-1386-4e46-a31a-509e85b88919",
   "metadata": {},
   "source": [
    "**Objective**: You've implemented a simple linear regression model using the California Housing dataset without treating outliers. Your homework is to handle the outliers, rebuild the model, and compare its performance with the initial model."
   ]
  },
  {
   "cell_type": "markdown",
   "id": "c7db20b4-63e3-4241-b0ae-83f964c96c5d",
   "metadata": {},
   "source": [
    "**Instructions**:\n",
    "\n",
    "1. **Outlier Treatment**:\n",
    "    - Revisit the boxplots of the California Housing dataset to identify potential outliers.\n",
    "    - Choose a method to handle outliers (e.g., removing them, capping them, or transforming variables).\n",
    "    - Apply the chosen method to the dataset.\n",
    "\n",
    "2. **Data Setup with Outliers Handled**:\n",
    "    - If you removed any data points in step 1, split the modified dataset again into training and test sets using a 70-30 split.\n",
    "    - Scale the features using `StandardScaler` from `sklearn.preprocessing`. Fit the scaler only on the new training set and then transform both training and test sets.\n",
    "\n",
    "3. **Re-implement Linear Regression**:\n",
    "    - Utilize the `LinearRegression` class from `sklearn.linear_model` to rebuild the model using the data with treated outliers.\n",
    "    - Train the model with the new training set.\n",
    "    - Evaluate this model on the training data and the test data. Compute the MSE (Mean Squared Error) and R^2 scores for both.\n",
    "\n",
    "4. **Comparison**:\n",
    "    - Compare the performance (MSE and R^2 scores) of the new model (with outliers treated) with the initial model (without outlier treatment). \n",
    "\n",
    "5. **Summary of Your Work**:\n",
    "    - Write a brief summary of the process you followed, the challenges you faced, and the results you obtained. Include any visualizations or tables that support your findings. \n",
    "    - Share your summary in our next session for discussion and feedback.\n",
    "\n",
    "**Questions**:\n",
    "1. Describe the method you chose to handle outliers and explain your reasoning.\n",
    "2. How did the performance of the model change after treating outliers? Were there improvements in the MSE and R^2 scores?\n",
    "3. Based on your results, how do outliers impact the performance of a linear regression model in this dataset?\n",
    "\n",
    "**Reflection**:\n",
    "Think about the impact of outliers on other machine learning models. In what scenarios might it be more critical to address outliers, and in which might it be less impactful?"
   ]
  }
 ],
 "metadata": {
  "kernelspec": {
   "display_name": "Python 3 (ipykernel)",
   "language": "python",
   "name": "python3"
  },
  "language_info": {
   "codemirror_mode": {
    "name": "ipython",
    "version": 3
   },
   "file_extension": ".py",
   "mimetype": "text/x-python",
   "name": "python",
   "nbconvert_exporter": "python",
   "pygments_lexer": "ipython3",
   "version": "3.9.12"
  }
 },
 "nbformat": 4,
 "nbformat_minor": 5
}
