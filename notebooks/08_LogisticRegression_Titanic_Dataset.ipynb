{
 "cells": [
  {
   "cell_type": "markdown",
   "id": "ce900c97-21de-422b-a32f-b6dd5483cd7e",
   "metadata": {},
   "source": [
    "# Activity: Logistic Regression - Titanic Dataset"
   ]
  },
  {
   "cell_type": "markdown",
   "id": "67885b27-01ca-4980-9e83-a2c50452a4df",
   "metadata": {},
   "source": [
    "### Overview\n",
    "In this session, we delve into the intricacies of logistic regression, applying it to the preprocessed Titanic dataset. We'll explore the binary classification realm, aiming to predict survival outcomes based on various features of the passengers.\n",
    "\n",
    "### Objective\n",
    "The session's goal is to grasp the concepts and application of logistic regression. We'll understand how to interpret model outputs, convert logistic regression coefficients to odds ratios for better interpretability, and utilize different metrics for evaluating model performance.\n",
    "\n",
    "### What We Will Do:\n",
    "1. **Data Review:** Load the preprocessed Titanic dataset and review its structure, ensuring a solid understanding of the features and target variable.\n",
    "2. **Feature Selection and Engineering:** Choose relevant features and create new ones to improve model performance, understanding the role each plays in predicting survival.\n",
    "3. **Data Splitting:** Divide the dataset into training and testing sets to prepare for model training and evaluation, employing stratified sampling to maintain proportionality of the target class.\n",
    "4. **Model Implementation:** Build a logistic regression model using the selected features, train it on the dataset, and make predictions.\n",
    "5. **Model Evaluation:** Evaluate the model's performance using a confusion matrix and a classification report to understand precision, recall, and F1-score, and plot the ROC curve to visualize the trade-offs between true positive and false positive rates.\n",
    "6. **Feature Importance Analysis:** Examine the logistic regression coefficients to determine the impact of each feature on survival probabilities, using both the magnitude of the coefficients and the odds ratios for interpretation.\n",
    "7. **Insight Extraction:** Draw insights from the model regarding the influence of features on survival outcomes and discuss the implications for understanding the Titanic disaster.\n",
    "\n",
    "### Outcome\n",
    "After completing this session, we will have a nuanced appreciation of logistic regression and its application in binary classification problems. We will be adept at interpreting logistic regression results, evaluating model performance, and extracting actionable insights that can guide decision-making in similar contexts."
   ]
  },
  {
   "cell_type": "markdown",
   "id": "af176969-87ac-43df-8eac-28331ba64461",
   "metadata": {
    "tags": []
   },
   "source": [
    "## 1. Import necessary libraries"
   ]
  },
  {
   "cell_type": "code",
   "execution_count": 84,
   "id": "3b03e68e-af97-4304-8858-5ca09771ff53",
   "metadata": {},
   "outputs": [],
   "source": [
    "import pandas as pd\n",
    "import numpy as np\n",
    "\n",
    "import matplotlib.pyplot as plt\n",
    "import seaborn as sns\n",
    "\n",
    "from sklearn.model_selection import train_test_split #to split the data into training set and test set\n",
    "\n",
    "from sklearn.linear_model import LogisticRegression #  Import Logistic Regression Class\n",
    "\n",
    "# Import all metrics for classification task\n",
    "from sklearn.metrics import classification_report, confusion_matrix, roc_curve, roc_auc_score\n"
   ]
  },
  {
   "cell_type": "markdown",
   "id": "f707375c-12bc-480b-8eaa-194f4169866e",
   "metadata": {
    "tags": []
   },
   "source": [
    "## 2. Data Loading and Review"
   ]
  },
  {
   "cell_type": "markdown",
   "id": "912b90df-2f79-4341-9996-112eabada2b6",
   "metadata": {},
   "source": [
    "### Locate the Dataset:"
   ]
  },
  {
   "cell_type": "markdown",
   "id": "25b36bd6-c226-449e-ba80-2181def9c457",
   "metadata": {},
   "source": [
    "Before loading the dataset, it's crucial to ensure that the file `titanic_preprocessed.csv` is located in the correct folder. The usual practice is to organize data files in a separate directory, like `data`. Assuming your current working directory is one level above the `data` folder, you will reference the file with a relative path."
   ]
  },
  {
   "cell_type": "markdown",
   "id": "3140b84d-158e-49ab-b69e-8f58f6c80735",
   "metadata": {},
   "source": [
    "### Load the Dataset:"
   ]
  },
  {
   "cell_type": "code",
   "execution_count": 58,
   "id": "f6fe347a-c21c-4b6d-84be-cc0e0f5132b1",
   "metadata": {},
   "outputs": [],
   "source": [
    "# Load the preprocessed Titanic dataset\n",
    "file_path = '../data/titanic_preprocessed.csv'\n",
    "df = pd.read_csv(file_path)"
   ]
  },
  {
   "cell_type": "markdown",
   "id": "0ab34105-c503-41ca-aaac-aebaee9c1f16",
   "metadata": {},
   "source": [
    "Here, the `pandas` library is imported, a staple for data manipulation in Python. The `read_csv` function is used to load the dataset from the specified path. The `df` variable now holds the DataFrame containing the dataset."
   ]
  },
  {
   "cell_type": "markdown",
   "id": "8404e5b6-90f3-4d7a-9a25-3afe78f1d930",
   "metadata": {},
   "source": [
    "- **File Location:**\n",
    "\n",
    "To ensure you are accessing the correct file, check the file path relative to your current working directory. If your script or notebook is in a directory at the same level as the `data` folder, the relative path `'../data/titanic_preprocessed.csv'` should correctly point to the file. If the file is not found, you may need to adjust the path based on your current directory's location."
   ]
  },
  {
   "cell_type": "markdown",
   "id": "89857649-f777-492b-89f8-b0aec02b7c42",
   "metadata": {},
   "source": [
    "### Initial Verification:"
   ]
  },
  {
   "cell_type": "code",
   "execution_count": 59,
   "id": "fab683d3-257f-48b5-833a-7270e52c238e",
   "metadata": {},
   "outputs": [
    {
     "data": {
      "text/html": [
       "<div>\n",
       "<style scoped>\n",
       "    .dataframe tbody tr th:only-of-type {\n",
       "        vertical-align: middle;\n",
       "    }\n",
       "\n",
       "    .dataframe tbody tr th {\n",
       "        vertical-align: top;\n",
       "    }\n",
       "\n",
       "    .dataframe thead th {\n",
       "        text-align: right;\n",
       "    }\n",
       "</style>\n",
       "<table border=\"1\" class=\"dataframe\">\n",
       "  <thead>\n",
       "    <tr style=\"text-align: right;\">\n",
       "      <th></th>\n",
       "      <th>PassengerId</th>\n",
       "      <th>Survived</th>\n",
       "      <th>Pclass</th>\n",
       "      <th>Name</th>\n",
       "      <th>Sex</th>\n",
       "      <th>Age</th>\n",
       "      <th>SibSp</th>\n",
       "      <th>Parch</th>\n",
       "      <th>Ticket</th>\n",
       "      <th>Fare</th>\n",
       "      <th>Embarked</th>\n",
       "    </tr>\n",
       "  </thead>\n",
       "  <tbody>\n",
       "    <tr>\n",
       "      <th>0</th>\n",
       "      <td>1</td>\n",
       "      <td>0</td>\n",
       "      <td>3</td>\n",
       "      <td>Braund, Mr. Owen Harris</td>\n",
       "      <td>male</td>\n",
       "      <td>22.0</td>\n",
       "      <td>1</td>\n",
       "      <td>0</td>\n",
       "      <td>A/5 21171</td>\n",
       "      <td>7.2500</td>\n",
       "      <td>S</td>\n",
       "    </tr>\n",
       "    <tr>\n",
       "      <th>1</th>\n",
       "      <td>2</td>\n",
       "      <td>1</td>\n",
       "      <td>1</td>\n",
       "      <td>Cumings, Mrs. John Bradley (Florence Briggs Th...</td>\n",
       "      <td>female</td>\n",
       "      <td>38.0</td>\n",
       "      <td>1</td>\n",
       "      <td>0</td>\n",
       "      <td>PC 17599</td>\n",
       "      <td>71.2833</td>\n",
       "      <td>C</td>\n",
       "    </tr>\n",
       "    <tr>\n",
       "      <th>2</th>\n",
       "      <td>3</td>\n",
       "      <td>1</td>\n",
       "      <td>3</td>\n",
       "      <td>Heikkinen, Miss. Laina</td>\n",
       "      <td>female</td>\n",
       "      <td>26.0</td>\n",
       "      <td>0</td>\n",
       "      <td>0</td>\n",
       "      <td>STON/O2. 3101282</td>\n",
       "      <td>7.9250</td>\n",
       "      <td>S</td>\n",
       "    </tr>\n",
       "    <tr>\n",
       "      <th>3</th>\n",
       "      <td>4</td>\n",
       "      <td>1</td>\n",
       "      <td>1</td>\n",
       "      <td>Futrelle, Mrs. Jacques Heath (Lily May Peel)</td>\n",
       "      <td>female</td>\n",
       "      <td>35.0</td>\n",
       "      <td>1</td>\n",
       "      <td>0</td>\n",
       "      <td>113803</td>\n",
       "      <td>53.1000</td>\n",
       "      <td>S</td>\n",
       "    </tr>\n",
       "    <tr>\n",
       "      <th>4</th>\n",
       "      <td>5</td>\n",
       "      <td>0</td>\n",
       "      <td>3</td>\n",
       "      <td>Allen, Mr. William Henry</td>\n",
       "      <td>male</td>\n",
       "      <td>35.0</td>\n",
       "      <td>0</td>\n",
       "      <td>0</td>\n",
       "      <td>373450</td>\n",
       "      <td>8.0500</td>\n",
       "      <td>S</td>\n",
       "    </tr>\n",
       "  </tbody>\n",
       "</table>\n",
       "</div>"
      ],
      "text/plain": [
       "   PassengerId  Survived  Pclass  \\\n",
       "0            1         0       3   \n",
       "1            2         1       1   \n",
       "2            3         1       3   \n",
       "3            4         1       1   \n",
       "4            5         0       3   \n",
       "\n",
       "                                                Name     Sex   Age  SibSp  \\\n",
       "0                            Braund, Mr. Owen Harris    male  22.0      1   \n",
       "1  Cumings, Mrs. John Bradley (Florence Briggs Th...  female  38.0      1   \n",
       "2                             Heikkinen, Miss. Laina  female  26.0      0   \n",
       "3       Futrelle, Mrs. Jacques Heath (Lily May Peel)  female  35.0      1   \n",
       "4                           Allen, Mr. William Henry    male  35.0      0   \n",
       "\n",
       "   Parch            Ticket     Fare Embarked  \n",
       "0      0         A/5 21171   7.2500        S  \n",
       "1      0          PC 17599  71.2833        C  \n",
       "2      0  STON/O2. 3101282   7.9250        S  \n",
       "3      0            113803  53.1000        S  \n",
       "4      0            373450   8.0500        S  "
      ]
     },
     "execution_count": 59,
     "metadata": {},
     "output_type": "execute_result"
    }
   ],
   "source": [
    "# Display the first few rows of the dataset\n",
    "df.head()"
   ]
  },
  {
   "cell_type": "markdown",
   "id": "8fb51810-1435-481f-9c4d-07031a5eac93",
   "metadata": {},
   "source": [
    "The `.head()` method is a quick way to inspect the first five rows of the DataFrame. This initial look is crucial to verify that the dataset has been loaded correctly and to observe the structure and types of data it contains."
   ]
  },
  {
   "cell_type": "markdown",
   "id": "f06e103c-eda9-4fd4-9a2a-615d7a6217e6",
   "metadata": {},
   "source": [
    "- **Data Inspection:**\n",
    "\n",
    "The first few rows of the dataset reveal the structure of the data, including the column names and types of data (numerical, categorical) present. This view provides a snapshot of the dataset, offering insights into the kind of preprocessing already performed and the features available for analysis. For instance, you might see columns like 'Age', 'Fare', 'Survived', which are typical in the Titanic dataset, possibly alongside engineered features or indicators for missing values."
   ]
  },
  {
   "cell_type": "markdown",
   "id": "9c01d617-3c0f-4099-8fdc-180ccf538132",
   "metadata": {
    "jp-MarkdownHeadingCollapsed": true,
    "tags": []
   },
   "source": [
    "## Exploratory Data Analysis"
   ]
  },
  {
   "cell_type": "markdown",
   "id": "1bd542f3-eb23-4275-bb82-133f5eec2cd5",
   "metadata": {},
   "source": [
    "**Note :** Please consult the earlier notebooks focusing on the Titanic dataset in this repository for a comprehensive view and detailed insights."
   ]
  },
  {
   "cell_type": "markdown",
   "id": "4d683ad0-3a4f-4ac5-9485-36be74110d55",
   "metadata": {},
   "source": [
    "### Data Cleaning and Verification "
   ]
  },
  {
   "cell_type": "markdown",
   "id": "e8342308-dcf3-4e59-b30d-ce6a7cd99bd3",
   "metadata": {},
   "source": [
    "#### Review Data Types"
   ]
  },
  {
   "cell_type": "code",
   "execution_count": 4,
   "id": "320eea26-7ecf-4a35-bdba-5c38d3cedb69",
   "metadata": {},
   "outputs": [
    {
     "data": {
      "text/plain": [
       "PassengerId      int64\n",
       "Survived         int64\n",
       "Pclass           int64\n",
       "Name            object\n",
       "Sex             object\n",
       "Age            float64\n",
       "SibSp            int64\n",
       "Parch            int64\n",
       "Ticket          object\n",
       "Fare           float64\n",
       "Embarked        object\n",
       "dtype: object"
      ]
     },
     "execution_count": 4,
     "metadata": {},
     "output_type": "execute_result"
    }
   ],
   "source": [
    "# Check the data types of each column\n",
    "df.dtypes"
   ]
  },
  {
   "cell_type": "markdown",
   "id": "f6c62a47-8650-4407-bdcc-db4bcc929438",
   "metadata": {},
   "source": [
    "This line of code uses the `.dtypes` attribute to display the data type of each column in the DataFrame. It's essential to ensure that each column's data type aligns with the type of data it contains, such as `int` or `float` for numerical data and `object` or `category` for categorical data."
   ]
  },
  {
   "cell_type": "markdown",
   "id": "9260027b-e093-44b6-ba5a-663e27a5d748",
   "metadata": {},
   "source": [
    "After reviewing the data types with `df.dtypes`, we should ensure that each column's data type is appropriate. For instance, categorical features like 'Sex' should be of type `object` or `category`, and numerical features like 'Age' should be `int` or `float`."
   ]
  },
  {
   "cell_type": "markdown",
   "id": "cb0a4e0b-4aba-4064-b416-eaa0b7faf612",
   "metadata": {},
   "source": [
    "#### Verify Missing Values:"
   ]
  },
  {
   "cell_type": "code",
   "execution_count": 5,
   "id": "e39c7083-f09d-4ef7-b790-a1b30b6d6559",
   "metadata": {},
   "outputs": [
    {
     "data": {
      "text/plain": [
       "PassengerId    0\n",
       "Survived       0\n",
       "Pclass         0\n",
       "Name           0\n",
       "Sex            0\n",
       "Age            0\n",
       "SibSp          0\n",
       "Parch          0\n",
       "Ticket         0\n",
       "Fare           0\n",
       "Embarked       0\n",
       "dtype: int64"
      ]
     },
     "execution_count": 5,
     "metadata": {},
     "output_type": "execute_result"
    }
   ],
   "source": [
    "# Check for any missing values\n",
    "df.isnull().sum()"
   ]
  },
  {
   "cell_type": "markdown",
   "id": "3dbe2fde-78dd-455c-b813-aea1154966b2",
   "metadata": {},
   "source": [
    "This command checks for missing values in each column. The method `.isnull()` identifies missing values, and `.sum()` sums them up for each column. Since missing values were addressed in a previous session, this step confirms that the dataset doesn't have any remaining missing values."
   ]
  },
  {
   "cell_type": "markdown",
   "id": "49990260-0cb8-4741-9cec-2f595d30cb87",
   "metadata": {},
   "source": [
    "The output of `df.isnull().sum()` will reveal if there are any missing values remaining. If there are, strategies like imputation or exclusion could be considered, depending on the context and amount of missing data."
   ]
  },
  {
   "cell_type": "markdown",
   "id": "bf701ff8-2712-4525-9806-21ba49d4de7f",
   "metadata": {},
   "source": [
    "#### Examine Unique Values"
   ]
  },
  {
   "cell_type": "code",
   "execution_count": 6,
   "id": "e14c5e42-f214-468e-9d2c-7e7e788981d5",
   "metadata": {},
   "outputs": [
    {
     "data": {
      "text/plain": [
       "array(['S', 'C', 'Q'], dtype=object)"
      ]
     },
     "execution_count": 6,
     "metadata": {},
     "output_type": "execute_result"
    }
   ],
   "source": [
    "# Example for a categorical column 'Embarked'\n",
    "df['Embarked'].unique()"
   ]
  },
  {
   "cell_type": "markdown",
   "id": "fdbd7a35-17b4-4e1e-aec1-58533c58008c",
   "metadata": {},
   "source": [
    "This command uses the `.unique()` method to list all unique values in a categorical column, in this case, 'Embarked'. It helps in identifying the distinct categories and checking for any inconsistencies or mislabeled categories."
   ]
  },
  {
   "cell_type": "markdown",
   "id": "57753f02-8c79-42c5-9018-8abf137f986b",
   "metadata": {},
   "source": [
    "By examining the unique values in categorical columns (using `.unique()` or `.value_counts()`), we can gain insights into the range and distribution of categories. It also helps to spot any inconsistencies, like misspelled categories."
   ]
  },
  {
   "cell_type": "markdown",
   "id": "85441f4b-f60a-4920-af58-74b7fbaf02aa",
   "metadata": {},
   "source": [
    "#### Data Consistency Check"
   ]
  },
  {
   "cell_type": "code",
   "execution_count": 7,
   "id": "03c37d66-8289-4069-9afc-4be4d0719412",
   "metadata": {},
   "outputs": [
    {
     "data": {
      "text/plain": [
       "count    891.000000\n",
       "mean      29.699118\n",
       "std       13.002015\n",
       "min        0.420000\n",
       "25%       22.000000\n",
       "50%       29.699118\n",
       "75%       35.000000\n",
       "max       80.000000\n",
       "Name: Age, dtype: float64"
      ]
     },
     "execution_count": 7,
     "metadata": {},
     "output_type": "execute_result"
    }
   ],
   "source": [
    "# Example for checking consistency in a numerical column 'Age'\n",
    "df['Age'].describe()"
   ]
  },
  {
   "cell_type": "markdown",
   "id": "e020a5a1-7f77-4e02-a39d-948d5b4eed61",
   "metadata": {},
   "source": [
    "This code uses the `.describe()` method on a numerical column, here 'Age', to provide descriptive statistics. It's useful for identifying any unrealistic or out-of-range values (like a negative age)."
   ]
  },
  {
   "cell_type": "markdown",
   "id": "c08a0bfe-ae99-464a-acf2-8dacc76df23b",
   "metadata": {},
   "source": [
    "Checking the consistency of the data, especially with `.describe()` for numerical columns, helps identify any anomalies or inconsistencies. For example, a negative value in the 'Age' column would be unrealistic and warrant further investigation."
   ]
  },
  {
   "cell_type": "markdown",
   "id": "2758b867-18fc-4e3a-8cd6-cb928b7c86cc",
   "metadata": {
    "jp-MarkdownHeadingCollapsed": true,
    "tags": []
   },
   "source": [
    "## Data preprocessing - Handling Outliers in `Fare` and `Age`"
   ]
  },
  {
   "cell_type": "markdown",
   "id": "64bee09f-939f-46d8-83ef-502571342a56",
   "metadata": {},
   "source": [
    "### For `Fare` column"
   ]
  },
  {
   "cell_type": "markdown",
   "id": "b5d30bbb-0051-4983-b4b9-43337f7e45a6",
   "metadata": {},
   "source": [
    "#### Visualize Outliers for 'Fare'"
   ]
  },
  {
   "cell_type": "code",
   "execution_count": 36,
   "id": "6cd7e6d4-39a9-41f4-867e-4702c4fba60b",
   "metadata": {},
   "outputs": [
    {
     "data": {
      "image/png": "[encoded data removed]",
      "text/plain": [
       "<Figure size 432x288 with 1 Axes>"
      ]
     },
     "metadata": {
      "needs_background": "light"
     },
     "output_type": "display_data"
    }
   ],
   "source": [
    "# Box plot for Fare\n",
    "sns.boxplot(x=df['Fare'])\n",
    "plt.show()"
   ]
  },
  {
   "cell_type": "markdown",
   "id": "63376c3b-4ca7-4809-a449-879f51579352",
   "metadata": {},
   "source": [
    "The box plot for 'Fare' visually represents the data distribution and highlights outliers, helping to confirm the presence of outliers identified by the IQR method."
   ]
  },
  {
   "cell_type": "markdown",
   "id": "76462508-81c6-485e-ad7a-c1559174c745",
   "metadata": {},
   "source": [
    "#### Identify Outliers for 'Fare':"
   ]
  },
  {
   "cell_type": "code",
   "execution_count": 37,
   "id": "3aca42f8-bda1-4111-a88b-d6d698e628ac",
   "metadata": {},
   "outputs": [
    {
     "data": {
      "text/html": [
       "<div>\n",
       "<style scoped>\n",
       "    .dataframe tbody tr th:only-of-type {\n",
       "        vertical-align: middle;\n",
       "    }\n",
       "\n",
       "    .dataframe tbody tr th {\n",
       "        vertical-align: top;\n",
       "    }\n",
       "\n",
       "    .dataframe thead th {\n",
       "        text-align: right;\n",
       "    }\n",
       "</style>\n",
       "<table border=\"1\" class=\"dataframe\">\n",
       "  <thead>\n",
       "    <tr style=\"text-align: right;\">\n",
       "      <th></th>\n",
       "      <th>Age</th>\n",
       "      <th>Sex</th>\n",
       "      <th>Pclass</th>\n",
       "      <th>Fare</th>\n",
       "      <th>SibSp</th>\n",
       "      <th>Parch</th>\n",
       "      <th>Embarked</th>\n",
       "      <th>Family_Size</th>\n",
       "    </tr>\n",
       "  </thead>\n",
       "  <tbody>\n",
       "    <tr>\n",
       "      <th>1</th>\n",
       "      <td>38.000000</td>\n",
       "      <td>female</td>\n",
       "      <td>1</td>\n",
       "      <td>71.2833</td>\n",
       "      <td>1</td>\n",
       "      <td>0</td>\n",
       "      <td>C</td>\n",
       "      <td>1</td>\n",
       "    </tr>\n",
       "    <tr>\n",
       "      <th>27</th>\n",
       "      <td>19.000000</td>\n",
       "      <td>male</td>\n",
       "      <td>1</td>\n",
       "      <td>263.0000</td>\n",
       "      <td>3</td>\n",
       "      <td>2</td>\n",
       "      <td>S</td>\n",
       "      <td>5</td>\n",
       "    </tr>\n",
       "    <tr>\n",
       "      <th>31</th>\n",
       "      <td>29.699118</td>\n",
       "      <td>female</td>\n",
       "      <td>1</td>\n",
       "      <td>146.5208</td>\n",
       "      <td>1</td>\n",
       "      <td>0</td>\n",
       "      <td>C</td>\n",
       "      <td>1</td>\n",
       "    </tr>\n",
       "    <tr>\n",
       "      <th>34</th>\n",
       "      <td>28.000000</td>\n",
       "      <td>male</td>\n",
       "      <td>1</td>\n",
       "      <td>82.1708</td>\n",
       "      <td>1</td>\n",
       "      <td>0</td>\n",
       "      <td>C</td>\n",
       "      <td>1</td>\n",
       "    </tr>\n",
       "    <tr>\n",
       "      <th>52</th>\n",
       "      <td>49.000000</td>\n",
       "      <td>female</td>\n",
       "      <td>1</td>\n",
       "      <td>76.7292</td>\n",
       "      <td>1</td>\n",
       "      <td>0</td>\n",
       "      <td>C</td>\n",
       "      <td>1</td>\n",
       "    </tr>\n",
       "    <tr>\n",
       "      <th>...</th>\n",
       "      <td>...</td>\n",
       "      <td>...</td>\n",
       "      <td>...</td>\n",
       "      <td>...</td>\n",
       "      <td>...</td>\n",
       "      <td>...</td>\n",
       "      <td>...</td>\n",
       "      <td>...</td>\n",
       "    </tr>\n",
       "    <tr>\n",
       "      <th>846</th>\n",
       "      <td>29.699118</td>\n",
       "      <td>male</td>\n",
       "      <td>3</td>\n",
       "      <td>69.5500</td>\n",
       "      <td>8</td>\n",
       "      <td>2</td>\n",
       "      <td>S</td>\n",
       "      <td>10</td>\n",
       "    </tr>\n",
       "    <tr>\n",
       "      <th>849</th>\n",
       "      <td>29.699118</td>\n",
       "      <td>female</td>\n",
       "      <td>1</td>\n",
       "      <td>89.1042</td>\n",
       "      <td>1</td>\n",
       "      <td>0</td>\n",
       "      <td>C</td>\n",
       "      <td>1</td>\n",
       "    </tr>\n",
       "    <tr>\n",
       "      <th>856</th>\n",
       "      <td>45.000000</td>\n",
       "      <td>female</td>\n",
       "      <td>1</td>\n",
       "      <td>164.8667</td>\n",
       "      <td>1</td>\n",
       "      <td>1</td>\n",
       "      <td>S</td>\n",
       "      <td>2</td>\n",
       "    </tr>\n",
       "    <tr>\n",
       "      <th>863</th>\n",
       "      <td>29.699118</td>\n",
       "      <td>female</td>\n",
       "      <td>3</td>\n",
       "      <td>69.5500</td>\n",
       "      <td>8</td>\n",
       "      <td>2</td>\n",
       "      <td>S</td>\n",
       "      <td>10</td>\n",
       "    </tr>\n",
       "    <tr>\n",
       "      <th>879</th>\n",
       "      <td>56.000000</td>\n",
       "      <td>female</td>\n",
       "      <td>1</td>\n",
       "      <td>83.1583</td>\n",
       "      <td>0</td>\n",
       "      <td>1</td>\n",
       "      <td>C</td>\n",
       "      <td>1</td>\n",
       "    </tr>\n",
       "  </tbody>\n",
       "</table>\n",
       "<p>116 rows × 8 columns</p>\n",
       "</div>"
      ],
      "text/plain": [
       "           Age     Sex  Pclass      Fare  SibSp  Parch Embarked  Family_Size\n",
       "1    38.000000  female       1   71.2833      1      0        C            1\n",
       "27   19.000000    male       1  263.0000      3      2        S            5\n",
       "31   29.699118  female       1  146.5208      1      0        C            1\n",
       "34   28.000000    male       1   82.1708      1      0        C            1\n",
       "52   49.000000  female       1   76.7292      1      0        C            1\n",
       "..         ...     ...     ...       ...    ...    ...      ...          ...\n",
       "846  29.699118    male       3   69.5500      8      2        S           10\n",
       "849  29.699118  female       1   89.1042      1      0        C            1\n",
       "856  45.000000  female       1  164.8667      1      1        S            2\n",
       "863  29.699118  female       3   69.5500      8      2        S           10\n",
       "879  56.000000  female       1   83.1583      0      1        C            1\n",
       "\n",
       "[116 rows x 8 columns]"
      ]
     },
     "execution_count": 37,
     "metadata": {},
     "output_type": "execute_result"
    }
   ],
   "source": [
    "# Calculate IQR for Fare\n",
    "Q1_fare, Q3_fare = df['Fare'].quantile([0.25, 0.75])\n",
    "IQR_fare = Q3_fare - Q1_fare\n",
    "\n",
    "# Define outliers for Fare\n",
    "outliers_fare = df[(df['Fare'] < (Q1_fare - 1.5 * IQR_fare)) | (df['Fare'] > (Q3_fare + 1.5 * IQR_fare))]\n",
    "outliers_fare"
   ]
  },
  {
   "cell_type": "markdown",
   "id": "2908edfa-ef97-4ff7-abc3-479335f0261c",
   "metadata": {},
   "source": [
    "The IQR method identifies outliers in 'Fare'. This is particularly important for 'Fare' as it can have a wide range of values and may be heavily skewed by very high ticket prices."
   ]
  },
  {
   "cell_type": "markdown",
   "id": "f439327b-f1e3-4f8d-906e-b82718c8a6a5",
   "metadata": {},
   "source": [
    "#### Handling Outliers for 'Fare'"
   ]
  },
  {
   "cell_type": "code",
   "execution_count": 60,
   "id": "26ee4672-b203-4652-9117-61c9984d6d02",
   "metadata": {},
   "outputs": [
    {
     "data": {
      "text/html": [
       "<div>\n",
       "<style scoped>\n",
       "    .dataframe tbody tr th:only-of-type {\n",
       "        vertical-align: middle;\n",
       "    }\n",
       "\n",
       "    .dataframe tbody tr th {\n",
       "        vertical-align: top;\n",
       "    }\n",
       "\n",
       "    .dataframe thead th {\n",
       "        text-align: right;\n",
       "    }\n",
       "</style>\n",
       "<table border=\"1\" class=\"dataframe\">\n",
       "  <thead>\n",
       "    <tr style=\"text-align: right;\">\n",
       "      <th></th>\n",
       "      <th>PassengerId</th>\n",
       "      <th>Survived</th>\n",
       "      <th>Pclass</th>\n",
       "      <th>Name</th>\n",
       "      <th>Sex</th>\n",
       "      <th>Age</th>\n",
       "      <th>SibSp</th>\n",
       "      <th>Parch</th>\n",
       "      <th>Ticket</th>\n",
       "      <th>Fare</th>\n",
       "      <th>Embarked</th>\n",
       "      <th>Fare_Log</th>\n",
       "    </tr>\n",
       "  </thead>\n",
       "  <tbody>\n",
       "    <tr>\n",
       "      <th>0</th>\n",
       "      <td>1</td>\n",
       "      <td>0</td>\n",
       "      <td>3</td>\n",
       "      <td>Braund, Mr. Owen Harris</td>\n",
       "      <td>male</td>\n",
       "      <td>22.0</td>\n",
       "      <td>1</td>\n",
       "      <td>0</td>\n",
       "      <td>A/5 21171</td>\n",
       "      <td>7.2500</td>\n",
       "      <td>S</td>\n",
       "      <td>2.110213</td>\n",
       "    </tr>\n",
       "    <tr>\n",
       "      <th>1</th>\n",
       "      <td>2</td>\n",
       "      <td>1</td>\n",
       "      <td>1</td>\n",
       "      <td>Cumings, Mrs. John Bradley (Florence Briggs Th...</td>\n",
       "      <td>female</td>\n",
       "      <td>38.0</td>\n",
       "      <td>1</td>\n",
       "      <td>0</td>\n",
       "      <td>PC 17599</td>\n",
       "      <td>71.2833</td>\n",
       "      <td>C</td>\n",
       "      <td>4.280593</td>\n",
       "    </tr>\n",
       "    <tr>\n",
       "      <th>2</th>\n",
       "      <td>3</td>\n",
       "      <td>1</td>\n",
       "      <td>3</td>\n",
       "      <td>Heikkinen, Miss. Laina</td>\n",
       "      <td>female</td>\n",
       "      <td>26.0</td>\n",
       "      <td>0</td>\n",
       "      <td>0</td>\n",
       "      <td>STON/O2. 3101282</td>\n",
       "      <td>7.9250</td>\n",
       "      <td>S</td>\n",
       "      <td>2.188856</td>\n",
       "    </tr>\n",
       "    <tr>\n",
       "      <th>3</th>\n",
       "      <td>4</td>\n",
       "      <td>1</td>\n",
       "      <td>1</td>\n",
       "      <td>Futrelle, Mrs. Jacques Heath (Lily May Peel)</td>\n",
       "      <td>female</td>\n",
       "      <td>35.0</td>\n",
       "      <td>1</td>\n",
       "      <td>0</td>\n",
       "      <td>113803</td>\n",
       "      <td>53.1000</td>\n",
       "      <td>S</td>\n",
       "      <td>3.990834</td>\n",
       "    </tr>\n",
       "    <tr>\n",
       "      <th>4</th>\n",
       "      <td>5</td>\n",
       "      <td>0</td>\n",
       "      <td>3</td>\n",
       "      <td>Allen, Mr. William Henry</td>\n",
       "      <td>male</td>\n",
       "      <td>35.0</td>\n",
       "      <td>0</td>\n",
       "      <td>0</td>\n",
       "      <td>373450</td>\n",
       "      <td>8.0500</td>\n",
       "      <td>S</td>\n",
       "      <td>2.202765</td>\n",
       "    </tr>\n",
       "  </tbody>\n",
       "</table>\n",
       "</div>"
      ],
      "text/plain": [
       "   PassengerId  Survived  Pclass  \\\n",
       "0            1         0       3   \n",
       "1            2         1       1   \n",
       "2            3         1       3   \n",
       "3            4         1       1   \n",
       "4            5         0       3   \n",
       "\n",
       "                                                Name     Sex   Age  SibSp  \\\n",
       "0                            Braund, Mr. Owen Harris    male  22.0      1   \n",
       "1  Cumings, Mrs. John Bradley (Florence Briggs Th...  female  38.0      1   \n",
       "2                             Heikkinen, Miss. Laina  female  26.0      0   \n",
       "3       Futrelle, Mrs. Jacques Heath (Lily May Peel)  female  35.0      1   \n",
       "4                           Allen, Mr. William Henry    male  35.0      0   \n",
       "\n",
       "   Parch            Ticket     Fare Embarked  Fare_Log  \n",
       "0      0         A/5 21171   7.2500        S  2.110213  \n",
       "1      0          PC 17599  71.2833        C  4.280593  \n",
       "2      0  STON/O2. 3101282   7.9250        S  2.188856  \n",
       "3      0            113803  53.1000        S  3.990834  \n",
       "4      0            373450   8.0500        S  2.202765  "
      ]
     },
     "execution_count": 60,
     "metadata": {},
     "output_type": "execute_result"
    }
   ],
   "source": [
    "# Handling outliers in Fare - log transformation\n",
    "df['Fare_Log'] = np.log(df['Fare'] + 1)\n",
    "df.head()"
   ]
  },
  {
   "cell_type": "markdown",
   "id": "f4b04591-5d73-4ed5-9511-7954e74b59e5",
   "metadata": {},
   "source": [
    "A log transformation is applied to 'Fare' to reduce skewness due to very high values. The transformation helps in normalizing the distribution of 'Fare' for better modeling."
   ]
  },
  {
   "cell_type": "markdown",
   "id": "dc594f54-00a2-421f-ae83-9611f935b12f",
   "metadata": {},
   "source": [
    "### For `Age` column"
   ]
  },
  {
   "cell_type": "code",
   "execution_count": 40,
   "id": "834224a6-9982-4120-aac8-cc653b5a987b",
   "metadata": {},
   "outputs": [
    {
     "data": {
      "image/png": "[encoded data removed]",
      "text/plain": [
       "<Figure size 432x288 with 1 Axes>"
      ]
     },
     "metadata": {
      "needs_background": "light"
     },
     "output_type": "display_data"
    }
   ],
   "source": [
    "# Box plot for Fare\n",
    "sns.boxplot(x=df['Age'])\n",
    "plt.show()"
   ]
  },
  {
   "cell_type": "code",
   "execution_count": 41,
   "id": "4b77c0ea-90e6-4d2c-93a2-97f0f955d2b9",
   "metadata": {},
   "outputs": [
    {
     "data": {
      "text/plain": [
       "count    891.000000\n",
       "mean      29.699118\n",
       "std       13.002015\n",
       "min        0.420000\n",
       "25%       22.000000\n",
       "50%       29.699118\n",
       "75%       35.000000\n",
       "max       80.000000\n",
       "Name: Age, dtype: float64"
      ]
     },
     "execution_count": 41,
     "metadata": {},
     "output_type": "execute_result"
    }
   ],
   "source": [
    "df['Age'].describe()"
   ]
  },
  {
   "cell_type": "markdown",
   "id": "bb1ddc90-ab41-4fc9-afaf-dba233191009",
   "metadata": {},
   "source": [
    "- **Note on 'Age' Column:**\n",
    "\n",
    "    - Given the historical context of the Titanic dataset, where passengers ranged from infants to elderly individuals, the age range of 0.42 to 80 years is considered realistic and credible. Therefore, no outlier handling is necessary for the 'Age' column.\n",
    "    - Binning could be an option for categorizing 'Age' into groups (e.g., child, adult, senior), but for the current analysis, we will leave 'Age' as it is."
   ]
  },
  {
   "cell_type": "markdown",
   "id": "5707e797-7dd7-45fc-8945-2a79427f3c96",
   "metadata": {},
   "source": [
    "No outlier treatment was deemed necessary for the 'Age' column, as the range of 0.42 to 80 years is credible and aligns with the historical context. \n",
    "\n",
    "Binning is a consideration for future analyses but is not employed at this stage."
   ]
  },
  {
   "cell_type": "markdown",
   "id": "c071e985-6695-4fde-abc7-3f8eb5d7a700",
   "metadata": {
    "jp-MarkdownHeadingCollapsed": true,
    "tags": []
   },
   "source": [
    "## Feature Selection and Engineering"
   ]
  },
  {
   "cell_type": "markdown",
   "id": "de86e04b-1471-4ed6-907d-207b8b8dbb11",
   "metadata": {},
   "source": [
    "### Identify Relevant Features"
   ]
  },
  {
   "cell_type": "code",
   "execution_count": 61,
   "id": "f3d4de49-56a9-4d92-9d97-b2b6f037802f",
   "metadata": {},
   "outputs": [
    {
     "data": {
      "text/html": [
       "<div>\n",
       "<style scoped>\n",
       "    .dataframe tbody tr th:only-of-type {\n",
       "        vertical-align: middle;\n",
       "    }\n",
       "\n",
       "    .dataframe tbody tr th {\n",
       "        vertical-align: top;\n",
       "    }\n",
       "\n",
       "    .dataframe thead th {\n",
       "        text-align: right;\n",
       "    }\n",
       "</style>\n",
       "<table border=\"1\" class=\"dataframe\">\n",
       "  <thead>\n",
       "    <tr style=\"text-align: right;\">\n",
       "      <th></th>\n",
       "      <th>Age</th>\n",
       "      <th>Sex</th>\n",
       "      <th>Pclass</th>\n",
       "      <th>Fare_Log</th>\n",
       "      <th>SibSp</th>\n",
       "      <th>Parch</th>\n",
       "      <th>Embarked</th>\n",
       "    </tr>\n",
       "  </thead>\n",
       "  <tbody>\n",
       "    <tr>\n",
       "      <th>0</th>\n",
       "      <td>22.0</td>\n",
       "      <td>male</td>\n",
       "      <td>3</td>\n",
       "      <td>2.110213</td>\n",
       "      <td>1</td>\n",
       "      <td>0</td>\n",
       "      <td>S</td>\n",
       "    </tr>\n",
       "    <tr>\n",
       "      <th>1</th>\n",
       "      <td>38.0</td>\n",
       "      <td>female</td>\n",
       "      <td>1</td>\n",
       "      <td>4.280593</td>\n",
       "      <td>1</td>\n",
       "      <td>0</td>\n",
       "      <td>C</td>\n",
       "    </tr>\n",
       "    <tr>\n",
       "      <th>2</th>\n",
       "      <td>26.0</td>\n",
       "      <td>female</td>\n",
       "      <td>3</td>\n",
       "      <td>2.188856</td>\n",
       "      <td>0</td>\n",
       "      <td>0</td>\n",
       "      <td>S</td>\n",
       "    </tr>\n",
       "    <tr>\n",
       "      <th>3</th>\n",
       "      <td>35.0</td>\n",
       "      <td>female</td>\n",
       "      <td>1</td>\n",
       "      <td>3.990834</td>\n",
       "      <td>1</td>\n",
       "      <td>0</td>\n",
       "      <td>S</td>\n",
       "    </tr>\n",
       "    <tr>\n",
       "      <th>4</th>\n",
       "      <td>35.0</td>\n",
       "      <td>male</td>\n",
       "      <td>3</td>\n",
       "      <td>2.202765</td>\n",
       "      <td>0</td>\n",
       "      <td>0</td>\n",
       "      <td>S</td>\n",
       "    </tr>\n",
       "  </tbody>\n",
       "</table>\n",
       "</div>"
      ],
      "text/plain": [
       "    Age     Sex  Pclass  Fare_Log  SibSp  Parch Embarked\n",
       "0  22.0    male       3  2.110213      1      0        S\n",
       "1  38.0  female       1  4.280593      1      0        C\n",
       "2  26.0  female       3  2.188856      0      0        S\n",
       "3  35.0  female       1  3.990834      1      0        S\n",
       "4  35.0    male       3  2.202765      0      0        S"
      ]
     },
     "execution_count": 61,
     "metadata": {},
     "output_type": "execute_result"
    }
   ],
   "source": [
    "# Selecting relevant features\n",
    "selected_features = ['Age', 'Sex', 'Pclass', 'Fare_Log', 'SibSp', 'Parch', 'Embarked']\n",
    "df_features= df[selected_features].copy()\n",
    "df_features.head()"
   ]
  },
  {
   "cell_type": "markdown",
   "id": "06c322fb-7815-42b7-9c72-413896c24867",
   "metadata": {},
   "source": [
    "In this step, relevant features are selected based on their potential impact on the survival outcome. Features like 'Age', 'Sex', 'Pclass', etc., are chosen because they are historically and logically significant in the context of the Titanic disaster.\n",
    "\n",
    "Features were selected based on their potential impact on survival. Selected features include 'Age', 'Sex', 'Pclass', 'Fare_Log', 'SibSp', 'Parch', and 'Embarked'."
   ]
  },
  {
   "cell_type": "markdown",
   "id": "e0cb6b6d-7d84-46cd-88f3-542257a2690e",
   "metadata": {},
   "source": [
    "### Feature Engineering"
   ]
  },
  {
   "cell_type": "code",
   "execution_count": 62,
   "id": "e21aab15-ef15-442b-ba9f-037dd94a6839",
   "metadata": {},
   "outputs": [
    {
     "data": {
      "text/html": [
       "<div>\n",
       "<style scoped>\n",
       "    .dataframe tbody tr th:only-of-type {\n",
       "        vertical-align: middle;\n",
       "    }\n",
       "\n",
       "    .dataframe tbody tr th {\n",
       "        vertical-align: top;\n",
       "    }\n",
       "\n",
       "    .dataframe thead th {\n",
       "        text-align: right;\n",
       "    }\n",
       "</style>\n",
       "<table border=\"1\" class=\"dataframe\">\n",
       "  <thead>\n",
       "    <tr style=\"text-align: right;\">\n",
       "      <th></th>\n",
       "      <th>Age</th>\n",
       "      <th>Sex</th>\n",
       "      <th>Pclass</th>\n",
       "      <th>Fare_Log</th>\n",
       "      <th>Embarked</th>\n",
       "      <th>Family_Size</th>\n",
       "    </tr>\n",
       "  </thead>\n",
       "  <tbody>\n",
       "    <tr>\n",
       "      <th>0</th>\n",
       "      <td>22.0</td>\n",
       "      <td>male</td>\n",
       "      <td>3</td>\n",
       "      <td>2.110213</td>\n",
       "      <td>S</td>\n",
       "      <td>1</td>\n",
       "    </tr>\n",
       "    <tr>\n",
       "      <th>1</th>\n",
       "      <td>38.0</td>\n",
       "      <td>female</td>\n",
       "      <td>1</td>\n",
       "      <td>4.280593</td>\n",
       "      <td>C</td>\n",
       "      <td>1</td>\n",
       "    </tr>\n",
       "    <tr>\n",
       "      <th>2</th>\n",
       "      <td>26.0</td>\n",
       "      <td>female</td>\n",
       "      <td>3</td>\n",
       "      <td>2.188856</td>\n",
       "      <td>S</td>\n",
       "      <td>0</td>\n",
       "    </tr>\n",
       "    <tr>\n",
       "      <th>3</th>\n",
       "      <td>35.0</td>\n",
       "      <td>female</td>\n",
       "      <td>1</td>\n",
       "      <td>3.990834</td>\n",
       "      <td>S</td>\n",
       "      <td>1</td>\n",
       "    </tr>\n",
       "    <tr>\n",
       "      <th>4</th>\n",
       "      <td>35.0</td>\n",
       "      <td>male</td>\n",
       "      <td>3</td>\n",
       "      <td>2.202765</td>\n",
       "      <td>S</td>\n",
       "      <td>0</td>\n",
       "    </tr>\n",
       "  </tbody>\n",
       "</table>\n",
       "</div>"
      ],
      "text/plain": [
       "    Age     Sex  Pclass  Fare_Log Embarked  Family_Size\n",
       "0  22.0    male       3  2.110213        S            1\n",
       "1  38.0  female       1  4.280593        C            1\n",
       "2  26.0  female       3  2.188856        S            0\n",
       "3  35.0  female       1  3.990834        S            1\n",
       "4  35.0    male       3  2.202765        S            0"
      ]
     },
     "execution_count": 62,
     "metadata": {},
     "output_type": "execute_result"
    }
   ],
   "source": [
    "df_features['Family_Size'] = df_features['SibSp'] + df_features['Parch']\n",
    "# Droped the columns SibSp and Parch\n",
    "df_features.drop([\"SibSp\",\"Parch\"], axis= 1, inplace = True)\n",
    "# Review the changes\n",
    "df_features.head()"
   ]
  },
  {
   "cell_type": "markdown",
   "id": "8cecec85-8545-4e31-8e77-2a78178513e2",
   "metadata": {},
   "source": [
    "`Family_Size` is engineered by combining `SibSp` (number of siblings/spouses aboard) and `Parch` (number of parents/children aboard). This new feature could provide a more holistic view of a passenger's family size, which might affect survival chances.\n",
    "\n",
    "The new feature `Family_Size` was created to potentially capture the effect of having family members on board on survival chances."
   ]
  },
  {
   "cell_type": "markdown",
   "id": "e2412b74-6f05-4832-967f-ce18727d938a",
   "metadata": {},
   "source": [
    "### Handling Categorical Variables"
   ]
  },
  {
   "cell_type": "code",
   "execution_count": 63,
   "id": "ec9040d4-a685-4d87-be3c-1ef33f78aa3a",
   "metadata": {},
   "outputs": [
    {
     "data": {
      "text/html": [
       "<div>\n",
       "<style scoped>\n",
       "    .dataframe tbody tr th:only-of-type {\n",
       "        vertical-align: middle;\n",
       "    }\n",
       "\n",
       "    .dataframe tbody tr th {\n",
       "        vertical-align: top;\n",
       "    }\n",
       "\n",
       "    .dataframe thead th {\n",
       "        text-align: right;\n",
       "    }\n",
       "</style>\n",
       "<table border=\"1\" class=\"dataframe\">\n",
       "  <thead>\n",
       "    <tr style=\"text-align: right;\">\n",
       "      <th></th>\n",
       "      <th>Age</th>\n",
       "      <th>Pclass</th>\n",
       "      <th>Fare_Log</th>\n",
       "      <th>Family_Size</th>\n",
       "      <th>Sex_male</th>\n",
       "      <th>Embarked_Q</th>\n",
       "      <th>Embarked_S</th>\n",
       "    </tr>\n",
       "  </thead>\n",
       "  <tbody>\n",
       "    <tr>\n",
       "      <th>0</th>\n",
       "      <td>22.0</td>\n",
       "      <td>3</td>\n",
       "      <td>2.110213</td>\n",
       "      <td>1</td>\n",
       "      <td>1</td>\n",
       "      <td>0</td>\n",
       "      <td>1</td>\n",
       "    </tr>\n",
       "    <tr>\n",
       "      <th>1</th>\n",
       "      <td>38.0</td>\n",
       "      <td>1</td>\n",
       "      <td>4.280593</td>\n",
       "      <td>1</td>\n",
       "      <td>0</td>\n",
       "      <td>0</td>\n",
       "      <td>0</td>\n",
       "    </tr>\n",
       "    <tr>\n",
       "      <th>2</th>\n",
       "      <td>26.0</td>\n",
       "      <td>3</td>\n",
       "      <td>2.188856</td>\n",
       "      <td>0</td>\n",
       "      <td>0</td>\n",
       "      <td>0</td>\n",
       "      <td>1</td>\n",
       "    </tr>\n",
       "    <tr>\n",
       "      <th>3</th>\n",
       "      <td>35.0</td>\n",
       "      <td>1</td>\n",
       "      <td>3.990834</td>\n",
       "      <td>1</td>\n",
       "      <td>0</td>\n",
       "      <td>0</td>\n",
       "      <td>1</td>\n",
       "    </tr>\n",
       "    <tr>\n",
       "      <th>4</th>\n",
       "      <td>35.0</td>\n",
       "      <td>3</td>\n",
       "      <td>2.202765</td>\n",
       "      <td>0</td>\n",
       "      <td>1</td>\n",
       "      <td>0</td>\n",
       "      <td>1</td>\n",
       "    </tr>\n",
       "  </tbody>\n",
       "</table>\n",
       "</div>"
      ],
      "text/plain": [
       "    Age  Pclass  Fare_Log  Family_Size  Sex_male  Embarked_Q  Embarked_S\n",
       "0  22.0       3  2.110213            1         1           0           1\n",
       "1  38.0       1  4.280593            1         0           0           0\n",
       "2  26.0       3  2.188856            0         0           0           1\n",
       "3  35.0       1  3.990834            1         0           0           1\n",
       "4  35.0       3  2.202765            0         1           0           1"
      ]
     },
     "execution_count": 63,
     "metadata": {},
     "output_type": "execute_result"
    }
   ],
   "source": [
    "# Converting categorical variables using one-hot encoding\n",
    "df_features = pd.get_dummies(df_features, columns=['Sex', 'Embarked'], drop_first = True)\n",
    "# Check the changes\n",
    "df_features.head()"
   ]
  },
  {
   "cell_type": "markdown",
   "id": "c8e0899d-f11b-458b-8a95-2b48566e45bb",
   "metadata": {},
   "source": [
    "Categorical variables like `Sex` and `Embarked` are transformed into numerical form using one-hot encoding. This step is crucial for logistic regression, as it can only process numerical input.\n",
    "\n",
    "Categorical variables were transformed before splitting the data to ensure that the same categories are present in both training and test sets. One-hot encoding was used for the transformation."
   ]
  },
  {
   "cell_type": "markdown",
   "id": "ce2bed0f-2c52-4de3-8ba8-d1921dcf463a",
   "metadata": {
    "jp-MarkdownHeadingCollapsed": true,
    "tags": []
   },
   "source": [
    "## Data Splitting for Training and Testing"
   ]
  },
  {
   "cell_type": "markdown",
   "id": "9a68385e-05c4-40de-aab1-e863ed7b5f4c",
   "metadata": {},
   "source": [
    "### Define Features and Target"
   ]
  },
  {
   "cell_type": "code",
   "execution_count": 65,
   "id": "3814c934-9cc1-4055-a108-7473113fe3ff",
   "metadata": {},
   "outputs": [],
   "source": [
    "# Separating features and the target variable\n",
    "X = df_features. copy() # Features already selected in the previous task\n",
    "y = df['Survived']     # Target"
   ]
  },
  {
   "cell_type": "markdown",
   "id": "555ea856-7425-42d3-8dbc-a3f3bbcbf0cd",
   "metadata": {},
   "source": [
    "- The target variable ('Survived') is isolated from the main DataFrame.\n",
    "- df_features is used directly as the set of features for the model."
   ]
  },
  {
   "cell_type": "code",
   "execution_count": 67,
   "id": "877d9dc6-93e4-47ca-af40-4c3b2218d3d0",
   "metadata": {},
   "outputs": [],
   "source": [
    "# Splitting the dataset into training and testing sets\n",
    "X_train, X_test, y_train, y_test = train_test_split(X, y, test_size=0.2, random_state=123, stratify=y)"
   ]
  },
  {
   "cell_type": "markdown",
   "id": "587f6548-6a71-4fd2-a737-7a4ee7da1bfe",
   "metadata": {},
   "source": [
    "The `train_test_split` function from `sklearn.model_selection` is used to split the dataset. Here, 20% of the data is allocated to the test set (`test_size=0.2`), and the remaining 80% to the training set. This ratio is a common practice, balancing the need for training data with the need for a sufficient test set.\n",
    "\n",
    "The `stratify=y` parameter ensures that the target variable's categories are evenly represented in both the training and test sets. This is particularly important in classification problems to prevent the model from being biased toward the more common class.\n",
    "\n",
    "The `random_state=123` parameter ensures reproducibility. The same random seed means the split will be the same every time the code is run, which is crucial for consistent results across different runs.\n",
    "\n",
    "We set the random seed and stratification to ensure a reliable and reproducible split that maintains the integrity of the target variable's distribution."
   ]
  },
  {
   "cell_type": "markdown",
   "id": "b84c5f54-6112-43fc-99b1-2d017959a26d",
   "metadata": {},
   "source": [
    "## Logistic Regression Model Implementation"
   ]
  },
  {
   "cell_type": "markdown",
   "id": "4b2fd93b-d745-4d0b-bbea-d81eeed7cbf4",
   "metadata": {},
   "source": [
    "### Create the Model"
   ]
  },
  {
   "cell_type": "code",
   "execution_count": 70,
   "id": "5a367e0f-2c90-4c8a-bf49-10d22dc0b40b",
   "metadata": {},
   "outputs": [],
   "source": [
    "# Instantiate a Logistic Regression model\n",
    "model = LogisticRegression()"
   ]
  },
  {
   "cell_type": "markdown",
   "id": "5414ef3b-cbf0-419f-a116-3974a7597942",
   "metadata": {},
   "source": [
    "Here, an instance of the Logistic Regression model is created using its default parameters. This instance (`model`) will be used to train on the dataset and make predictions. Starting with the default parameters is a common practice and often serves as a baseline for further tuning."
   ]
  },
  {
   "cell_type": "markdown",
   "id": "a16fb69a-6664-4ce1-a270-9605bf1bb421",
   "metadata": {},
   "source": [
    "### Train the Model"
   ]
  },
  {
   "cell_type": "code",
   "execution_count": 71,
   "id": "354b8cc0-ad9c-4ed1-90d1-9f36d499cd87",
   "metadata": {},
   "outputs": [
    {
     "data": {
      "text/plain": [
       "LogisticRegression()"
      ]
     },
     "execution_count": 71,
     "metadata": {},
     "output_type": "execute_result"
    }
   ],
   "source": [
    "# Fit the model to the training data\n",
    "model.fit(X_train, y_train)"
   ]
  },
  {
   "cell_type": "markdown",
   "id": "30bd519a-67f7-4267-86a7-2cf35ec1fb30",
   "metadata": {},
   "source": [
    "The `fit` method is used to train the logistic regression model on the training data. `X_train` contains the feature variables, and `y_train` contains the corresponding target variable (survival status). This process involves the model learning the relationship between features and the target variable, which enables it to make predictions."
   ]
  },
  {
   "cell_type": "markdown",
   "id": "1d44f6d5-3010-4696-8a69-3469b2319ab9",
   "metadata": {},
   "source": [
    "## Model Evaluation and Metrics Understanding"
   ]
  },
  {
   "cell_type": "markdown",
   "id": "de987238-792c-48b2-8591-0549bd134777",
   "metadata": {},
   "source": [
    "### Predictions on Test Data"
   ]
  },
  {
   "cell_type": "code",
   "execution_count": 76,
   "id": "ee9a43ef-9c27-410b-8b3c-f5ddbb3a3e07",
   "metadata": {},
   "outputs": [
    {
     "data": {
      "text/plain": [
       "array([0, 1, 0, 1, 1, 0, 0, 0, 0, 1, 1, 0, 1, 0, 0, 1, 0, 1, 0, 0, 0, 0,\n",
       "       0, 0, 1, 0, 1, 0, 0, 1, 1, 1, 1, 0, 0, 0, 1, 1, 0, 1, 0, 1, 1, 1,\n",
       "       1, 0, 1, 1, 0, 0, 0, 0, 0, 0, 0, 0, 0, 1, 1, 0, 0, 0, 0, 0, 0, 0,\n",
       "       0, 0, 1, 0, 1, 1, 1, 1, 1, 0, 0, 0, 1, 0, 0, 0, 0, 1, 0, 1, 0, 0,\n",
       "       1, 1, 1, 0, 0, 0, 1, 0, 0, 0, 0, 0, 0, 0, 1, 0, 1, 1, 1, 1, 0, 0,\n",
       "       1, 0, 0, 0, 0, 0, 0, 0, 1, 0, 1, 0, 1, 0, 0, 0, 0, 1, 0, 0, 0, 1,\n",
       "       0, 0, 0, 0, 0, 1, 1, 0, 1, 0, 0, 0, 1, 1, 0, 1, 0, 0, 0, 0, 0, 1,\n",
       "       0, 0, 0, 1, 1, 0, 0, 0, 0, 1, 0, 0, 0, 1, 1, 0, 1, 0, 1, 0, 0, 0,\n",
       "       0, 0, 1], dtype=int64)"
      ]
     },
     "execution_count": 76,
     "metadata": {},
     "output_type": "execute_result"
    }
   ],
   "source": [
    "# Making predictions on the test set\n",
    "y_pred = model.predict(X_test)\n",
    "y_pred"
   ]
  },
  {
   "cell_type": "markdown",
   "id": "bf4dd11e-affd-4937-a051-56ab8758d211",
   "metadata": {},
   "source": [
    "This code uses the trained logistic regression model to make predictions on the test data (`X_test`). The model's `.predict()` method takes the features from the test set and outputs the predicted labels (`y_pred`)."
   ]
  },
  {
   "cell_type": "markdown",
   "id": "06ca40ff-0961-44d5-9f11-0a7c1add9ee0",
   "metadata": {},
   "source": [
    "#### Confusion Matrix"
   ]
  },
  {
   "cell_type": "code",
   "execution_count": 75,
   "id": "7d4b85fb-6310-4905-b7b5-d379407d4c4d",
   "metadata": {},
   "outputs": [
    {
     "name": "stdout",
     "output_type": "stream",
     "text": [
      "[[96 14]\n",
      " [19 50]]\n"
     ]
    }
   ],
   "source": [
    "# Creating a confusion matrix\n",
    "conf_matrix = confusion_matrix(y_test, y_pred)\n",
    "print(conf_matrix)"
   ]
  },
  {
   "cell_type": "markdown",
   "id": "9c73a501-1076-426b-b6c9-b6e2e4ce725c",
   "metadata": {},
   "source": [
    "The confusion matrix is a table used to describe the performance of a classification model. It shows the true positives, true negatives, false positives, and false negatives. This matrix is instrumental in understanding where the model is making correct predictions and where it is failing."
   ]
  },
  {
   "cell_type": "markdown",
   "id": "85b37798-0d9d-4ad8-ac8e-7d0e5fb509e6",
   "metadata": {},
   "source": [
    "This matrix can be interpreted as follows:\n",
    "- **True Negatives (TN):** 96 instances were correctly predicted as not surviving.\n",
    "- **False Positives (FP):** 14 instances were incorrectly predicted as surviving (but actually did not survive).\n",
    "- **False Negatives (FN):** 19 instances were incorrectly predicted as not surviving (but actually did survive).\n",
    "- **True Positives (TP):** 50 instances were correctly predicted as surviving."
   ]
  },
  {
   "cell_type": "markdown",
   "id": "21afa2ea-134d-498a-a74e-222575b32e1b",
   "metadata": {},
   "source": [
    "### Generate Classification Report"
   ]
  },
  {
   "cell_type": "code",
   "execution_count": 74,
   "id": "e8250145-29ca-4aea-a5fe-2c69bd3513b7",
   "metadata": {},
   "outputs": [
    {
     "name": "stdout",
     "output_type": "stream",
     "text": [
      "              precision    recall  f1-score   support\n",
      "\n",
      "           0       0.83      0.87      0.85       110\n",
      "           1       0.78      0.72      0.75        69\n",
      "\n",
      "    accuracy                           0.82       179\n",
      "   macro avg       0.81      0.80      0.80       179\n",
      "weighted avg       0.81      0.82      0.81       179\n",
      "\n"
     ]
    }
   ],
   "source": [
    "# Generating a classification report\n",
    "class_report = classification_report(y_test, y_pred)\n",
    "print(class_report)"
   ]
  },
  {
   "cell_type": "markdown",
   "id": "d2a7ff97-337c-454e-9957-7ca2a0d052ab",
   "metadata": {},
   "source": [
    "The `classification_report` function generates a report that includes key metrics such as precision, recall, and f1-score for the model. These metrics provide a comprehensive view of the model's performance across different aspects, like its accuracy and ability to minimize false positives and negatives."
   ]
  },
  {
   "cell_type": "markdown",
   "id": "2f7e44a0-d760-4971-b7f1-ea0f57255937",
   "metadata": {},
   "source": [
    "**Classification Report Interpretation:**\n",
    "\n",
    "- **Precision for Class 0 (Not Survived):** 0.83 indicates that when the model predicts a passenger did not survive, it is correct about 83% of the time.\n",
    "- **Precision for Class 1 (Survived):** 0.78 shows that when the model predicts survival, it is correct about 78% of the time.\n",
    "- **Recall for Class 0 (Not Survived):** 0.87 means that the model correctly identifies 87% of all non-survivors.\n",
    "- **Recall for Class 1 (Survived):** 0.72 indicates that the model correctly identifies 72% of all actual survivors.\n",
    "- **F1-Score for Class 0 (Not Survived):** 0.85 suggests a good balance between precision and recall for the non-survivors.\n",
    "- **F1-Score for Class 1 (Survived):** 0.75 suggests a reasonably good balance between precision and recall for the survivors.\n",
    "\n",
    "\n",
    "- **Accuracy:** 0.82 indicates that the model correctly predicts the survival status in 82% of cases.\n",
    "\n",
    "- **Macro Avg:** The average precision, recall, and F1-score across both classes is around 0.80, without considering the class imbalance. This suggests a good overall performance of the model.\n",
    "- **Weighted Avg:** Weighted averages account for the imbalance between the classes. Here, it shows slightly higher values, indicating a good predictive performance of the model, especially considering the class distribution.\n"
   ]
  },
  {
   "cell_type": "markdown",
   "id": "e7bec3ac-195d-4680-9d9a-d45f868ce890",
   "metadata": {},
   "source": [
    "### **Overall Evaluation:**"
   ]
  },
  {
   "cell_type": "markdown",
   "id": "48c0880d-8a7c-4b70-96f7-e01dd4b5a5e3",
   "metadata": {},
   "source": [
    "- The model performs quite well in predicting survival on the Titanic, with a good balance between precision and recall across both classes.\n",
    "- The accuracy of 82% is quite good, considering the complexities and inherent uncertainties in predicting survival outcomes.\n",
    "- The slightly lower recall for Class 1 (Survived) compared to Class 0 (Not Survived) suggests the model is a bit more conservative in predicting survival.\n",
    "- The balanced F1-scores indicate that the model does not excessively favor precision over recall or vice versa.\n",
    "\n",
    "In summary, the model demonstrates solid performance, effectively balancing accuracy, precision, and recall. However, there may still be room for improvement, especially in enhancing the recall for the survival class without significantly compromising precision."
   ]
  },
  {
   "cell_type": "markdown",
   "id": "bc30834d-273c-438b-bdfd-5c9ab6ba6189",
   "metadata": {},
   "source": [
    "#### **In  general:**"
   ]
  },
  {
   "cell_type": "markdown",
   "id": "1a5e3e51-dedc-4459-8921-9ec49fdca740",
   "metadata": {},
   "source": [
    "**Analysis of Metrics:**\n",
    "\n",
    "- **Classification Report Analysis:**\n",
    "  The classification report gives an overview of the model's precision (accuracy of positive predictions), recall (ability to find all positive samples), and f1-score (a balance between precision and recall). High values in these metrics generally indicate a good model.\n",
    "\n",
    "- **Confusion Matrix Interpretation:**\n",
    "  The confusion matrix helps in visualizing the actual vs. predicted classifications. It shows how many instances were correctly or incorrectly classified by the model. It's especially useful for understanding the model's behavior in terms of type I (false positives) and type II (false negatives) errors.\n",
    "  \n",
    "   Overall Evaluation:\n",
    "Based on these metrics, the overall performance of the logistic regression model can be assessed in terms of its accuracy, reliability, and balance in handling different classes. A good model would have high values in precision, recall, and f1-score, and a balanced confusion matrix with high true positives and true negatives, and low false positives and negatives."
   ]
  },
  {
   "cell_type": "markdown",
   "id": "fa8d5e55-ad80-4161-b29a-3f6582de3de2",
   "metadata": {},
   "source": [
    "## Creating an ROC Curve for Model Evaluation"
   ]
  },
  {
   "cell_type": "markdown",
   "id": "2dcc0db5-6dbb-43f4-aa95-644596cd47be",
   "metadata": {},
   "source": [
    "### Probability Predictions"
   ]
  },
  {
   "cell_type": "code",
   "execution_count": 80,
   "id": "0bef2533-ae66-40c0-8a0f-f5175efe3c1d",
   "metadata": {},
   "outputs": [],
   "source": [
    "# Obtain probability scores for the test set\n",
    "y_proba = model.predict_proba(X_test)[:, 1]"
   ]
  },
  {
   "cell_type": "markdown",
   "id": "417b7c23-cbba-49f0-8814-00b172675fca",
   "metadata": {},
   "source": [
    "This code uses the `predict_proba` method of the logistic regression model to get the probability estimates of the positive class (survived) for each instance in the test set. The `[:, 1]` selects the probabilities for the class labeled as '1', which in this case represents 'survived'."
   ]
  },
  {
   "cell_type": "markdown",
   "id": "1d00817e-9c69-479d-8a52-b44da9ce296a",
   "metadata": {},
   "source": [
    "### Calculate ROC Metrics"
   ]
  },
  {
   "cell_type": "code",
   "execution_count": 82,
   "id": "17606297-a023-4af8-a950-2da4cd098d16",
   "metadata": {},
   "outputs": [],
   "source": [
    "# Compute the TPR and FPR at various threshold settings\n",
    "fpr, tpr, thresholds = roc_curve(y_test, y_proba)"
   ]
  },
  {
   "cell_type": "markdown",
   "id": "1ec9f2f8-8b4e-44eb-8775-aaf5ba463763",
   "metadata": {},
   "source": [
    "The `roc_curve` function calculates the false positive rate (FPR) and true positive rate (TPR) for various threshold values. FPR is the ratio of negative instances incorrectly classified as positive, while TPR (or recall) is the ratio of positive instances correctly identified."
   ]
  },
  {
   "cell_type": "markdown",
   "id": "5c1ce8bb-4389-4b32-ad5b-821ae408458c",
   "metadata": {},
   "source": [
    "### Generate the ROC Curve"
   ]
  },
  {
   "cell_type": "code",
   "execution_count": 83,
   "id": "723c0152-a05a-4f22-891a-5d826d0a682d",
   "metadata": {},
   "outputs": [
    {
     "data": {
      "image/png": "[encoded data removed]",
      "text/plain": [
       "<Figure size 576x432 with 1 Axes>"
      ]
     },
     "metadata": {
      "needs_background": "light"
     },
     "output_type": "display_data"
    }
   ],
   "source": [
    "# Plotting the ROC curve\n",
    "plt.figure(figsize=(8, 6))\n",
    "plt.plot(fpr, tpr, color='blue', lw=2, label='ROC curve')\n",
    "plt.plot([0, 1], [0, 1], color='darkgrey', lw=2, linestyle='--')\n",
    "plt.xlabel('False Positive Rate')\n",
    "plt.ylabel('True Positive Rate')\n",
    "plt.title('Receiver Operating Characteristic (ROC) Curve')\n",
    "plt.legend(loc=\"lower right\")\n",
    "plt.show()"
   ]
  },
  {
   "cell_type": "markdown",
   "id": "92423561-117f-4908-a56f-7e0ad7bdff61",
   "metadata": {},
   "source": [
    "### Compute the Area Under the Curve (AUC)"
   ]
  },
  {
   "cell_type": "code",
   "execution_count": 85,
   "id": "f8eb8f6b-24b2-435f-9322-648a46462544",
   "metadata": {},
   "outputs": [
    {
     "name": "stdout",
     "output_type": "stream",
     "text": [
      "Area Under the Curve (AUC): 0.8518445322793149\n"
     ]
    }
   ],
   "source": [
    "# Calculating the AUC\n",
    "roc_auc = roc_auc_score(y_test, y_proba)\n",
    "print(\"Area Under the Curve (AUC):\", roc_auc)"
   ]
  },
  {
   "cell_type": "markdown",
   "id": "ffc36b7f-dae9-44a4-afc3-46173a649862",
   "metadata": {},
   "source": [
    "The AUC value is computed using the `roc_auc_score` function. The AUC, or Area Under the Curve, measures the entire two-dimensional area underneath the ROC curve. AUC values range from 0 to 1, where a model that predicts perfectly has an AUC of 1, and a completely random model has an AUC of 0.5."
   ]
  },
  {
   "cell_type": "markdown",
   "id": "0810fa4d-bf10-4f1b-8721-4f4cb9b250d7",
   "metadata": {},
   "source": [
    "### Modified Code to Add AUC Value to the ROC Plot"
   ]
  },
  {
   "cell_type": "code",
   "execution_count": 86,
   "id": "f29744e3-6f10-4b73-9d36-fdba81166c28",
   "metadata": {},
   "outputs": [
    {
     "data": {
      "image/png": "[encoded data removed]",
      "text/plain": [
       "<Figure size 576x432 with 1 Axes>"
      ]
     },
     "metadata": {
      "needs_background": "light"
     },
     "output_type": "display_data"
    }
   ],
   "source": [
    "# Plotting the ROC curve\n",
    "plt.figure(figsize=(8, 6))\n",
    "plt.plot(fpr, tpr, color='blue', lw=2, label='ROC curve (AUC = %0.2f)' % roc_auc)\n",
    "plt.plot([0, 1], [0, 1], color='darkgrey', lw=2, linestyle='--')\n",
    "plt.xlabel('False Positive Rate')\n",
    "plt.ylabel('True Positive Rate')\n",
    "plt.title('Receiver Operating Characteristic (ROC) Curve')\n",
    "plt.legend(loc=\"lower right\")\n",
    "plt.show()"
   ]
  },
  {
   "cell_type": "markdown",
   "id": "d377617a-c51d-40f9-aab5-d1f31791ea7e",
   "metadata": {},
   "source": [
    "### Results Interpretation"
   ]
  },
  {
   "cell_type": "markdown",
   "id": "4d9af244-4138-4fec-ad44-39ebc77d3532",
   "metadata": {},
   "source": [
    "1. **AUC Value:**\n",
    "   - The area under the ROC curve (AUC) is 0.85. This is a strong performance indicator as it is significantly higher than 0.5, which would be the AUC for a model with no discriminative ability (equivalent to random guessing).\n",
    "\n",
    "2. **Curve Shape:**\n",
    "   - The curve rises steeply towards the top-left corner, indicating a good true positive rate for a given false positive rate, which means the model does a good job in distinguishing between the positive class (survived) and the negative class (did not survive).\n",
    "\n",
    "3. **Comparison to Baseline:**\n",
    "   - The ROC curve stays well above the dashed line, which represents the baseline (a random classifier). The farther the curve is from the dashed line, the better the model's predictive performance.\n",
    "\n",
    "4. **Predictive Power:**\n",
    "   - Given that the AUC is close to 1, we can say that the model has a good measure of separability. It means that it has a good chance of distinguishing between a randomly chosen positive instance (correctly predicting survival) and a randomly chosen negative instance (correctly predicting non-survival).\n",
    "\n",
    "In conclusion, the ROC curve suggests that the logistic regression model has a strong predictive power for this task. However, while the AUC provides a useful summary of the model performance, it should be interpreted along with other performance metrics and the specific context and costs of false positives and false negatives to make a comprehensive assessment of the model's utility."
   ]
  },
  {
   "cell_type": "markdown",
   "id": "97cbce38-315c-4541-951b-4b7492cb7ac4",
   "metadata": {},
   "source": [
    "### In general:"
   ]
  },
  {
   "cell_type": "markdown",
   "id": "a9a34d60-d519-4c24-963c-c880e8194d04",
   "metadata": {},
   "source": [
    "- Probability Predictions: \n",
    "Probability predictions were obtained using the `predict_proba` method, which provided the likelihood of each instance in the test set belonging to the positive class.\n",
    "\n",
    "- ROC Metrics Calculation:\n",
    "TPR (True Positive Rate) represents the proportion of actual positives correctly identified, while FPR (False Positive Rate) represents the proportion of actual negatives incorrectly classified as positives. These were calculated using the `roc_curve` function.\n",
    "\n",
    "- ROC Curve Interpretation:\n",
    "The ROC curve illustrates the trade-off between the TPR and FPR at different thresholds. A higher curve indicates a better model with a good balance between true positives and false positives.\n",
    "\n",
    "- AUC Value:\n",
    "The AUC value quantifies the overall ability of the model to discriminate between the positive and negative classes. The closer the AUC is to 1, the better the model is at predicting true positives while minimizing false positives."
   ]
  },
  {
   "cell_type": "markdown",
   "id": "96250c94-7924-446d-a02b-aab1dd304e67",
   "metadata": {},
   "source": [
    "## Model Interpretation and Insights"
   ]
  },
  {
   "cell_type": "markdown",
   "id": "66805394-3053-44b3-9498-2db970011ca3",
   "metadata": {},
   "source": [
    "### Interpret Coefficients"
   ]
  },
  {
   "cell_type": "markdown",
   "id": "be2d53cd-ff0f-4c5b-b42b-c1a06e738e1c",
   "metadata": {},
   "source": [
    "After training your logistic regression model, the coefficients can provide valuable insights. Each coefficient indicates the change in the log odds of the outcome for a one-unit increase in the corresponding feature, holding all other features constant."
   ]
  },
  {
   "cell_type": "code",
   "execution_count": 87,
   "id": "f437e124-a16b-4c4c-a3bb-70ebea6a81a0",
   "metadata": {},
   "outputs": [
    {
     "data": {
      "text/plain": [
       "array([-0.04093562, -0.84330923,  0.39752787, -0.29644081, -2.62880673,\n",
       "        0.2070503 , -0.26297876])"
      ]
     },
     "execution_count": 87,
     "metadata": {},
     "output_type": "execute_result"
    }
   ],
   "source": [
    "coefficients = model.coef_[0]\n",
    "coefficients"
   ]
  },
  {
   "cell_type": "markdown",
   "id": "4185719b-316a-4004-a8ab-565a263025f5",
   "metadata": {},
   "source": [
    "`model.coef_` will give you an array of the coefficients learned by the model. Positive coefficients indicate that as the feature value increases, the probability of the positive class increases, while negative coefficients indicate the opposite."
   ]
  },
  {
   "cell_type": "markdown",
   "id": "111a14bc-47bf-41dc-97a7-9c8700a52779",
   "metadata": {},
   "source": [
    "### Convert to Odds Ratios"
   ]
  },
  {
   "cell_type": "markdown",
   "id": "927265d3-c367-4328-bd53-dc8e6892e532",
   "metadata": {},
   "source": [
    "To make the coefficients more interpretable, you can convert them into odds ratios, which represent the change in odds for a one-unit increase in the feature value."
   ]
  },
  {
   "cell_type": "code",
   "execution_count": 88,
   "id": "b35afb43-442d-4545-a447-4e6a0c2ad957",
   "metadata": {},
   "outputs": [
    {
     "data": {
      "text/plain": [
       "array([0.95989093, 0.43028426, 1.48814127, 0.74345963, 0.07216452,\n",
       "       1.23004444, 0.76875822])"
      ]
     },
     "execution_count": 88,
     "metadata": {},
     "output_type": "execute_result"
    }
   ],
   "source": [
    "odds_ratios = np.exp(coefficients) # Odds Ratios\n",
    "odds_ratios"
   ]
  },
  {
   "cell_type": "markdown",
   "id": "25ed151d-5a92-4681-9dfe-2fb3b51f1c9a",
   "metadata": {},
   "source": [
    "`np.exp(coefficients)` converts the log-odds into odds ratios. An odds ratio greater than 1 indicates an increase in odds with an increase in the feature, and an odds ratio less than 1 indicates a decrease."
   ]
  },
  {
   "cell_type": "markdown",
   "id": "20b57117-7d84-4c5d-89da-876507133442",
   "metadata": {},
   "source": [
    "### Feature Importance"
   ]
  },
  {
   "cell_type": "markdown",
   "id": "06c38e20-2474-45c1-9056-dc78c14bfa71",
   "metadata": {},
   "source": [
    "The magnitude and sign of the logistic regression coefficients can be used to assess the importance and direction of the influence of each feature."
   ]
  },
  {
   "cell_type": "code",
   "execution_count": 102,
   "id": "f042cd15-053f-49e6-b650-3a1e385ce4d9",
   "metadata": {},
   "outputs": [
    {
     "data": {
      "text/html": [
       "<div>\n",
       "<style scoped>\n",
       "    .dataframe tbody tr th:only-of-type {\n",
       "        vertical-align: middle;\n",
       "    }\n",
       "\n",
       "    .dataframe tbody tr th {\n",
       "        vertical-align: top;\n",
       "    }\n",
       "\n",
       "    .dataframe thead th {\n",
       "        text-align: right;\n",
       "    }\n",
       "</style>\n",
       "<table border=\"1\" class=\"dataframe\">\n",
       "  <thead>\n",
       "    <tr style=\"text-align: right;\">\n",
       "      <th></th>\n",
       "      <th>Feature</th>\n",
       "      <th>Coefficient</th>\n",
       "      <th>Odds Ratio</th>\n",
       "    </tr>\n",
       "  </thead>\n",
       "  <tbody>\n",
       "    <tr>\n",
       "      <th>4</th>\n",
       "      <td>Sex_male</td>\n",
       "      <td>-2.628807</td>\n",
       "      <td>0.072165</td>\n",
       "    </tr>\n",
       "    <tr>\n",
       "      <th>1</th>\n",
       "      <td>Pclass</td>\n",
       "      <td>-0.843309</td>\n",
       "      <td>0.430284</td>\n",
       "    </tr>\n",
       "    <tr>\n",
       "      <th>3</th>\n",
       "      <td>Family_Size</td>\n",
       "      <td>-0.296441</td>\n",
       "      <td>0.743460</td>\n",
       "    </tr>\n",
       "    <tr>\n",
       "      <th>6</th>\n",
       "      <td>Embarked_S</td>\n",
       "      <td>-0.262979</td>\n",
       "      <td>0.768758</td>\n",
       "    </tr>\n",
       "    <tr>\n",
       "      <th>0</th>\n",
       "      <td>Age</td>\n",
       "      <td>-0.040936</td>\n",
       "      <td>0.959891</td>\n",
       "    </tr>\n",
       "    <tr>\n",
       "      <th>5</th>\n",
       "      <td>Embarked_Q</td>\n",
       "      <td>0.207050</td>\n",
       "      <td>1.230044</td>\n",
       "    </tr>\n",
       "    <tr>\n",
       "      <th>2</th>\n",
       "      <td>Fare_Log</td>\n",
       "      <td>0.397528</td>\n",
       "      <td>1.488141</td>\n",
       "    </tr>\n",
       "  </tbody>\n",
       "</table>\n",
       "</div>"
      ],
      "text/plain": [
       "       Feature  Coefficient  Odds Ratio\n",
       "4     Sex_male    -2.628807    0.072165\n",
       "1       Pclass    -0.843309    0.430284\n",
       "3  Family_Size    -0.296441    0.743460\n",
       "6   Embarked_S    -0.262979    0.768758\n",
       "0          Age    -0.040936    0.959891\n",
       "5   Embarked_Q     0.207050    1.230044\n",
       "2     Fare_Log     0.397528    1.488141"
      ]
     },
     "execution_count": 102,
     "metadata": {},
     "output_type": "execute_result"
    }
   ],
   "source": [
    "# Create a DataFrame for feature importance using coefficients\n",
    "df_feature_importance = pd.DataFrame({\n",
    "    'Feature': X.columns,\n",
    "    'Coefficient': coefficients,\n",
    "    'Odds Ratio': odds_ratios\n",
    "}).sort_values(by='Coefficient', ascending=True)\n",
    "df_feature_importance"
   ]
  },
  {
   "cell_type": "code",
   "execution_count": 100,
   "id": "f6aca9e1-576e-4dbd-9ac0-d492680404eb",
   "metadata": {},
   "outputs": [
    {
     "data": {
      "image/png": "[encoded data removed]",
      "text/plain": [
       "<Figure size 1008x432 with 2 Axes>"
      ]
     },
     "metadata": {
      "needs_background": "light"
     },
     "output_type": "display_data"
    }
   ],
   "source": [
    "# Plotting the feature importance using coefficients\n",
    "plt.figure(figsize=(14, 6))\n",
    "\n",
    "plt.subplot(1, 2, 1)  # 1 row, 2 columns, 1st subplot = coefficients\n",
    "plt.barh(df_feature_importance['Feature'], df_feature_importance['Coefficient'], color='skyblue')\n",
    "plt.xlabel('Coefficient Value')\n",
    "plt.title('Feature Importance by Coefficients')\n",
    "\n",
    "# Plotting the feature importance using odds ratios\n",
    "plt.subplot(1, 2, 2)  # 1 row, 2 columns, 2nd subplot = odds ratios\n",
    "plt.barh(df_feature_importance['Feature'], df_feature_importance['Odds Ratio'], color='salmon')\n",
    "plt.xlabel('Odds Ratio')\n",
    "plt.title('Feature Importance by Odds Ratios')\n",
    "\n",
    "plt.tight_layout()\n",
    "plt.show()"
   ]
  },
  {
   "cell_type": "markdown",
   "id": "8f5f2222-ef24-4bdb-9d62-aceec7ac485f",
   "metadata": {},
   "source": [
    "##### **Results interpretation:**\n",
    "\n",
    "1. **Sex_male (Coefficient: -2.628807, Odds Ratio: 0.072165):**\n",
    "   - Being male is strongly negatively correlated with the target variable (survival). The negative coefficient indicates that the log-odds of survival decrease for male passengers. The odds ratio less than 1 (considerably low) suggests that being male greatly decreases the odds of survival compared to the baseline (being female in this case).\n",
    "\n",
    "2. **Pclass (Coefficient: -0.843309, Odds Ratio: 0.430284):**\n",
    "   - Higher class numbers (indicating lower socio-economic status on the Titanic, with 3rd class being the lowest) are negatively associated with survival. The odds of survival for passengers in a higher class (lower status) are about 43% of the odds of survival for passengers in a lower class (higher status), all else being equal.\n",
    "\n",
    "3. **Family_Size (Coefficient: -0.296441, Odds Ratio: 0.743460):**\n",
    "   - A larger family size on board appears to slightly decrease the likelihood of survival. The odds ratio indicates that each additional family member reduces the odds of survival by about 26%.\n",
    "\n",
    "4. **Embarked_S (Coefficient: -0.262979, Odds Ratio: 0.768758):**\n",
    "   - Embarking from port 'S' (Southampton) is slightly negatively associated with survival, with the odds of survival for passengers from Southampton being about 77% of the odds for passengers not embarking from this port.\n",
    "\n",
    "5. **Age (Coefficient: -0.040936, Odds Ratio: 0.959891):**\n",
    "   - Age has a very small negative effect on survival. The odds ratio is close to 1, indicating that the effect of age on survival is marginal.\n",
    "\n",
    "6. **Embarked_Q (Coefficient: 0.207050, Odds Ratio: 1.230044):**\n",
    "   - Embarking from port 'Q' (Queenstown) has a positive association with survival, though not very strong. Passengers from Queenstown have about 23% higher odds of survival compared to those not embarking from this port.\n",
    "\n",
    "7. **Fare_Log (Coefficient: 0.397528, Odds Ratio: 1.488141):**\n",
    "   - The log of the fare, likely indicating the logarithm of the ticket price, shows a positive correlation with survival. The odds of survival increase by about 49% for each unit increase in the logged fare value, suggesting that passengers who paid more had higher odds of survival.\n",
    "\n",
    "The left plot (Feature Importance by Coefficients) shows the magnitude and direction of each feature's effect on the predicted log-odds of survival. Features with larger bars (either positive or negative) are more influential.\n",
    "\n",
    "The right plot (Feature Importance by Odds Ratios) provides an exponential view of the coefficients, showing how each feature's one-unit change multiplies the odds of the outcome. Bars to the right of 1 indicate an increase in the odds of survival, whereas bars to the left of 1 (none in this case) would indicate a decrease.\n",
    "\n",
    "Overall, the model suggests that gender, class, and fare were the most significant predictors of survival on the Titanic, consistent with historical accounts that women, children, and higher-class passengers were more likely to survive the disaster."
   ]
  },
  {
   "cell_type": "markdown",
   "id": "885bd1db-eaff-4b4b-996a-00cebf1bbd60",
   "metadata": {},
   "source": [
    "### In general:"
   ]
  },
  {
   "cell_type": "markdown",
   "id": "15fb0032-0b43-47e0-a464-1e33ef72d8c9",
   "metadata": {},
   "source": [
    "#### Insights and Implications\n",
    "By interpreting the coefficients and odds ratios, you can gain insights into which features are most predictive of survival on the Titanic and hypothesize why this might be the case. For example, if the coefficient for 'Fare' is positive and has a high odds ratio, it might suggest that passengers who paid more for their tickets had higher odds of survival.\n",
    "\n",
    "Please note that in order to run the code and interpret specific model outputs, you would need to have the trained logistic regression model and the dataset used for training available in your environment. If you can provide the dataset or the specific features and trained model, I could then run the actual code and give you precise interpretations."
   ]
  }
 ],
 "metadata": {
  "kernelspec": {
   "display_name": "Python 3 (ipykernel)",
   "language": "python",
   "name": "python3"
  },
  "language_info": {
   "codemirror_mode": {
    "name": "ipython",
    "version": 3
   },
   "file_extension": ".py",
   "mimetype": "text/x-python",
   "name": "python",
   "nbconvert_exporter": "python",
   "pygments_lexer": "ipython3",
   "version": "3.9.12"
  }
 },
 "nbformat": 4,
 "nbformat_minor": 5
}
