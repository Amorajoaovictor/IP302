{
 "cells": [
  {
   "cell_type": "markdown",
   "id": "56f23684-e20b-48a4-b796-bd138eca1bcf",
   "metadata": {},
   "source": [
    "# Activity: Exploring the Titanic Dataset"
   ]
  },
  {
   "cell_type": "markdown",
   "id": "0a0121e0-6588-462a-ad16-afab8624793c",
   "metadata": {
    "tags": []
   },
   "source": [
    "## Introduction"
   ]
  },
  {
   "cell_type": "markdown",
   "id": "528e5ce0-4971-4f0c-a79c-cbc38d64c924",
   "metadata": {},
   "source": [
    "- **Objective:**\n",
    "\n",
    "In this activity, we aim to dive deeper into the Titanic dataset, a well-known dataset in the field of data science. We will explore and analyze the dataset using various techniques to gain insights into the passengers' information and survival rates. This exploration will help us practice essential data analysis skills and understand how to approach real-world datasets."
   ]
  },
  {
   "cell_type": "markdown",
   "id": "d8af808f-1af7-4c0f-b69b-3549425e1ba3",
   "metadata": {},
   "source": [
    "- **About the Titanic Dataset:**"
   ]
  },
  {
   "cell_type": "markdown",
   "id": "cfcd1968-30e2-478e-8882-52f75c2fe347",
   "metadata": {},
   "source": [
    "The Titanic dataset contains information about passengers who were aboard the RMS Titanic during its ill-fated maiden voyage in 1912. It is a classic dataset used in data science and machine learning for various tasks, including predictive modeling."
   ]
  },
  {
   "cell_type": "markdown",
   "id": "48095cb0-7291-4dad-a7d4-513896ada766",
   "metadata": {},
   "source": [
    "- **Key Features in the Titanic Dataset:**"
   ]
  },
  {
   "cell_type": "markdown",
   "id": "0a2b688f-de30-4c98-b635-aedea09377c0",
   "metadata": {},
   "source": [
    "| Feature                          | Description                                                 |\n",
    "|----------------------------------|-------------------------------------------------------------|\n",
    "| Passenger Class (Pclass)         | Represents the class of the passenger ticket (1st, 2nd, or 3rd class). |\n",
    "| Name                             | The name of the passenger.                                  |\n",
    "| Sex                              | The gender of the passenger (male or female).              |\n",
    "| Age                              | The age of the passenger.                                   |\n",
    "| Siblings/Spouses Aboard (SibSp)  | The number of siblings or spouses the passenger had on board. |\n",
    "| Parents/Children Aboard (Parch)  | The number of parents or children the passenger had on board. |\n",
    "| Ticket                           | The ticket number.                                          |\n",
    "| Fare                             | The fare paid by the passenger.                             |\n",
    "| Cabin                            | The cabin number where the passenger stayed.                |\n",
    "| Embarked                         | The port of embarkation (C = Cherbourg, Q = Queenstown, S = Southampton). |\n",
    "| Survived                         | A binary variable indicating whether the passenger survived (1) or not (0). |\n"
   ]
  },
  {
   "cell_type": "markdown",
   "id": "5acb3a67-7fde-4aad-8799-407da103e583",
   "metadata": {},
   "source": [
    "- **Data Analysis Goals:**\n",
    "    - We will explore the distribution of variables like age, fare, and passenger class to understand the demographics of the passengers.\n",
    "    - We'll investigate relationships between variables, such as the influence of passenger class or gender on survival rates.\n",
    "    - We'll also identify any missing data and potential outliers in the dataset.\n",
    "    - Lastly, we'll perform exploratory data analysis to gain insights that can guide further analysis and modeling efforts."
   ]
  },
  {
   "cell_type": "markdown",
   "id": "85e5d5fc-046f-42fe-a32a-5a2548012f21",
   "metadata": {},
   "source": [
    "## 1. Import necessary libraries"
   ]
  },
  {
   "cell_type": "code",
   "execution_count": 3,
   "id": "d2a012ea-60e7-4368-ac1f-efdd0e3d0d0d",
   "metadata": {},
   "outputs": [],
   "source": [
    "import pandas as pd\n",
    "import numpy as np\n",
    "import matplotlib.pyplot as plt\n",
    "import seaborn as sns"
   ]
  },
  {
   "cell_type": "markdown",
   "id": "c4b7d1a6-8767-45a5-8d8f-88c7aed9eb3e",
   "metadata": {},
   "source": [
    "## 2. Loading the Dataset"
   ]
  },
  {
   "cell_type": "code",
   "execution_count": 4,
   "id": "2c90e066-8df5-43f1-b19c-3427e3de7a6d",
   "metadata": {},
   "outputs": [],
   "source": [
    "# Load the Titanic dataset from the data folder\n",
    "titanic_data = pd.read_csv('../data/titanic.csv')"
   ]
  },
  {
   "cell_type": "markdown",
   "id": "00497d41-44ea-44d3-9dc5-f373758aebd3",
   "metadata": {},
   "source": [
    "## 3. Exploratory Data Analysis (EDA)"
   ]
  },
  {
   "cell_type": "markdown",
   "id": "a4469031-e185-47a4-a534-12172be25c42",
   "metadata": {},
   "source": [
    "### 1. Examine the First Few Rows"
   ]
  },
  {
   "cell_type": "code",
   "execution_count": 6,
   "id": "83fb5af3-14ee-4cf4-9e40-dda7034cba0d",
   "metadata": {},
   "outputs": [
    {
     "data": {
      "text/html": [
       "<div>\n",
       "<style scoped>\n",
       "    .dataframe tbody tr th:only-of-type {\n",
       "        vertical-align: middle;\n",
       "    }\n",
       "\n",
       "    .dataframe tbody tr th {\n",
       "        vertical-align: top;\n",
       "    }\n",
       "\n",
       "    .dataframe thead th {\n",
       "        text-align: right;\n",
       "    }\n",
       "</style>\n",
       "<table border=\"1\" class=\"dataframe\">\n",
       "  <thead>\n",
       "    <tr style=\"text-align: right;\">\n",
       "      <th></th>\n",
       "      <th>PassengerId</th>\n",
       "      <th>Survived</th>\n",
       "      <th>Pclass</th>\n",
       "      <th>Name</th>\n",
       "      <th>Sex</th>\n",
       "      <th>Age</th>\n",
       "      <th>SibSp</th>\n",
       "      <th>Parch</th>\n",
       "      <th>Ticket</th>\n",
       "      <th>Fare</th>\n",
       "      <th>Cabin</th>\n",
       "      <th>Embarked</th>\n",
       "    </tr>\n",
       "  </thead>\n",
       "  <tbody>\n",
       "    <tr>\n",
       "      <th>0</th>\n",
       "      <td>1</td>\n",
       "      <td>0</td>\n",
       "      <td>3</td>\n",
       "      <td>Braund, Mr. Owen Harris</td>\n",
       "      <td>male</td>\n",
       "      <td>22.0</td>\n",
       "      <td>1</td>\n",
       "      <td>0</td>\n",
       "      <td>A/5 21171</td>\n",
       "      <td>7.2500</td>\n",
       "      <td>NaN</td>\n",
       "      <td>S</td>\n",
       "    </tr>\n",
       "    <tr>\n",
       "      <th>1</th>\n",
       "      <td>2</td>\n",
       "      <td>1</td>\n",
       "      <td>1</td>\n",
       "      <td>Cumings, Mrs. John Bradley (Florence Briggs Th...</td>\n",
       "      <td>female</td>\n",
       "      <td>38.0</td>\n",
       "      <td>1</td>\n",
       "      <td>0</td>\n",
       "      <td>PC 17599</td>\n",
       "      <td>71.2833</td>\n",
       "      <td>C85</td>\n",
       "      <td>C</td>\n",
       "    </tr>\n",
       "    <tr>\n",
       "      <th>2</th>\n",
       "      <td>3</td>\n",
       "      <td>1</td>\n",
       "      <td>3</td>\n",
       "      <td>Heikkinen, Miss. Laina</td>\n",
       "      <td>female</td>\n",
       "      <td>26.0</td>\n",
       "      <td>0</td>\n",
       "      <td>0</td>\n",
       "      <td>STON/O2. 3101282</td>\n",
       "      <td>7.9250</td>\n",
       "      <td>NaN</td>\n",
       "      <td>S</td>\n",
       "    </tr>\n",
       "    <tr>\n",
       "      <th>3</th>\n",
       "      <td>4</td>\n",
       "      <td>1</td>\n",
       "      <td>1</td>\n",
       "      <td>Futrelle, Mrs. Jacques Heath (Lily May Peel)</td>\n",
       "      <td>female</td>\n",
       "      <td>35.0</td>\n",
       "      <td>1</td>\n",
       "      <td>0</td>\n",
       "      <td>113803</td>\n",
       "      <td>53.1000</td>\n",
       "      <td>C123</td>\n",
       "      <td>S</td>\n",
       "    </tr>\n",
       "    <tr>\n",
       "      <th>4</th>\n",
       "      <td>5</td>\n",
       "      <td>0</td>\n",
       "      <td>3</td>\n",
       "      <td>Allen, Mr. William Henry</td>\n",
       "      <td>male</td>\n",
       "      <td>35.0</td>\n",
       "      <td>0</td>\n",
       "      <td>0</td>\n",
       "      <td>373450</td>\n",
       "      <td>8.0500</td>\n",
       "      <td>NaN</td>\n",
       "      <td>S</td>\n",
       "    </tr>\n",
       "  </tbody>\n",
       "</table>\n",
       "</div>"
      ],
      "text/plain": [
       "   PassengerId  Survived  Pclass  \\\n",
       "0            1         0       3   \n",
       "1            2         1       1   \n",
       "2            3         1       3   \n",
       "3            4         1       1   \n",
       "4            5         0       3   \n",
       "\n",
       "                                                Name     Sex   Age  SibSp  \\\n",
       "0                            Braund, Mr. Owen Harris    male  22.0      1   \n",
       "1  Cumings, Mrs. John Bradley (Florence Briggs Th...  female  38.0      1   \n",
       "2                             Heikkinen, Miss. Laina  female  26.0      0   \n",
       "3       Futrelle, Mrs. Jacques Heath (Lily May Peel)  female  35.0      1   \n",
       "4                           Allen, Mr. William Henry    male  35.0      0   \n",
       "\n",
       "   Parch            Ticket     Fare Cabin Embarked  \n",
       "0      0         A/5 21171   7.2500   NaN        S  \n",
       "1      0          PC 17599  71.2833   C85        C  \n",
       "2      0  STON/O2. 3101282   7.9250   NaN        S  \n",
       "3      0            113803  53.1000  C123        S  \n",
       "4      0            373450   8.0500   NaN        S  "
      ]
     },
     "execution_count": 6,
     "metadata": {},
     "output_type": "execute_result"
    }
   ],
   "source": [
    "titanic_data.head()"
   ]
  },
  {
   "cell_type": "markdown",
   "id": "b71713f4-f12b-46ea-a98c-79a7789cdd47",
   "metadata": {},
   "source": [
    "- displey only two first rows"
   ]
  },
  {
   "cell_type": "code",
   "execution_count": 5,
   "id": "00ec85a3-ecab-4777-9067-2ee24b451470",
   "metadata": {},
   "outputs": [
    {
     "data": {
      "text/html": [
       "<div>\n",
       "<style scoped>\n",
       "    .dataframe tbody tr th:only-of-type {\n",
       "        vertical-align: middle;\n",
       "    }\n",
       "\n",
       "    .dataframe tbody tr th {\n",
       "        vertical-align: top;\n",
       "    }\n",
       "\n",
       "    .dataframe thead th {\n",
       "        text-align: right;\n",
       "    }\n",
       "</style>\n",
       "<table border=\"1\" class=\"dataframe\">\n",
       "  <thead>\n",
       "    <tr style=\"text-align: right;\">\n",
       "      <th></th>\n",
       "      <th>PassengerId</th>\n",
       "      <th>Survived</th>\n",
       "      <th>Pclass</th>\n",
       "      <th>Name</th>\n",
       "      <th>Sex</th>\n",
       "      <th>Age</th>\n",
       "      <th>SibSp</th>\n",
       "      <th>Parch</th>\n",
       "      <th>Ticket</th>\n",
       "      <th>Fare</th>\n",
       "      <th>Cabin</th>\n",
       "      <th>Embarked</th>\n",
       "    </tr>\n",
       "  </thead>\n",
       "  <tbody>\n",
       "    <tr>\n",
       "      <th>0</th>\n",
       "      <td>1</td>\n",
       "      <td>0</td>\n",
       "      <td>3</td>\n",
       "      <td>Braund, Mr. Owen Harris</td>\n",
       "      <td>male</td>\n",
       "      <td>22.0</td>\n",
       "      <td>1</td>\n",
       "      <td>0</td>\n",
       "      <td>A/5 21171</td>\n",
       "      <td>7.2500</td>\n",
       "      <td>NaN</td>\n",
       "      <td>S</td>\n",
       "    </tr>\n",
       "    <tr>\n",
       "      <th>1</th>\n",
       "      <td>2</td>\n",
       "      <td>1</td>\n",
       "      <td>1</td>\n",
       "      <td>Cumings, Mrs. John Bradley (Florence Briggs Th...</td>\n",
       "      <td>female</td>\n",
       "      <td>38.0</td>\n",
       "      <td>1</td>\n",
       "      <td>0</td>\n",
       "      <td>PC 17599</td>\n",
       "      <td>71.2833</td>\n",
       "      <td>C85</td>\n",
       "      <td>C</td>\n",
       "    </tr>\n",
       "  </tbody>\n",
       "</table>\n",
       "</div>"
      ],
      "text/plain": [
       "   PassengerId  Survived  Pclass  \\\n",
       "0            1         0       3   \n",
       "1            2         1       1   \n",
       "\n",
       "                                                Name     Sex   Age  SibSp  \\\n",
       "0                            Braund, Mr. Owen Harris    male  22.0      1   \n",
       "1  Cumings, Mrs. John Bradley (Florence Briggs Th...  female  38.0      1   \n",
       "\n",
       "   Parch     Ticket     Fare Cabin Embarked  \n",
       "0      0  A/5 21171   7.2500   NaN        S  \n",
       "1      0   PC 17599  71.2833   C85        C  "
      ]
     },
     "execution_count": 5,
     "metadata": {},
     "output_type": "execute_result"
    }
   ],
   "source": [
    "# displey only two first rows\n",
    "titanic_data.head(n = 2)"
   ]
  },
  {
   "cell_type": "markdown",
   "id": "b80fa74c-6492-416a-9a5f-f9bf69335bb8",
   "metadata": {},
   "source": [
    "### 2. Check the Dataset Shape"
   ]
  },
  {
   "cell_type": "markdown",
   "id": "888df01b-8592-46fb-8445-a95dd92e8afd",
   "metadata": {},
   "source": [
    "**Objective:** Determine the dimensions of the Titanic dataset."
   ]
  },
  {
   "cell_type": "markdown",
   "id": "a1975a2d-487d-4645-90aa-a0373e33b305",
   "metadata": {},
   "source": [
    "- Check the shape of the dataset (rows, columns)"
   ]
  },
  {
   "cell_type": "code",
   "execution_count": 7,
   "id": "9fdd30ea-07de-41de-bccd-395fb308f93c",
   "metadata": {},
   "outputs": [
    {
     "name": "stdout",
     "output_type": "stream",
     "text": [
      "Dataset shape: (891, 12)\n"
     ]
    }
   ],
   "source": [
    "# Check the shape of the dataset (rows, columns)\n",
    "print(\"Dataset shape:\", titanic_data.shape)"
   ]
  },
  {
   "cell_type": "markdown",
   "id": "ffc33af1-ce1a-4d35-af35-3697583235bc",
   "metadata": {},
   "source": [
    "- The dataset has 891 rows and 12 columns.\n",
    "- The shape of the dataset tells us that it contains 891 records or observations, and each record has 12 different attributes or features. This gives us an understanding of the dataset's size and structure."
   ]
  },
  {
   "cell_type": "markdown",
   "id": "e3edeedc-ac0c-47e8-a18f-cb353df2cfd8",
   "metadata": {},
   "source": [
    "### 3. Check the Dataset Information"
   ]
  },
  {
   "cell_type": "markdown",
   "id": "4ba599fe-c650-4da6-8f18-2b5749f8aafa",
   "metadata": {},
   "source": [
    "**Objective:** Obtain information about the Titanic dataset."
   ]
  },
  {
   "cell_type": "markdown",
   "id": "219acb4d-e893-4f33-9221-9117386777ab",
   "metadata": {},
   "source": [
    "- Display data types and non-null values"
   ]
  },
  {
   "cell_type": "code",
   "execution_count": 8,
   "id": "dbbf4f3f-2879-4c61-8a30-26ec2d3c6ed7",
   "metadata": {},
   "outputs": [
    {
     "name": "stdout",
     "output_type": "stream",
     "text": [
      "\n",
      "Data info:\n",
      "<class 'pandas.core.frame.DataFrame'>\n",
      "RangeIndex: 891 entries, 0 to 890\n",
      "Data columns (total 12 columns):\n",
      " #   Column       Non-Null Count  Dtype  \n",
      "---  ------       --------------  -----  \n",
      " 0   PassengerId  891 non-null    int64  \n",
      " 1   Survived     891 non-null    int64  \n",
      " 2   Pclass       891 non-null    int64  \n",
      " 3   Name         891 non-null    object \n",
      " 4   Sex          891 non-null    object \n",
      " 5   Age          714 non-null    float64\n",
      " 6   SibSp        891 non-null    int64  \n",
      " 7   Parch        891 non-null    int64  \n",
      " 8   Ticket       891 non-null    object \n",
      " 9   Fare         891 non-null    float64\n",
      " 10  Cabin        204 non-null    object \n",
      " 11  Embarked     889 non-null    object \n",
      "dtypes: float64(2), int64(5), object(5)\n",
      "memory usage: 83.7+ KB\n",
      "None\n"
     ]
    }
   ],
   "source": [
    "# Display data types and non-null values\n",
    "print(\"\\nData info:\")\n",
    "print(titanic_data.info())"
   ]
  },
  {
   "cell_type": "markdown",
   "id": "2e4b1fb4-4ffd-4123-801f-aa8b67f1f237",
   "metadata": {},
   "source": [
    "- The info() function provides information about the dataset, including the total number of non-null entries in each column, the data types of each column, and memory usage. It also indicates whether there are any missing values in the dataset.\n",
    "\n",
    "- by using the info() function, we can see the data types of each column. For example, we can see that some columns are of type int64, indicating integer values, while others are of type object, indicating text or categorical data. Additionally, the info() function tells us whether there are any missing values in each column. Columns with missing values are indicated by non-null counts less than the total number of rows.\n",
    "\n",
    "- Based on this data info, we can make several immediate observations:\n",
    "   - There are 891 rows in the dataset, indicating that we have data for 891 passengers.\n",
    "    - Some columns, such as \"Age\" and \"Cabin,\" have missing values since their non-null counts are less than 891.\n",
    "     - We have a mix of data types, including integers, floating-point numbers, and objects (likely strings).\n",
    "     - We have a diverse set of columns, including information about passenger demographics, ticket details, and survival status."
   ]
  },
  {
   "cell_type": "markdown",
   "id": "ed8d7e41-e6a5-4490-a6d9-e717c14d0b0c",
   "metadata": {
    "tags": []
   },
   "source": [
    "### 4. Generat the Dataset Summary"
   ]
  },
  {
   "cell_type": "markdown",
   "id": "accf198f-27aa-4994-8ccf-5c8752ef8249",
   "metadata": {},
   "source": [
    "**Objective:** Create a summary of key statistics and information about the Titanic dataset."
   ]
  },
  {
   "cell_type": "markdown",
   "id": "1233cda9-40f0-46ed-8050-4f30833eb584",
   "metadata": {},
   "source": [
    "#### Part 1: Summary of Numeric Variables"
   ]
  },
  {
   "cell_type": "markdown",
   "id": "8f127159-48dc-4bc7-b4dc-ef62d6cba4f3",
   "metadata": {},
   "source": [
    "- Calculate summary statistics for numerical variables"
   ]
  },
  {
   "cell_type": "code",
   "execution_count": 11,
   "id": "e3d6ac93-bede-49ec-8be5-424e7e708274",
   "metadata": {},
   "outputs": [
    {
     "name": "stdout",
     "output_type": "stream",
     "text": [
      "\n",
      "Summary statistics for numerical variables:\n"
     ]
    },
    {
     "data": {
      "text/html": [
       "<div>\n",
       "<style scoped>\n",
       "    .dataframe tbody tr th:only-of-type {\n",
       "        vertical-align: middle;\n",
       "    }\n",
       "\n",
       "    .dataframe tbody tr th {\n",
       "        vertical-align: top;\n",
       "    }\n",
       "\n",
       "    .dataframe thead th {\n",
       "        text-align: right;\n",
       "    }\n",
       "</style>\n",
       "<table border=\"1\" class=\"dataframe\">\n",
       "  <thead>\n",
       "    <tr style=\"text-align: right;\">\n",
       "      <th></th>\n",
       "      <th>PassengerId</th>\n",
       "      <th>Survived</th>\n",
       "      <th>Pclass</th>\n",
       "      <th>Age</th>\n",
       "      <th>SibSp</th>\n",
       "      <th>Parch</th>\n",
       "      <th>Fare</th>\n",
       "    </tr>\n",
       "  </thead>\n",
       "  <tbody>\n",
       "    <tr>\n",
       "      <th>count</th>\n",
       "      <td>891.000000</td>\n",
       "      <td>891.000000</td>\n",
       "      <td>891.000000</td>\n",
       "      <td>714.000000</td>\n",
       "      <td>891.000000</td>\n",
       "      <td>891.000000</td>\n",
       "      <td>891.000000</td>\n",
       "    </tr>\n",
       "    <tr>\n",
       "      <th>mean</th>\n",
       "      <td>446.000000</td>\n",
       "      <td>0.383838</td>\n",
       "      <td>2.308642</td>\n",
       "      <td>29.699118</td>\n",
       "      <td>0.523008</td>\n",
       "      <td>0.381594</td>\n",
       "      <td>32.204208</td>\n",
       "    </tr>\n",
       "    <tr>\n",
       "      <th>std</th>\n",
       "      <td>257.353842</td>\n",
       "      <td>0.486592</td>\n",
       "      <td>0.836071</td>\n",
       "      <td>14.526497</td>\n",
       "      <td>1.102743</td>\n",
       "      <td>0.806057</td>\n",
       "      <td>49.693429</td>\n",
       "    </tr>\n",
       "    <tr>\n",
       "      <th>min</th>\n",
       "      <td>1.000000</td>\n",
       "      <td>0.000000</td>\n",
       "      <td>1.000000</td>\n",
       "      <td>0.420000</td>\n",
       "      <td>0.000000</td>\n",
       "      <td>0.000000</td>\n",
       "      <td>0.000000</td>\n",
       "    </tr>\n",
       "    <tr>\n",
       "      <th>25%</th>\n",
       "      <td>223.500000</td>\n",
       "      <td>0.000000</td>\n",
       "      <td>2.000000</td>\n",
       "      <td>20.125000</td>\n",
       "      <td>0.000000</td>\n",
       "      <td>0.000000</td>\n",
       "      <td>7.910400</td>\n",
       "    </tr>\n",
       "    <tr>\n",
       "      <th>50%</th>\n",
       "      <td>446.000000</td>\n",
       "      <td>0.000000</td>\n",
       "      <td>3.000000</td>\n",
       "      <td>28.000000</td>\n",
       "      <td>0.000000</td>\n",
       "      <td>0.000000</td>\n",
       "      <td>14.454200</td>\n",
       "    </tr>\n",
       "    <tr>\n",
       "      <th>75%</th>\n",
       "      <td>668.500000</td>\n",
       "      <td>1.000000</td>\n",
       "      <td>3.000000</td>\n",
       "      <td>38.000000</td>\n",
       "      <td>1.000000</td>\n",
       "      <td>0.000000</td>\n",
       "      <td>31.000000</td>\n",
       "    </tr>\n",
       "    <tr>\n",
       "      <th>max</th>\n",
       "      <td>891.000000</td>\n",
       "      <td>1.000000</td>\n",
       "      <td>3.000000</td>\n",
       "      <td>80.000000</td>\n",
       "      <td>8.000000</td>\n",
       "      <td>6.000000</td>\n",
       "      <td>512.329200</td>\n",
       "    </tr>\n",
       "  </tbody>\n",
       "</table>\n",
       "</div>"
      ],
      "text/plain": [
       "       PassengerId    Survived      Pclass         Age       SibSp  \\\n",
       "count   891.000000  891.000000  891.000000  714.000000  891.000000   \n",
       "mean    446.000000    0.383838    2.308642   29.699118    0.523008   \n",
       "std     257.353842    0.486592    0.836071   14.526497    1.102743   \n",
       "min       1.000000    0.000000    1.000000    0.420000    0.000000   \n",
       "25%     223.500000    0.000000    2.000000   20.125000    0.000000   \n",
       "50%     446.000000    0.000000    3.000000   28.000000    0.000000   \n",
       "75%     668.500000    1.000000    3.000000   38.000000    1.000000   \n",
       "max     891.000000    1.000000    3.000000   80.000000    8.000000   \n",
       "\n",
       "            Parch        Fare  \n",
       "count  891.000000  891.000000  \n",
       "mean     0.381594   32.204208  \n",
       "std      0.806057   49.693429  \n",
       "min      0.000000    0.000000  \n",
       "25%      0.000000    7.910400  \n",
       "50%      0.000000   14.454200  \n",
       "75%      0.000000   31.000000  \n",
       "max      6.000000  512.329200  "
      ]
     },
     "execution_count": 11,
     "metadata": {},
     "output_type": "execute_result"
    }
   ],
   "source": [
    "# Calculate summary statistics for numerical variables\n",
    "print(\"\\nSummary statistics for numerical variables:\")\n",
    "titanic_data.describe()"
   ]
  },
  {
   "cell_type": "markdown",
   "id": "ebb27266-9bb5-4a0d-9551-e13b4c0815d7",
   "metadata": {},
   "source": [
    "#### Part 2: Summary of Categorical Variables"
   ]
  },
  {
   "cell_type": "markdown",
   "id": "edfae990-4c42-4a06-a499-7c1611979ed9",
   "metadata": {},
   "source": [
    "##### Categorical Variables - Manual Calculation"
   ]
  },
  {
   "cell_type": "markdown",
   "id": "257615a2-6ad0-4c37-9d2f-d6de22ef1181",
   "metadata": {},
   "source": [
    "- For `Sex` column"
   ]
  },
  {
   "cell_type": "code",
   "execution_count": 14,
   "id": "657105f6-0148-4168-b811-c02c0b57ce53",
   "metadata": {},
   "outputs": [
    {
     "data": {
      "text/plain": [
       "male      577\n",
       "female    314\n",
       "Name: Sex, dtype: int64"
      ]
     },
     "execution_count": 14,
     "metadata": {},
     "output_type": "execute_result"
    }
   ],
   "source": [
    "titanic_data['Sex'].value_counts()"
   ]
  },
  {
   "cell_type": "code",
   "execution_count": 36,
   "id": "36e9eb17-524b-4d96-9b5c-a508be32eeab",
   "metadata": {},
   "outputs": [
    {
     "data": {
      "image/png": "[encoded data removed]",
      "text/plain": [
       "<Figure size 432x288 with 1 Axes>"
      ]
     },
     "metadata": {
      "needs_background": "light"
     },
     "output_type": "display_data"
    }
   ],
   "source": [
    "# Create a bar plot for passenger Sex\n",
    "plt.figure(figsize=(6, 4))\n",
    "sns.countplot(data=titanic_data, x='Sex', palette = 'pastel')\n",
    "plt.title('Passenger Sex Distribution')\n",
    "plt.xlabel('Sex')\n",
    "plt.ylabel('Count')\n",
    "plt.show()"
   ]
  },
  {
   "cell_type": "markdown",
   "id": "dfdaa48e-1342-4e3a-bd52-e7d288b7e863",
   "metadata": {},
   "source": [
    "- For `Embarked` column"
   ]
  },
  {
   "cell_type": "code",
   "execution_count": 15,
   "id": "56c83a2e-5288-4efb-8928-f147bb3e4829",
   "metadata": {},
   "outputs": [
    {
     "data": {
      "text/plain": [
       "S    644\n",
       "C    168\n",
       "Q     77\n",
       "Name: Embarked, dtype: int64"
      ]
     },
     "execution_count": 15,
     "metadata": {},
     "output_type": "execute_result"
    }
   ],
   "source": [
    "titanic_data['Embarked'].value_counts()"
   ]
  },
  {
   "cell_type": "code",
   "execution_count": 43,
   "id": "c817d713-44c0-406d-b2eb-6e344efdac0a",
   "metadata": {},
   "outputs": [
    {
     "data": {
      "image/png": "[encoded data removed]",
      "text/plain": [
       "<Figure size 432x288 with 1 Axes>"
      ]
     },
     "metadata": {
      "needs_background": "light"
     },
     "output_type": "display_data"
    }
   ],
   "source": [
    "# Create a bar plot for passenger Embarked\n",
    "plt.figure(figsize=(6, 4))\n",
    "sns.countplot(data=titanic_data, x='Embarked', palette = 'Set2')\n",
    "plt.title('Passenger Embarked Distribution')\n",
    "plt.xlabel('Embarked')\n",
    "plt.ylabel('Count')\n",
    "plt.show()"
   ]
  },
  {
   "cell_type": "markdown",
   "id": "c0dbe482-6d06-43b1-9592-2479d2231566",
   "metadata": {},
   "source": [
    "- Additional statistics for categorical columns:\n",
    "    - For `Sex`:\n",
    "         - Count of unique values: 2\n",
    "         - Mode: `male` (with a frequency of 577)\n",
    "         - Frequency of `female`: 314\n",
    "    - For `Embarked`:\n",
    "        - Count of unique values: 3\n",
    "        - Mode: `S` (with a frequency of 644)\n",
    "        - Frequency of `C`: 168\n",
    "        - Frequency of `Q`: 77\n",
    "\n",
    "\n",
    "- Insights from the statistics of categorical variables:\n",
    "    - Most passengers are `male` (577 out of 891) and embarked from Southampton (`S` with a frequency of 644).\n",
    "    - There are three unique embarkation points: Southampton, Cherbourg, and Queenstown."
   ]
  },
  {
   "cell_type": "markdown",
   "id": "75485bae-8e15-4533-be55-203ab1123042",
   "metadata": {},
   "source": [
    "##### Categorical Variables - Using describe() function"
   ]
  },
  {
   "cell_type": "markdown",
   "id": "b8c2ca71-360d-4bbd-985b-2e89ec79b324",
   "metadata": {},
   "source": [
    "- Calculate summary statistics for categorical variables Using `describe()` function"
   ]
  },
  {
   "cell_type": "code",
   "execution_count": 16,
   "id": "1458936d-4700-45df-a1ca-3d0df0da1c07",
   "metadata": {},
   "outputs": [
    {
     "name": "stdout",
     "output_type": "stream",
     "text": [
      "\n",
      "Summary statistics categorical variables:\n"
     ]
    },
    {
     "data": {
      "text/html": [
       "<div>\n",
       "<style scoped>\n",
       "    .dataframe tbody tr th:only-of-type {\n",
       "        vertical-align: middle;\n",
       "    }\n",
       "\n",
       "    .dataframe tbody tr th {\n",
       "        vertical-align: top;\n",
       "    }\n",
       "\n",
       "    .dataframe thead th {\n",
       "        text-align: right;\n",
       "    }\n",
       "</style>\n",
       "<table border=\"1\" class=\"dataframe\">\n",
       "  <thead>\n",
       "    <tr style=\"text-align: right;\">\n",
       "      <th></th>\n",
       "      <th>Name</th>\n",
       "      <th>Sex</th>\n",
       "      <th>Ticket</th>\n",
       "      <th>Cabin</th>\n",
       "      <th>Embarked</th>\n",
       "    </tr>\n",
       "  </thead>\n",
       "  <tbody>\n",
       "    <tr>\n",
       "      <th>count</th>\n",
       "      <td>891</td>\n",
       "      <td>891</td>\n",
       "      <td>891</td>\n",
       "      <td>204</td>\n",
       "      <td>889</td>\n",
       "    </tr>\n",
       "    <tr>\n",
       "      <th>unique</th>\n",
       "      <td>891</td>\n",
       "      <td>2</td>\n",
       "      <td>681</td>\n",
       "      <td>147</td>\n",
       "      <td>3</td>\n",
       "    </tr>\n",
       "    <tr>\n",
       "      <th>top</th>\n",
       "      <td>Braund, Mr. Owen Harris</td>\n",
       "      <td>male</td>\n",
       "      <td>347082</td>\n",
       "      <td>B96 B98</td>\n",
       "      <td>S</td>\n",
       "    </tr>\n",
       "    <tr>\n",
       "      <th>freq</th>\n",
       "      <td>1</td>\n",
       "      <td>577</td>\n",
       "      <td>7</td>\n",
       "      <td>4</td>\n",
       "      <td>644</td>\n",
       "    </tr>\n",
       "  </tbody>\n",
       "</table>\n",
       "</div>"
      ],
      "text/plain": [
       "                           Name   Sex  Ticket    Cabin Embarked\n",
       "count                       891   891     891      204      889\n",
       "unique                      891     2     681      147        3\n",
       "top     Braund, Mr. Owen Harris  male  347082  B96 B98        S\n",
       "freq                          1   577       7        4      644"
      ]
     },
     "execution_count": 16,
     "metadata": {},
     "output_type": "execute_result"
    }
   ],
   "source": [
    "# Calculate summary statistics for categorical variables\n",
    "print(\"\\nSummary statistics categorical variables:\")\n",
    "titanic_data.describe(include=['object'])"
   ]
  },
  {
   "cell_type": "markdown",
   "id": "7b791cb9-5a12-493c-ac5f-829e07652761",
   "metadata": {},
   "source": [
    "For categorical variables, the `describe()` function provides the following summary statistics:\n",
    "- Count: The total number of non-null entries.\n",
    "- Unique: The count of unique values.\n",
    "- Top: The most frequent (mode) category.\n",
    "- Freq: The frequency (count) of the top category."
   ]
  },
  {
   "cell_type": "markdown",
   "id": "611fef3f-0b7e-4e2b-8dc2-af43e3b6bd65",
   "metadata": {},
   "source": [
    "The `describe()` statistics help us understand the distribution of categorical variables more efficiently by providing a concise summary. \n",
    "\n",
    "We can quickly identify the most common category (mode), its frequency, and the number of unique categories. \n",
    "\n",
    "This information is valuable for understanding the prevalence and distribution of different categories within each categorical variable and can be used to make informed decisions during data analysis and modeling.\n",
    "\n",
    "For instance:\n",
    "\n",
    "- For `Sex`, there are 891 passengers, with two unique values. `male` is the most frequent value, appearing 577 times.\n",
    "- For `Embarked`, there are 889 passengers, with three unique values. `S` is the most frequent embarkation point, occurring 644 times."
   ]
  },
  {
   "cell_type": "markdown",
   "id": "e1d43451-e4bf-43de-81e1-deed2e0ec409",
   "metadata": {},
   "source": [
    "Both the `describe()` function and **manual calculations** offer valuable insights into categorical variables, providing counts, modes, and frequencies. However, manual calculations reveal specific unique values, a detail that the `describe()` function does not show. This combination of methods enhances our understanding of categorical data."
   ]
  },
  {
   "cell_type": "markdown",
   "id": "a8e1eefe-91b2-474e-8cf1-a9e572406f57",
   "metadata": {},
   "source": [
    "### 5. Investigate Missing Values"
   ]
  },
  {
   "cell_type": "markdown",
   "id": "01703112-1a3c-48f9-b74d-84c89acd0215",
   "metadata": {},
   "source": [
    "**Objective:** Identify and count missing values in the Titanic dataset."
   ]
  },
  {
   "cell_type": "code",
   "execution_count": 17,
   "id": "712ed171-03b2-4cc6-bfd5-56227e9d90e4",
   "metadata": {},
   "outputs": [
    {
     "data": {
      "text/plain": [
       "PassengerId      0\n",
       "Survived         0\n",
       "Pclass           0\n",
       "Name             0\n",
       "Sex              0\n",
       "Age            177\n",
       "SibSp            0\n",
       "Parch            0\n",
       "Ticket           0\n",
       "Fare             0\n",
       "Cabin          687\n",
       "Embarked         2\n",
       "dtype: int64"
      ]
     },
     "execution_count": 17,
     "metadata": {},
     "output_type": "execute_result"
    }
   ],
   "source": [
    "# identify missing values\n",
    "titanic_data.isnull().sum()"
   ]
  },
  {
   "cell_type": "markdown",
   "id": "a8817c96-f7d2-45b2-920c-cc05fbd33153",
   "metadata": {},
   "source": [
    "- In the `Age` column, we identified 177 missing values.\n",
    "- For the `Cabin` column, there are 687 missing values.\n",
    "- In the `Embarked` column, we found 2 missing values."
   ]
  },
  {
   "cell_type": "code",
   "execution_count": 21,
   "id": "bc495626-b8a1-430d-9ae7-59e99fbbdeb9",
   "metadata": {},
   "outputs": [
    {
     "data": {
      "text/plain": [
       "PassengerId     0.000000\n",
       "Survived        0.000000\n",
       "Pclass          0.000000\n",
       "Name            0.000000\n",
       "Sex             0.000000\n",
       "Age            19.865320\n",
       "SibSp           0.000000\n",
       "Parch           0.000000\n",
       "Ticket          0.000000\n",
       "Fare            0.000000\n",
       "Cabin          77.104377\n",
       "Embarked        0.224467\n",
       "dtype: float64"
      ]
     },
     "execution_count": 21,
     "metadata": {},
     "output_type": "execute_result"
    }
   ],
   "source": [
    "# percentage of missing values\n",
    "titanic_data.isnull().mean() * 100"
   ]
  },
  {
   "cell_type": "markdown",
   "id": "3a436649-6503-4c32-a407-923b61c45d87",
   "metadata": {},
   "source": [
    "- The `Age` column has approximately 19.87% missing values.\n",
    "- The `Cabin` column contains around 77.10% missing values.\n",
    "- The `Embarked` column has a negligible percentage of missing values, approximately 0.22%."
   ]
  },
  {
   "cell_type": "markdown",
   "id": "ae1a72b5-bc09-406e-859d-c09d4e2e11e2",
   "metadata": {},
   "source": [
    "- Investigating missing data is crucial because missing values can impact the quality of our analysis and models. Ignoring them may lead to biased results.\n",
    "\n",
    "- Handling missing data allows us to make informed decisions about how to impute or manage the missing values, which can influence the accuracy of our analysis.\n",
    "\n",
    "- Different columns may require different strategies for dealing with missing data, so understanding their extent and patterns is essential."
   ]
  },
  {
   "cell_type": "markdown",
   "id": "b0e36aea-37c1-4138-b966-5c0b890b1b75",
   "metadata": {},
   "source": [
    "### 6. Explore Data Distribution - Histogram"
   ]
  },
  {
   "cell_type": "markdown",
   "id": "d5efd4ac-3dec-482b-9f5f-81399414a85f",
   "metadata": {},
   "source": [
    "**Objective:** Visualize the distribution of selected numerical columns in the Titanic dataset.\n",
    "\n",
    "Histograms help us understand the distribution of numerical data by displaying the frequency of values within specific intervals (bins). They can provide insights into the central tendency, spread, and potential outliers in the data."
   ]
  },
  {
   "cell_type": "markdown",
   "id": "f3524420-9594-48ac-9bcb-54a2442f4b5c",
   "metadata": {},
   "source": [
    "- Distribution of Passenger `Age`"
   ]
  },
  {
   "cell_type": "code",
   "execution_count": 7,
   "id": "c7edcb0d-055f-42f2-b7f9-c2c86eaa12a0",
   "metadata": {},
   "outputs": [
    {
     "data": {
      "image/png": "[encoded data removed]",
      "text/plain": [
       "<Figure size 576x288 with 1 Axes>"
      ]
     },
     "metadata": {
      "needs_background": "light"
     },
     "output_type": "display_data"
    }
   ],
   "source": [
    "# Create a histogram for passenger ages\n",
    "plt.figure(figsize=(8, 4))\n",
    "sns.histplot(data=titanic_data, x='Age', bins=20, kde=True)\n",
    "plt.title('Distribution of Passenger Ages')\n",
    "plt.xlabel('Age')\n",
    "plt.ylabel('Count')\n",
    "plt.show()"
   ]
  },
  {
   "cell_type": "markdown",
   "id": "218d3d0b-2707-4e0e-b2ff-4ca47acd91b1",
   "metadata": {},
   "source": [
    "- The `Age` histogram shows that the majority of passengers are between their late teens and mid-30s.\n",
    "- There is a relatively small number of infants and elderly passengers.\n",
    "- The distribution appears to be somewhat right-skewed, with more passengers in younger age groups."
   ]
  },
  {
   "cell_type": "markdown",
   "id": "8e851938-95b6-4cdd-89e9-0403f62bde95",
   "metadata": {},
   "source": [
    "- Distribution of Passenger `Fare`"
   ]
  },
  {
   "cell_type": "code",
   "execution_count": 25,
   "id": "91638913-cce4-4d3a-b810-82e436b28f3f",
   "metadata": {},
   "outputs": [
    {
     "data": {
      "image/png": "[encoded data removed]",
      "text/plain": [
       "<Figure size 576x288 with 1 Axes>"
      ]
     },
     "metadata": {
      "needs_background": "light"
     },
     "output_type": "display_data"
    }
   ],
   "source": [
    "# Create a histogram for passenger ages\n",
    "plt.figure(figsize=(8, 4))\n",
    "sns.histplot(data=titanic_data, x='Fare', bins=20, kde=True)\n",
    "plt.title('Distribution of Passenger Fare')\n",
    "plt.xlabel('Fare')\n",
    "plt.ylabel('Count')\n",
    "plt.show()"
   ]
  },
  {
   "cell_type": "markdown",
   "id": "27aa210a-5053-4a70-b9c1-6e6d2e300ee7",
   "metadata": {},
   "source": [
    "- The `Fare` histogram indicates that a significant portion of passengers paid a relatively low fare.\n",
    "- There are a few passengers who paid exceptionally high fares, potentially indicating premium cabins or special circumstances.\n",
    "- The distribution is heavily right-skewed, with the majority of passengers paying lower fares."
   ]
  },
  {
   "cell_type": "markdown",
   "id": "3fee6d17-60ef-4ebf-992e-0d00924b80d4",
   "metadata": {},
   "source": [
    "**Patterns identified:**\n",
    "- In the `Age` histogram, we can observe a peak around the late teens to mid-30s, suggesting that the Titanic had a higher number of young and middle-aged passengers.\n",
    "- For the `Fare` histogram, the right-skewness suggests that while most passengers paid lower fares, there are outliers with significantly higher fares, which might require further investigation."
   ]
  },
  {
   "cell_type": "markdown",
   "id": "f37ac1a7-6451-4ca3-867b-28e8d1635a3b",
   "metadata": {
    "tags": []
   },
   "source": [
    "### 7. Detecting Outliers - Box plot"
   ]
  },
  {
   "cell_type": "markdown",
   "id": "655a6232-5ff9-4749-bea5-6f558a2015fb",
   "metadata": {},
   "source": [
    "**Objective:** Create box plots to visualize the distribution of the \"Age\" and \"Fare\" columns, understand their statistical components and highlight potential outliers.\n",
    "\n",
    "- Box plots can visually represent the spread of data and highlight potential outliers."
   ]
  },
  {
   "cell_type": "markdown",
   "id": "b0d2885f-137c-4fc8-b680-735498629c86",
   "metadata": {},
   "source": [
    "- For `Age` varibale"
   ]
  },
  {
   "cell_type": "code",
   "execution_count": 49,
   "id": "74762f4f-3cc5-4b69-9d0e-464cad7e42b1",
   "metadata": {},
   "outputs": [
    {
     "data": {
      "image/png": "[encoded data removed]",
      "text/plain": [
       "<Figure size 864x360 with 1 Axes>"
      ]
     },
     "metadata": {
      "needs_background": "light"
     },
     "output_type": "display_data"
    }
   ],
   "source": [
    "# Create box plots for Age\n",
    "plt.figure(figsize=(12, 5))\n",
    "sns.boxplot(data=titanic_data, x='Age')\n",
    "plt.title('Box Plot of Age')\n",
    "plt.show()"
   ]
  },
  {
   "cell_type": "code",
   "execution_count": 50,
   "id": "ad22c5ec-1235-458c-867f-cf694907908c",
   "metadata": {},
   "outputs": [
    {
     "data": {
      "text/plain": [
       "count    714.000000\n",
       "mean      29.699118\n",
       "std       14.526497\n",
       "min        0.420000\n",
       "25%       20.125000\n",
       "50%       28.000000\n",
       "75%       38.000000\n",
       "max       80.000000\n",
       "Name: Age, dtype: float64"
      ]
     },
     "execution_count": 50,
     "metadata": {},
     "output_type": "execute_result"
    }
   ],
   "source": [
    "# Summary statistics of the Age column\n",
    "titanic_data['Age'].describe()"
   ]
  },
  {
   "cell_type": "markdown",
   "id": "ed614328-0454-4c10-806e-cc6000777a70",
   "metadata": {},
   "source": [
    "- For `Fare` varibale"
   ]
  },
  {
   "cell_type": "code",
   "execution_count": 51,
   "id": "e150342b-4d03-4237-b311-d635cc95b867",
   "metadata": {},
   "outputs": [
    {
     "data": {
      "image/png": "[encoded data removed]",
      "text/plain": [
       "<Figure size 864x360 with 1 Axes>"
      ]
     },
     "metadata": {
      "needs_background": "light"
     },
     "output_type": "display_data"
    }
   ],
   "source": [
    "# Create box plots for Fare\n",
    "plt.figure(figsize=(12, 5))\n",
    "sns.boxplot( data=titanic_data, x='Fare')\n",
    "plt.title('Box Plot of Fare')\n",
    "plt.show()"
   ]
  },
  {
   "cell_type": "code",
   "execution_count": 53,
   "id": "69026d91-48ff-4f0b-97db-ac7608b7559c",
   "metadata": {},
   "outputs": [
    {
     "data": {
      "text/plain": [
       "count    891.000000\n",
       "mean      32.204208\n",
       "std       49.693429\n",
       "min        0.000000\n",
       "25%        7.910400\n",
       "50%       14.454200\n",
       "75%       31.000000\n",
       "max      512.329200\n",
       "Name: Fare, dtype: float64"
      ]
     },
     "execution_count": 53,
     "metadata": {},
     "output_type": "execute_result"
    }
   ],
   "source": [
    "# Summary statistics of the Fare column\n",
    "titanic_data['Fare'].describe()"
   ]
  },
  {
   "cell_type": "markdown",
   "id": "d1d905e9-a4f8-4bf8-8f69-12a81bdd427f",
   "metadata": {},
   "source": [
    "**The components of a box plot include:**\n",
    "\n",
    "- **Median (line inside the box)**: The middle value of the dataset, dividing it into two equal halves.\n",
    "- **Quartiles (box)**: The box represents the interquartile range (IQR), which covers the middle 50% of the data. The lower quartile (Q1) is the 25th percentile, and the upper quartile (Q3) is the 75th percentile.\n",
    "- **Whiskers (lines extending from the box)**: Typically, whiskers extend to 1.5 times the IQR from the quartiles. Any data points beyond the whiskers are considered potential outliers.\n",
    "- **Individual data points (dots or circles)**: These are plotted as outliers if they fall outside the whiskers."
   ]
  },
  {
   "cell_type": "markdown",
   "id": "854fc7c8-e759-4f61-9185-3cd135a31a93",
   "metadata": {},
   "source": [
    "The describe function provides statistics such as the mean, standard deviation, minimum, 25th percentile (Q1), median (50th percentile), 75th percentile (Q3), and maximum values for a numerical column.\n",
    "\n",
    "For example, if we use `titanic_data['Age'].describe()`, we obtain statistical insights into the \"Age\" column, including its mean age, spread (standard deviation), and quartiles."
   ]
  },
  {
   "cell_type": "markdown",
   "id": "8de96517-37b5-4c26-9b3c-8fee56b44c5e",
   "metadata": {},
   "source": [
    "By examining the box plots, we can identify potential outliers as data points beyond the whiskers of the box plot. \n",
    "\n",
    "Outliers are values that significantly differ from the central tendency of the data. For instance, if there are individual data points (dots or circles) far away from the whiskers in the \"Fare\" box plot, those may be potential outliers.\n",
    "\n",
    "These interpretations help us understand the distribution and potential outliers within the \"Age\" and \"Fare\" columns, which are crucial for data analysis and preprocessing."
   ]
  },
  {
   "cell_type": "markdown",
   "id": "bfe92bb1-0c37-4e2f-9fe7-d2bcee0f8c59",
   "metadata": {
    "tags": []
   },
   "source": [
    "### 8. Identifying Outliers using IQR (Advanced and Optional)"
   ]
  },
  {
   "cell_type": "markdown",
   "id": "36f34ddb-03de-4e03-a683-03282f917e71",
   "metadata": {},
   "source": [
    "**Objective:** Explore an advanced method for detecting outliers using the IQR technique."
   ]
  },
  {
   "cell_type": "markdown",
   "id": "2ca242e1-e575-4c01-b1ff-00981da707d9",
   "metadata": {},
   "source": [
    "**The Interquartile Range (IQR)** is a statistical measure that represents the spread or dispersion of data within a dataset. \n",
    "\n",
    "It is calculated as the difference between the third quartile (Q3) and the first quartile (Q1). \n",
    "\n",
    "The IQR helps identify outliers by defining a range within which the majority of data points lie. Any data point outside this range is considered a potential outlier. \n",
    "\n",
    "The IQR is used in outlier detection because it is robust to extreme values and provides a more robust measure of spread compared to the range or standard deviation."
   ]
  },
  {
   "cell_type": "markdown",
   "id": "a3294dd5-9225-4b94-9d6e-0a0d101dc064",
   "metadata": {},
   "source": [
    "Values outside the range [Q1 - 1.5 * IQR, Q3 + 1.5 * IQR] are considered potential outliers because this range is based on the IQR and represents the \"middle 50%\" of the data, where the majority of data points are located. \n",
    "\n",
    "The 1.5 multiplier is a common threshold used to identify values that significantly deviate from the median of the data. Values below Q1 - 1.5 * IQR or above Q3 + 1.5 * IQR are considered potential outliers because they fall outside the typical range of variation within the dataset. These potential outliers may indicate data points that are unusual or require further investigation."
   ]
  },
  {
   "cell_type": "markdown",
   "id": "2d490827-03b9-4ffa-8102-fbe46920f736",
   "metadata": {},
   "source": [
    "- For `Age` column"
   ]
  },
  {
   "cell_type": "code",
   "execution_count": 62,
   "id": "a9aeb28b-0047-4c20-9a5f-fc3a57d193f8",
   "metadata": {},
   "outputs": [
    {
     "name": "stdout",
     "output_type": "stream",
     "text": [
      "Outliers for Age: Values below -6.6875 and above 64.8125\n"
     ]
    }
   ],
   "source": [
    "# Calculate the IQR for Age column\n",
    "Q1_age = titanic_data['Age'].quantile(0.25)\n",
    "Q3_age = titanic_data['Age'].quantile(0.75)\n",
    "IQR_age = Q3_age - Q1_age\n",
    "\n",
    "# Define the lower and upper bounds for potential outliers\n",
    "lower_bound_age = Q1_age - 1.5 * IQR_age\n",
    "upper_bound_age = Q3_age + 1.5 * IQR_age\n",
    "\n",
    "\n",
    "print(f\"Outliers for Age: Values below {lower_bound_age} and above {upper_bound_age}\")"
   ]
  },
  {
   "cell_type": "code",
   "execution_count": 61,
   "id": "926c6904-65a0-412c-b8e1-82acbf9330f3",
   "metadata": {},
   "outputs": [
    {
     "data": {
      "text/html": [
       "<div>\n",
       "<style scoped>\n",
       "    .dataframe tbody tr th:only-of-type {\n",
       "        vertical-align: middle;\n",
       "    }\n",
       "\n",
       "    .dataframe tbody tr th {\n",
       "        vertical-align: top;\n",
       "    }\n",
       "\n",
       "    .dataframe thead th {\n",
       "        text-align: right;\n",
       "    }\n",
       "</style>\n",
       "<table border=\"1\" class=\"dataframe\">\n",
       "  <thead>\n",
       "    <tr style=\"text-align: right;\">\n",
       "      <th></th>\n",
       "      <th>PassengerId</th>\n",
       "      <th>Survived</th>\n",
       "      <th>Pclass</th>\n",
       "      <th>Name</th>\n",
       "      <th>Sex</th>\n",
       "      <th>Age</th>\n",
       "      <th>SibSp</th>\n",
       "      <th>Parch</th>\n",
       "      <th>Ticket</th>\n",
       "      <th>Fare</th>\n",
       "      <th>Cabin</th>\n",
       "      <th>Embarked</th>\n",
       "    </tr>\n",
       "  </thead>\n",
       "  <tbody>\n",
       "    <tr>\n",
       "      <th>33</th>\n",
       "      <td>34</td>\n",
       "      <td>0</td>\n",
       "      <td>2</td>\n",
       "      <td>Wheadon, Mr. Edward H</td>\n",
       "      <td>male</td>\n",
       "      <td>66.0</td>\n",
       "      <td>0</td>\n",
       "      <td>0</td>\n",
       "      <td>C.A. 24579</td>\n",
       "      <td>10.5000</td>\n",
       "      <td>NaN</td>\n",
       "      <td>S</td>\n",
       "    </tr>\n",
       "    <tr>\n",
       "      <th>54</th>\n",
       "      <td>55</td>\n",
       "      <td>0</td>\n",
       "      <td>1</td>\n",
       "      <td>Ostby, Mr. Engelhart Cornelius</td>\n",
       "      <td>male</td>\n",
       "      <td>65.0</td>\n",
       "      <td>0</td>\n",
       "      <td>1</td>\n",
       "      <td>113509</td>\n",
       "      <td>61.9792</td>\n",
       "      <td>B30</td>\n",
       "      <td>C</td>\n",
       "    </tr>\n",
       "    <tr>\n",
       "      <th>96</th>\n",
       "      <td>97</td>\n",
       "      <td>0</td>\n",
       "      <td>1</td>\n",
       "      <td>Goldschmidt, Mr. George B</td>\n",
       "      <td>male</td>\n",
       "      <td>71.0</td>\n",
       "      <td>0</td>\n",
       "      <td>0</td>\n",
       "      <td>PC 17754</td>\n",
       "      <td>34.6542</td>\n",
       "      <td>A5</td>\n",
       "      <td>C</td>\n",
       "    </tr>\n",
       "    <tr>\n",
       "      <th>116</th>\n",
       "      <td>117</td>\n",
       "      <td>0</td>\n",
       "      <td>3</td>\n",
       "      <td>Connors, Mr. Patrick</td>\n",
       "      <td>male</td>\n",
       "      <td>70.5</td>\n",
       "      <td>0</td>\n",
       "      <td>0</td>\n",
       "      <td>370369</td>\n",
       "      <td>7.7500</td>\n",
       "      <td>NaN</td>\n",
       "      <td>Q</td>\n",
       "    </tr>\n",
       "    <tr>\n",
       "      <th>280</th>\n",
       "      <td>281</td>\n",
       "      <td>0</td>\n",
       "      <td>3</td>\n",
       "      <td>Duane, Mr. Frank</td>\n",
       "      <td>male</td>\n",
       "      <td>65.0</td>\n",
       "      <td>0</td>\n",
       "      <td>0</td>\n",
       "      <td>336439</td>\n",
       "      <td>7.7500</td>\n",
       "      <td>NaN</td>\n",
       "      <td>Q</td>\n",
       "    </tr>\n",
       "    <tr>\n",
       "      <th>456</th>\n",
       "      <td>457</td>\n",
       "      <td>0</td>\n",
       "      <td>1</td>\n",
       "      <td>Millet, Mr. Francis Davis</td>\n",
       "      <td>male</td>\n",
       "      <td>65.0</td>\n",
       "      <td>0</td>\n",
       "      <td>0</td>\n",
       "      <td>13509</td>\n",
       "      <td>26.5500</td>\n",
       "      <td>E38</td>\n",
       "      <td>S</td>\n",
       "    </tr>\n",
       "    <tr>\n",
       "      <th>493</th>\n",
       "      <td>494</td>\n",
       "      <td>0</td>\n",
       "      <td>1</td>\n",
       "      <td>Artagaveytia, Mr. Ramon</td>\n",
       "      <td>male</td>\n",
       "      <td>71.0</td>\n",
       "      <td>0</td>\n",
       "      <td>0</td>\n",
       "      <td>PC 17609</td>\n",
       "      <td>49.5042</td>\n",
       "      <td>NaN</td>\n",
       "      <td>C</td>\n",
       "    </tr>\n",
       "    <tr>\n",
       "      <th>630</th>\n",
       "      <td>631</td>\n",
       "      <td>1</td>\n",
       "      <td>1</td>\n",
       "      <td>Barkworth, Mr. Algernon Henry Wilson</td>\n",
       "      <td>male</td>\n",
       "      <td>80.0</td>\n",
       "      <td>0</td>\n",
       "      <td>0</td>\n",
       "      <td>27042</td>\n",
       "      <td>30.0000</td>\n",
       "      <td>A23</td>\n",
       "      <td>S</td>\n",
       "    </tr>\n",
       "    <tr>\n",
       "      <th>672</th>\n",
       "      <td>673</td>\n",
       "      <td>0</td>\n",
       "      <td>2</td>\n",
       "      <td>Mitchell, Mr. Henry Michael</td>\n",
       "      <td>male</td>\n",
       "      <td>70.0</td>\n",
       "      <td>0</td>\n",
       "      <td>0</td>\n",
       "      <td>C.A. 24580</td>\n",
       "      <td>10.5000</td>\n",
       "      <td>NaN</td>\n",
       "      <td>S</td>\n",
       "    </tr>\n",
       "    <tr>\n",
       "      <th>745</th>\n",
       "      <td>746</td>\n",
       "      <td>0</td>\n",
       "      <td>1</td>\n",
       "      <td>Crosby, Capt. Edward Gifford</td>\n",
       "      <td>male</td>\n",
       "      <td>70.0</td>\n",
       "      <td>1</td>\n",
       "      <td>1</td>\n",
       "      <td>WE/P 5735</td>\n",
       "      <td>71.0000</td>\n",
       "      <td>B22</td>\n",
       "      <td>S</td>\n",
       "    </tr>\n",
       "    <tr>\n",
       "      <th>851</th>\n",
       "      <td>852</td>\n",
       "      <td>0</td>\n",
       "      <td>3</td>\n",
       "      <td>Svensson, Mr. Johan</td>\n",
       "      <td>male</td>\n",
       "      <td>74.0</td>\n",
       "      <td>0</td>\n",
       "      <td>0</td>\n",
       "      <td>347060</td>\n",
       "      <td>7.7750</td>\n",
       "      <td>NaN</td>\n",
       "      <td>S</td>\n",
       "    </tr>\n",
       "  </tbody>\n",
       "</table>\n",
       "</div>"
      ],
      "text/plain": [
       "     PassengerId  Survived  Pclass                                  Name  \\\n",
       "33            34         0       2                 Wheadon, Mr. Edward H   \n",
       "54            55         0       1        Ostby, Mr. Engelhart Cornelius   \n",
       "96            97         0       1             Goldschmidt, Mr. George B   \n",
       "116          117         0       3                  Connors, Mr. Patrick   \n",
       "280          281         0       3                      Duane, Mr. Frank   \n",
       "456          457         0       1             Millet, Mr. Francis Davis   \n",
       "493          494         0       1               Artagaveytia, Mr. Ramon   \n",
       "630          631         1       1  Barkworth, Mr. Algernon Henry Wilson   \n",
       "672          673         0       2           Mitchell, Mr. Henry Michael   \n",
       "745          746         0       1          Crosby, Capt. Edward Gifford   \n",
       "851          852         0       3                   Svensson, Mr. Johan   \n",
       "\n",
       "      Sex   Age  SibSp  Parch      Ticket     Fare Cabin Embarked  \n",
       "33   male  66.0      0      0  C.A. 24579  10.5000   NaN        S  \n",
       "54   male  65.0      0      1      113509  61.9792   B30        C  \n",
       "96   male  71.0      0      0    PC 17754  34.6542    A5        C  \n",
       "116  male  70.5      0      0      370369   7.7500   NaN        Q  \n",
       "280  male  65.0      0      0      336439   7.7500   NaN        Q  \n",
       "456  male  65.0      0      0       13509  26.5500   E38        S  \n",
       "493  male  71.0      0      0    PC 17609  49.5042   NaN        C  \n",
       "630  male  80.0      0      0       27042  30.0000   A23        S  \n",
       "672  male  70.0      0      0  C.A. 24580  10.5000   NaN        S  \n",
       "745  male  70.0      1      1   WE/P 5735  71.0000   B22        S  \n",
       "851  male  74.0      0      0      347060   7.7750   NaN        S  "
      ]
     },
     "execution_count": 61,
     "metadata": {},
     "output_type": "execute_result"
    }
   ],
   "source": [
    "# Identify potential outliers data for Age\n",
    "outliers_age = titanic_data[(titanic_data['Age'] < lower_bound_age) | (titanic_data['Age'] > upper_bound_age)]\n",
    "outliers_age"
   ]
  },
  {
   "cell_type": "markdown",
   "id": "f54c79b8-ed16-4c9a-8bde-10d60777a413",
   "metadata": {},
   "source": [
    "- For `Fare` column"
   ]
  },
  {
   "cell_type": "code",
   "execution_count": 63,
   "id": "3351053b-64fb-4f34-a228-9044895f9a04",
   "metadata": {},
   "outputs": [
    {
     "name": "stdout",
     "output_type": "stream",
     "text": [
      "Outliers for Fare: Values below -26.724 and above 65.6344\n"
     ]
    }
   ],
   "source": [
    "# Calculate the IQR for Fare column\n",
    "Q1_fare = titanic_data['Fare'].quantile(0.25)\n",
    "Q3_fare = titanic_data['Fare'].quantile(0.75)\n",
    "IQR_fare = Q3_fare - Q1_fare\n",
    "\n",
    "# Define the lower and upper bounds for potential outliers\n",
    "lower_bound_fare = Q1_fare - 1.5 * IQR_fare\n",
    "upper_bound_fare = Q3_fare + 1.5 * IQR_fare\n",
    "\n",
    "print(f\"Outliers for Fare: Values below {lower_bound_fare} and above {upper_bound_fare}\")"
   ]
  },
  {
   "cell_type": "code",
   "execution_count": 65,
   "id": "77f8cc9a-355e-4bca-86c3-64f71dd62bba",
   "metadata": {},
   "outputs": [
    {
     "data": {
      "text/html": [
       "<div>\n",
       "<style scoped>\n",
       "    .dataframe tbody tr th:only-of-type {\n",
       "        vertical-align: middle;\n",
       "    }\n",
       "\n",
       "    .dataframe tbody tr th {\n",
       "        vertical-align: top;\n",
       "    }\n",
       "\n",
       "    .dataframe thead th {\n",
       "        text-align: right;\n",
       "    }\n",
       "</style>\n",
       "<table border=\"1\" class=\"dataframe\">\n",
       "  <thead>\n",
       "    <tr style=\"text-align: right;\">\n",
       "      <th></th>\n",
       "      <th>PassengerId</th>\n",
       "      <th>Survived</th>\n",
       "      <th>Pclass</th>\n",
       "      <th>Name</th>\n",
       "      <th>Sex</th>\n",
       "      <th>Age</th>\n",
       "      <th>SibSp</th>\n",
       "      <th>Parch</th>\n",
       "      <th>Ticket</th>\n",
       "      <th>Fare</th>\n",
       "      <th>Cabin</th>\n",
       "      <th>Embarked</th>\n",
       "    </tr>\n",
       "  </thead>\n",
       "  <tbody>\n",
       "    <tr>\n",
       "      <th>1</th>\n",
       "      <td>2</td>\n",
       "      <td>1</td>\n",
       "      <td>1</td>\n",
       "      <td>Cumings, Mrs. John Bradley (Florence Briggs Th...</td>\n",
       "      <td>female</td>\n",
       "      <td>38.0</td>\n",
       "      <td>1</td>\n",
       "      <td>0</td>\n",
       "      <td>PC 17599</td>\n",
       "      <td>71.2833</td>\n",
       "      <td>C85</td>\n",
       "      <td>C</td>\n",
       "    </tr>\n",
       "    <tr>\n",
       "      <th>27</th>\n",
       "      <td>28</td>\n",
       "      <td>0</td>\n",
       "      <td>1</td>\n",
       "      <td>Fortune, Mr. Charles Alexander</td>\n",
       "      <td>male</td>\n",
       "      <td>19.0</td>\n",
       "      <td>3</td>\n",
       "      <td>2</td>\n",
       "      <td>19950</td>\n",
       "      <td>263.0000</td>\n",
       "      <td>C23 C25 C27</td>\n",
       "      <td>S</td>\n",
       "    </tr>\n",
       "    <tr>\n",
       "      <th>31</th>\n",
       "      <td>32</td>\n",
       "      <td>1</td>\n",
       "      <td>1</td>\n",
       "      <td>Spencer, Mrs. William Augustus (Marie Eugenie)</td>\n",
       "      <td>female</td>\n",
       "      <td>NaN</td>\n",
       "      <td>1</td>\n",
       "      <td>0</td>\n",
       "      <td>PC 17569</td>\n",
       "      <td>146.5208</td>\n",
       "      <td>B78</td>\n",
       "      <td>C</td>\n",
       "    </tr>\n",
       "    <tr>\n",
       "      <th>34</th>\n",
       "      <td>35</td>\n",
       "      <td>0</td>\n",
       "      <td>1</td>\n",
       "      <td>Meyer, Mr. Edgar Joseph</td>\n",
       "      <td>male</td>\n",
       "      <td>28.0</td>\n",
       "      <td>1</td>\n",
       "      <td>0</td>\n",
       "      <td>PC 17604</td>\n",
       "      <td>82.1708</td>\n",
       "      <td>NaN</td>\n",
       "      <td>C</td>\n",
       "    </tr>\n",
       "    <tr>\n",
       "      <th>52</th>\n",
       "      <td>53</td>\n",
       "      <td>1</td>\n",
       "      <td>1</td>\n",
       "      <td>Harper, Mrs. Henry Sleeper (Myna Haxtun)</td>\n",
       "      <td>female</td>\n",
       "      <td>49.0</td>\n",
       "      <td>1</td>\n",
       "      <td>0</td>\n",
       "      <td>PC 17572</td>\n",
       "      <td>76.7292</td>\n",
       "      <td>D33</td>\n",
       "      <td>C</td>\n",
       "    </tr>\n",
       "    <tr>\n",
       "      <th>...</th>\n",
       "      <td>...</td>\n",
       "      <td>...</td>\n",
       "      <td>...</td>\n",
       "      <td>...</td>\n",
       "      <td>...</td>\n",
       "      <td>...</td>\n",
       "      <td>...</td>\n",
       "      <td>...</td>\n",
       "      <td>...</td>\n",
       "      <td>...</td>\n",
       "      <td>...</td>\n",
       "      <td>...</td>\n",
       "    </tr>\n",
       "    <tr>\n",
       "      <th>846</th>\n",
       "      <td>847</td>\n",
       "      <td>0</td>\n",
       "      <td>3</td>\n",
       "      <td>Sage, Mr. Douglas Bullen</td>\n",
       "      <td>male</td>\n",
       "      <td>NaN</td>\n",
       "      <td>8</td>\n",
       "      <td>2</td>\n",
       "      <td>CA. 2343</td>\n",
       "      <td>69.5500</td>\n",
       "      <td>NaN</td>\n",
       "      <td>S</td>\n",
       "    </tr>\n",
       "    <tr>\n",
       "      <th>849</th>\n",
       "      <td>850</td>\n",
       "      <td>1</td>\n",
       "      <td>1</td>\n",
       "      <td>Goldenberg, Mrs. Samuel L (Edwiga Grabowska)</td>\n",
       "      <td>female</td>\n",
       "      <td>NaN</td>\n",
       "      <td>1</td>\n",
       "      <td>0</td>\n",
       "      <td>17453</td>\n",
       "      <td>89.1042</td>\n",
       "      <td>C92</td>\n",
       "      <td>C</td>\n",
       "    </tr>\n",
       "    <tr>\n",
       "      <th>856</th>\n",
       "      <td>857</td>\n",
       "      <td>1</td>\n",
       "      <td>1</td>\n",
       "      <td>Wick, Mrs. George Dennick (Mary Hitchcock)</td>\n",
       "      <td>female</td>\n",
       "      <td>45.0</td>\n",
       "      <td>1</td>\n",
       "      <td>1</td>\n",
       "      <td>36928</td>\n",
       "      <td>164.8667</td>\n",
       "      <td>NaN</td>\n",
       "      <td>S</td>\n",
       "    </tr>\n",
       "    <tr>\n",
       "      <th>863</th>\n",
       "      <td>864</td>\n",
       "      <td>0</td>\n",
       "      <td>3</td>\n",
       "      <td>Sage, Miss. Dorothy Edith \"Dolly\"</td>\n",
       "      <td>female</td>\n",
       "      <td>NaN</td>\n",
       "      <td>8</td>\n",
       "      <td>2</td>\n",
       "      <td>CA. 2343</td>\n",
       "      <td>69.5500</td>\n",
       "      <td>NaN</td>\n",
       "      <td>S</td>\n",
       "    </tr>\n",
       "    <tr>\n",
       "      <th>879</th>\n",
       "      <td>880</td>\n",
       "      <td>1</td>\n",
       "      <td>1</td>\n",
       "      <td>Potter, Mrs. Thomas Jr (Lily Alexenia Wilson)</td>\n",
       "      <td>female</td>\n",
       "      <td>56.0</td>\n",
       "      <td>0</td>\n",
       "      <td>1</td>\n",
       "      <td>11767</td>\n",
       "      <td>83.1583</td>\n",
       "      <td>C50</td>\n",
       "      <td>C</td>\n",
       "    </tr>\n",
       "  </tbody>\n",
       "</table>\n",
       "<p>116 rows × 12 columns</p>\n",
       "</div>"
      ],
      "text/plain": [
       "     PassengerId  Survived  Pclass  \\\n",
       "1              2         1       1   \n",
       "27            28         0       1   \n",
       "31            32         1       1   \n",
       "34            35         0       1   \n",
       "52            53         1       1   \n",
       "..           ...       ...     ...   \n",
       "846          847         0       3   \n",
       "849          850         1       1   \n",
       "856          857         1       1   \n",
       "863          864         0       3   \n",
       "879          880         1       1   \n",
       "\n",
       "                                                  Name     Sex   Age  SibSp  \\\n",
       "1    Cumings, Mrs. John Bradley (Florence Briggs Th...  female  38.0      1   \n",
       "27                      Fortune, Mr. Charles Alexander    male  19.0      3   \n",
       "31      Spencer, Mrs. William Augustus (Marie Eugenie)  female   NaN      1   \n",
       "34                             Meyer, Mr. Edgar Joseph    male  28.0      1   \n",
       "52            Harper, Mrs. Henry Sleeper (Myna Haxtun)  female  49.0      1   \n",
       "..                                                 ...     ...   ...    ...   \n",
       "846                           Sage, Mr. Douglas Bullen    male   NaN      8   \n",
       "849       Goldenberg, Mrs. Samuel L (Edwiga Grabowska)  female   NaN      1   \n",
       "856         Wick, Mrs. George Dennick (Mary Hitchcock)  female  45.0      1   \n",
       "863                  Sage, Miss. Dorothy Edith \"Dolly\"  female   NaN      8   \n",
       "879      Potter, Mrs. Thomas Jr (Lily Alexenia Wilson)  female  56.0      0   \n",
       "\n",
       "     Parch    Ticket      Fare        Cabin Embarked  \n",
       "1        0  PC 17599   71.2833          C85        C  \n",
       "27       2     19950  263.0000  C23 C25 C27        S  \n",
       "31       0  PC 17569  146.5208          B78        C  \n",
       "34       0  PC 17604   82.1708          NaN        C  \n",
       "52       0  PC 17572   76.7292          D33        C  \n",
       "..     ...       ...       ...          ...      ...  \n",
       "846      2  CA. 2343   69.5500          NaN        S  \n",
       "849      0     17453   89.1042          C92        C  \n",
       "856      1     36928  164.8667          NaN        S  \n",
       "863      2  CA. 2343   69.5500          NaN        S  \n",
       "879      1     11767   83.1583          C50        C  \n",
       "\n",
       "[116 rows x 12 columns]"
      ]
     },
     "execution_count": 65,
     "metadata": {},
     "output_type": "execute_result"
    }
   ],
   "source": [
    "# Identify potential outliers for Fare\n",
    "outliers_fare = titanic_data[(titanic_data['Fare'] < lower_bound_fare) | (titanic_data['Fare'] > upper_bound_fare)]\n",
    "outliers_fare"
   ]
  },
  {
   "cell_type": "markdown",
   "id": "0b5f1fb8-9c23-4e1c-9b9f-abfba3ee4341",
   "metadata": {},
   "source": [
    "**Implications of Detected Outliers :**\n",
    "\n",
    "- **Age Outliers:** The outliers in the \"Age\" column might represent passengers with extreme ages, such as infants or elderly individuals. These outliers could have unique characteristics or needs during emergency situations on the Titanic. Understanding their presence could provide insights into the survival rates and strategies for different age groups.\n",
    "\n",
    "- **Fare Outliers:** Outliers in the \"Fare\" column likely indicate passengers who paid significantly higher fares than the majority. These passengers might have had access to more luxurious accommodations or other privileges on the ship. Investigating these outliers could shed light on the socio-economic distribution of passengers and its impact on their survival.\n",
    "\n",
    "- **Impact on Analysis:** In data analysis and modeling, handling outliers is crucial. Depending on the goals of our analysis, we might choose to treat or remove outliers differently. For example, when predicting survival rates, we might want to investigate how the presence of age or fare outliers affects model accuracy and fairness.\n",
    "\n",
    "- **Data Integrity:** Identifying outliers is also essential for data integrity. Outliers can sometimes be due to data entry errors or anomalies, and addressing them can improve the overall quality of the dataset.\n",
    "\n",
    "In summary, understanding the potential implications of outliers helps us make informed decisions during data analysis and modeling and ensures the accuracy and reliability of our insights and predictions."
   ]
  },
  {
   "cell_type": "markdown",
   "id": "c66fe9b7-ed47-4bda-994a-78ce436e0a01",
   "metadata": {},
   "source": [
    "Using the IQR technique to detect outliers in the \"Age\" and \"Fare\" columns provides valuable insights into the distribution and variability of these variables. By identifying potential outliers, we can:\n",
    "\n",
    "- Understand whether there are extreme values that might influence our analysis.\n",
    "- Assess the overall spread of data within these columns.\n",
    "- Make informed decisions about how to handle these outliers, such as whether to remove them or apply specific data preprocessing techniques.\n",
    "- Gain a deeper understanding of the central tendency and variability of the data, which is essential for accurate analysis and modeling."
   ]
  },
  {
   "cell_type": "markdown",
   "id": "ae3ac204-4a74-4049-bef9-4cc10373fd84",
   "metadata": {},
   "source": [
    "### 9. Exploring Correlation"
   ]
  },
  {
   "cell_type": "markdown",
   "id": "16c0e208-c6a1-409e-a309-0209165c9096",
   "metadata": {},
   "source": [
    "**Objective:** Analyze the relationships between numerical variables in the Titanic dataset."
   ]
  },
  {
   "cell_type": "markdown",
   "id": "d5f22765-7fec-49dc-a74a-ad4f34ad7cf5",
   "metadata": {},
   "source": [
    "The purpose of calculating the correlation matrix between numerical variables is to measure the degree and direction of linear relationships between pairs of variables. It helps us understand how changes in one variable relate to changes in another, which can be valuable for feature selection and identifying potential predictors.\n",
    "\n",
    "The heatmap visualization is a powerful tool to visualize the correlation matrix because it provides a color-coded representation of the correlations. It makes it easier to spot patterns and trends in the data, especially when dealing with a large number of variables. Darker colors indicate stronger correlations, and lighter colors indicate weaker or no correlations."
   ]
  },
  {
   "cell_type": "code",
   "execution_count": 69,
   "id": "c06ce9f0-1f93-4fc8-8b45-e6b90479d3cb",
   "metadata": {},
   "outputs": [
    {
     "data": {
      "image/png": "[encoded data removed]",
      "text/plain": [
       "<Figure size 576x432 with 2 Axes>"
      ]
     },
     "metadata": {
      "needs_background": "light"
     },
     "output_type": "display_data"
    }
   ],
   "source": [
    "# Create a correlation heatmap\n",
    "correlation_matrix = titanic_data.corr()\n",
    "plt.figure(figsize=(8, 6))\n",
    "sns.heatmap(correlation_matrix, annot=True, cmap='coolwarm', fmt=\".2f\")\n",
    "plt.title('Correlation Heatmap')\n",
    "plt.show()"
   ]
  },
  {
   "cell_type": "markdown",
   "id": "eff43d5b-2ef0-4b62-a916-4efc6b6d76db",
   "metadata": {},
   "source": [
    "Based on the heatmap, we can observe several notable correlations between variables:\n",
    "- There is a moderate negative correlation between `Pclass` (Passenger Class) and `Fare`. As the class number increases (from 1st class to 3rd class), the fare tends to decrease, which is expected.\n",
    "- `Age` and `Pclass` also show a negative correlation, indicating that older passengers tend to have higher-class tickets.\n",
    "- `Parch` (Number of Parents/Children Aboard) and `SibSp` (Number of Siblings/Spouses Aboard) exhibit a positive correlation, suggesting that passengers who traveled with more family members tended to have more parents or children.\n",
    "\n",
    "Additionally, we can see that some variables have weaker correlations, closer to zero, indicating a lack of linear relationships. For example, `Age` and `Fare` have a weak correlation, implying that changes in age do not have a significant linear impact on fares."
   ]
  },
  {
   "cell_type": "markdown",
   "id": "c9a9c339-28b3-47e0-9969-7f33b8f2b6ea",
   "metadata": {},
   "source": [
    "- Create a bar plot for passenger classes"
   ]
  },
  {
   "cell_type": "code",
   "execution_count": 11,
   "id": "336f6a32-f852-449a-a23b-546e25a8e6cc",
   "metadata": {},
   "outputs": [
    {
     "data": {
      "image/png": "[encoded data removed]",
      "text/plain": [
       "<Figure size 432x288 with 1 Axes>"
      ]
     },
     "metadata": {
      "needs_background": "light"
     },
     "output_type": "display_data"
    }
   ],
   "source": [
    "# Create a bar plot for passenger classes\n",
    "plt.figure(figsize=(6, 4))\n",
    "sns.countplot(data=titanic_data, x='Pclass')\n",
    "plt.title('Passenger Class Distribution')\n",
    "plt.xlabel('Class')\n",
    "plt.ylabel('Count')\n",
    "plt.show()"
   ]
  },
  {
   "cell_type": "markdown",
   "id": "f7e2457b-78f0-4188-88cc-3ae362f02f08",
   "metadata": {},
   "source": [
    "## 10. Summarize Your Findings"
   ]
  },
  {
   "cell_type": "markdown",
   "id": "d6d2c619-77f8-43ba-ba62-ae58d81fd3fc",
   "metadata": {},
   "source": [
    "**Objective:** Summarize key insights and observations from your Exploratory Data Analysis (EDA)."
   ]
  },
  {
   "cell_type": "markdown",
   "id": "f8e62407-2411-4f61-9b0c-269b580d9ee2",
   "metadata": {},
   "source": [
    "**1. Discuss the missing value percentages in the dataset. Identify and elaborate on any columns with notable missing data.**\n",
    "\n",
    "We found that the \"Cabin\" column has a significant number of missing values, accounting for approximately 77% of the data. This missing data might pose challenges if we plan to use \"Cabin\" as a feature in our analysis. Additionally, the \"Age\" column has some missing values, but the percentage is relatively lower at around 19%. We'll need to consider strategies like imputation or removal for these missing values.\n",
    "\n",
    "**2. Describe any potential outliers that you discovered during your analysis and explain their potential impact on the dataset.**\n",
    "\n",
    "We detected potential outliers in both the \"Age\" and \"Fare\" columns. For \"Age,\" there are outliers on the upper end of the age range, with passengers aged above 65. These outliers might not significantly impact our analysis unless we're focusing on specific age groups. In contrast, the \"Fare\" column has several high-value outliers, which could affect average fare calculations or models sensitive to outliers.\n",
    "\n",
    "**3. Highlight significant patterns, relationships, or trends observed in the data.**\n",
    "\n",
    "During our analysis, we noticed that passengers in the 1st class (Pclass = 1) generally paid higher fares, which aligns with our expectations. We also observed that the majority of passengers embarked from Southampton (S), followed by Cherbourg (C) and Queenstown (Q). There appears to be a gender imbalance, with more males than females on board.\n",
    "\n",
    "**4. Provide an overall assessment of data quality and how it might affect future analysis and modeling.**\n",
    "\n",
    "The data quality is reasonable, but the missing values in the \"Cabin\" and \"Age\" columns could impact the precision of our analysis. Outliers in the \"Fare\" column might skew results in models sensitive to extreme values. Overall, the dataset is promising for further analysis, but we need to address missing data and consider how outliers might affect our modeling outcomes.\n",
    "\n",
    "This summary helps us understand the dataset's strengths and potential challenges, guiding us in making informed decisions for subsequent data preprocessing and modeling steps."
   ]
  }
 ],
 "metadata": {
  "kernelspec": {
   "display_name": "Python 3 (ipykernel)",
   "language": "python",
   "name": "python3"
  },
  "language_info": {
   "codemirror_mode": {
    "name": "ipython",
    "version": 3
   },
   "file_extension": ".py",
   "mimetype": "text/x-python",
   "name": "python",
   "nbconvert_exporter": "python",
   "pygments_lexer": "ipython3",
   "version": "3.9.12"
  }
 },
 "nbformat": 4,
 "nbformat_minor": 5
}
